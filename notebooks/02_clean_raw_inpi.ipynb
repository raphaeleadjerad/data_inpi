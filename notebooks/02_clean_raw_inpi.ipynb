{
 "cells": [
  {
   "cell_type": "code",
   "execution_count": 2,
   "metadata": {},
   "outputs": [],
   "source": [
    "import os\n",
    "os.chdir(\"../src/\")\n",
    "import pandas as pd\n",
    "import s3fs\n",
    "import import_inpi as inpi"
   ]
  },
  {
   "cell_type": "code",
   "execution_count": 4,
   "metadata": {},
   "outputs": [
    {
     "name": "stderr",
     "output_type": "stream",
     "text": [
      "/home/coder/work/data_inpi/src/import_inpi.py:109: DtypeWarning: Columns (7,8,10,11,16,30) have mixed types. Specify dtype option on import or set low_memory=False.\n",
      "  personnes_morales = pd.read_csv(file_in, sep=\";\")\n",
      "/home/coder/work/data_inpi/src/import_inpi.py:111: DtypeWarning: Columns (7,15,17,25,26,32,33,34,35,36,37,38,39,40,41,42,43,45,49,50) have mixed types. Specify dtype option on import or set low_memory=False.\n",
      "  representants = pd.read_csv(file_in, sep=\";\")\n"
     ]
    }
   ],
   "source": [
    "pm, rep = inpi.import_inpi_s3()"
   ]
  },
  {
   "cell_type": "code",
   "execution_count": 5,
   "metadata": {},
   "outputs": [
    {
     "data": {
      "text/plain": [
       "(5001845, 31)"
      ]
     },
     "execution_count": 5,
     "metadata": {},
     "output_type": "execute_result"
    }
   ],
   "source": [
    "pm.shape"
   ]
  },
  {
   "cell_type": "code",
   "execution_count": 6,
   "metadata": {},
   "outputs": [
    {
     "data": {
      "text/plain": [
       "(11142886, 51)"
      ]
     },
     "execution_count": 6,
     "metadata": {},
     "output_type": "execute_result"
    }
   ],
   "source": [
    "rep.shape"
   ]
  },
  {
   "cell_type": "code",
   "execution_count": 7,
   "metadata": {},
   "outputs": [],
   "source": [
    "import numpy as np\n",
    "def clean_rep_inpi(df_rep):\n",
    "    \"\"\"_summary_Function that cleans data from Inpi\n",
    "\n",
    "    Args:\n",
    "        df_rep (_type_): _description_\n",
    "\n",
    "    Returns:\n",
    "        _type_: _description_\n",
    "    \"\"\"\n",
    "    print(df_rep.shape)\n",
    "    \n",
    "    # nettoyage du nom des colonnes\n",
    "    df_rep.columns = [c.lower() for c in df_rep.columns]\n",
    "    df_rep = df_rep.rename({\"code greffe\": \"code_greffe\", \n",
    "                                \"forme_juridique_x\": \"forme_juridique\", \n",
    "                                \"prénoms\": \"prenoms\", \"qualité\": \"qualite\", \n",
    "                                \"dénomination\": \"denomination\",\n",
    "                                \"nationalité\": \"nationalite\",\n",
    "                                \"id_représentant\": \"id_representant\",\n",
    "                                \"siren.1\": \"siren_representant_pm\"}, axis=1)\n",
    "    # point sur les manquants\n",
    "    print(df_rep.loc[(df_rep[\"nom_patronymique\"].isna())|(df_rep[\"prenoms\"].isna()),:].shape)\n",
    "\n",
    "    # suppression de colonnes inutiles\n",
    "    df_rep = df_rep.drop(['rep_perm_nom',\n",
    "       'rep_perm_nom_usage', 'rep_perm_pseudo', 'rep_perm_prénoms',\n",
    "       'rep_perm_date_naissance', 'rep_perm_ville_naissance',\n",
    "       'rep_perm_pays_naissance', 'rep_perm_nationalité',\n",
    "       'rep_perm_adr_ligne1', 'rep_perm_adr_ligne2', 'rep_perm_adr_ligne3',\n",
    "       'rep_perm_code_postal', 'rep_perm_ville', 'rep_perm_code_commune',\n",
    "       'rep_perm_pays', 'conjoint_collab_nom_patronym',\n",
    "       'conjoint_collab_nom_usage', 'conjoint_collab_pseudo',\n",
    "       'conjoint_collab_prénoms', 'conjoint_collab_date_fin'], axis=1)\n",
    "    \n",
    "    # Traitement des cas où le nom et les prénoms sont -\n",
    "    df_rep.loc[df_rep[\"prenoms\"] == \"-\", \"prenoms\"] = \"\"\n",
    "    # on retire les termes en trop dans les noms\n",
    "    re1 = \"(INDIVISION SUCCESSORALE DE M\\.\\s|\\sM\\.\\s|^M\\.\\s|MME\\.\\s|MR\\.\\s|MELLE\\.\\s|MONSIEUR\\.?\\s|MADAME\\.?\\s|MLLE\\.\\s|REPRESENTEE\\sPAR\\sMONSIEUR\\.?\\s|REPRESENTEE\\sPAR\\s|SUCCESSION\\s|SUCCESSION\\sDE\\s)\"\n",
    "    # df_rep[\"top_civilite\"] = df_rep[\"nom_patronymique\"].str.contains(re1, regex=True)\n",
    "    df_rep[\"nom_patronymique_cor\"] = df_rep[\"nom_patronymique\"]\n",
    "    df_rep[\"nom_patronymique_cor\"] = df_rep[\"nom_patronymique_cor\"].str.replace(re1,\"\")\n",
    "    \n",
    "    # Traitement de la qualite\n",
    "    df_rep[\"qualite_cor\"] = (df_rep[\"qualite\"].str.lower().str.strip())\n",
    "    # nettoyage de la dénomination\n",
    "    df_rep[\"denomination_cor\"] = (df_rep[\"denomination\"].str.lower())\n",
    "    # Correction des adresses\n",
    "    df_rep.loc[(df_rep[\"ville\"].isna()) & (df_rep[\"adresse_ligne3\"].isna() == False), \"ville\"] = \\\n",
    "    df_rep.loc[(df_rep[\"ville\"].isna()) & (df_rep[\"adresse_ligne3\"].isna() == False), \"adresse_ligne3\"]\n",
    "    df_rep[\"commune\"] = df_rep[\"ville\"]\n",
    "    df_rep[\"commune\"] = df_rep[\"commune\"].str.lower()\n",
    "    df_rep[\"commune\"] = (df_rep[\"commune\"].str.replace(\"à\", \"a\")\n",
    "                                            .str.replace(\"è\", \"e\")\n",
    "                                            .str.replace(\"é\", \"e\")\n",
    "                                            .str.replace(\"ç\", \"c\")\n",
    "                                            .str.replace(\"ù\", \"u\")\n",
    "                                            .str.replace(\"ô\", \"o\")\n",
    "                                            .str.replace(\"saint\", \"st\")\n",
    "                                            .str.replace(\" \", \"\"))\n",
    "\n",
    "    # mettre date de naissance sous la forme AAAMMJJ\n",
    "    df_rep[\"date_naissance_cor\"] = df_rep[\"date_naissance\"].str.replace(\"-\",\"\")\n",
    "\n",
    "    # Traitement des particules\n",
    "    df_rep[\"nom_patronymique_cor\"] = (df_rep[\"nom_patronymique_cor\"].str.replace(\" DE LA \", \"-DE-LA-\")\n",
    "        .str.replace(\" DU \", \"-DU-\").str.replace(\" LE \", \"-LE-\").str.replace(\" LA \", \"-LA-\")\n",
    "        .str.replace(\" EL \", \"-EL-\")\n",
    "        .str.replace(\" SAINT \", \"-SAINT-\")\n",
    "        .str.replace(\" VAN \", \"-VAN-\")\n",
    "        .str.replace(\" DE \", \"-DE-\")\n",
    "        .str.replace(\" D \", \"-D-\")\n",
    "        .str.replace(\"SAINT \", \"SAINT-\")\n",
    "        #.str.replace(\"D \", \"D-\") -> induit des problemes\n",
    "        .str.replace(\"DE \", \"DE-\")\n",
    "        .str.replace(\"DU \", \"DU-\")\n",
    "        .str.replace(\"LE \", \"LE-\")\n",
    "        .str.replace(\"LA \", \"LA-\")\n",
    "        .str.replace(\"EL \", \"EL-\")\n",
    "        .str.replace(\"DI \", \"DI-\")\n",
    "        .str.replace(\"BEN \", \"BEN-\")\n",
    "        .str.replace(\"VAN \", \"VAN-\")\n",
    "        .str.replace(\" D'\", \"-D'\"))\n",
    "    # traitement des noms et prenoms\n",
    "    df_rep[\"nom_cor\"] = df_rep[\"nom_patronymique_cor\"] \n",
    "    df_rep[\"prenom1_cor\"] = df_rep[\"prenoms\"] \n",
    "    df_rep[\"prenom2_cor\"] = np.nan \n",
    "    df_rep[\"prenom3_cor\"] = np.nan \n",
    "    # si prenom est vide on decoupe nom patronymique selon les espaces en mettant trois prenoms possibles\n",
    "    temp = df_rep.loc[df_rep[\"prenoms\"] == \"\", \"nom_patronymique_cor\"].str.split(pat=\" \", n=3, expand=True)\n",
    "    temp.columns = [\"nom_cor\", \"prenom1_cor\", \"prenom2_cor\", \"prenom3_cor\"]\n",
    "    df_rep.loc[df_rep[\"prenoms\"] == \"\", [\"nom_cor\", \"prenom1_cor\", \"prenom2_cor\", \"prenom3_cor\"]] = temp\n",
    "    # quand nom et prenoms sont \"\" on les met à na\n",
    "    df_rep.loc[df_rep[\"nom_cor\"] == \"\", \"nom_cor\"] = np.nan\n",
    "    df_rep.loc[df_rep[\"prenom1_cor\"] == \"\", \"prenom1_cor\"] = np.nan\n",
    "    # correction du type \n",
    "    df_rep[\"type\"] = df_rep[\"type\"].str.lower().str.replace(\" \", \"\") \n",
    "    # correction des noms prenoms quand prenom est na, type est personne physique et le nom contient une virgule\n",
    "    temp = df_rep.loc[(df_rep[\"prenoms\"].isna()==True)&(df_rep[\"type\"]==\"p.physique\")&\n",
    "            (df_rep[\"nom_cor\"].str.contains(\",\")),\"nom_cor\"].str.split(pat=\" \", n=3, expand=True)\n",
    "    temp.columns = [\"nom_cor\", \"prenom1_cor\", \"prenom2_cor\", \"prenom3_cor\"]\n",
    "    temp[\"prenom1_cor\"] = temp[\"prenom1_cor\"].str.replace(\",\", \"\")\n",
    "    temp[\"prenom2_cor\"] = temp[\"prenom2_cor\"].str.replace(\",\", \"\")\n",
    "    temp[\"prenom3_cor\"] = temp[\"prenom3_cor\"].str.replace(\",\", \"\")\n",
    "    df_rep.loc[(df_rep[\"prenoms\"].isna()==True)&(df_rep[\"type\"]==\"p.physique\")&\n",
    "        (df_rep[\"nom_cor\"].str.contains(\",\")),\n",
    "        [\"nom_cor\", \"prenom1_cor\", \"prenom2_cor\", \"prenom3_cor\"]] = temp\n",
    "    # traitement des cas X née Y, dans ce cas on separe X de Y et on place X en nom d'usage et Y en nom patronymique (nom_cor)\n",
    "    temp = df_rep.loc[(df_rep[\"nom_cor\"].str.contains(\"\\sNEE\\s|\\snée\\s|\\sNée\\s\") == True)&\n",
    "                        (df_rep[\"nom_usage\"].isna()), \"nom_cor\"].str.split(pat=\"\\sNEE\\s|\\snée\\s|\\sNée\\s\", n=1, expand=True)\n",
    "    temp.columns = [\"nom_usage_cor\", \"nom_cor\"]\n",
    "    df_rep.loc[(df_rep[\"nom_cor\"].str.contains(\"\\sNEE\\s|\\snée\\s|\\sNée\\s\") == True)&\n",
    "                (df_rep[\"nom_usage\"].isna()), [\"nom_cor\"]] = temp[\"nom_cor\"]\n",
    "    # filtre on ne conserve que les personnes physiques\n",
    "    df_rep = df_rep.loc[df_rep[\"type\"] == \"p.physique\",:]\n",
    "    print(df_rep.shape)\n",
    "    print(df_rep.loc[(df_rep[\"nom_cor\"].isna())|(df_rep[\"prenom1_cor\"].isna()),:].shape)\n",
    "    return df_rep"
   ]
  },
  {
   "cell_type": "code",
   "execution_count": 8,
   "metadata": {},
   "outputs": [
    {
     "name": "stdout",
     "output_type": "stream",
     "text": [
      "(11142886, 51)\n",
      "(1119653, 51)\n"
     ]
    },
    {
     "name": "stderr",
     "output_type": "stream",
     "text": [
      "/tmp/ipykernel_564/3256248836.py:42: FutureWarning: The default value of regex will change from True to False in a future version.\n",
      "  df_rep[\"nom_patronymique_cor\"] = df_rep[\"nom_patronymique_cor\"].str.replace(re1,\"\")\n"
     ]
    },
    {
     "name": "stdout",
     "output_type": "stream",
     "text": [
      "(10031771, 40)\n",
      "(7127, 40)\n"
     ]
    }
   ],
   "source": [
    "df_rep = clean_rep_inpi(rep)"
   ]
  },
  {
   "cell_type": "code",
   "execution_count": 45,
   "metadata": {},
   "outputs": [
    {
     "data": {
      "text/plain": [
       "Index(['code_greffe', 'nom_greffe', 'numero_gestion', 'siren', 'type',\n",
       "       'nom_patronymique', 'nom_usage', 'pseudonyme', 'prenoms',\n",
       "       'denomination', 'siren_representant_pm', 'forme_juridique',\n",
       "       'adresse_ligne1', 'adresse_ligne2', 'adresse_ligne3', 'code_postal',\n",
       "       'ville', 'code_commune', 'pays', 'date_naissance', 'ville_naissance',\n",
       "       'pays_naissance', 'nationalite', 'qualite', 'id_representant',\n",
       "       'date_greffe', 'libelle_evt', 'source', 'year', 'file_path',\n",
       "       'date_greffe', 'nom_patronymique_cor', 'top_particule', 'qualite_cor',\n",
       "       'denomination_cor', 'commune', 'date_naissance_cor'],\n",
       "      dtype='object')"
      ]
     },
     "execution_count": 45,
     "metadata": {},
     "output_type": "execute_result"
    }
   ],
   "source": [
    "df_rep.columns"
   ]
  },
  {
   "cell_type": "code",
   "execution_count": 9,
   "metadata": {},
   "outputs": [],
   "source": [
    "import export\n",
    "export.export2minio(\"df_rep_all_years_clean.csv\", df_rep)"
   ]
  }
 ],
 "metadata": {
  "interpreter": {
   "hash": "ed5946f2a0d3f5e934efd92075c2a89b2cb5130d0efd6e4509a568bedf48ed26"
  },
  "kernelspec": {
   "display_name": "Python 3.10.4 ('basesspcloud')",
   "language": "python",
   "name": "python3"
  },
  "language_info": {
   "codemirror_mode": {
    "name": "ipython",
    "version": 3
   },
   "file_extension": ".py",
   "mimetype": "text/x-python",
   "name": "python",
   "nbconvert_exporter": "python",
   "pygments_lexer": "ipython3",
   "version": "3.10.4"
  },
  "orig_nbformat": 4
 },
 "nbformat": 4,
 "nbformat_minor": 2
}
