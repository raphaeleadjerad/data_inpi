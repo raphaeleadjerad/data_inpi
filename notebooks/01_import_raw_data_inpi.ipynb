{
 "cells": [
  {
   "cell_type": "code",
   "execution_count": 1,
   "metadata": {},
   "outputs": [],
   "source": [
    "import os\n",
    "os.chdir(\"../src/\")"
   ]
  },
  {
   "cell_type": "code",
   "execution_count": 2,
   "metadata": {},
   "outputs": [],
   "source": [
    "import import_inpi as inpi\n",
    "import transform_rcs as trcs\n",
    "import pandas as pd"
   ]
  },
  {
   "cell_type": "code",
   "execution_count": 5,
   "metadata": {},
   "outputs": [],
   "source": [
    "inpi.import_inpi()"
   ]
  },
  {
   "cell_type": "code",
   "execution_count": 6,
   "metadata": {},
   "outputs": [
    {
     "name": "stdout",
     "output_type": "stream",
     "text": [
      "http://data.cquest.org/inpi_rncs/imr/stock/2017/05/\n",
      "['http://data.cquest.org/inpi_rncs/imr/stock/2017/05/']\n",
      "http://data.cquest.org/inpi_rncs/imr/stock/2017/05/04/\n",
      "['http://data.cquest.org/inpi_rncs/imr/stock/2017/05/', 'http://data.cquest.org/inpi_rncs/imr/stock/2017/05/04/']\n"
     ]
    }
   ],
   "source": [
    "os.getcwd()\n",
    "os.mkdir(\"data2017/\")\n",
    "os.chdir(\"data2017/\")\n",
    "start_url = \"http://data.cquest.org/inpi_rncs/imr/stock/2017/\"\n",
    "inpi.find_links(start_url, list_urls=[])"
   ]
  },
  {
   "cell_type": "code",
   "execution_count": 2,
   "metadata": {},
   "outputs": [],
   "source": [
    "os.chdir(\"../\")"
   ]
  },
  {
   "cell_type": "code",
   "execution_count": 3,
   "metadata": {},
   "outputs": [],
   "source": [
    "def import_all_years():\n",
    "    df_rep_2017, df_pm_2017  = trcs.transform_rcs(\"2017\")\n",
    "    df_rep_2018, df_pm_2018  = trcs.transform_rcs(\"2018\")\n",
    "    df_rep_2019, df_pm_2019 = trcs.transform_rcs(\"2019\")\n",
    "    df_rep_2020, df_pm_2020  = trcs.transform_rcs(\"2020\")\n",
    "    df_rep = pd.concat([df_rep_2017, df_rep_2018, df_rep_2019, df_rep_2020])\n",
    "    df_pm = pd.concat([df_pm_2017, df_pm_2018, df_pm_2019, df_pm_2020])\n",
    "    print(df_rep.shape)\n",
    "    print(df_pm.shape)\n",
    "    return df_rep, df_pm\n",
    "    "
   ]
  },
  {
   "cell_type": "code",
   "execution_count": 4,
   "metadata": {},
   "outputs": [
    {
     "name": "stderr",
     "output_type": "stream",
     "text": [
      "/home/coder/work/data_inpi/src/transform_rcs.py:22: DtypeWarning: Columns (7,15,17,25,39,40,42) have mixed types. Specify dtype option on import or set low_memory=False.\n",
      "  datainpi = pd.read_csv(zip_file.open(myfile), sep=\";\")\n",
      "/home/coder/work/data_inpi/src/transform_rcs.py:22: DtypeWarning: Columns (7,17,32,37) have mixed types. Specify dtype option on import or set low_memory=False.\n",
      "  datainpi = pd.read_csv(zip_file.open(myfile), sep=\";\")\n",
      "/home/coder/work/data_inpi/src/transform_rcs.py:22: DtypeWarning: Columns (7,17,32) have mixed types. Specify dtype option on import or set low_memory=False.\n",
      "  datainpi = pd.read_csv(zip_file.open(myfile), sep=\";\")\n",
      "/home/coder/work/data_inpi/src/transform_rcs.py:22: DtypeWarning: Columns (15) have mixed types. Specify dtype option on import or set low_memory=False.\n",
      "  datainpi = pd.read_csv(zip_file.open(myfile), sep=\";\")\n",
      "/home/coder/work/data_inpi/src/transform_rcs.py:22: DtypeWarning: Columns (7,32) have mixed types. Specify dtype option on import or set low_memory=False.\n",
      "  datainpi = pd.read_csv(zip_file.open(myfile), sep=\";\")\n",
      "/home/coder/work/data_inpi/src/transform_rcs.py:22: DtypeWarning: Columns (7,25) have mixed types. Specify dtype option on import or set low_memory=False.\n",
      "  datainpi = pd.read_csv(zip_file.open(myfile), sep=\";\")\n",
      "/home/coder/work/data_inpi/src/transform_rcs.py:22: DtypeWarning: Columns (7,15) have mixed types. Specify dtype option on import or set low_memory=False.\n",
      "  datainpi = pd.read_csv(zip_file.open(myfile), sep=\";\")\n",
      "/home/coder/work/data_inpi/src/transform_rcs.py:22: DtypeWarning: Columns (17) have mixed types. Specify dtype option on import or set low_memory=False.\n",
      "  datainpi = pd.read_csv(zip_file.open(myfile), sep=\";\")\n",
      "/home/coder/work/data_inpi/src/transform_rcs.py:22: DtypeWarning: Columns (7,17,32,33,36,38) have mixed types. Specify dtype option on import or set low_memory=False.\n",
      "  datainpi = pd.read_csv(zip_file.open(myfile), sep=\";\")\n",
      "/home/coder/work/data_inpi/src/transform_rcs.py:22: DtypeWarning: Columns (7,32,37) have mixed types. Specify dtype option on import or set low_memory=False.\n",
      "  datainpi = pd.read_csv(zip_file.open(myfile), sep=\";\")\n",
      "/home/coder/work/data_inpi/src/transform_rcs.py:22: DtypeWarning: Columns (7) have mixed types. Specify dtype option on import or set low_memory=False.\n",
      "  datainpi = pd.read_csv(zip_file.open(myfile), sep=\";\")\n",
      "/home/coder/work/data_inpi/src/transform_rcs.py:22: DtypeWarning: Columns (7,17,32,34,35) have mixed types. Specify dtype option on import or set low_memory=False.\n",
      "  datainpi = pd.read_csv(zip_file.open(myfile), sep=\";\")\n",
      "/home/coder/work/data_inpi/src/transform_rcs.py:22: DtypeWarning: Columns (7) have mixed types. Specify dtype option on import or set low_memory=False.\n",
      "  datainpi = pd.read_csv(zip_file.open(myfile), sep=\";\")\n",
      "/home/coder/work/data_inpi/src/transform_rcs.py:22: DtypeWarning: Columns (7,17,32) have mixed types. Specify dtype option on import or set low_memory=False.\n",
      "  datainpi = pd.read_csv(zip_file.open(myfile), sep=\";\")\n",
      "/home/coder/work/data_inpi/src/transform_rcs.py:22: DtypeWarning: Columns (32) have mixed types. Specify dtype option on import or set low_memory=False.\n",
      "  datainpi = pd.read_csv(zip_file.open(myfile), sep=\";\")\n",
      "/home/coder/work/data_inpi/src/transform_rcs.py:22: DtypeWarning: Columns (17) have mixed types. Specify dtype option on import or set low_memory=False.\n",
      "  datainpi = pd.read_csv(zip_file.open(myfile), sep=\";\")\n",
      "/home/coder/work/data_inpi/src/transform_rcs.py:22: DtypeWarning: Columns (7,32) have mixed types. Specify dtype option on import or set low_memory=False.\n",
      "  datainpi = pd.read_csv(zip_file.open(myfile), sep=\";\")\n",
      "/home/coder/work/data_inpi/src/transform_rcs.py:22: DtypeWarning: Columns (7,17,35) have mixed types. Specify dtype option on import or set low_memory=False.\n",
      "  datainpi = pd.read_csv(zip_file.open(myfile), sep=\";\")\n",
      "/home/coder/work/data_inpi/src/transform_rcs.py:22: DtypeWarning: Columns (7,17,24,25,27,28,29,30,31,32,33,34,36,38) have mixed types. Specify dtype option on import or set low_memory=False.\n",
      "  datainpi = pd.read_csv(zip_file.open(myfile), sep=\";\")\n",
      "/home/coder/work/data_inpi/src/transform_rcs.py:22: DtypeWarning: Columns (7,17) have mixed types. Specify dtype option on import or set low_memory=False.\n",
      "  datainpi = pd.read_csv(zip_file.open(myfile), sep=\";\")\n",
      "/home/coder/work/data_inpi/src/transform_rcs.py:22: DtypeWarning: Columns (7,17,32) have mixed types. Specify dtype option on import or set low_memory=False.\n",
      "  datainpi = pd.read_csv(zip_file.open(myfile), sep=\";\")\n",
      "/home/coder/work/data_inpi/src/transform_rcs.py:22: DtypeWarning: Columns (7,32,34,37) have mixed types. Specify dtype option on import or set low_memory=False.\n",
      "  datainpi = pd.read_csv(zip_file.open(myfile), sep=\";\")\n",
      "/home/coder/work/data_inpi/src/transform_rcs.py:22: DtypeWarning: Columns (15) have mixed types. Specify dtype option on import or set low_memory=False.\n",
      "  datainpi = pd.read_csv(zip_file.open(myfile), sep=\";\")\n",
      "/home/coder/work/data_inpi/src/transform_rcs.py:22: DtypeWarning: Columns (7,17,32) have mixed types. Specify dtype option on import or set low_memory=False.\n",
      "  datainpi = pd.read_csv(zip_file.open(myfile), sep=\";\")\n",
      "/home/coder/work/data_inpi/src/transform_rcs.py:22: DtypeWarning: Columns (7,12,17,32) have mixed types. Specify dtype option on import or set low_memory=False.\n",
      "  datainpi = pd.read_csv(zip_file.open(myfile), sep=\";\")\n",
      "/home/coder/work/data_inpi/src/transform_rcs.py:22: DtypeWarning: Columns (17,32) have mixed types. Specify dtype option on import or set low_memory=False.\n",
      "  datainpi = pd.read_csv(zip_file.open(myfile), sep=\";\")\n",
      "/home/coder/work/data_inpi/src/transform_rcs.py:22: DtypeWarning: Columns (7,17,32) have mixed types. Specify dtype option on import or set low_memory=False.\n",
      "  datainpi = pd.read_csv(zip_file.open(myfile), sep=\";\")\n",
      "/home/coder/work/data_inpi/src/transform_rcs.py:22: DtypeWarning: Columns (7,34) have mixed types. Specify dtype option on import or set low_memory=False.\n",
      "  datainpi = pd.read_csv(zip_file.open(myfile), sep=\";\")\n",
      "/home/coder/work/data_inpi/src/transform_rcs.py:22: DtypeWarning: Columns (17) have mixed types. Specify dtype option on import or set low_memory=False.\n",
      "  datainpi = pd.read_csv(zip_file.open(myfile), sep=\";\")\n",
      "/home/coder/work/data_inpi/src/transform_rcs.py:22: DtypeWarning: Columns (17) have mixed types. Specify dtype option on import or set low_memory=False.\n",
      "  datainpi = pd.read_csv(zip_file.open(myfile), sep=\";\")\n",
      "/home/coder/work/data_inpi/src/transform_rcs.py:22: DtypeWarning: Columns (7) have mixed types. Specify dtype option on import or set low_memory=False.\n",
      "  datainpi = pd.read_csv(zip_file.open(myfile), sep=\";\")\n",
      "/home/coder/work/data_inpi/src/transform_rcs.py:22: DtypeWarning: Columns (7) have mixed types. Specify dtype option on import or set low_memory=False.\n",
      "  datainpi = pd.read_csv(zip_file.open(myfile), sep=\";\")\n",
      "/home/coder/work/data_inpi/src/transform_rcs.py:22: DtypeWarning: Columns (7,32) have mixed types. Specify dtype option on import or set low_memory=False.\n",
      "  datainpi = pd.read_csv(zip_file.open(myfile), sep=\";\")\n"
     ]
    }
   ],
   "source": [
    "df_rep, df_pm = import_all_years()"
   ]
  },
  {
   "cell_type": "code",
   "execution_count": null,
   "metadata": {},
   "outputs": [],
   "source": []
  },
  {
   "cell_type": "code",
   "execution_count": null,
   "metadata": {},
   "outputs": [],
   "source": []
  },
  {
   "cell_type": "code",
   "execution_count": null,
   "metadata": {},
   "outputs": [],
   "source": []
  }
 ],
 "metadata": {
  "interpreter": {
   "hash": "ed5946f2a0d3f5e934efd92075c2a89b2cb5130d0efd6e4509a568bedf48ed26"
  },
  "kernelspec": {
   "display_name": "Python 3.10.4 ('basesspcloud')",
   "language": "python",
   "name": "python3"
  },
  "language_info": {
   "codemirror_mode": {
    "name": "ipython",
    "version": 3
   },
   "file_extension": ".py",
   "mimetype": "text/x-python",
   "name": "python",
   "nbconvert_exporter": "python",
   "pygments_lexer": "ipython3",
   "version": "3.10.4"
  },
  "orig_nbformat": 4
 },
 "nbformat": 4,
 "nbformat_minor": 2
}
