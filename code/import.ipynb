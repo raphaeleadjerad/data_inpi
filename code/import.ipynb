{
 "cells": [
  {
   "cell_type": "code",
   "execution_count": null,
   "metadata": {},
   "outputs": [],
   "source": [
    "import functions as fc\n",
    "import pandas as pd"
   ]
  },
  {
   "cell_type": "code",
   "execution_count": null,
   "metadata": {},
   "outputs": [],
   "source": [
    "fc.download_tgz_raw()"
   ]
  },
  {
   "cell_type": "code",
   "execution_count": null,
   "metadata": {},
   "outputs": [],
   "source": [
    "fc.import_tgz(\"2018\", \"./data2018\")"
   ]
  },
  {
   "cell_type": "code",
   "execution_count": null,
   "metadata": {},
   "outputs": [],
   "source": [
    "fc.import_tgz(\"2019\", \"./data2019\")"
   ]
  },
  {
   "cell_type": "code",
   "execution_count": null,
   "metadata": {},
   "outputs": [],
   "source": [
    "fc.import_tgz(\"2020\", \"./data2020\")"
   ]
  },
  {
   "cell_type": "code",
   "execution_count": null,
   "metadata": {},
   "outputs": [],
   "source": [
    "df_final = fc.transform_rcs(\"2018\")"
   ]
  },
  {
   "cell_type": "code",
   "execution_count": null,
   "metadata": {},
   "outputs": [],
   "source": [
    "df_final.head()"
   ]
  },
  {
   "cell_type": "code",
   "execution_count": null,
   "metadata": {},
   "outputs": [],
   "source": [
    "fc.export_2_minio(\"2018\", df_final)"
   ]
  },
  {
   "cell_type": "code",
   "execution_count": null,
   "metadata": {},
   "outputs": [],
   "source": [
    "fc.export_2_minio(\"2019\", df_final)"
   ]
  },
  {
   "cell_type": "code",
   "execution_count": null,
   "metadata": {},
   "outputs": [],
   "source": [
    "fc.export_2_minio(\"2020\", df_final)"
   ]
  },
  {
   "cell_type": "code",
   "execution_count": null,
   "metadata": {},
   "outputs": [],
   "source": [
    "from urllib.request import urlopen\n",
    "import re\n",
    "from bs4 import BeautifulSoup\n",
    "import requests\n",
    "from zipfile import ZipFile\n",
    "\n",
    "def isDirectory(url):\n",
    "    if(url.endswith('/') and \"..\" not in url):\n",
    "        return True\n",
    "    else:\n",
    "        return False\n",
    "list_urls = []\n",
    "def findLinks(url):\n",
    "    page = requests.get(url).content\n",
    "    bsObj = BeautifulSoup(page, 'html.parser')\n",
    "    maybe_directories = bsObj.findAll('a', href=True)\n",
    "    list_df = []\n",
    "    \n",
    "    for link in maybe_directories:\n",
    "        #print(link['href'])\n",
    "        # print(isDirectory(link['href']))\n",
    "        if(isDirectory(link['href'])):\n",
    "            newUrl = url + link['href']   \n",
    "            print(newUrl)   \n",
    "            list_urls.append(newUrl)  \n",
    "            print(list_urls) \n",
    "            findLinks(newUrl) #recursion happening here$\n",
    "            \n",
    "            \n",
    "        else:\n",
    "            if(link['href'].endswith('.zip')):\n",
    "                print(\"GOTCHA!\") #now safe and download\n",
    "                target_path = link['href']\n",
    "                response = requests.get(list_urls[-1] + link['href'], stream=True)\n",
    "                if response.status_code == 200:\n",
    "                    with open(target_path, 'wb') as f:\n",
    "                        f.write(response.raw.read())\n",
    "                \n",
    "                # zip_file = ZipFile(list_urls[-1] + link['href'])         \n",
    "                # temp_df = [open_complex_file(zip_file, text_file.filename)\n",
    "                # for text_file in zip_file.infolist()\n",
    "                # if text_file.filename.endswith('.csv')]\n",
    "                # list_df.append(temp_df)\n",
    "\n",
    "startUrl = \"http://data.cquest.org/inpi_rncs/imr/stock/2017/\"\n",
    "findLinks(startUrl)"
   ]
  },
  {
   "cell_type": "code",
   "execution_count": null,
   "metadata": {},
   "outputs": [],
   "source": [
    "zip_file = ZipFile(list_urls[-1] + link['href'])         \n",
    " temp_df = [open_complex_file(zip_file, text_file.filename)\n",
    "for text_file in zip_file.infolist()\n",
    "if text_file.filename.endswith('.csv')]\n",
    " list_df.append(temp_df)"
   ]
  },
  {
   "cell_type": "code",
   "execution_count": null,
   "metadata": {},
   "outputs": [],
   "source": []
  }
 ],
 "metadata": {
  "interpreter": {
   "hash": "ed5946f2a0d3f5e934efd92075c2a89b2cb5130d0efd6e4509a568bedf48ed26"
  },
  "kernelspec": {
   "display_name": "Python 3.10.4 ('basesspcloud')",
   "language": "python",
   "name": "python3"
  },
  "language_info": {
   "codemirror_mode": {
    "name": "ipython",
    "version": 3
   },
   "file_extension": ".py",
   "mimetype": "text/x-python",
   "name": "python",
   "nbconvert_exporter": "python",
   "pygments_lexer": "ipython3",
   "version": "3.10.4"
  },
  "orig_nbformat": 4
 },
 "nbformat": 4,
 "nbformat_minor": 2
}
