{
 "cells": [
  {
   "cell_type": "markdown",
   "metadata": {},
   "source": [
    "# Création de la base Représentants et Personnes morales \n",
    "\n",
    "- Importation des données TC et TITMC \n",
    "\n",
    "- Codification des adresses \n",
    "\n",
    "- Ajout et traitement du code commune\n",
    "\n",
    "- Retraiter et simplifier les qualités \n",
    "\n",
    "- joindre avec les données de décès"
   ]
  },
  {
   "cell_type": "code",
   "execution_count": 1,
   "metadata": {},
   "outputs": [],
   "source": [
    "# fonction permettant de traiter les données rep et pm et d'ajouter le code commune insee\n",
    "import os\n",
    "import s3fs\n",
    "import pandas as pd\n",
    "import functions as fc "
   ]
  },
  {
   "cell_type": "code",
   "execution_count": null,
   "metadata": {},
   "outputs": [],
   "source": [
    "# Lecture de la base inpi\n",
    "df_rep_pm = fc.import_inpi(\"data_rep_pm_2017.csv\")"
   ]
  },
  {
   "cell_type": "code",
   "execution_count": null,
   "metadata": {},
   "outputs": [],
   "source": [
    "# nettoyage de diverses variables\n",
    "df_rep_pm = fc.clean_rep_pm_inpi(df_rep_pm)"
   ]
  },
  {
   "cell_type": "code",
   "execution_count": null,
   "metadata": {},
   "outputs": [],
   "source": [
    "# ajout du code commune\n",
    "df_rep_pm = fc.add_code_com(df_rep_pm)"
   ]
  },
  {
   "cell_type": "code",
   "execution_count": null,
   "metadata": {},
   "outputs": [],
   "source": [
    "# export de la table\n",
    "fc.export2minio(\"df_rep_pm_2017_commune.csv\", df_rep_pm)"
   ]
  },
  {
   "cell_type": "code",
   "execution_count": 2,
   "metadata": {},
   "outputs": [
    {
     "name": "stderr",
     "output_type": "stream",
     "text": [
      "/home/coder/work/data_inpi/code/functions.py:192: DtypeWarning: Columns (14,16,26) have mixed types. Specify dtype option on import or set low_memory=False.\n",
      "  df_rep_pm = pd.read_csv(file_in, sep=\";\", encoding=\"utf-8\",\n"
     ]
    }
   ],
   "source": [
    "df_rep_pm = fc.import_inpi( \"df_rep_pm_2017_commune.csv\", cols=None)"
   ]
  },
  {
   "cell_type": "code",
   "execution_count": 3,
   "metadata": {},
   "outputs": [
    {
     "data": {
      "text/html": [
       "<div>\n",
       "<style scoped>\n",
       "    .dataframe tbody tr th:only-of-type {\n",
       "        vertical-align: middle;\n",
       "    }\n",
       "\n",
       "    .dataframe tbody tr th {\n",
       "        vertical-align: top;\n",
       "    }\n",
       "\n",
       "    .dataframe thead th {\n",
       "        text-align: right;\n",
       "    }\n",
       "</style>\n",
       "<table border=\"1\" class=\"dataframe\">\n",
       "  <thead>\n",
       "    <tr style=\"text-align: right;\">\n",
       "      <th></th>\n",
       "      <th>code_greffe</th>\n",
       "      <th>siren</th>\n",
       "      <th>denomination</th>\n",
       "      <th>forme_juridique</th>\n",
       "      <th>qualite</th>\n",
       "      <th>nom_patronymique</th>\n",
       "      <th>nom_usage</th>\n",
       "      <th>prenoms</th>\n",
       "      <th>type</th>\n",
       "      <th>date_naissance</th>\n",
       "      <th>...</th>\n",
       "      <th>pays</th>\n",
       "      <th>id_representant</th>\n",
       "      <th>top_civilite</th>\n",
       "      <th>nom_patronymique2</th>\n",
       "      <th>top_particule</th>\n",
       "      <th>qualite2</th>\n",
       "      <th>denomination2</th>\n",
       "      <th>commune</th>\n",
       "      <th>code_departement</th>\n",
       "      <th>code_commune_insee</th>\n",
       "    </tr>\n",
       "  </thead>\n",
       "  <tbody>\n",
       "    <tr>\n",
       "      <th>0</th>\n",
       "      <td>101</td>\n",
       "      <td>15850944</td>\n",
       "      <td>AGIR TECHNOLOGIES</td>\n",
       "      <td>Société par actions simplifiée à associé unique</td>\n",
       "      <td>NaN</td>\n",
       "      <td>NaN</td>\n",
       "      <td>NaN</td>\n",
       "      <td>NaN</td>\n",
       "      <td>NaN</td>\n",
       "      <td>NaN</td>\n",
       "      <td>...</td>\n",
       "      <td>NaN</td>\n",
       "      <td>NaN</td>\n",
       "      <td>NaN</td>\n",
       "      <td>NaN</td>\n",
       "      <td>NaN</td>\n",
       "      <td>NaN</td>\n",
       "      <td>agir technologies</td>\n",
       "      <td>NaN</td>\n",
       "      <td>na</td>\n",
       "      <td>NaN</td>\n",
       "    </tr>\n",
       "    <tr>\n",
       "      <th>1</th>\n",
       "      <td>101</td>\n",
       "      <td>15851793</td>\n",
       "      <td>DORAS</td>\n",
       "      <td>Société anonyme à directoire et conseil de sur...</td>\n",
       "      <td>NaN</td>\n",
       "      <td>NaN</td>\n",
       "      <td>NaN</td>\n",
       "      <td>NaN</td>\n",
       "      <td>NaN</td>\n",
       "      <td>NaN</td>\n",
       "      <td>...</td>\n",
       "      <td>NaN</td>\n",
       "      <td>NaN</td>\n",
       "      <td>NaN</td>\n",
       "      <td>NaN</td>\n",
       "      <td>NaN</td>\n",
       "      <td>NaN</td>\n",
       "      <td>doras</td>\n",
       "      <td>NaN</td>\n",
       "      <td>na</td>\n",
       "      <td>NaN</td>\n",
       "    </tr>\n",
       "    <tr>\n",
       "      <th>2</th>\n",
       "      <td>101</td>\n",
       "      <td>26380212</td>\n",
       "      <td>SOCIETE IMMOBILIERE FINANCIERE D ETUDES ET DE ...</td>\n",
       "      <td>Société par actions simplifiée</td>\n",
       "      <td>Président</td>\n",
       "      <td>VATIN</td>\n",
       "      <td>NaN</td>\n",
       "      <td>Gerard</td>\n",
       "      <td>P.Physique</td>\n",
       "      <td>1947-10-07</td>\n",
       "      <td>...</td>\n",
       "      <td>FRANCE</td>\n",
       "      <td>1.0</td>\n",
       "      <td>False</td>\n",
       "      <td>VATIN</td>\n",
       "      <td>False</td>\n",
       "      <td>président</td>\n",
       "      <td>societe immobiliere financiere d etudes et de ...</td>\n",
       "      <td>carpentras</td>\n",
       "      <td>84</td>\n",
       "      <td>84031.0</td>\n",
       "    </tr>\n",
       "    <tr>\n",
       "      <th>3</th>\n",
       "      <td>101</td>\n",
       "      <td>26380212</td>\n",
       "      <td>SOCIETE IMMOBILIERE FINANCIERE D ETUDES ET DE ...</td>\n",
       "      <td>Société par actions simplifiée</td>\n",
       "      <td>Directeur général</td>\n",
       "      <td>VATIN</td>\n",
       "      <td>NaN</td>\n",
       "      <td>Jacques</td>\n",
       "      <td>P.Physique</td>\n",
       "      <td>1930-04-03</td>\n",
       "      <td>...</td>\n",
       "      <td>FRANCE</td>\n",
       "      <td>3.0</td>\n",
       "      <td>False</td>\n",
       "      <td>VATIN</td>\n",
       "      <td>False</td>\n",
       "      <td>directeur général</td>\n",
       "      <td>societe immobiliere financiere d etudes et de ...</td>\n",
       "      <td>paris</td>\n",
       "      <td>75</td>\n",
       "      <td>NaN</td>\n",
       "    </tr>\n",
       "    <tr>\n",
       "      <th>4</th>\n",
       "      <td>101</td>\n",
       "      <td>26380212</td>\n",
       "      <td>SOCIETE IMMOBILIERE FINANCIERE D ETUDES ET DE ...</td>\n",
       "      <td>Société par actions simplifiée</td>\n",
       "      <td>Directeur général</td>\n",
       "      <td>JORDENS</td>\n",
       "      <td>VATIN</td>\n",
       "      <td>Regina</td>\n",
       "      <td>P.Physique</td>\n",
       "      <td>1948-08-07</td>\n",
       "      <td>...</td>\n",
       "      <td>FRANCE</td>\n",
       "      <td>4.0</td>\n",
       "      <td>False</td>\n",
       "      <td>JORDENS</td>\n",
       "      <td>False</td>\n",
       "      <td>directeur général</td>\n",
       "      <td>societe immobiliere financiere d etudes et de ...</td>\n",
       "      <td>carpentras</td>\n",
       "      <td>84</td>\n",
       "      <td>84031.0</td>\n",
       "    </tr>\n",
       "  </tbody>\n",
       "</table>\n",
       "<p>5 rows × 27 columns</p>\n",
       "</div>"
      ],
      "text/plain": [
       "   code_greffe     siren                                       denomination  \\\n",
       "0          101  15850944                                  AGIR TECHNOLOGIES   \n",
       "1          101  15851793                                              DORAS   \n",
       "2          101  26380212  SOCIETE IMMOBILIERE FINANCIERE D ETUDES ET DE ...   \n",
       "3          101  26380212  SOCIETE IMMOBILIERE FINANCIERE D ETUDES ET DE ...   \n",
       "4          101  26380212  SOCIETE IMMOBILIERE FINANCIERE D ETUDES ET DE ...   \n",
       "\n",
       "                                     forme_juridique            qualite  \\\n",
       "0    Société par actions simplifiée à associé unique                NaN   \n",
       "1  Société anonyme à directoire et conseil de sur...                NaN   \n",
       "2                     Société par actions simplifiée          Président   \n",
       "3                     Société par actions simplifiée  Directeur général   \n",
       "4                     Société par actions simplifiée  Directeur général   \n",
       "\n",
       "  nom_patronymique nom_usage  prenoms        type date_naissance  ...    pays  \\\n",
       "0              NaN       NaN      NaN         NaN            NaN  ...     NaN   \n",
       "1              NaN       NaN      NaN         NaN            NaN  ...     NaN   \n",
       "2            VATIN       NaN   Gerard  P.Physique     1947-10-07  ...  FRANCE   \n",
       "3            VATIN       NaN  Jacques  P.Physique     1930-04-03  ...  FRANCE   \n",
       "4          JORDENS     VATIN   Regina  P.Physique     1948-08-07  ...  FRANCE   \n",
       "\n",
       "  id_representant top_civilite nom_patronymique2 top_particule  \\\n",
       "0             NaN          NaN               NaN           NaN   \n",
       "1             NaN          NaN               NaN           NaN   \n",
       "2             1.0        False             VATIN         False   \n",
       "3             3.0        False             VATIN         False   \n",
       "4             4.0        False           JORDENS         False   \n",
       "\n",
       "            qualite2                                      denomination2  \\\n",
       "0                NaN                                  agir technologies   \n",
       "1                NaN                                              doras   \n",
       "2          président  societe immobiliere financiere d etudes et de ...   \n",
       "3  directeur général  societe immobiliere financiere d etudes et de ...   \n",
       "4  directeur général  societe immobiliere financiere d etudes et de ...   \n",
       "\n",
       "      commune  code_departement code_commune_insee  \n",
       "0         NaN                na                NaN  \n",
       "1         NaN                na                NaN  \n",
       "2  carpentras                84            84031.0  \n",
       "3       paris                75                NaN  \n",
       "4  carpentras                84            84031.0  \n",
       "\n",
       "[5 rows x 27 columns]"
      ]
     },
     "execution_count": 3,
     "metadata": {},
     "output_type": "execute_result"
    }
   ],
   "source": [
    "df_rep_pm.head()"
   ]
  },
  {
   "cell_type": "code",
   "execution_count": 4,
   "metadata": {},
   "outputs": [],
   "source": [
    "# on filtre on ne va garder que les lignes avec le nom patronymique, le nom usage, les prénoms, ou la date de naissance\n",
    "df_rep_pm = df_rep_pm.loc[(df_rep_pm[\"nom_patronymique\"].isna() == False) | (df_rep_pm[\"prenoms\"].isna() == False) | \\\n",
    "                            (df_rep_pm[\"date_naissance\"].isna() == False), :]"
   ]
  },
  {
   "cell_type": "code",
   "execution_count": 5,
   "metadata": {},
   "outputs": [
    {
     "data": {
      "text/plain": [
       "(8671244, 27)"
      ]
     },
     "execution_count": 5,
     "metadata": {},
     "output_type": "execute_result"
    }
   ],
   "source": [
    "df_rep_pm.shape # 8 671 244"
   ]
  },
  {
   "cell_type": "code",
   "execution_count": 6,
   "metadata": {},
   "outputs": [],
   "source": [
    "test = df_rep_pm.loc[df_rep_pm[\"code_commune_insee\"].isna() == False, :]"
   ]
  },
  {
   "cell_type": "code",
   "execution_count": 7,
   "metadata": {},
   "outputs": [
    {
     "data": {
      "text/plain": [
       "(4693722, 27)"
      ]
     },
     "execution_count": 7,
     "metadata": {},
     "output_type": "execute_result"
    }
   ],
   "source": [
    "test.shape # 4 693 722 avec code commune"
   ]
  },
  {
   "cell_type": "code",
   "execution_count": 8,
   "metadata": {},
   "outputs": [],
   "source": [
    "test = df_rep_pm.loc[df_rep_pm[\"code_commune\"].isna() == False, :]"
   ]
  },
  {
   "cell_type": "code",
   "execution_count": 9,
   "metadata": {},
   "outputs": [
    {
     "data": {
      "text/plain": [
       "(7740164, 27)"
      ]
     },
     "execution_count": 9,
     "metadata": {},
     "output_type": "execute_result"
    }
   ],
   "source": [
    "test.shape  # 7 740 164"
   ]
  },
  {
   "cell_type": "code",
   "execution_count": 11,
   "metadata": {},
   "outputs": [
    {
     "data": {
      "text/plain": [
       "Index(['code_greffe', 'siren', 'denomination', 'forme_juridique', 'qualite',\n",
       "       'nom_patronymique', 'nom_usage', 'prenoms', 'type', 'date_naissance',\n",
       "       'ville_naissance', 'adresse_ligne1', 'adresse_ligne2', 'adresse_ligne3',\n",
       "       'code_postal', 'ville', 'code_commune', 'pays', 'id_representant',\n",
       "       'top_civilite', 'nom_patronymique2', 'top_particule', 'qualite2',\n",
       "       'denomination2', 'commune', 'code_departement', 'code_commune_insee',\n",
       "       'code_commune3'],\n",
       "      dtype='object')"
      ]
     },
     "execution_count": 11,
     "metadata": {},
     "output_type": "execute_result"
    }
   ],
   "source": [
    "df_rep_pm.columns"
   ]
  },
  {
   "cell_type": "code",
   "execution_count": 10,
   "metadata": {},
   "outputs": [],
   "source": [
    "# correction pour paris, marseille et lyon\n",
    "df_rep_pm[\"code_commune3\"] = df_rep_pm[\"code_commune\"]"
   ]
  },
  {
   "cell_type": "code",
   "execution_count": 14,
   "metadata": {},
   "outputs": [
    {
     "data": {
      "text/html": [
       "<div>\n",
       "<style scoped>\n",
       "    .dataframe tbody tr th:only-of-type {\n",
       "        vertical-align: middle;\n",
       "    }\n",
       "\n",
       "    .dataframe tbody tr th {\n",
       "        vertical-align: top;\n",
       "    }\n",
       "\n",
       "    .dataframe thead th {\n",
       "        text-align: right;\n",
       "    }\n",
       "</style>\n",
       "<table border=\"1\" class=\"dataframe\">\n",
       "  <thead>\n",
       "    <tr style=\"text-align: right;\">\n",
       "      <th></th>\n",
       "      <th>code_greffe</th>\n",
       "      <th>siren</th>\n",
       "      <th>denomination</th>\n",
       "      <th>forme_juridique</th>\n",
       "      <th>qualite</th>\n",
       "      <th>nom_patronymique</th>\n",
       "      <th>nom_usage</th>\n",
       "      <th>prenoms</th>\n",
       "      <th>type</th>\n",
       "      <th>date_naissance</th>\n",
       "      <th>...</th>\n",
       "      <th>id_representant</th>\n",
       "      <th>top_civilite</th>\n",
       "      <th>nom_patronymique2</th>\n",
       "      <th>top_particule</th>\n",
       "      <th>qualite2</th>\n",
       "      <th>denomination2</th>\n",
       "      <th>commune</th>\n",
       "      <th>code_departement</th>\n",
       "      <th>code_commune_insee</th>\n",
       "      <th>code_commune3</th>\n",
       "    </tr>\n",
       "  </thead>\n",
       "  <tbody>\n",
       "    <tr>\n",
       "      <th>3</th>\n",
       "      <td>101</td>\n",
       "      <td>26380212</td>\n",
       "      <td>SOCIETE IMMOBILIERE FINANCIERE D ETUDES ET DE ...</td>\n",
       "      <td>Société par actions simplifiée</td>\n",
       "      <td>Directeur général</td>\n",
       "      <td>VATIN</td>\n",
       "      <td>NaN</td>\n",
       "      <td>Jacques</td>\n",
       "      <td>P.Physique</td>\n",
       "      <td>1930-04-03</td>\n",
       "      <td>...</td>\n",
       "      <td>3.0</td>\n",
       "      <td>False</td>\n",
       "      <td>VATIN</td>\n",
       "      <td>False</td>\n",
       "      <td>directeur général</td>\n",
       "      <td>societe immobiliere financiere d etudes et de ...</td>\n",
       "      <td>paris</td>\n",
       "      <td>75</td>\n",
       "      <td>NaN</td>\n",
       "      <td>NaN</td>\n",
       "    </tr>\n",
       "    <tr>\n",
       "      <th>486</th>\n",
       "      <td>101</td>\n",
       "      <td>304455298</td>\n",
       "      <td>ARNO AUTOMOBILES REPARATIONS NEUVES ET OCCASIONS</td>\n",
       "      <td>Société par actions simplifiée</td>\n",
       "      <td>Président du conseil de surveillance</td>\n",
       "      <td>BERNARD</td>\n",
       "      <td>NaN</td>\n",
       "      <td>Isabelle Jeanne</td>\n",
       "      <td>P.Physique</td>\n",
       "      <td>1958-10-06</td>\n",
       "      <td>...</td>\n",
       "      <td>3.0</td>\n",
       "      <td>False</td>\n",
       "      <td>BERNARD</td>\n",
       "      <td>False</td>\n",
       "      <td>président du conseil de surveillance</td>\n",
       "      <td>arno automobiles reparations neuves et occasions</td>\n",
       "      <td>paris</td>\n",
       "      <td>75</td>\n",
       "      <td>NaN</td>\n",
       "      <td>NaN</td>\n",
       "    </tr>\n",
       "    <tr>\n",
       "      <th>722</th>\n",
       "      <td>101</td>\n",
       "      <td>308491604</td>\n",
       "      <td>CONVERT SA</td>\n",
       "      <td>Société anonyme</td>\n",
       "      <td>Administrateur</td>\n",
       "      <td>CONVERT</td>\n",
       "      <td>NaN</td>\n",
       "      <td>Jean-Michel</td>\n",
       "      <td>P.Physique</td>\n",
       "      <td>1960-02-19</td>\n",
       "      <td>...</td>\n",
       "      <td>3.0</td>\n",
       "      <td>False</td>\n",
       "      <td>CONVERT</td>\n",
       "      <td>False</td>\n",
       "      <td>administrateur</td>\n",
       "      <td>convert sa</td>\n",
       "      <td>paris</td>\n",
       "      <td>75</td>\n",
       "      <td>NaN</td>\n",
       "      <td>NaN</td>\n",
       "    </tr>\n",
       "    <tr>\n",
       "      <th>910</th>\n",
       "      <td>101</td>\n",
       "      <td>310792023</td>\n",
       "      <td>ArcelorMittal Wire France</td>\n",
       "      <td>Société anonyme</td>\n",
       "      <td>Administrateur</td>\n",
       "      <td>PHILIPPE</td>\n",
       "      <td>NaN</td>\n",
       "      <td>Anne Suzanne Marie</td>\n",
       "      <td>P.Physique</td>\n",
       "      <td>1954-12-31</td>\n",
       "      <td>...</td>\n",
       "      <td>70.0</td>\n",
       "      <td>False</td>\n",
       "      <td>PHILIPPE</td>\n",
       "      <td>False</td>\n",
       "      <td>administrateur</td>\n",
       "      <td>arcelormittal wire france</td>\n",
       "      <td>paris</td>\n",
       "      <td>75</td>\n",
       "      <td>NaN</td>\n",
       "      <td>NaN</td>\n",
       "    </tr>\n",
       "    <tr>\n",
       "      <th>1216</th>\n",
       "      <td>101</td>\n",
       "      <td>313384133</td>\n",
       "      <td>SOCIETE CIVILE IMMOBILIERE DE LA FRANCHISE</td>\n",
       "      <td>Société civile immobilière</td>\n",
       "      <td>Associé indéfiniment responsable</td>\n",
       "      <td>VILLIERS</td>\n",
       "      <td>CHAVANE</td>\n",
       "      <td>Béatrice Marie</td>\n",
       "      <td>P.Physique</td>\n",
       "      <td>1964-03-15</td>\n",
       "      <td>...</td>\n",
       "      <td>2.0</td>\n",
       "      <td>False</td>\n",
       "      <td>VILLIERS</td>\n",
       "      <td>False</td>\n",
       "      <td>associé indéfiniment responsable</td>\n",
       "      <td>societe civile immobiliere de la franchise</td>\n",
       "      <td>paris</td>\n",
       "      <td>75</td>\n",
       "      <td>NaN</td>\n",
       "      <td>NaN</td>\n",
       "    </tr>\n",
       "  </tbody>\n",
       "</table>\n",
       "<p>5 rows × 28 columns</p>\n",
       "</div>"
      ],
      "text/plain": [
       "      code_greffe      siren  \\\n",
       "3             101   26380212   \n",
       "486           101  304455298   \n",
       "722           101  308491604   \n",
       "910           101  310792023   \n",
       "1216          101  313384133   \n",
       "\n",
       "                                           denomination  \\\n",
       "3     SOCIETE IMMOBILIERE FINANCIERE D ETUDES ET DE ...   \n",
       "486    ARNO AUTOMOBILES REPARATIONS NEUVES ET OCCASIONS   \n",
       "722                                          CONVERT SA   \n",
       "910                           ArcelorMittal Wire France   \n",
       "1216         SOCIETE CIVILE IMMOBILIERE DE LA FRANCHISE   \n",
       "\n",
       "                     forme_juridique                               qualite  \\\n",
       "3     Société par actions simplifiée                     Directeur général   \n",
       "486   Société par actions simplifiée  Président du conseil de surveillance   \n",
       "722                  Société anonyme                        Administrateur   \n",
       "910                  Société anonyme                        Administrateur   \n",
       "1216      Société civile immobilière      Associé indéfiniment responsable   \n",
       "\n",
       "     nom_patronymique nom_usage             prenoms        type  \\\n",
       "3               VATIN       NaN             Jacques  P.Physique   \n",
       "486           BERNARD       NaN     Isabelle Jeanne  P.Physique   \n",
       "722           CONVERT       NaN         Jean-Michel  P.Physique   \n",
       "910          PHILIPPE       NaN  Anne Suzanne Marie  P.Physique   \n",
       "1216         VILLIERS   CHAVANE      Béatrice Marie  P.Physique   \n",
       "\n",
       "     date_naissance  ... id_representant top_civilite nom_patronymique2  \\\n",
       "3        1930-04-03  ...             3.0        False             VATIN   \n",
       "486      1958-10-06  ...             3.0        False           BERNARD   \n",
       "722      1960-02-19  ...             3.0        False           CONVERT   \n",
       "910      1954-12-31  ...            70.0        False          PHILIPPE   \n",
       "1216     1964-03-15  ...             2.0        False          VILLIERS   \n",
       "\n",
       "     top_particule                              qualite2  \\\n",
       "3            False                     directeur général   \n",
       "486          False  président du conseil de surveillance   \n",
       "722          False                        administrateur   \n",
       "910          False                        administrateur   \n",
       "1216         False      associé indéfiniment responsable   \n",
       "\n",
       "                                          denomination2 commune  \\\n",
       "3     societe immobiliere financiere d etudes et de ...   paris   \n",
       "486    arno automobiles reparations neuves et occasions   paris   \n",
       "722                                          convert sa   paris   \n",
       "910                           arcelormittal wire france   paris   \n",
       "1216         societe civile immobiliere de la franchise   paris   \n",
       "\n",
       "     code_departement  code_commune_insee code_commune3  \n",
       "3                  75                 NaN           NaN  \n",
       "486                75                 NaN           NaN  \n",
       "722                75                 NaN           NaN  \n",
       "910                75                 NaN           NaN  \n",
       "1216               75                 NaN           NaN  \n",
       "\n",
       "[5 rows x 28 columns]"
      ]
     },
     "execution_count": 14,
     "metadata": {},
     "output_type": "execute_result"
    }
   ],
   "source": [
    "df_rep_pm.loc[(df_rep_pm[\"code_commune3\"].isna()) & (df_rep_pm[\"commune\"] == \"paris\") & (df_rep_pm[\"code_postal\"].isna() == False), :].head()"
   ]
  },
  {
   "cell_type": "code",
   "execution_count": null,
   "metadata": {},
   "outputs": [],
   "source": [
    "df_rep_pm.loc[(df_rep_pm[\"code_commune3\"].isna()) & (df_rep_pm[\"commune\"] == \"paris\") & (df_rep_pm[\"code_postal\"].isna() == False), \"code_commune3\"] = \"751\" + \\\n",
    "    df_rep_pm.loc[(df_rep_pm[\"code_commune3\"].isna()) & (df_rep_pm[\"commune\"] == \"paris\") & (df_rep_pm[\"code_postal\"].isna() == False), \"code_postal\"].str.slice(start=4, stop=7)"
   ]
  },
  {
   "cell_type": "code",
   "execution_count": null,
   "metadata": {},
   "outputs": [],
   "source": [
    "df_rep_pm.loc[(df_rep_pm[\"code_commune3\"].isna()) & (df_rep_pm[\"commune\"] == \"paris\") & (df_rep_pm[\"code_postal\"].isna() == False), \"code_commune3\"].shape  # 8 551"
   ]
  },
  {
   "cell_type": "code",
   "execution_count": null,
   "metadata": {},
   "outputs": [],
   "source": [
    "df_rep_pm.loc[(df_rep_pm[\"code_commune3\"].isna()) & (df_rep_pm[\"commune\"] == \"lyon\") & (df_rep_pm[\"code_postal\"].isna() == False), \"code_commune3\"].shape # 945"
   ]
  },
  {
   "cell_type": "code",
   "execution_count": null,
   "metadata": {},
   "outputs": [],
   "source": [
    "df_rep_pm.loc[(df_rep_pm[\"code_commune3\"].isna()) & (df_rep_pm[\"commune\"] == \"lyon\") & (df_rep_pm[\"code_postal\"].isna() == False), \"code_commune3\"] = \"6938\" + \\\n",
    "    df_rep_pm.loc[(df_rep_pm[\"code_commune3\"].isna()) & (df_rep_pm[\"commune\"] == \"lyon\") & (df_rep_pm[\"code_postal\"].isna() == False), \"code_postal\"].str.slice(start=5, stop=7)"
   ]
  },
  {
   "cell_type": "code",
   "execution_count": null,
   "metadata": {},
   "outputs": [],
   "source": [
    "df_rep_pm.loc[(df_rep_pm[\"code_commune3\"].isna()) & (df_rep_pm[\"commune\"] == \"lyon\") & (df_rep_pm[\"code_postal\"].isna() == False), \"code_commune3\"].shape # 945"
   ]
  },
  {
   "cell_type": "code",
   "execution_count": null,
   "metadata": {},
   "outputs": [],
   "source": [
    "df_rep_pm.loc[(df_rep_pm[\"code_commune3\"].isna()) & (df_rep_pm[\"commune\"] == \"marseille\") & (df_rep_pm[\"code_postal\"].isna() == False), \"code_commune3\"].shape # 2827"
   ]
  }
 ],
 "metadata": {
  "interpreter": {
   "hash": "ed5946f2a0d3f5e934efd92075c2a89b2cb5130d0efd6e4509a568bedf48ed26"
  },
  "kernelspec": {
   "display_name": "Python 3.10.4 ('basesspcloud')",
   "language": "python",
   "name": "python3"
  },
  "language_info": {
   "codemirror_mode": {
    "name": "ipython",
    "version": 3
   },
   "file_extension": ".py",
   "mimetype": "text/x-python",
   "name": "python",
   "nbconvert_exporter": "python",
   "pygments_lexer": "ipython3",
   "version": "3.10.4"
  },
  "orig_nbformat": 4
 },
 "nbformat": 4,
 "nbformat_minor": 2
}
