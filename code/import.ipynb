{
 "cells": [
  {
   "cell_type": "code",
   "execution_count": null,
   "metadata": {},
   "outputs": [],
   "source": [
    "import functions as fc\n",
    "import pandas as pd"
   ]
  },
  {
   "cell_type": "code",
   "execution_count": null,
   "metadata": {},
   "outputs": [],
   "source": [
    "fc.download_tgz_raw()"
   ]
  },
  {
   "cell_type": "code",
   "execution_count": null,
   "metadata": {},
   "outputs": [],
   "source": [
    "fc.import_tgz(\"2018\", \"./data2018\")"
   ]
  },
  {
   "cell_type": "code",
   "execution_count": null,
   "metadata": {},
   "outputs": [],
   "source": [
    "fc.import_tgz(\"2019\", \"./data2019\")"
   ]
  },
  {
   "cell_type": "code",
   "execution_count": null,
   "metadata": {},
   "outputs": [],
   "source": [
    "fc.import_tgz(\"2020\", \"./data2020\")"
   ]
  },
  {
   "cell_type": "code",
   "execution_count": null,
   "metadata": {},
   "outputs": [],
   "source": [
    "df_final = fc.transform_rcs(\"2018\")"
   ]
  },
  {
   "cell_type": "code",
   "execution_count": null,
   "metadata": {},
   "outputs": [],
   "source": [
    "df_final.head()"
   ]
  },
  {
   "cell_type": "code",
   "execution_count": null,
   "metadata": {},
   "outputs": [],
   "source": [
    "fc.export_2_minio(\"2018\", df_final)"
   ]
  },
  {
   "cell_type": "code",
   "execution_count": null,
   "metadata": {},
   "outputs": [],
   "source": [
    "fc.export_2_minio(\"2019\", df_final)"
   ]
  },
  {
   "cell_type": "code",
   "execution_count": null,
   "metadata": {},
   "outputs": [],
   "source": [
    "fc.export_2_minio(\"2020\", df_final)"
   ]
  },
  {
   "cell_type": "code",
   "execution_count": 2,
   "metadata": {},
   "outputs": [
    {
     "name": "stdout",
     "output_type": "stream",
     "text": [
      "http://data.cquest.org/inpi_rncs/imr/stock/2017/05/\n",
      "['http://data.cquest.org/inpi_rncs/imr/stock/2017/05/']\n",
      "http://data.cquest.org/inpi_rncs/imr/stock/2017/05/04/\n",
      "['http://data.cquest.org/inpi_rncs/imr/stock/2017/05/', 'http://data.cquest.org/inpi_rncs/imr/stock/2017/05/04/']\n",
      "GOTCHA!\n",
      "GOTCHA!\n",
      "GOTCHA!\n",
      "GOTCHA!\n",
      "GOTCHA!\n",
      "GOTCHA!\n",
      "GOTCHA!\n",
      "GOTCHA!\n",
      "GOTCHA!\n",
      "GOTCHA!\n",
      "GOTCHA!\n",
      "GOTCHA!\n",
      "GOTCHA!\n",
      "GOTCHA!\n",
      "GOTCHA!\n",
      "GOTCHA!\n",
      "GOTCHA!\n",
      "GOTCHA!\n",
      "GOTCHA!\n",
      "GOTCHA!\n",
      "GOTCHA!\n",
      "GOTCHA!\n",
      "GOTCHA!\n",
      "GOTCHA!\n",
      "GOTCHA!\n",
      "GOTCHA!\n",
      "GOTCHA!\n",
      "GOTCHA!\n",
      "GOTCHA!\n",
      "GOTCHA!\n",
      "GOTCHA!\n",
      "GOTCHA!\n",
      "GOTCHA!\n",
      "GOTCHA!\n",
      "GOTCHA!\n",
      "GOTCHA!\n",
      "GOTCHA!\n",
      "GOTCHA!\n",
      "GOTCHA!\n",
      "GOTCHA!\n",
      "GOTCHA!\n",
      "GOTCHA!\n",
      "GOTCHA!\n",
      "GOTCHA!\n",
      "GOTCHA!\n",
      "GOTCHA!\n",
      "GOTCHA!\n",
      "GOTCHA!\n",
      "GOTCHA!\n",
      "GOTCHA!\n",
      "GOTCHA!\n",
      "GOTCHA!\n",
      "GOTCHA!\n",
      "GOTCHA!\n",
      "GOTCHA!\n",
      "GOTCHA!\n",
      "GOTCHA!\n",
      "GOTCHA!\n",
      "GOTCHA!\n",
      "GOTCHA!\n",
      "GOTCHA!\n",
      "GOTCHA!\n",
      "GOTCHA!\n",
      "GOTCHA!\n",
      "GOTCHA!\n",
      "GOTCHA!\n",
      "GOTCHA!\n",
      "GOTCHA!\n",
      "GOTCHA!\n",
      "GOTCHA!\n",
      "GOTCHA!\n",
      "GOTCHA!\n",
      "GOTCHA!\n",
      "GOTCHA!\n",
      "GOTCHA!\n",
      "GOTCHA!\n",
      "GOTCHA!\n",
      "GOTCHA!\n",
      "GOTCHA!\n",
      "GOTCHA!\n",
      "GOTCHA!\n",
      "GOTCHA!\n",
      "GOTCHA!\n",
      "GOTCHA!\n",
      "GOTCHA!\n",
      "GOTCHA!\n",
      "GOTCHA!\n",
      "GOTCHA!\n",
      "GOTCHA!\n",
      "GOTCHA!\n",
      "GOTCHA!\n",
      "GOTCHA!\n",
      "GOTCHA!\n",
      "GOTCHA!\n",
      "GOTCHA!\n",
      "GOTCHA!\n",
      "GOTCHA!\n",
      "GOTCHA!\n",
      "GOTCHA!\n",
      "GOTCHA!\n",
      "GOTCHA!\n",
      "GOTCHA!\n",
      "GOTCHA!\n",
      "GOTCHA!\n",
      "GOTCHA!\n",
      "GOTCHA!\n",
      "GOTCHA!\n",
      "GOTCHA!\n",
      "GOTCHA!\n",
      "GOTCHA!\n",
      "GOTCHA!\n",
      "GOTCHA!\n",
      "GOTCHA!\n",
      "GOTCHA!\n",
      "GOTCHA!\n",
      "GOTCHA!\n",
      "GOTCHA!\n",
      "GOTCHA!\n",
      "GOTCHA!\n",
      "GOTCHA!\n",
      "GOTCHA!\n",
      "GOTCHA!\n",
      "GOTCHA!\n",
      "GOTCHA!\n",
      "GOTCHA!\n",
      "GOTCHA!\n",
      "GOTCHA!\n",
      "GOTCHA!\n",
      "GOTCHA!\n",
      "GOTCHA!\n",
      "GOTCHA!\n",
      "GOTCHA!\n",
      "GOTCHA!\n",
      "GOTCHA!\n"
     ]
    }
   ],
   "source": [
    "from urllib.request import urlopen\n",
    "import re\n",
    "from bs4 import BeautifulSoup\n",
    "import requests\n",
    "from zipfile import ZipFile\n",
    "\n",
    "def isDirectory(url):\n",
    "    if(url.endswith('/') and \"..\" not in url):\n",
    "        return True\n",
    "    else:\n",
    "        return False\n",
    "list_urls = []\n",
    "def findLinks(url):\n",
    "    page = requests.get(url).content\n",
    "    bsObj = BeautifulSoup(page, 'html.parser')\n",
    "    maybe_directories = bsObj.findAll('a', href=True)\n",
    "    list_df = []\n",
    "    \n",
    "    for link in maybe_directories:\n",
    "        #print(link['href'])\n",
    "        # print(isDirectory(link['href']))\n",
    "        if(isDirectory(link['href'])):\n",
    "            newUrl = url + link['href']   \n",
    "            print(newUrl)   \n",
    "            list_urls.append(newUrl)  \n",
    "            print(list_urls) \n",
    "            findLinks(newUrl) #recursion happening here$\n",
    "            \n",
    "            \n",
    "        else:\n",
    "            if(link['href'].endswith('.zip')):\n",
    "                print(\"GOTCHA!\") #now safe and download\n",
    "                target_path = link['href']\n",
    "                response = requests.get(list_urls[-1] + link['href'], stream=True)\n",
    "                if response.status_code == 200:\n",
    "                    with open(target_path, 'wb') as f:\n",
    "                        f.write(response.raw.read())\n",
    "                \n",
    "                # zip_file = ZipFile(list_urls[-1] + link['href'])         \n",
    "                # temp_df = [open_complex_file(zip_file, text_file.filename)\n",
    "                # for text_file in zip_file.infolist()\n",
    "                # if text_file.filename.endswith('.csv')]\n",
    "                # list_df.append(temp_df)\n",
    "\n",
    "startUrl = \"http://data.cquest.org/inpi_rncs/imr/stock/2017/\"\n",
    "findLinks(startUrl)"
   ]
  },
  {
   "cell_type": "code",
   "execution_count": null,
   "metadata": {},
   "outputs": [],
   "source": [
    "def transform_rcs(year, path2data=os.getcwd()):\n",
    "    if year in [\"2019\", \"2020\"]:\n",
    "        list_df = fc.import_all_files(\"data\" + year + \"/\", \"*.zip\")\n",
    "    if year in [\"2017\"]:\n",
    "        list_df = fc.import_all_files(path2data + \"/\", \"*.zip\")\n",
    "    if year in [\"2018\"]:\n",
    "        list_df = fc.import_all_files(\"data\" + year + \"/\", \"*.csv\")\n",
    "    print(len(list_df))\n",
    "    if year in [\"2017\",\"2019\", \"2020\"]:\n",
    "        li = []\n",
    "        for i in range(len(list_df)):\n",
    "            temp = pd.concat(list_df[i])\n",
    "            li.append(temp)\n",
    "        df_final = pd.concat(li)\n",
    "    if year in [\"2018\"]:\n",
    "        df_final = pd.concat(list_df)\n",
    "    print(df_final.shape)\n",
    "    return df_final"
   ]
  },
  {
   "cell_type": "code",
   "execution_count": null,
   "metadata": {},
   "outputs": [],
   "source": [
    "del(list_df)"
   ]
  },
  {
   "cell_type": "code",
   "execution_count": 1,
   "metadata": {},
   "outputs": [],
   "source": [
    "import os\n",
    "path2data=os.getcwd()"
   ]
  },
  {
   "cell_type": "code",
   "execution_count": 2,
   "metadata": {},
   "outputs": [
    {
     "data": {
      "text/plain": [
       "'/home/coder/work/data_inpi/code'"
      ]
     },
     "execution_count": 2,
     "metadata": {},
     "output_type": "execute_result"
    }
   ],
   "source": [
    "path2data"
   ]
  },
  {
   "cell_type": "code",
   "execution_count": 3,
   "metadata": {},
   "outputs": [
    {
     "name": "stderr",
     "output_type": "stream",
     "text": [
      "/home/coder/work/data_inpi/code/functions.py:44: DtypeWarning: Columns (7,32) have mixed types. Specify dtype option on import or set low_memory=False.\n",
      "  df = pd.read_csv(zip_file.open(fi), sep=\";\")\n",
      "/home/coder/work/data_inpi/code/functions.py:44: DtypeWarning: Columns (17) have mixed types. Specify dtype option on import or set low_memory=False.\n",
      "  df = pd.read_csv(zip_file.open(fi), sep=\";\")\n",
      "/home/coder/work/data_inpi/code/functions.py:44: DtypeWarning: Columns (7) have mixed types. Specify dtype option on import or set low_memory=False.\n",
      "  df = pd.read_csv(zip_file.open(fi), sep=\";\")\n",
      "/home/coder/work/data_inpi/code/functions.py:44: DtypeWarning: Columns (7,32) have mixed types. Specify dtype option on import or set low_memory=False.\n",
      "  df = pd.read_csv(zip_file.open(fi), sep=\";\")\n",
      "/home/coder/work/data_inpi/code/functions.py:44: DtypeWarning: Columns (7,32) have mixed types. Specify dtype option on import or set low_memory=False.\n",
      "  df = pd.read_csv(zip_file.open(fi), sep=\";\")\n",
      "/home/coder/work/data_inpi/code/functions.py:44: DtypeWarning: Columns (14,16) have mixed types. Specify dtype option on import or set low_memory=False.\n",
      "  df = pd.read_csv(zip_file.open(fi), sep=\";\")\n",
      "/home/coder/work/data_inpi/code/functions.py:44: DtypeWarning: Columns (7,26,32,37) have mixed types. Specify dtype option on import or set low_memory=False.\n",
      "  df = pd.read_csv(zip_file.open(fi), sep=\";\")\n",
      "/home/coder/work/data_inpi/code/functions.py:44: DtypeWarning: Columns (7,17,25,32,34,37) have mixed types. Specify dtype option on import or set low_memory=False.\n",
      "  df = pd.read_csv(zip_file.open(fi), sep=\";\")\n",
      "/home/coder/work/data_inpi/code/functions.py:44: DtypeWarning: Columns (7,32) have mixed types. Specify dtype option on import or set low_memory=False.\n",
      "  df = pd.read_csv(zip_file.open(fi), sep=\";\")\n",
      "/home/coder/work/data_inpi/code/functions.py:44: DtypeWarning: Columns (7) have mixed types. Specify dtype option on import or set low_memory=False.\n",
      "  df = pd.read_csv(zip_file.open(fi), sep=\";\")\n",
      "/home/coder/work/data_inpi/code/functions.py:44: DtypeWarning: Columns (17,26,33,34) have mixed types. Specify dtype option on import or set low_memory=False.\n",
      "  df = pd.read_csv(zip_file.open(fi), sep=\";\")\n",
      "/home/coder/work/data_inpi/code/functions.py:44: DtypeWarning: Columns (32,37) have mixed types. Specify dtype option on import or set low_memory=False.\n",
      "  df = pd.read_csv(zip_file.open(fi), sep=\";\")\n",
      "/home/coder/work/data_inpi/code/functions.py:44: DtypeWarning: Columns (7,9,11,12,17,24,25,27,28,29,30,31,32,33,34,36,38) have mixed types. Specify dtype option on import or set low_memory=False.\n",
      "  df = pd.read_csv(zip_file.open(fi), sep=\";\")\n",
      "/home/coder/work/data_inpi/code/functions.py:44: DtypeWarning: Columns (16,18) have mixed types. Specify dtype option on import or set low_memory=False.\n",
      "  df = pd.read_csv(zip_file.open(fi), sep=\";\")\n",
      "/home/coder/work/data_inpi/code/functions.py:44: DtypeWarning: Columns (17) have mixed types. Specify dtype option on import or set low_memory=False.\n",
      "  df = pd.read_csv(zip_file.open(fi), sep=\";\")\n",
      "/home/coder/work/data_inpi/code/functions.py:44: DtypeWarning: Columns (7,17,32) have mixed types. Specify dtype option on import or set low_memory=False.\n",
      "  df = pd.read_csv(zip_file.open(fi), sep=\";\")\n",
      "/home/coder/work/data_inpi/code/functions.py:44: DtypeWarning: Columns (16) have mixed types. Specify dtype option on import or set low_memory=False.\n",
      "  df = pd.read_csv(zip_file.open(fi), sep=\";\")\n",
      "/home/coder/work/data_inpi/code/functions.py:44: DtypeWarning: Columns (7,15,17,32,34,35,39,40,42) have mixed types. Specify dtype option on import or set low_memory=False.\n",
      "  df = pd.read_csv(zip_file.open(fi), sep=\";\")\n",
      "/home/coder/work/data_inpi/code/functions.py:44: DtypeWarning: Columns (7,12,17,32) have mixed types. Specify dtype option on import or set low_memory=False.\n",
      "  df = pd.read_csv(zip_file.open(fi), sep=\";\")\n",
      "/home/coder/work/data_inpi/code/functions.py:44: DtypeWarning: Columns (37) have mixed types. Specify dtype option on import or set low_memory=False.\n",
      "  df = pd.read_csv(zip_file.open(fi), sep=\";\")\n",
      "/home/coder/work/data_inpi/code/functions.py:44: DtypeWarning: Columns (7,17,32) have mixed types. Specify dtype option on import or set low_memory=False.\n",
      "  df = pd.read_csv(zip_file.open(fi), sep=\";\")\n",
      "/home/coder/work/data_inpi/code/functions.py:44: DtypeWarning: Columns (16) have mixed types. Specify dtype option on import or set low_memory=False.\n",
      "  df = pd.read_csv(zip_file.open(fi), sep=\";\")\n",
      "/home/coder/work/data_inpi/code/functions.py:44: DtypeWarning: Columns (7,15,17) have mixed types. Specify dtype option on import or set low_memory=False.\n",
      "  df = pd.read_csv(zip_file.open(fi), sep=\";\")\n",
      "/home/coder/work/data_inpi/code/functions.py:44: DtypeWarning: Columns (18) have mixed types. Specify dtype option on import or set low_memory=False.\n",
      "  df = pd.read_csv(zip_file.open(fi), sep=\";\")\n",
      "/home/coder/work/data_inpi/code/functions.py:44: DtypeWarning: Columns (16) have mixed types. Specify dtype option on import or set low_memory=False.\n",
      "  df = pd.read_csv(zip_file.open(fi), sep=\";\")\n",
      "/home/coder/work/data_inpi/code/functions.py:44: DtypeWarning: Columns (7,15,39,40,42) have mixed types. Specify dtype option on import or set low_memory=False.\n",
      "  df = pd.read_csv(zip_file.open(fi), sep=\";\")\n",
      "/home/coder/work/data_inpi/code/functions.py:44: DtypeWarning: Columns (10,18) have mixed types. Specify dtype option on import or set low_memory=False.\n",
      "  df = pd.read_csv(zip_file.open(fi), sep=\";\")\n",
      "/home/coder/work/data_inpi/code/functions.py:44: DtypeWarning: Columns (15) have mixed types. Specify dtype option on import or set low_memory=False.\n",
      "  df = pd.read_csv(zip_file.open(fi), sep=\";\")\n",
      "/home/coder/work/data_inpi/code/functions.py:44: DtypeWarning: Columns (10) have mixed types. Specify dtype option on import or set low_memory=False.\n",
      "  df = pd.read_csv(zip_file.open(fi), sep=\";\")\n",
      "/home/coder/work/data_inpi/code/functions.py:44: DtypeWarning: Columns (7,32) have mixed types. Specify dtype option on import or set low_memory=False.\n",
      "  df = pd.read_csv(zip_file.open(fi), sep=\";\")\n",
      "/home/coder/work/data_inpi/code/functions.py:44: DtypeWarning: Columns (10) have mixed types. Specify dtype option on import or set low_memory=False.\n",
      "  df = pd.read_csv(zip_file.open(fi), sep=\";\")\n",
      "/home/coder/work/data_inpi/code/functions.py:44: DtypeWarning: Columns (7,17,32,37) have mixed types. Specify dtype option on import or set low_memory=False.\n",
      "  df = pd.read_csv(zip_file.open(fi), sep=\";\")\n",
      "/home/coder/work/data_inpi/code/functions.py:44: DtypeWarning: Columns (16) have mixed types. Specify dtype option on import or set low_memory=False.\n",
      "  df = pd.read_csv(zip_file.open(fi), sep=\";\")\n",
      "/home/coder/work/data_inpi/code/functions.py:44: DtypeWarning: Columns (17,32) have mixed types. Specify dtype option on import or set low_memory=False.\n",
      "  df = pd.read_csv(zip_file.open(fi), sep=\";\")\n",
      "/home/coder/work/data_inpi/code/functions.py:44: DtypeWarning: Columns (14,16) have mixed types. Specify dtype option on import or set low_memory=False.\n",
      "  df = pd.read_csv(zip_file.open(fi), sep=\";\")\n",
      "/home/coder/work/data_inpi/code/functions.py:44: DtypeWarning: Columns (7) have mixed types. Specify dtype option on import or set low_memory=False.\n",
      "  df = pd.read_csv(zip_file.open(fi), sep=\";\")\n",
      "/home/coder/work/data_inpi/code/functions.py:44: DtypeWarning: Columns (7) have mixed types. Specify dtype option on import or set low_memory=False.\n",
      "  df = pd.read_csv(zip_file.open(fi), sep=\";\")\n",
      "/home/coder/work/data_inpi/code/functions.py:44: DtypeWarning: Columns (7,17,32) have mixed types. Specify dtype option on import or set low_memory=False.\n",
      "  df = pd.read_csv(zip_file.open(fi), sep=\";\")\n",
      "/home/coder/work/data_inpi/code/functions.py:44: DtypeWarning: Columns (14,16,18) have mixed types. Specify dtype option on import or set low_memory=False.\n",
      "  df = pd.read_csv(zip_file.open(fi), sep=\";\")\n",
      "/home/coder/work/data_inpi/code/functions.py:44: DtypeWarning: Columns (12) have mixed types. Specify dtype option on import or set low_memory=False.\n",
      "  df = pd.read_csv(zip_file.open(fi), sep=\";\")\n",
      "/home/coder/work/data_inpi/code/functions.py:44: DtypeWarning: Columns (7,17,25,39,40,42) have mixed types. Specify dtype option on import or set low_memory=False.\n",
      "  df = pd.read_csv(zip_file.open(fi), sep=\";\")\n",
      "/home/coder/work/data_inpi/code/functions.py:44: DtypeWarning: Columns (10,18) have mixed types. Specify dtype option on import or set low_memory=False.\n",
      "  df = pd.read_csv(zip_file.open(fi), sep=\";\")\n",
      "/home/coder/work/data_inpi/code/functions.py:44: DtypeWarning: Columns (7,17,35) have mixed types. Specify dtype option on import or set low_memory=False.\n",
      "  df = pd.read_csv(zip_file.open(fi), sep=\";\")\n",
      "/home/coder/work/data_inpi/code/functions.py:44: DtypeWarning: Columns (7,17,32,34,35) have mixed types. Specify dtype option on import or set low_memory=False.\n",
      "  df = pd.read_csv(zip_file.open(fi), sep=\";\")\n",
      "/home/coder/work/data_inpi/code/functions.py:44: DtypeWarning: Columns (10) have mixed types. Specify dtype option on import or set low_memory=False.\n",
      "  df = pd.read_csv(zip_file.open(fi), sep=\";\")\n",
      "/home/coder/work/data_inpi/code/functions.py:44: DtypeWarning: Columns (7,15,17) have mixed types. Specify dtype option on import or set low_memory=False.\n",
      "  df = pd.read_csv(zip_file.open(fi), sep=\";\")\n",
      "/home/coder/work/data_inpi/code/functions.py:44: DtypeWarning: Columns (10) have mixed types. Specify dtype option on import or set low_memory=False.\n",
      "  df = pd.read_csv(zip_file.open(fi), sep=\";\")\n",
      "/home/coder/work/data_inpi/code/functions.py:44: DtypeWarning: Columns (7,17) have mixed types. Specify dtype option on import or set low_memory=False.\n",
      "  df = pd.read_csv(zip_file.open(fi), sep=\";\")\n",
      "/home/coder/work/data_inpi/code/functions.py:44: DtypeWarning: Columns (18) have mixed types. Specify dtype option on import or set low_memory=False.\n",
      "  df = pd.read_csv(zip_file.open(fi), sep=\";\")\n",
      "/home/coder/work/data_inpi/code/functions.py:44: DtypeWarning: Columns (7,17) have mixed types. Specify dtype option on import or set low_memory=False.\n",
      "  df = pd.read_csv(zip_file.open(fi), sep=\";\")\n",
      "/home/coder/work/data_inpi/code/functions.py:44: DtypeWarning: Columns (7) have mixed types. Specify dtype option on import or set low_memory=False.\n",
      "  df = pd.read_csv(zip_file.open(fi), sep=\";\")\n",
      "/home/coder/work/data_inpi/code/functions.py:44: DtypeWarning: Columns (7,17,34) have mixed types. Specify dtype option on import or set low_memory=False.\n",
      "  df = pd.read_csv(zip_file.open(fi), sep=\";\")\n",
      "/home/coder/work/data_inpi/code/functions.py:44: DtypeWarning: Columns (7) have mixed types. Specify dtype option on import or set low_memory=False.\n",
      "  df = pd.read_csv(zip_file.open(fi), sep=\";\")\n",
      "/home/coder/work/data_inpi/code/functions.py:44: DtypeWarning: Columns (17,32) have mixed types. Specify dtype option on import or set low_memory=False.\n",
      "  df = pd.read_csv(zip_file.open(fi), sep=\";\")\n",
      "/home/coder/work/data_inpi/code/functions.py:44: DtypeWarning: Columns (7) have mixed types. Specify dtype option on import or set low_memory=False.\n",
      "  df = pd.read_csv(zip_file.open(fi), sep=\";\")\n",
      "/home/coder/work/data_inpi/code/functions.py:44: DtypeWarning: Columns (14,16) have mixed types. Specify dtype option on import or set low_memory=False.\n",
      "  df = pd.read_csv(zip_file.open(fi), sep=\";\")\n",
      "/home/coder/work/data_inpi/code/functions.py:44: DtypeWarning: Columns (7,25) have mixed types. Specify dtype option on import or set low_memory=False.\n",
      "  df = pd.read_csv(zip_file.open(fi), sep=\";\")\n",
      "/home/coder/work/data_inpi/code/functions.py:44: DtypeWarning: Columns (10) have mixed types. Specify dtype option on import or set low_memory=False.\n",
      "  df = pd.read_csv(zip_file.open(fi), sep=\";\")\n",
      "/home/coder/work/data_inpi/code/functions.py:44: DtypeWarning: Columns (7,15,17,25,39,40,42) have mixed types. Specify dtype option on import or set low_memory=False.\n",
      "  df = pd.read_csv(zip_file.open(fi), sep=\";\")\n",
      "/home/coder/work/data_inpi/code/functions.py:44: DtypeWarning: Columns (10,18) have mixed types. Specify dtype option on import or set low_memory=False.\n",
      "  df = pd.read_csv(zip_file.open(fi), sep=\";\")\n",
      "/home/coder/work/data_inpi/code/functions.py:44: DtypeWarning: Columns (7,17,32,34,35) have mixed types. Specify dtype option on import or set low_memory=False.\n",
      "  df = pd.read_csv(zip_file.open(fi), sep=\";\")\n",
      "/home/coder/work/data_inpi/code/functions.py:44: DtypeWarning: Columns (7,32,34,37) have mixed types. Specify dtype option on import or set low_memory=False.\n",
      "  df = pd.read_csv(zip_file.open(fi), sep=\";\")\n",
      "/home/coder/work/data_inpi/code/functions.py:44: DtypeWarning: Columns (26) have mixed types. Specify dtype option on import or set low_memory=False.\n",
      "  df = pd.read_csv(zip_file.open(fi), sep=\";\")\n",
      "/home/coder/work/data_inpi/code/functions.py:44: DtypeWarning: Columns (15,34,37) have mixed types. Specify dtype option on import or set low_memory=False.\n",
      "  df = pd.read_csv(zip_file.open(fi), sep=\";\")\n",
      "/home/coder/work/data_inpi/code/functions.py:44: DtypeWarning: Columns (9,18) have mixed types. Specify dtype option on import or set low_memory=False.\n",
      "  df = pd.read_csv(zip_file.open(fi), sep=\";\")\n",
      "/home/coder/work/data_inpi/code/functions.py:44: DtypeWarning: Columns (7,15) have mixed types. Specify dtype option on import or set low_memory=False.\n",
      "  df = pd.read_csv(zip_file.open(fi), sep=\";\")\n",
      "/home/coder/work/data_inpi/code/functions.py:44: DtypeWarning: Columns (10) have mixed types. Specify dtype option on import or set low_memory=False.\n",
      "  df = pd.read_csv(zip_file.open(fi), sep=\";\")\n",
      "/home/coder/work/data_inpi/code/functions.py:44: DtypeWarning: Columns (17) have mixed types. Specify dtype option on import or set low_memory=False.\n",
      "  df = pd.read_csv(zip_file.open(fi), sep=\";\")\n",
      "/home/coder/work/data_inpi/code/functions.py:44: DtypeWarning: Columns (32) have mixed types. Specify dtype option on import or set low_memory=False.\n",
      "  df = pd.read_csv(zip_file.open(fi), sep=\";\")\n",
      "/home/coder/work/data_inpi/code/functions.py:44: DtypeWarning: Columns (16) have mixed types. Specify dtype option on import or set low_memory=False.\n",
      "  df = pd.read_csv(zip_file.open(fi), sep=\";\")\n",
      "/home/coder/work/data_inpi/code/functions.py:44: DtypeWarning: Columns (7,15,17,39,40,42) have mixed types. Specify dtype option on import or set low_memory=False.\n",
      "  df = pd.read_csv(zip_file.open(fi), sep=\";\")\n",
      "/home/coder/work/data_inpi/code/functions.py:44: DtypeWarning: Columns (18) have mixed types. Specify dtype option on import or set low_memory=False.\n",
      "  df = pd.read_csv(zip_file.open(fi), sep=\";\")\n",
      "/home/coder/work/data_inpi/code/functions.py:44: DtypeWarning: Columns (7,17,32) have mixed types. Specify dtype option on import or set low_memory=False.\n",
      "  df = pd.read_csv(zip_file.open(fi), sep=\";\")\n",
      "/home/coder/work/data_inpi/code/functions.py:44: DtypeWarning: Columns (32) have mixed types. Specify dtype option on import or set low_memory=False.\n",
      "  df = pd.read_csv(zip_file.open(fi), sep=\";\")\n",
      "/home/coder/work/data_inpi/code/functions.py:44: DtypeWarning: Columns (7,17,24,25,27,28,29,30,31,32,33,34,36,38) have mixed types. Specify dtype option on import or set low_memory=False.\n",
      "  df = pd.read_csv(zip_file.open(fi), sep=\";\")\n",
      "/home/coder/work/data_inpi/code/functions.py:44: DtypeWarning: Columns (7,15,17,25,32,34,35,37,40) have mixed types. Specify dtype option on import or set low_memory=False.\n",
      "  df = pd.read_csv(zip_file.open(fi), sep=\";\")\n",
      "/home/coder/work/data_inpi/code/functions.py:44: DtypeWarning: Columns (10) have mixed types. Specify dtype option on import or set low_memory=False.\n",
      "  df = pd.read_csv(zip_file.open(fi), sep=\";\")\n",
      "/home/coder/work/data_inpi/code/functions.py:44: DtypeWarning: Columns (7,17,32) have mixed types. Specify dtype option on import or set low_memory=False.\n",
      "  df = pd.read_csv(zip_file.open(fi), sep=\";\")\n",
      "/home/coder/work/data_inpi/code/functions.py:44: DtypeWarning: Columns (7) have mixed types. Specify dtype option on import or set low_memory=False.\n",
      "  df = pd.read_csv(zip_file.open(fi), sep=\";\")\n",
      "/home/coder/work/data_inpi/code/functions.py:44: DtypeWarning: Columns (7,17,32) have mixed types. Specify dtype option on import or set low_memory=False.\n",
      "  df = pd.read_csv(zip_file.open(fi), sep=\";\")\n",
      "/home/coder/work/data_inpi/code/functions.py:44: DtypeWarning: Columns (7) have mixed types. Specify dtype option on import or set low_memory=False.\n",
      "  df = pd.read_csv(zip_file.open(fi), sep=\";\")\n",
      "/home/coder/work/data_inpi/code/functions.py:44: DtypeWarning: Columns (7,32,37) have mixed types. Specify dtype option on import or set low_memory=False.\n",
      "  df = pd.read_csv(zip_file.open(fi), sep=\";\")\n",
      "/home/coder/work/data_inpi/code/functions.py:44: DtypeWarning: Columns (32) have mixed types. Specify dtype option on import or set low_memory=False.\n",
      "  df = pd.read_csv(zip_file.open(fi), sep=\";\")\n",
      "/home/coder/work/data_inpi/code/functions.py:44: DtypeWarning: Columns (14,16,17,18) have mixed types. Specify dtype option on import or set low_memory=False.\n",
      "  df = pd.read_csv(zip_file.open(fi), sep=\";\")\n",
      "/home/coder/work/data_inpi/code/functions.py:44: DtypeWarning: Columns (16,18) have mixed types. Specify dtype option on import or set low_memory=False.\n",
      "  df = pd.read_csv(zip_file.open(fi), sep=\";\")\n",
      "/home/coder/work/data_inpi/code/functions.py:44: DtypeWarning: Columns (7) have mixed types. Specify dtype option on import or set low_memory=False.\n",
      "  df = pd.read_csv(zip_file.open(fi), sep=\";\")\n",
      "/home/coder/work/data_inpi/code/functions.py:44: DtypeWarning: Columns (10,18) have mixed types. Specify dtype option on import or set low_memory=False.\n",
      "  df = pd.read_csv(zip_file.open(fi), sep=\";\")\n",
      "/home/coder/work/data_inpi/code/functions.py:44: DtypeWarning: Columns (7,17,32,33,36,38) have mixed types. Specify dtype option on import or set low_memory=False.\n",
      "  df = pd.read_csv(zip_file.open(fi), sep=\";\")\n",
      "/home/coder/work/data_inpi/code/functions.py:44: DtypeWarning: Columns (16,17) have mixed types. Specify dtype option on import or set low_memory=False.\n",
      "  df = pd.read_csv(zip_file.open(fi), sep=\";\")\n",
      "/home/coder/work/data_inpi/code/functions.py:44: DtypeWarning: Columns (7,17,32) have mixed types. Specify dtype option on import or set low_memory=False.\n",
      "  df = pd.read_csv(zip_file.open(fi), sep=\";\")\n",
      "/home/coder/work/data_inpi/code/functions.py:44: DtypeWarning: Columns (7) have mixed types. Specify dtype option on import or set low_memory=False.\n",
      "  df = pd.read_csv(zip_file.open(fi), sep=\";\")\n",
      "/home/coder/work/data_inpi/code/functions.py:44: DtypeWarning: Columns (7,15,17,26,40) have mixed types. Specify dtype option on import or set low_memory=False.\n",
      "  df = pd.read_csv(zip_file.open(fi), sep=\";\")\n",
      "/home/coder/work/data_inpi/code/functions.py:44: DtypeWarning: Columns (7,15,17,25,39,40,42) have mixed types. Specify dtype option on import or set low_memory=False.\n",
      "  df = pd.read_csv(zip_file.open(fi), sep=\";\")\n",
      "/home/coder/work/data_inpi/code/functions.py:44: DtypeWarning: Columns (17,32) have mixed types. Specify dtype option on import or set low_memory=False.\n",
      "  df = pd.read_csv(zip_file.open(fi), sep=\";\")\n",
      "/home/coder/work/data_inpi/code/functions.py:44: DtypeWarning: Columns (33) have mixed types. Specify dtype option on import or set low_memory=False.\n",
      "  df = pd.read_csv(zip_file.open(fi), sep=\";\")\n",
      "/home/coder/work/data_inpi/code/functions.py:44: DtypeWarning: Columns (7,26) have mixed types. Specify dtype option on import or set low_memory=False.\n",
      "  df = pd.read_csv(zip_file.open(fi), sep=\";\")\n",
      "/home/coder/work/data_inpi/code/functions.py:44: DtypeWarning: Columns (18) have mixed types. Specify dtype option on import or set low_memory=False.\n",
      "  df = pd.read_csv(zip_file.open(fi), sep=\";\")\n",
      "/home/coder/work/data_inpi/code/functions.py:44: DtypeWarning: Columns (17,25,33) have mixed types. Specify dtype option on import or set low_memory=False.\n",
      "  df = pd.read_csv(zip_file.open(fi), sep=\";\")\n",
      "/home/coder/work/data_inpi/code/functions.py:44: DtypeWarning: Columns (32) have mixed types. Specify dtype option on import or set low_memory=False.\n",
      "  df = pd.read_csv(zip_file.open(fi), sep=\";\")\n",
      "/home/coder/work/data_inpi/code/functions.py:44: DtypeWarning: Columns (18) have mixed types. Specify dtype option on import or set low_memory=False.\n",
      "  df = pd.read_csv(zip_file.open(fi), sep=\";\")\n",
      "/home/coder/work/data_inpi/code/functions.py:44: DtypeWarning: Columns (7,17,32,35) have mixed types. Specify dtype option on import or set low_memory=False.\n",
      "  df = pd.read_csv(zip_file.open(fi), sep=\";\")\n",
      "/home/coder/work/data_inpi/code/functions.py:44: DtypeWarning: Columns (7) have mixed types. Specify dtype option on import or set low_memory=False.\n",
      "  df = pd.read_csv(zip_file.open(fi), sep=\";\")\n",
      "/home/coder/work/data_inpi/code/functions.py:44: DtypeWarning: Columns (10,18) have mixed types. Specify dtype option on import or set low_memory=False.\n",
      "  df = pd.read_csv(zip_file.open(fi), sep=\";\")\n",
      "/home/coder/work/data_inpi/code/functions.py:44: DtypeWarning: Columns (7,17,35) have mixed types. Specify dtype option on import or set low_memory=False.\n",
      "  df = pd.read_csv(zip_file.open(fi), sep=\";\")\n",
      "/home/coder/work/data_inpi/code/functions.py:44: DtypeWarning: Columns (7,17) have mixed types. Specify dtype option on import or set low_memory=False.\n",
      "  df = pd.read_csv(zip_file.open(fi), sep=\";\")\n",
      "/home/coder/work/data_inpi/code/functions.py:44: DtypeWarning: Columns (18) have mixed types. Specify dtype option on import or set low_memory=False.\n",
      "  df = pd.read_csv(zip_file.open(fi), sep=\";\")\n",
      "/home/coder/work/data_inpi/code/functions.py:44: DtypeWarning: Columns (7,32) have mixed types. Specify dtype option on import or set low_memory=False.\n",
      "  df = pd.read_csv(zip_file.open(fi), sep=\";\")\n",
      "/home/coder/work/data_inpi/code/functions.py:44: DtypeWarning: Columns (16) have mixed types. Specify dtype option on import or set low_memory=False.\n",
      "  df = pd.read_csv(zip_file.open(fi), sep=\";\")\n",
      "/home/coder/work/data_inpi/code/functions.py:44: DtypeWarning: Columns (7) have mixed types. Specify dtype option on import or set low_memory=False.\n",
      "  df = pd.read_csv(zip_file.open(fi), sep=\";\")\n",
      "/home/coder/work/data_inpi/code/functions.py:44: DtypeWarning: Columns (10) have mixed types. Specify dtype option on import or set low_memory=False.\n",
      "  df = pd.read_csv(zip_file.open(fi), sep=\";\")\n",
      "/home/coder/work/data_inpi/code/functions.py:44: DtypeWarning: Columns (7,25,32,39,40,42) have mixed types. Specify dtype option on import or set low_memory=False.\n",
      "  df = pd.read_csv(zip_file.open(fi), sep=\";\")\n",
      "/home/coder/work/data_inpi/code/functions.py:44: DtypeWarning: Columns (7) have mixed types. Specify dtype option on import or set low_memory=False.\n",
      "  df = pd.read_csv(zip_file.open(fi), sep=\";\")\n",
      "/home/coder/work/data_inpi/code/functions.py:44: DtypeWarning: Columns (14,16) have mixed types. Specify dtype option on import or set low_memory=False.\n",
      "  df = pd.read_csv(zip_file.open(fi), sep=\";\")\n",
      "/home/coder/work/data_inpi/code/functions.py:44: DtypeWarning: Columns (7,17,32) have mixed types. Specify dtype option on import or set low_memory=False.\n",
      "  df = pd.read_csv(zip_file.open(fi), sep=\";\")\n",
      "/home/coder/work/data_inpi/code/functions.py:44: DtypeWarning: Columns (7,14,17,25,33,34) have mixed types. Specify dtype option on import or set low_memory=False.\n",
      "  df = pd.read_csv(zip_file.open(fi), sep=\";\")\n",
      "/home/coder/work/data_inpi/code/functions.py:44: DtypeWarning: Columns (17,34) have mixed types. Specify dtype option on import or set low_memory=False.\n",
      "  df = pd.read_csv(zip_file.open(fi), sep=\";\")\n",
      "/home/coder/work/data_inpi/code/functions.py:44: DtypeWarning: Columns (7,17,32) have mixed types. Specify dtype option on import or set low_memory=False.\n",
      "  df = pd.read_csv(zip_file.open(fi), sep=\";\")\n",
      "/home/coder/work/data_inpi/code/functions.py:44: DtypeWarning: Columns (7,16) have mixed types. Specify dtype option on import or set low_memory=False.\n",
      "  df = pd.read_csv(zip_file.open(fi), sep=\";\")\n",
      "/home/coder/work/data_inpi/code/functions.py:44: DtypeWarning: Columns (7,26,32) have mixed types. Specify dtype option on import or set low_memory=False.\n",
      "  df = pd.read_csv(zip_file.open(fi), sep=\";\")\n",
      "/home/coder/work/data_inpi/code/functions.py:44: DtypeWarning: Columns (16,18) have mixed types. Specify dtype option on import or set low_memory=False.\n",
      "  df = pd.read_csv(zip_file.open(fi), sep=\";\")\n",
      "/home/coder/work/data_inpi/code/functions.py:44: DtypeWarning: Columns (7,17,32) have mixed types. Specify dtype option on import or set low_memory=False.\n",
      "  df = pd.read_csv(zip_file.open(fi), sep=\";\")\n",
      "/home/coder/work/data_inpi/code/functions.py:44: DtypeWarning: Columns (7,18) have mixed types. Specify dtype option on import or set low_memory=False.\n",
      "  df = pd.read_csv(zip_file.open(fi), sep=\";\")\n",
      "/home/coder/work/data_inpi/code/functions.py:44: DtypeWarning: Columns (7) have mixed types. Specify dtype option on import or set low_memory=False.\n",
      "  df = pd.read_csv(zip_file.open(fi), sep=\";\")\n",
      "/home/coder/work/data_inpi/code/functions.py:44: DtypeWarning: Columns (7) have mixed types. Specify dtype option on import or set low_memory=False.\n",
      "  df = pd.read_csv(zip_file.open(fi), sep=\";\")\n",
      "/home/coder/work/data_inpi/code/functions.py:44: DtypeWarning: Columns (7,17,32) have mixed types. Specify dtype option on import or set low_memory=False.\n",
      "  df = pd.read_csv(zip_file.open(fi), sep=\";\")\n",
      "/home/coder/work/data_inpi/code/functions.py:44: DtypeWarning: Columns (7,16,18) have mixed types. Specify dtype option on import or set low_memory=False.\n",
      "  df = pd.read_csv(zip_file.open(fi), sep=\";\")\n",
      "/home/coder/work/data_inpi/code/functions.py:44: DtypeWarning: Columns (7,17) have mixed types. Specify dtype option on import or set low_memory=False.\n",
      "  df = pd.read_csv(zip_file.open(fi), sep=\";\")\n",
      "/home/coder/work/data_inpi/code/functions.py:44: DtypeWarning: Columns (7) have mixed types. Specify dtype option on import or set low_memory=False.\n",
      "  df = pd.read_csv(zip_file.open(fi), sep=\";\")\n",
      "/home/coder/work/data_inpi/code/functions.py:44: DtypeWarning: Columns (26,32,37) have mixed types. Specify dtype option on import or set low_memory=False.\n",
      "  df = pd.read_csv(zip_file.open(fi), sep=\";\")\n",
      "/home/coder/work/data_inpi/code/functions.py:44: DtypeWarning: Columns (15) have mixed types. Specify dtype option on import or set low_memory=False.\n",
      "  df = pd.read_csv(zip_file.open(fi), sep=\";\")\n",
      "/home/coder/work/data_inpi/code/functions.py:44: DtypeWarning: Columns (7) have mixed types. Specify dtype option on import or set low_memory=False.\n",
      "  df = pd.read_csv(zip_file.open(fi), sep=\";\")\n",
      "/home/coder/work/data_inpi/code/functions.py:44: DtypeWarning: Columns (7,17,32,34) have mixed types. Specify dtype option on import or set low_memory=False.\n",
      "  df = pd.read_csv(zip_file.open(fi), sep=\";\")\n",
      "/home/coder/work/data_inpi/code/functions.py:44: DtypeWarning: Columns (7,17,32) have mixed types. Specify dtype option on import or set low_memory=False.\n",
      "  df = pd.read_csv(zip_file.open(fi), sep=\";\")\n",
      "/home/coder/work/data_inpi/code/functions.py:44: DtypeWarning: Columns (7,17,25,32,37) have mixed types. Specify dtype option on import or set low_memory=False.\n",
      "  df = pd.read_csv(zip_file.open(fi), sep=\";\")\n",
      "/home/coder/work/data_inpi/code/functions.py:44: DtypeWarning: Columns (15,17) have mixed types. Specify dtype option on import or set low_memory=False.\n",
      "  df = pd.read_csv(zip_file.open(fi), sep=\";\")\n",
      "/home/coder/work/data_inpi/code/functions.py:44: DtypeWarning: Columns (17,32) have mixed types. Specify dtype option on import or set low_memory=False.\n",
      "  df = pd.read_csv(zip_file.open(fi), sep=\";\")\n",
      "/home/coder/work/data_inpi/code/functions.py:44: DtypeWarning: Columns (7,16) have mixed types. Specify dtype option on import or set low_memory=False.\n",
      "  df = pd.read_csv(zip_file.open(fi), sep=\";\")\n",
      "/home/coder/work/data_inpi/code/functions.py:44: DtypeWarning: Columns (15,32,33,34,35,36,37,39,41,44) have mixed types. Specify dtype option on import or set low_memory=False.\n",
      "  df = pd.read_csv(zip_file.open(fi), sep=\";\")\n",
      "/home/coder/work/data_inpi/code/functions.py:44: DtypeWarning: Columns (7,17,40) have mixed types. Specify dtype option on import or set low_memory=False.\n",
      "  df = pd.read_csv(zip_file.open(fi), sep=\";\")\n",
      "/home/coder/work/data_inpi/code/functions.py:44: DtypeWarning: Columns (10,18) have mixed types. Specify dtype option on import or set low_memory=False.\n",
      "  df = pd.read_csv(zip_file.open(fi), sep=\";\")\n",
      "/home/coder/work/data_inpi/code/functions.py:44: DtypeWarning: Columns (7,17,37) have mixed types. Specify dtype option on import or set low_memory=False.\n",
      "  df = pd.read_csv(zip_file.open(fi), sep=\";\")\n",
      "/home/coder/work/data_inpi/code/functions.py:44: DtypeWarning: Columns (7) have mixed types. Specify dtype option on import or set low_memory=False.\n",
      "  df = pd.read_csv(zip_file.open(fi), sep=\";\")\n",
      "/home/coder/work/data_inpi/code/functions.py:44: DtypeWarning: Columns (7,16) have mixed types. Specify dtype option on import or set low_memory=False.\n",
      "  df = pd.read_csv(zip_file.open(fi), sep=\";\")\n",
      "/home/coder/work/data_inpi/code/functions.py:44: DtypeWarning: Columns (15) have mixed types. Specify dtype option on import or set low_memory=False.\n",
      "  df = pd.read_csv(zip_file.open(fi), sep=\";\")\n",
      "/home/coder/work/data_inpi/code/functions.py:44: DtypeWarning: Columns (7) have mixed types. Specify dtype option on import or set low_memory=False.\n",
      "  df = pd.read_csv(zip_file.open(fi), sep=\";\")\n",
      "/home/coder/work/data_inpi/code/functions.py:44: DtypeWarning: Columns (17,32) have mixed types. Specify dtype option on import or set low_memory=False.\n",
      "  df = pd.read_csv(zip_file.open(fi), sep=\";\")\n",
      "/home/coder/work/data_inpi/code/functions.py:44: DtypeWarning: Columns (16) have mixed types. Specify dtype option on import or set low_memory=False.\n",
      "  df = pd.read_csv(zip_file.open(fi), sep=\";\")\n",
      "/home/coder/work/data_inpi/code/functions.py:44: DtypeWarning: Columns (7,32) have mixed types. Specify dtype option on import or set low_memory=False.\n",
      "  df = pd.read_csv(zip_file.open(fi), sep=\";\")\n",
      "/home/coder/work/data_inpi/code/functions.py:44: DtypeWarning: Columns (7,32) have mixed types. Specify dtype option on import or set low_memory=False.\n",
      "  df = pd.read_csv(zip_file.open(fi), sep=\";\")\n",
      "/home/coder/work/data_inpi/code/functions.py:44: DtypeWarning: Columns (18) have mixed types. Specify dtype option on import or set low_memory=False.\n",
      "  df = pd.read_csv(zip_file.open(fi), sep=\";\")\n",
      "/home/coder/work/data_inpi/code/functions.py:44: DtypeWarning: Columns (15,17,25,32) have mixed types. Specify dtype option on import or set low_memory=False.\n",
      "  df = pd.read_csv(zip_file.open(fi), sep=\";\")\n",
      "/home/coder/work/data_inpi/code/functions.py:44: DtypeWarning: Columns (18) have mixed types. Specify dtype option on import or set low_memory=False.\n",
      "  df = pd.read_csv(zip_file.open(fi), sep=\";\")\n",
      "/home/coder/work/data_inpi/code/functions.py:44: DtypeWarning: Columns (10) have mixed types. Specify dtype option on import or set low_memory=False.\n",
      "  df = pd.read_csv(zip_file.open(fi), sep=\";\")\n",
      "/home/coder/work/data_inpi/code/functions.py:44: DtypeWarning: Columns (7,17,32) have mixed types. Specify dtype option on import or set low_memory=False.\n",
      "  df = pd.read_csv(zip_file.open(fi), sep=\";\")\n",
      "/home/coder/work/data_inpi/code/functions.py:44: DtypeWarning: Columns (14,16) have mixed types. Specify dtype option on import or set low_memory=False.\n",
      "  df = pd.read_csv(zip_file.open(fi), sep=\";\")\n",
      "/home/coder/work/data_inpi/code/functions.py:44: DtypeWarning: Columns (33) have mixed types. Specify dtype option on import or set low_memory=False.\n",
      "  df = pd.read_csv(zip_file.open(fi), sep=\";\")\n",
      "/home/coder/work/data_inpi/code/functions.py:44: DtypeWarning: Columns (7,34) have mixed types. Specify dtype option on import or set low_memory=False.\n",
      "  df = pd.read_csv(zip_file.open(fi), sep=\";\")\n",
      "/home/coder/work/data_inpi/code/functions.py:44: DtypeWarning: Columns (16) have mixed types. Specify dtype option on import or set low_memory=False.\n",
      "  df = pd.read_csv(zip_file.open(fi), sep=\";\")\n",
      "/home/coder/work/data_inpi/code/functions.py:44: DtypeWarning: Columns (7,15,17,40) have mixed types. Specify dtype option on import or set low_memory=False.\n",
      "  df = pd.read_csv(zip_file.open(fi), sep=\";\")\n",
      "/home/coder/work/data_inpi/code/functions.py:44: DtypeWarning: Columns (10,18) have mixed types. Specify dtype option on import or set low_memory=False.\n",
      "  df = pd.read_csv(zip_file.open(fi), sep=\";\")\n",
      "/home/coder/work/data_inpi/code/functions.py:44: DtypeWarning: Columns (15,34,40) have mixed types. Specify dtype option on import or set low_memory=False.\n",
      "  df = pd.read_csv(zip_file.open(fi), sep=\";\")\n",
      "/home/coder/work/data_inpi/code/functions.py:44: DtypeWarning: Columns (16) have mixed types. Specify dtype option on import or set low_memory=False.\n",
      "  df = pd.read_csv(zip_file.open(fi), sep=\";\")\n",
      "/home/coder/work/data_inpi/code/functions.py:44: DtypeWarning: Columns (7,15) have mixed types. Specify dtype option on import or set low_memory=False.\n",
      "  df = pd.read_csv(zip_file.open(fi), sep=\";\")\n",
      "/home/coder/work/data_inpi/code/functions.py:44: DtypeWarning: Columns (7,17,32) have mixed types. Specify dtype option on import or set low_memory=False.\n",
      "  df = pd.read_csv(zip_file.open(fi), sep=\";\")\n",
      "/home/coder/work/data_inpi/code/functions.py:44: DtypeWarning: Columns (7) have mixed types. Specify dtype option on import or set low_memory=False.\n",
      "  df = pd.read_csv(zip_file.open(fi), sep=\";\")\n",
      "/home/coder/work/data_inpi/code/functions.py:44: DtypeWarning: Columns (32) have mixed types. Specify dtype option on import or set low_memory=False.\n",
      "  df = pd.read_csv(zip_file.open(fi), sep=\";\")\n",
      "/home/coder/work/data_inpi/code/functions.py:44: DtypeWarning: Columns (7,18) have mixed types. Specify dtype option on import or set low_memory=False.\n",
      "  df = pd.read_csv(zip_file.open(fi), sep=\";\")\n",
      "/home/coder/work/data_inpi/code/functions.py:44: DtypeWarning: Columns (25,33,34) have mixed types. Specify dtype option on import or set low_memory=False.\n",
      "  df = pd.read_csv(zip_file.open(fi), sep=\";\")\n",
      "/home/coder/work/data_inpi/code/functions.py:44: DtypeWarning: Columns (7,32) have mixed types. Specify dtype option on import or set low_memory=False.\n",
      "  df = pd.read_csv(zip_file.open(fi), sep=\";\")\n",
      "/home/coder/work/data_inpi/code/functions.py:44: DtypeWarning: Columns (18) have mixed types. Specify dtype option on import or set low_memory=False.\n",
      "  df = pd.read_csv(zip_file.open(fi), sep=\";\")\n",
      "/home/coder/work/data_inpi/code/functions.py:44: DtypeWarning: Columns (17) have mixed types. Specify dtype option on import or set low_memory=False.\n",
      "  df = pd.read_csv(zip_file.open(fi), sep=\";\")\n",
      "/home/coder/work/data_inpi/code/functions.py:44: DtypeWarning: Columns (18) have mixed types. Specify dtype option on import or set low_memory=False.\n",
      "  df = pd.read_csv(zip_file.open(fi), sep=\";\")\n",
      "/home/coder/work/data_inpi/code/functions.py:44: DtypeWarning: Columns (7,17,32) have mixed types. Specify dtype option on import or set low_memory=False.\n",
      "  df = pd.read_csv(zip_file.open(fi), sep=\";\")\n",
      "/home/coder/work/data_inpi/code/functions.py:44: DtypeWarning: Columns (18) have mixed types. Specify dtype option on import or set low_memory=False.\n",
      "  df = pd.read_csv(zip_file.open(fi), sep=\";\")\n",
      "/home/coder/work/data_inpi/code/functions.py:44: DtypeWarning: Columns (17,32,35) have mixed types. Specify dtype option on import or set low_memory=False.\n",
      "  df = pd.read_csv(zip_file.open(fi), sep=\";\")\n",
      "/home/coder/work/data_inpi/code/functions.py:44: DtypeWarning: Columns (10) have mixed types. Specify dtype option on import or set low_memory=False.\n",
      "  df = pd.read_csv(zip_file.open(fi), sep=\";\")\n",
      "/home/coder/work/data_inpi/code/functions.py:44: DtypeWarning: Columns (17) have mixed types. Specify dtype option on import or set low_memory=False.\n",
      "  df = pd.read_csv(zip_file.open(fi), sep=\";\")\n",
      "/home/coder/work/data_inpi/code/functions.py:44: DtypeWarning: Columns (18) have mixed types. Specify dtype option on import or set low_memory=False.\n",
      "  df = pd.read_csv(zip_file.open(fi), sep=\";\")\n",
      "/home/coder/work/data_inpi/code/functions.py:44: DtypeWarning: Columns (7) have mixed types. Specify dtype option on import or set low_memory=False.\n",
      "  df = pd.read_csv(zip_file.open(fi), sep=\";\")\n",
      "/home/coder/work/data_inpi/code/functions.py:44: DtypeWarning: Columns (7) have mixed types. Specify dtype option on import or set low_memory=False.\n",
      "  df = pd.read_csv(zip_file.open(fi), sep=\";\")\n",
      "/home/coder/work/data_inpi/code/functions.py:44: DtypeWarning: Columns (17,25,32,34) have mixed types. Specify dtype option on import or set low_memory=False.\n",
      "  df = pd.read_csv(zip_file.open(fi), sep=\";\")\n",
      "/home/coder/work/data_inpi/code/functions.py:44: DtypeWarning: Columns (7,17,32) have mixed types. Specify dtype option on import or set low_memory=False.\n",
      "  df = pd.read_csv(zip_file.open(fi), sep=\";\")\n",
      "/home/coder/work/data_inpi/code/functions.py:44: DtypeWarning: Columns (7,14,17,24,25,27,28,29,30,31,32,33,36,38) have mixed types. Specify dtype option on import or set low_memory=False.\n",
      "  df = pd.read_csv(zip_file.open(fi), sep=\";\")\n",
      "/home/coder/work/data_inpi/code/functions.py:44: DtypeWarning: Columns (7) have mixed types. Specify dtype option on import or set low_memory=False.\n",
      "  df = pd.read_csv(zip_file.open(fi), sep=\";\")\n",
      "/home/coder/work/data_inpi/code/functions.py:44: DtypeWarning: Columns (7,17,32) have mixed types. Specify dtype option on import or set low_memory=False.\n",
      "  df = pd.read_csv(zip_file.open(fi), sep=\";\")\n",
      "/home/coder/work/data_inpi/code/functions.py:44: DtypeWarning: Columns (7,32) have mixed types. Specify dtype option on import or set low_memory=False.\n",
      "  df = pd.read_csv(zip_file.open(fi), sep=\";\")\n",
      "/home/coder/work/data_inpi/code/functions.py:44: DtypeWarning: Columns (17,32) have mixed types. Specify dtype option on import or set low_memory=False.\n",
      "  df = pd.read_csv(zip_file.open(fi), sep=\";\")\n",
      "/home/coder/work/data_inpi/code/functions.py:44: DtypeWarning: Columns (17,32) have mixed types. Specify dtype option on import or set low_memory=False.\n",
      "  df = pd.read_csv(zip_file.open(fi), sep=\";\")\n",
      "/home/coder/work/data_inpi/code/functions.py:44: DtypeWarning: Columns (7,32) have mixed types. Specify dtype option on import or set low_memory=False.\n",
      "  df = pd.read_csv(zip_file.open(fi), sep=\";\")\n",
      "/home/coder/work/data_inpi/code/functions.py:44: DtypeWarning: Columns (16) have mixed types. Specify dtype option on import or set low_memory=False.\n",
      "  df = pd.read_csv(zip_file.open(fi), sep=\";\")\n",
      "/home/coder/work/data_inpi/code/functions.py:44: DtypeWarning: Columns (7,17) have mixed types. Specify dtype option on import or set low_memory=False.\n",
      "  df = pd.read_csv(zip_file.open(fi), sep=\";\")\n",
      "/home/coder/work/data_inpi/code/functions.py:44: DtypeWarning: Columns (7,17,32) have mixed types. Specify dtype option on import or set low_memory=False.\n",
      "  df = pd.read_csv(zip_file.open(fi), sep=\";\")\n",
      "/home/coder/work/data_inpi/code/functions.py:44: DtypeWarning: Columns (16) have mixed types. Specify dtype option on import or set low_memory=False.\n",
      "  df = pd.read_csv(zip_file.open(fi), sep=\";\")\n"
     ]
    }
   ],
   "source": [
    "import functions as fc\n",
    "list_df = fc.import_all_files(path2data + \"/\", \"*.zip\")"
   ]
  },
  {
   "cell_type": "code",
   "execution_count": 6,
   "metadata": {},
   "outputs": [
    {
     "data": {
      "text/plain": [
       "134"
      ]
     },
     "execution_count": 6,
     "metadata": {},
     "output_type": "execute_result"
    }
   ],
   "source": [
    "len(list_df)"
   ]
  },
  {
   "cell_type": "code",
   "execution_count": 4,
   "metadata": {},
   "outputs": [
    {
     "data": {
      "text/plain": [
       "1240"
      ]
     },
     "execution_count": 4,
     "metadata": {},
     "output_type": "execute_result"
    }
   ],
   "source": [
    "sys.getsizeof(list_df)"
   ]
  },
  {
   "cell_type": "code",
   "execution_count": 5,
   "metadata": {},
   "outputs": [
    {
     "data": {
      "text/plain": [
       "7"
      ]
     },
     "execution_count": 5,
     "metadata": {},
     "output_type": "execute_result"
    }
   ],
   "source": [
    "len(list_df[79])"
   ]
  },
  {
   "cell_type": "code",
   "execution_count": null,
   "metadata": {},
   "outputs": [],
   "source": [
    "list_df[79]"
   ]
  },
  {
   "cell_type": "code",
   "execution_count": 7,
   "metadata": {},
   "outputs": [],
   "source": [
    "import pandas as pd\n",
    "temp = pd.concat(list_df[0])"
   ]
  },
  {
   "cell_type": "code",
   "execution_count": 9,
   "metadata": {},
   "outputs": [
    {
     "data": {
      "text/html": [
       "<div>\n",
       "<style scoped>\n",
       "    .dataframe tbody tr th:only-of-type {\n",
       "        vertical-align: middle;\n",
       "    }\n",
       "\n",
       "    .dataframe tbody tr th {\n",
       "        vertical-align: top;\n",
       "    }\n",
       "\n",
       "    .dataframe thead th {\n",
       "        text-align: right;\n",
       "    }\n",
       "</style>\n",
       "<table border=\"1\" class=\"dataframe\">\n",
       "  <thead>\n",
       "    <tr style=\"text-align: right;\">\n",
       "      <th></th>\n",
       "      <th>Code Greffe</th>\n",
       "      <th>Nom_Greffe</th>\n",
       "      <th>Numero_Gestion</th>\n",
       "      <th>Siren</th>\n",
       "      <th>ID_Observation</th>\n",
       "      <th>Numéro_Observation</th>\n",
       "      <th>Date_Ajout</th>\n",
       "      <th>Date_Suppression</th>\n",
       "      <th>Texte</th>\n",
       "      <th>Date_Greffe</th>\n",
       "      <th>...</th>\n",
       "      <th>Enseigne</th>\n",
       "      <th>Activité_Ambulante</th>\n",
       "      <th>Activité_Saisonnière</th>\n",
       "      <th>Activité_Non_Sédentaire</th>\n",
       "      <th>Date_Début_Activité</th>\n",
       "      <th>Activité</th>\n",
       "      <th>Origine_Fonds</th>\n",
       "      <th>Origine_Fonds_Info</th>\n",
       "      <th>Type_Exploitation</th>\n",
       "      <th>ID_Etablissement</th>\n",
       "    </tr>\n",
       "  </thead>\n",
       "  <tbody>\n",
       "    <tr>\n",
       "      <th>0</th>\n",
       "      <td>3405</td>\n",
       "      <td>Montpellier</td>\n",
       "      <td>2011B03622</td>\n",
       "      <td>538648304</td>\n",
       "      <td>4.0</td>\n",
       "      <td>6699.0</td>\n",
       "      <td>2013-04-16</td>\n",
       "      <td>NaN</td>\n",
       "      <td>Transfert de l'établissement principal à comp...</td>\n",
       "      <td>2016-02-08</td>\n",
       "      <td>...</td>\n",
       "      <td>NaN</td>\n",
       "      <td>NaN</td>\n",
       "      <td>NaN</td>\n",
       "      <td>NaN</td>\n",
       "      <td>NaN</td>\n",
       "      <td>NaN</td>\n",
       "      <td>NaN</td>\n",
       "      <td>NaN</td>\n",
       "      <td>NaN</td>\n",
       "      <td>NaN</td>\n",
       "    </tr>\n",
       "    <tr>\n",
       "      <th>1</th>\n",
       "      <td>3405</td>\n",
       "      <td>Montpellier</td>\n",
       "      <td>1996B00534</td>\n",
       "      <td>404877128</td>\n",
       "      <td>6.0</td>\n",
       "      <td>2537.0</td>\n",
       "      <td>2009-02-20</td>\n",
       "      <td>NaN</td>\n",
       "      <td>Mise en sommeil de la société à compter du 26...</td>\n",
       "      <td>2017-05-03</td>\n",
       "      <td>...</td>\n",
       "      <td>NaN</td>\n",
       "      <td>NaN</td>\n",
       "      <td>NaN</td>\n",
       "      <td>NaN</td>\n",
       "      <td>NaN</td>\n",
       "      <td>NaN</td>\n",
       "      <td>NaN</td>\n",
       "      <td>NaN</td>\n",
       "      <td>NaN</td>\n",
       "      <td>NaN</td>\n",
       "    </tr>\n",
       "    <tr>\n",
       "      <th>2</th>\n",
       "      <td>3405</td>\n",
       "      <td>Montpellier</td>\n",
       "      <td>1996B00534</td>\n",
       "      <td>404877128</td>\n",
       "      <td>8.0</td>\n",
       "      <td>7162.0</td>\n",
       "      <td>2017-04-24</td>\n",
       "      <td>NaN</td>\n",
       "      <td>Dissolution amiable de la société à compter d...</td>\n",
       "      <td>2017-05-03</td>\n",
       "      <td>...</td>\n",
       "      <td>NaN</td>\n",
       "      <td>NaN</td>\n",
       "      <td>NaN</td>\n",
       "      <td>NaN</td>\n",
       "      <td>NaN</td>\n",
       "      <td>NaN</td>\n",
       "      <td>NaN</td>\n",
       "      <td>NaN</td>\n",
       "      <td>NaN</td>\n",
       "      <td>NaN</td>\n",
       "    </tr>\n",
       "    <tr>\n",
       "      <th>3</th>\n",
       "      <td>3405</td>\n",
       "      <td>Montpellier</td>\n",
       "      <td>1996B00534</td>\n",
       "      <td>404877128</td>\n",
       "      <td>99998.0</td>\n",
       "      <td>NaN</td>\n",
       "      <td>NaN</td>\n",
       "      <td>NaN</td>\n",
       "      <td>LA CONVERSION DU MONTANT DU CAPITAL DES FRANC...</td>\n",
       "      <td>2017-05-03</td>\n",
       "      <td>...</td>\n",
       "      <td>NaN</td>\n",
       "      <td>NaN</td>\n",
       "      <td>NaN</td>\n",
       "      <td>NaN</td>\n",
       "      <td>NaN</td>\n",
       "      <td>NaN</td>\n",
       "      <td>NaN</td>\n",
       "      <td>NaN</td>\n",
       "      <td>NaN</td>\n",
       "      <td>NaN</td>\n",
       "    </tr>\n",
       "    <tr>\n",
       "      <th>4</th>\n",
       "      <td>3405</td>\n",
       "      <td>Montpellier</td>\n",
       "      <td>1999B00083</td>\n",
       "      <td>542076799</td>\n",
       "      <td>99998.0</td>\n",
       "      <td>NaN</td>\n",
       "      <td>NaN</td>\n",
       "      <td>NaN</td>\n",
       "      <td>SUITE DENOMINATION : AVEC LA FACULTE DE CONTI...</td>\n",
       "      <td>2017-02-14</td>\n",
       "      <td>...</td>\n",
       "      <td>NaN</td>\n",
       "      <td>NaN</td>\n",
       "      <td>NaN</td>\n",
       "      <td>NaN</td>\n",
       "      <td>NaN</td>\n",
       "      <td>NaN</td>\n",
       "      <td>NaN</td>\n",
       "      <td>NaN</td>\n",
       "      <td>NaN</td>\n",
       "      <td>NaN</td>\n",
       "    </tr>\n",
       "  </tbody>\n",
       "</table>\n",
       "<p>5 rows × 118 columns</p>\n",
       "</div>"
      ],
      "text/plain": [
       "   Code Greffe   Nom_Greffe Numero_Gestion      Siren  ID_Observation  \\\n",
       "0         3405  Montpellier     2011B03622  538648304             4.0   \n",
       "1         3405  Montpellier     1996B00534  404877128             6.0   \n",
       "2         3405  Montpellier     1996B00534  404877128             8.0   \n",
       "3         3405  Montpellier     1996B00534  404877128         99998.0   \n",
       "4         3405  Montpellier     1999B00083  542076799         99998.0   \n",
       "\n",
       "   Numéro_Observation  Date_Ajout  Date_Suppression  \\\n",
       "0              6699.0  2013-04-16               NaN   \n",
       "1              2537.0  2009-02-20               NaN   \n",
       "2              7162.0  2017-04-24               NaN   \n",
       "3                 NaN         NaN               NaN   \n",
       "4                 NaN         NaN               NaN   \n",
       "\n",
       "                                               Texte Date_Greffe  ...  \\\n",
       "0   Transfert de l'établissement principal à comp...  2016-02-08  ...   \n",
       "1   Mise en sommeil de la société à compter du 26...  2017-05-03  ...   \n",
       "2   Dissolution amiable de la société à compter d...  2017-05-03  ...   \n",
       "3   LA CONVERSION DU MONTANT DU CAPITAL DES FRANC...  2017-05-03  ...   \n",
       "4   SUITE DENOMINATION : AVEC LA FACULTE DE CONTI...  2017-02-14  ...   \n",
       "\n",
       "  Enseigne Activité_Ambulante Activité_Saisonnière  Activité_Non_Sédentaire  \\\n",
       "0      NaN                NaN                  NaN                      NaN   \n",
       "1      NaN                NaN                  NaN                      NaN   \n",
       "2      NaN                NaN                  NaN                      NaN   \n",
       "3      NaN                NaN                  NaN                      NaN   \n",
       "4      NaN                NaN                  NaN                      NaN   \n",
       "\n",
       "  Date_Début_Activité Activité Origine_Fonds Origine_Fonds_Info  \\\n",
       "0                 NaN      NaN           NaN                NaN   \n",
       "1                 NaN      NaN           NaN                NaN   \n",
       "2                 NaN      NaN           NaN                NaN   \n",
       "3                 NaN      NaN           NaN                NaN   \n",
       "4                 NaN      NaN           NaN                NaN   \n",
       "\n",
       "  Type_Exploitation  ID_Etablissement  \n",
       "0               NaN               NaN  \n",
       "1               NaN               NaN  \n",
       "2               NaN               NaN  \n",
       "3               NaN               NaN  \n",
       "4               NaN               NaN  \n",
       "\n",
       "[5 rows x 118 columns]"
      ]
     },
     "execution_count": 9,
     "metadata": {},
     "output_type": "execute_result"
    }
   ],
   "source": [
    "temp.head()"
   ]
  },
  {
   "cell_type": "code",
   "execution_count": 10,
   "metadata": {},
   "outputs": [
    {
     "data": {
      "text/plain": [
       "(995823, 118)"
      ]
     },
     "execution_count": 10,
     "metadata": {},
     "output_type": "execute_result"
    }
   ],
   "source": [
    "temp.shape"
   ]
  },
  {
   "cell_type": "code",
   "execution_count": 11,
   "metadata": {},
   "outputs": [],
   "source": [
    "def export_2_minio(year, path2output, df_final):\n",
    "    S3_ENDPOINT_URL = \"https://\" + os.environ[\"AWS_S3_ENDPOINT\"]\n",
    "    fs = s3fs.S3FileSystem(client_kwargs={'endpoint_url': S3_ENDPOINT_URL})\n",
    "    BUCKET_OUT = \"radjerad\"\n",
    "    FILE_KEY_OUT_S3 = \"inpi/\" + year + \"/\" + path2output \n",
    "    FILE_PATH_OUT_S3 = BUCKET_OUT + \"/\" + FILE_KEY_OUT_S3\n",
    "\n",
    "    with fs.open(FILE_PATH_OUT_S3, 'w') as file_out:\n",
    "        df_final.to_csv(file_out)\n",
    "    return None\n"
   ]
  },
  {
   "cell_type": "code",
   "execution_count": 12,
   "metadata": {},
   "outputs": [
    {
     "name": "stdout",
     "output_type": "stream",
     "text": [
      "0\n",
      "(995823, 118)\n",
      "3405_S1_20170504\n",
      "1\n",
      "(278372, 118)\n",
      "8701_S1_20170504\n",
      "2\n",
      "(451357, 118)\n",
      "1402_S1_20170504\n",
      "3\n",
      "(204372, 118)\n",
      "1101_S1_20170504\n",
      "4\n",
      "(361635, 118)\n",
      "8303_S1_20170504\n",
      "5\n",
      "(343988, 118)\n",
      "5602_S1_20170504\n",
      "6\n",
      "(313992, 118)\n",
      "1203_S1_20170504\n",
      "7\n",
      "(1204347, 118)\n",
      "5910_S1_20170504\n",
      "8\n",
      "(142674, 118)\n",
      "0203_S1_20170504\n",
      "9\n",
      "(397630, 118)\n",
      "0601_S1_20170504\n",
      "10\n",
      "(227911, 118)\n",
      "6502_S1_20170504\n",
      "11\n",
      "(138141, 118)\n",
      "5201_S1_20170504\n",
      "12\n",
      "(231310, 118)\n",
      "1801_S1_20170504\n",
      "13\n",
      "(220947, 118)\n",
      "6903_S1_20170504\n",
      "14\n",
      "(101279, 118)\n",
      "2701_S1_20170504\n",
      "15\n",
      "(173883, 118)\n",
      "8901_S1_20170504\n",
      "16\n",
      "(480954, 118)\n",
      "6201_S1_20170504\n",
      "17\n",
      "(372980, 118)\n",
      "2702_S1_20170504\n",
      "18\n",
      "(1107550, 118)\n",
      "7801_S1_20170504\n",
      "19\n",
      "(572652, 118)\n",
      "7702_S1_20170504\n",
      "20\n",
      "(206828, 118)\n",
      "0802_S1_20170504\n",
      "21\n",
      "(406193, 118)\n",
      "1704_S1_20170504\n",
      "22\n",
      "(549775, 118)\n",
      "6303_S1_20170504\n",
      "23\n",
      "(131276, 118)\n",
      "1501_S1_20170504\n",
      "24\n",
      "(400049, 118)\n",
      "3402_S1_20170504\n",
      "25\n",
      "(360572, 118)\n",
      "6403_S1_20170504\n",
      "26\n",
      "(1668525, 118)\n",
      "3302_S1_20170504\n",
      "27\n",
      "(611423, 118)\n",
      "7401_S1_20170504\n",
      "28\n",
      "(819549, 118)\n",
      "3801_S1_20170504\n",
      "29\n",
      "(618421, 118)\n",
      "4202_S1_20170504\n",
      "30\n",
      "(358287, 118)\n",
      "1601_S1_20170504\n",
      "31\n",
      "(149457, 118)\n",
      "5101_S1_20170504\n",
      "32\n",
      "(276939, 118)\n",
      "1001_S1_20170504\n",
      "33\n",
      "(989917, 118)\n",
      "4401_S1_20170504\n",
      "34\n",
      "(290842, 118)\n",
      "7402_S1_20170504\n",
      "35\n",
      "(228919, 118)\n",
      "8201_S1_20170504\n",
      "36\n",
      "(333998, 118)\n",
      "8801_S1_20170504\n",
      "37\n",
      "(236198, 118)\n",
      "0603_S1_20170504\n",
      "38\n",
      "(2112258, 118)\n",
      "9201_S1_20170504\n",
      "39\n",
      "(294662, 118)\n",
      "0702_S1_20170504\n",
      "40\n",
      "(756477, 118)\n",
      "3003_S1_20170504\n",
      "41\n",
      "(6463257, 118)\n",
      "7501_S1_20170504\n",
      "42\n",
      "(390012, 118)\n",
      "6002_S1_20170504\n",
      "43\n",
      "(151597, 118)\n",
      "2401_S1_20170504\n",
      "44\n",
      "(200886, 118)\n",
      "9001_S1_20170504\n",
      "45\n",
      "(167064, 118)\n",
      "1104_S1_20170504\n",
      "46\n",
      "(156221, 118)\n",
      "4201_S1_20170504\n",
      "47\n",
      "(823594, 118)\n",
      "0605_S1_20170504\n",
      "48\n",
      "(469987, 118)\n",
      "7608_S1_20170504\n",
      "49\n",
      "(259436, 118)\n",
      "1305_S1_20170504\n",
      "50\n",
      "(285979, 118)\n",
      "3502_S1_20170504\n",
      "51\n",
      "(1952187, 118)\n",
      "6901_S1_20170504\n",
      "52\n",
      "(707078, 118)\n",
      "4901_S1_20170504\n",
      "53\n",
      "(541554, 118)\n",
      "2104_S1_20170504\n",
      "54\n",
      "(251353, 118)\n",
      "1304_S1_20170504\n",
      "55\n",
      "(170726, 118)\n",
      "8101_S1_20170504\n",
      "56\n",
      "(176012, 118)\n",
      "8102_S1_20170504\n",
      "57\n",
      "(886385, 118)\n",
      "9401_S1_20170504\n",
      "58\n",
      "(608016, 118)\n",
      "8501_S1_20170504\n",
      "59\n",
      "(451143, 118)\n",
      "2901_S1_20170504\n",
      "60\n",
      "(200361, 118)\n",
      "1901_S1_20170504\n",
      "61\n",
      "(660400, 118)\n",
      "8305_S1_20170504\n",
      "62\n",
      "(980962, 118)\n",
      "3501_S1_20170504\n",
      "63\n",
      "(427816, 118)\n",
      "6202_S1_20170504\n",
      "64\n",
      "(578799, 118)\n",
      "7701_S1_20170504\n",
      "65\n",
      "(1167126, 118)\n",
      "1303_S1_20170504\n",
      "66\n",
      "(356481, 118)\n",
      "4402_S1_20170504\n",
      "67\n",
      "(332533, 118)\n",
      "2501_S1_20170504\n",
      "68\n",
      "(1263452, 118)\n",
      "3102_S1_20170504\n",
      "69\n",
      "(354523, 118)\n",
      "0602_S1_20170504\n",
      "70\n",
      "(572582, 118)\n",
      "2602_S1_20170504\n",
      "71\n",
      "(278930, 118)\n",
      "5301_S1_20170504\n",
      "72\n",
      "(167239, 118)\n",
      "4601_S1_20170504\n",
      "73\n",
      "(879726, 118)\n",
      "7802_S1_20170504\n",
      "74\n",
      "(412185, 118)\n",
      "3802_S1_20170504\n",
      "75\n",
      "(134850, 118)\n",
      "0901_S1_20170504\n",
      "76\n",
      "(370983, 118)\n",
      "7202_S1_20170504\n",
      "77\n",
      "(536847, 118)\n",
      "4502_S1_20170504\n",
      "78\n",
      "(308801, 118)\n",
      "5906_S1_20170504\n",
      "79\n",
      "(356193, 118)\n",
      "2903_S1_20170504\n",
      "80\n",
      "(192316, 118)\n",
      "0501_S1_20170504\n",
      "81\n",
      "(218825, 118)\n",
      "2402_S1_20170504\n",
      "82\n",
      "(513335, 118)\n",
      "6601_S1_20170504\n",
      "83\n",
      "(434631, 118)\n",
      "2202_S1_20170504\n",
      "84\n",
      "(295228, 118)\n",
      "7606_S1_20170504\n",
      "85\n",
      "(375435, 118)\n",
      "5601_S1_20170504\n",
      "86\n",
      "(374702, 118)\n",
      "8602_S1_20170504\n",
      "87\n",
      "(148016, 118)\n",
      "5802_S1_20170504\n",
      "88\n",
      "(414010, 118)\n",
      "5402_S1_20170504\n",
      "89\n",
      "(184146, 118)\n",
      "0301_S1_20170504\n",
      "90\n",
      "(226907, 118)\n",
      "4001_S1_20170504\n",
      "91\n",
      "(320730, 118)\n",
      "7901_S1_20170504\n",
      "92\n",
      "(91462, 118)\n",
      "5401_S1_20170504\n",
      "93\n",
      "(163627, 118)\n",
      "4002_S1_20170504\n",
      "94\n",
      "(1341830, 118)\n",
      "9301_S1_20170504\n",
      "95\n",
      "(74120, 118)\n",
      "0303_S1_20170504\n",
      "96\n",
      "(237033, 118)\n",
      "5902_S1_20170504\n",
      "97\n",
      "(353575, 118)\n",
      "4701_S1_20170504\n",
      "98\n",
      "(198106, 118)\n",
      "4302_S1_20170504\n",
      "99\n",
      "(276622, 118)\n",
      "8302_S1_20170504\n",
      "100\n",
      "(95677, 118)\n",
      "2301_S1_20170504\n",
      "101\n",
      "(275549, 118)\n",
      "5952_S1_20170504\n",
      "102\n",
      "(177212, 118)\n",
      "7001_S1_20170504\n",
      "103\n",
      "(179127, 118)\n",
      "3601_S1_20170504\n",
      "104\n",
      "(228594, 118)\n",
      "3902_S1_20170504\n",
      "105\n",
      "(182685, 118)\n",
      "0401_S1_20170504\n",
      "106\n",
      "(367304, 118)\n",
      "2801_S1_20170504\n",
      "107\n",
      "(209125, 118)\n",
      "3303_S1_20170504\n",
      "108\n",
      "(258358, 118)\n",
      "2002_S1_20170504\n",
      "109\n",
      "(1352635, 118)\n",
      "7803_S1_20170504\n",
      "110\n",
      "(138832, 118)\n",
      "5501_S1_20170504\n",
      "111\n",
      "(622674, 118)\n",
      "7301_S1_20170504\n",
      "112\n",
      "(513113, 118)\n",
      "0101_S1_20170504\n",
      "113\n",
      "(272253, 118)\n",
      "7102_S1_20170504\n",
      "114\n",
      "(236135, 118)\n",
      "6001_S1_20170504\n",
      "115\n",
      "(258479, 118)\n",
      "5002_S1_20170504\n",
      "116\n",
      "(267985, 118)\n",
      "1708_S1_20170504\n",
      "117\n",
      "(232988, 118)\n",
      "3201_S1_20170504\n",
      "118\n",
      "(383894, 118)\n",
      "8002_S1_20170504\n",
      "119\n",
      "(142488, 118)\n",
      "8903_S1_20170504\n",
      "120\n",
      "(209608, 118)\n",
      "2001_S1_20170504\n",
      "121\n",
      "(120539, 118)\n",
      "5001_S1_20170504\n",
      "122\n",
      "(464230, 118)\n",
      "5103_S1_20170504\n",
      "123\n",
      "(469897, 118)\n",
      "3701_S1_20170504\n",
      "124\n",
      "(210411, 118)\n",
      "7106_S1_20170504\n",
      "125\n",
      "(83181, 118)\n",
      "4801_S1_20170504\n",
      "126\n",
      "(380166, 118)\n",
      "6401_S1_20170504\n",
      "127\n",
      "(593273, 118)\n",
      "1301_S1_20170504\n",
      "128\n",
      "(154971, 118)\n",
      "7601_S1_20170504\n",
      "129\n",
      "(271975, 118)\n",
      "4101_S1_20170504\n",
      "130\n",
      "(656359, 118)\n",
      "8401_S1_20170504\n",
      "131\n",
      "(254252, 118)\n",
      "0202_S1_20170504\n",
      "132\n",
      "(231876, 118)\n",
      "6101_S1_20170504\n",
      "133\n",
      "(186405, 118)\n",
      "1407_S1_20170504\n"
     ]
    }
   ],
   "source": [
    "import pandas as pd\n",
    "li = []\n",
    "import s3fs\n",
    "for i in range(len(list_df)):\n",
    "    print(i)\n",
    "    temp = pd.concat(list_df[i])\n",
    "    print(temp.shape)\n",
    "    temp = temp.reset_index()\n",
    "    path2output = temp.loc[0,\"source\"][0:16]\n",
    "    print(path2output)\n",
    "    #temp.to_csv(path2output, sep=\";\")\n",
    "    export_2_minio(\"2017\", path2output + \".csv\", temp)\n",
    "    # temp.to_csv(path2output + \".csv\", sep=\";\")\n",
    "    # li.append(temp)\n"
   ]
  },
  {
   "cell_type": "code",
   "execution_count": 2,
   "metadata": {},
   "outputs": [],
   "source": [
    "import os\n",
    "\n",
    "import s3fs\n",
    "import pandas as pd\n",
    "S3_ENDPOINT_URL = \"https://\" + os.environ[\"AWS_S3_ENDPOINT\"]\n",
    "fs = s3fs.S3FileSystem(client_kwargs={'endpoint_url': S3_ENDPOINT_URL})\n",
    "BUCKET = \"radjerad/inpi/2017\"\n",
    "list_inpi_files = fs.ls(BUCKET)\n"
   ]
  },
  {
   "cell_type": "code",
   "execution_count": 3,
   "metadata": {},
   "outputs": [],
   "source": [
    "list_inpi_files = [f for f in list_inpi_files if \".csv\" in f]"
   ]
  },
  {
   "cell_type": "code",
   "execution_count": 4,
   "metadata": {},
   "outputs": [
    {
     "data": {
      "text/plain": [
       "['radjerad/inpi/2017/0101_S1_20170504.csv',\n",
       " 'radjerad/inpi/2017/0202_S1_20170504.csv',\n",
       " 'radjerad/inpi/2017/0203_S1_20170504.csv',\n",
       " 'radjerad/inpi/2017/0301_S1_20170504.csv',\n",
       " 'radjerad/inpi/2017/0303_S1_20170504.csv',\n",
       " 'radjerad/inpi/2017/0401_S1_20170504.csv',\n",
       " 'radjerad/inpi/2017/0501_S1_20170504.csv',\n",
       " 'radjerad/inpi/2017/0601_S1_20170504.csv',\n",
       " 'radjerad/inpi/2017/0602_S1_20170504.csv',\n",
       " 'radjerad/inpi/2017/0603_S1_20170504.csv',\n",
       " 'radjerad/inpi/2017/0605_S1_20170504.csv',\n",
       " 'radjerad/inpi/2017/0702_S1_20170504.csv',\n",
       " 'radjerad/inpi/2017/0802_S1_20170504.csv',\n",
       " 'radjerad/inpi/2017/0901_S1_20170504.csv',\n",
       " 'radjerad/inpi/2017/1001_S1_20170504.csv',\n",
       " 'radjerad/inpi/2017/1101_S1_20170504.csv',\n",
       " 'radjerad/inpi/2017/1104_S1_20170504.csv',\n",
       " 'radjerad/inpi/2017/1203_S1_20170504.csv',\n",
       " 'radjerad/inpi/2017/1301_S1_20170504.csv',\n",
       " 'radjerad/inpi/2017/1303_S1_20170504.csv',\n",
       " 'radjerad/inpi/2017/1304_S1_20170504.csv',\n",
       " 'radjerad/inpi/2017/1305_S1_20170504.csv',\n",
       " 'radjerad/inpi/2017/1402_S1_20170504.csv',\n",
       " 'radjerad/inpi/2017/1407_S1_20170504.csv',\n",
       " 'radjerad/inpi/2017/1501_S1_20170504.csv',\n",
       " 'radjerad/inpi/2017/1601_S1_20170504.csv',\n",
       " 'radjerad/inpi/2017/1704_S1_20170504.csv',\n",
       " 'radjerad/inpi/2017/1708_S1_20170504.csv',\n",
       " 'radjerad/inpi/2017/1801_S1_20170504.csv',\n",
       " 'radjerad/inpi/2017/1901_S1_20170504.csv',\n",
       " 'radjerad/inpi/2017/2001_S1_20170504.csv',\n",
       " 'radjerad/inpi/2017/2002_S1_20170504.csv',\n",
       " 'radjerad/inpi/2017/2104_S1_20170504.csv',\n",
       " 'radjerad/inpi/2017/2202_S1_20170504.csv',\n",
       " 'radjerad/inpi/2017/2301_S1_20170504.csv',\n",
       " 'radjerad/inpi/2017/2401_S1_20170504.csv',\n",
       " 'radjerad/inpi/2017/2402_S1_20170504.csv',\n",
       " 'radjerad/inpi/2017/2501_S1_20170504.csv',\n",
       " 'radjerad/inpi/2017/2602_S1_20170504.csv',\n",
       " 'radjerad/inpi/2017/2701_S1_20170504.csv',\n",
       " 'radjerad/inpi/2017/2702_S1_20170504.csv',\n",
       " 'radjerad/inpi/2017/2801_S1_20170504.csv',\n",
       " 'radjerad/inpi/2017/2901_S1_20170504.csv',\n",
       " 'radjerad/inpi/2017/2903_S1_20170504.csv',\n",
       " 'radjerad/inpi/2017/3003_S1_20170504.csv',\n",
       " 'radjerad/inpi/2017/3102_S1_20170504.csv',\n",
       " 'radjerad/inpi/2017/3201_S1_20170504.csv',\n",
       " 'radjerad/inpi/2017/3302_S1_20170504.csv',\n",
       " 'radjerad/inpi/2017/3303_S1_20170504.csv',\n",
       " 'radjerad/inpi/2017/3402_S1_20170504.csv',\n",
       " 'radjerad/inpi/2017/3405_S1_20170504.csv',\n",
       " 'radjerad/inpi/2017/3501_S1_20170504.csv',\n",
       " 'radjerad/inpi/2017/3502_S1_20170504.csv',\n",
       " 'radjerad/inpi/2017/3601_S1_20170504.csv',\n",
       " 'radjerad/inpi/2017/3701_S1_20170504.csv',\n",
       " 'radjerad/inpi/2017/3801_S1_20170504.csv',\n",
       " 'radjerad/inpi/2017/3802_S1_20170504.csv',\n",
       " 'radjerad/inpi/2017/3902_S1_20170504.csv',\n",
       " 'radjerad/inpi/2017/4001_S1_20170504.csv',\n",
       " 'radjerad/inpi/2017/4002_S1_20170504.csv',\n",
       " 'radjerad/inpi/2017/4101_S1_20170504.csv',\n",
       " 'radjerad/inpi/2017/4201_S1_20170504.csv',\n",
       " 'radjerad/inpi/2017/4202_S1_20170504.csv',\n",
       " 'radjerad/inpi/2017/4302_S1_20170504.csv',\n",
       " 'radjerad/inpi/2017/4401_S1_20170504.csv',\n",
       " 'radjerad/inpi/2017/4402_S1_20170504.csv',\n",
       " 'radjerad/inpi/2017/4502_S1_20170504.csv',\n",
       " 'radjerad/inpi/2017/4601_S1_20170504.csv',\n",
       " 'radjerad/inpi/2017/4701_S1_20170504.csv',\n",
       " 'radjerad/inpi/2017/4801_S1_20170504.csv',\n",
       " 'radjerad/inpi/2017/4901_S1_20170504.csv',\n",
       " 'radjerad/inpi/2017/5001_S1_20170504.csv',\n",
       " 'radjerad/inpi/2017/5002_S1_20170504.csv',\n",
       " 'radjerad/inpi/2017/5101_S1_20170504.csv',\n",
       " 'radjerad/inpi/2017/5103_S1_20170504.csv',\n",
       " 'radjerad/inpi/2017/5201_S1_20170504.csv',\n",
       " 'radjerad/inpi/2017/5301_S1_20170504.csv',\n",
       " 'radjerad/inpi/2017/5401_S1_20170504.csv',\n",
       " 'radjerad/inpi/2017/5402_S1_20170504.csv',\n",
       " 'radjerad/inpi/2017/5501_S1_20170504.csv',\n",
       " 'radjerad/inpi/2017/5601_S1_20170504.csv',\n",
       " 'radjerad/inpi/2017/5602_S1_20170504.csv',\n",
       " 'radjerad/inpi/2017/5802_S1_20170504.csv',\n",
       " 'radjerad/inpi/2017/5902_S1_20170504.csv',\n",
       " 'radjerad/inpi/2017/5906_S1_20170504.csv',\n",
       " 'radjerad/inpi/2017/5910_S1_20170504.csv',\n",
       " 'radjerad/inpi/2017/5952_S1_20170504.csv',\n",
       " 'radjerad/inpi/2017/6001_S1_20170504.csv',\n",
       " 'radjerad/inpi/2017/6002_S1_20170504.csv',\n",
       " 'radjerad/inpi/2017/6101_S1_20170504.csv',\n",
       " 'radjerad/inpi/2017/6201_S1_20170504.csv',\n",
       " 'radjerad/inpi/2017/6202_S1_20170504.csv',\n",
       " 'radjerad/inpi/2017/6303_S1_20170504.csv',\n",
       " 'radjerad/inpi/2017/6401_S1_20170504.csv',\n",
       " 'radjerad/inpi/2017/6403_S1_20170504.csv',\n",
       " 'radjerad/inpi/2017/6502_S1_20170504.csv',\n",
       " 'radjerad/inpi/2017/6601_S1_20170504.csv',\n",
       " 'radjerad/inpi/2017/6901_S1_20170504.csv',\n",
       " 'radjerad/inpi/2017/6903_S1_20170504.csv',\n",
       " 'radjerad/inpi/2017/7001_S1_20170504.csv',\n",
       " 'radjerad/inpi/2017/7102_S1_20170504.csv',\n",
       " 'radjerad/inpi/2017/7106_S1_20170504.csv',\n",
       " 'radjerad/inpi/2017/7202_S1_20170504.csv',\n",
       " 'radjerad/inpi/2017/7301_S1_20170504.csv',\n",
       " 'radjerad/inpi/2017/7401_S1_20170504.csv',\n",
       " 'radjerad/inpi/2017/7402_S1_20170504.csv',\n",
       " 'radjerad/inpi/2017/7501_S1_20170504.csv',\n",
       " 'radjerad/inpi/2017/7601_S1_20170504.csv',\n",
       " 'radjerad/inpi/2017/7606_S1_20170504.csv',\n",
       " 'radjerad/inpi/2017/7608_S1_20170504.csv',\n",
       " 'radjerad/inpi/2017/7701_S1_20170504.csv',\n",
       " 'radjerad/inpi/2017/7702_S1_20170504.csv',\n",
       " 'radjerad/inpi/2017/7801_S1_20170504.csv',\n",
       " 'radjerad/inpi/2017/7802_S1_20170504.csv',\n",
       " 'radjerad/inpi/2017/7803_S1_20170504.csv',\n",
       " 'radjerad/inpi/2017/7901_S1_20170504.csv',\n",
       " 'radjerad/inpi/2017/8002_S1_20170504.csv',\n",
       " 'radjerad/inpi/2017/8101_S1_20170504.csv',\n",
       " 'radjerad/inpi/2017/8102_S1_20170504.csv',\n",
       " 'radjerad/inpi/2017/8201_S1_20170504.csv',\n",
       " 'radjerad/inpi/2017/8302_S1_20170504.csv',\n",
       " 'radjerad/inpi/2017/8303_S1_20170504.csv',\n",
       " 'radjerad/inpi/2017/8305_S1_20170504.csv',\n",
       " 'radjerad/inpi/2017/8401_S1_20170504.csv',\n",
       " 'radjerad/inpi/2017/8501_S1_20170504.csv',\n",
       " 'radjerad/inpi/2017/8602_S1_20170504.csv',\n",
       " 'radjerad/inpi/2017/8701_S1_20170504.csv',\n",
       " 'radjerad/inpi/2017/8801_S1_20170504.csv',\n",
       " 'radjerad/inpi/2017/8901_S1_20170504.csv',\n",
       " 'radjerad/inpi/2017/8903_S1_20170504.csv',\n",
       " 'radjerad/inpi/2017/9001_S1_20170504.csv',\n",
       " 'radjerad/inpi/2017/9201_S1_20170504.csv',\n",
       " 'radjerad/inpi/2017/9301_S1_20170504.csv',\n",
       " 'radjerad/inpi/2017/9401_S1_20170504.csv']"
      ]
     },
     "execution_count": 4,
     "metadata": {},
     "output_type": "execute_result"
    }
   ],
   "source": [
    "list_inpi_files"
   ]
  },
  {
   "cell_type": "code",
   "execution_count": 5,
   "metadata": {},
   "outputs": [
    {
     "name": "stdout",
     "output_type": "stream",
     "text": [
      "radjerad/inpi/2017/0101_S1_20170504.csv\n"
     ]
    },
    {
     "name": "stderr",
     "output_type": "stream",
     "text": [
      "/tmp/ipykernel_2576/704992425.py:6: DtypeWarning: Columns (8,10,11,12,14,16,17,18,19,20,22,23,24,25,26,27,29,30,31,32,33,34,35,36,37,38,39,42,43,44,46,47,48,49,50,51,52,53,54,55,56,57,59,60,61,62,63,65,66,67,68,70,71,73,75,76,77,79,80,81,82,84,85,86,88,89,90,91,92,93,94,95,97,99,101,102,103,104,106,107,108,109,110,111,112,113,114,115,116,117,118) have mixed types. Specify dtype option on import or set low_memory=False.\n",
      "  temp = pd.read_csv(file_in, sep=\",\")\n"
     ]
    },
    {
     "name": "stdout",
     "output_type": "stream",
     "text": [
      "radjerad/inpi/2017/0202_S1_20170504.csv\n"
     ]
    },
    {
     "name": "stderr",
     "output_type": "stream",
     "text": [
      "/tmp/ipykernel_2576/704992425.py:6: DtypeWarning: Columns (8,10,11,12,14,16,17,18,19,20,22,23,24,25,26,27,29,30,31,33,34,35,36,37,38,39,42,43,44,46,47,48,49,50,51,52,53,54,55,56,57,59,60,61,62,63,65,66,67,68,69,70,73,75,76,77,79,80,81,82,84,85,86,88,89,90,91,92,93,94,97,99,101,102,103,104,109,110,111,112,113,114,115,116,117,118) have mixed types. Specify dtype option on import or set low_memory=False.\n",
      "  temp = pd.read_csv(file_in, sep=\",\")\n"
     ]
    },
    {
     "name": "stdout",
     "output_type": "stream",
     "text": [
      "radjerad/inpi/2017/0203_S1_20170504.csv\n"
     ]
    },
    {
     "name": "stderr",
     "output_type": "stream",
     "text": [
      "/tmp/ipykernel_2576/704992425.py:6: DtypeWarning: Columns (7,8,10,11,12,14,16,17,18,19,20,22,23,24,25,26,27,30,32,33,34,35,36,37,38,39,42,43,44,46,47,48,50,51,52,53,54,55,56,57,58,59,60,61,62,63,65,66,67,68,70,73,75,76,77,79,81,82,84,85,86,88,89,90,91,92,94,95,96,97,99,101,102,103,104,106,108,109,110,111,112,113,114,115,116,117,118) have mixed types. Specify dtype option on import or set low_memory=False.\n",
      "  temp = pd.read_csv(file_in, sep=\",\")\n"
     ]
    },
    {
     "name": "stdout",
     "output_type": "stream",
     "text": [
      "radjerad/inpi/2017/0301_S1_20170504.csv\n"
     ]
    },
    {
     "name": "stderr",
     "output_type": "stream",
     "text": [
      "/tmp/ipykernel_2576/704992425.py:6: DtypeWarning: Columns (8,10,11,12,14,16,17,18,19,20,22,23,24,25,26,27,29,30,31,32,33,34,35,36,37,38,39,42,43,44,46,47,48,49,50,51,52,53,54,55,56,57,59,60,61,62,63,65,66,67,68,70,71,73,75,76,77,79,80,81,82,84,85,86,88,89,90,91,92,93,94,95,97,99,101,102,103,104,107,108,109,110,111,112,113,114,115,116,117,118) have mixed types. Specify dtype option on import or set low_memory=False.\n",
      "  temp = pd.read_csv(file_in, sep=\",\")\n"
     ]
    },
    {
     "name": "stdout",
     "output_type": "stream",
     "text": [
      "radjerad/inpi/2017/0303_S1_20170504.csv\n"
     ]
    },
    {
     "name": "stderr",
     "output_type": "stream",
     "text": [
      "/tmp/ipykernel_2576/704992425.py:6: DtypeWarning: Columns (8,10,11,12,14,16,17,18,19,20,22,23,24,25,26,27,29,30,31,32,33,34,35,36,37,38,39,42,43,44,46,47,48,49,50,51,52,53,54,55,56,57,59,60,61,62,63,65,66,67,68,70,71,73,75,76,77,79,80,81,82,84,85,86,88,89,90,91,92,94,95,97,99,101,102,103,104,106,107,108,109,110,111,112,113,114,115,116,117,118) have mixed types. Specify dtype option on import or set low_memory=False.\n",
      "  temp = pd.read_csv(file_in, sep=\",\")\n"
     ]
    },
    {
     "name": "stdout",
     "output_type": "stream",
     "text": [
      "radjerad/inpi/2017/0401_S1_20170504.csv\n"
     ]
    },
    {
     "name": "stderr",
     "output_type": "stream",
     "text": [
      "/tmp/ipykernel_2576/704992425.py:6: DtypeWarning: Columns (8,10,11,12,14,16,17,18,19,20,22,23,24,25,26,27,29,30,31,32,33,34,35,36,37,38,39,42,43,44,46,47,48,49,50,51,52,53,54,55,56,57,59,60,61,62,63,65,66,67,68,70,71,73,75,76,77,79,80,81,82,84,85,86,88,89,90,91,92,94,95,97,99,101,102,103,104,106,107,108,109,110,111,112,113,114,115,116,117,118) have mixed types. Specify dtype option on import or set low_memory=False.\n",
      "  temp = pd.read_csv(file_in, sep=\",\")\n"
     ]
    },
    {
     "name": "stdout",
     "output_type": "stream",
     "text": [
      "radjerad/inpi/2017/0501_S1_20170504.csv\n"
     ]
    },
    {
     "name": "stderr",
     "output_type": "stream",
     "text": [
      "/tmp/ipykernel_2576/704992425.py:6: DtypeWarning: Columns (8,10,11,12,14,16,17,18,19,20,22,23,24,25,26,27,29,30,31,32,33,34,35,36,37,38,39,42,43,44,46,47,48,49,50,51,52,53,54,55,56,57,59,60,61,62,63,65,66,67,68,70,71,73,75,76,77,79,80,81,82,84,85,86,87,88,89,90,91,92,93,94,95,97,99,101,102,103,104,106,107,108,109,110,111,112,113,114,115,116,117,118) have mixed types. Specify dtype option on import or set low_memory=False.\n",
      "  temp = pd.read_csv(file_in, sep=\",\")\n"
     ]
    },
    {
     "name": "stdout",
     "output_type": "stream",
     "text": [
      "radjerad/inpi/2017/0601_S1_20170504.csv\n"
     ]
    },
    {
     "name": "stderr",
     "output_type": "stream",
     "text": [
      "/tmp/ipykernel_2576/704992425.py:6: DtypeWarning: Columns (8,10,11,12,14,16,17,18,19,20,22,23,24,25,26,27,29,30,31,32,33,34,35,36,37,38,39,42,43,44,46,47,48,49,50,51,52,53,54,55,56,57,59,60,61,62,63,65,66,67,68,70,71,73,75,76,77,79,80,81,82,84,85,86,88,89,90,91,92,93,94,95,97,98,99,101,102,103,104,106,107,108,109,110,111,112,113,114,115,116,117,118) have mixed types. Specify dtype option on import or set low_memory=False.\n",
      "  temp = pd.read_csv(file_in, sep=\",\")\n"
     ]
    },
    {
     "name": "stdout",
     "output_type": "stream",
     "text": [
      "radjerad/inpi/2017/0602_S1_20170504.csv\n"
     ]
    },
    {
     "name": "stderr",
     "output_type": "stream",
     "text": [
      "/tmp/ipykernel_2576/704992425.py:6: DtypeWarning: Columns (8,10,11,12,14,16,17,18,19,20,22,23,24,25,26,27,29,30,33,34,35,36,38,39,42,43,44,46,47,48,49,50,51,52,53,54,55,56,57,58,59,60,61,62,63,65,66,67,68,69,70,73,75,76,77,79,81,82,84,85,86,88,89,90,91,92,101,102,103,104,106,107,108,109,110,111,112,113,114,115,116,117,118) have mixed types. Specify dtype option on import or set low_memory=False.\n",
      "  temp = pd.read_csv(file_in, sep=\",\")\n"
     ]
    },
    {
     "name": "stdout",
     "output_type": "stream",
     "text": [
      "radjerad/inpi/2017/0603_S1_20170504.csv\n"
     ]
    },
    {
     "name": "stderr",
     "output_type": "stream",
     "text": [
      "/tmp/ipykernel_2576/704992425.py:6: DtypeWarning: Columns (8,10,11,12,14,16,17,18,19,20,22,23,24,25,26,27,29,30,33,34,35,36,38,39,42,43,44,46,47,48,49,50,51,52,53,54,55,56,57,58,59,60,61,62,63,65,66,67,68,69,70,71,73,75,76,77,79,81,82,84,85,86,88,89,90,91,92,101,102,103,104,106,107,109,110,111,112,113,114,115,116,117,118) have mixed types. Specify dtype option on import or set low_memory=False.\n",
      "  temp = pd.read_csv(file_in, sep=\",\")\n"
     ]
    },
    {
     "name": "stdout",
     "output_type": "stream",
     "text": [
      "radjerad/inpi/2017/0605_S1_20170504.csv\n"
     ]
    },
    {
     "name": "stderr",
     "output_type": "stream",
     "text": [
      "/tmp/ipykernel_2576/704992425.py:6: DtypeWarning: Columns (8,10,11,12,14,16,17,18,19,20,22,23,24,25,26,27,29,30,33,34,35,36,37,38,39,42,43,44,46,47,48,49,50,51,52,53,54,55,56,57,58,59,60,61,62,63,65,66,67,68,69,70,71,73,75,76,77,79,81,82,84,85,86,88,89,90,91,92,101,102,103,104,106,107,108,109,110,111,112,113,114,115,116,117,118) have mixed types. Specify dtype option on import or set low_memory=False.\n",
      "  temp = pd.read_csv(file_in, sep=\",\")\n"
     ]
    },
    {
     "name": "stdout",
     "output_type": "stream",
     "text": [
      "radjerad/inpi/2017/0702_S1_20170504.csv\n"
     ]
    },
    {
     "name": "stderr",
     "output_type": "stream",
     "text": [
      "/tmp/ipykernel_2576/704992425.py:6: DtypeWarning: Columns (7,8,10,11,12,14,16,17,18,19,20,22,23,24,25,26,27,30,32,33,34,35,36,37,38,39,42,43,44,46,47,48,49,50,51,52,53,54,55,56,57,58,59,60,61,62,63,65,66,67,68,70,71,73,75,76,77,79,81,82,84,85,86,88,89,90,91,92,93,94,95,96,97,99,101,102,103,104,106,108,109,110,111,112,113,114,115,116,117,118) have mixed types. Specify dtype option on import or set low_memory=False.\n",
      "  temp = pd.read_csv(file_in, sep=\",\")\n"
     ]
    },
    {
     "name": "stdout",
     "output_type": "stream",
     "text": [
      "radjerad/inpi/2017/0802_S1_20170504.csv\n"
     ]
    },
    {
     "name": "stderr",
     "output_type": "stream",
     "text": [
      "/tmp/ipykernel_2576/704992425.py:6: DtypeWarning: Columns (8,10,11,12,14,16,17,18,19,20,22,23,24,25,26,27,29,30,31,33,34,35,36,37,38,39,42,43,44,46,47,48,49,50,51,52,53,54,55,56,57,59,60,61,62,63,65,66,67,68,69,73,75,76,77,79,80,81,82,84,85,86,88,89,90,91,92,93,94,97,99,101,102,103,104,109,110,111,112,113,114,115,116,117,118) have mixed types. Specify dtype option on import or set low_memory=False.\n",
      "  temp = pd.read_csv(file_in, sep=\",\")\n"
     ]
    },
    {
     "name": "stdout",
     "output_type": "stream",
     "text": [
      "radjerad/inpi/2017/0901_S1_20170504.csv\n"
     ]
    },
    {
     "name": "stderr",
     "output_type": "stream",
     "text": [
      "/tmp/ipykernel_2576/704992425.py:6: DtypeWarning: Columns (7,8,10,11,12,14,16,17,18,19,20,22,23,24,25,26,27,30,32,33,34,35,36,37,38,39,42,43,44,46,47,48,49,50,51,52,53,54,55,56,57,58,59,60,61,62,63,65,66,67,68,70,71,73,75,76,77,79,81,82,84,85,86,88,89,90,91,92,93,94,95,97,99,101,102,103,104,106,108,109,110,111,112,113,114,115,116,117,118) have mixed types. Specify dtype option on import or set low_memory=False.\n",
      "  temp = pd.read_csv(file_in, sep=\",\")\n"
     ]
    },
    {
     "name": "stdout",
     "output_type": "stream",
     "text": [
      "radjerad/inpi/2017/1001_S1_20170504.csv\n"
     ]
    },
    {
     "name": "stderr",
     "output_type": "stream",
     "text": [
      "/tmp/ipykernel_2576/704992425.py:6: DtypeWarning: Columns (8,10,11,12,14,16,17,18,19,20,22,23,24,25,26,27,29,30,31,32,33,34,35,36,37,38,39,42,43,44,46,47,48,49,50,51,52,53,54,55,56,57,59,60,61,62,63,65,66,67,68,70,71,73,75,76,77,79,80,81,82,84,85,86,88,89,90,91,92,93,94,95,97,99,101,102,103,104,106,107,108,109,110,111,112,113,114,115,116,117,118) have mixed types. Specify dtype option on import or set low_memory=False.\n",
      "  temp = pd.read_csv(file_in, sep=\",\")\n"
     ]
    },
    {
     "name": "stdout",
     "output_type": "stream",
     "text": [
      "radjerad/inpi/2017/1101_S1_20170504.csv\n"
     ]
    },
    {
     "name": "stderr",
     "output_type": "stream",
     "text": [
      "/tmp/ipykernel_2576/704992425.py:6: DtypeWarning: Columns (8,10,11,12,14,16,17,18,19,20,22,23,24,25,26,27,29,30,31,32,33,34,35,36,37,38,39,42,43,44,46,47,48,49,50,51,52,53,54,55,56,57,59,60,61,62,63,65,66,67,68,70,71,73,75,76,77,79,80,81,82,84,85,86,88,89,90,91,92,93,94,95,97,99,101,102,103,104,106,107,109,110,111,112,113,114,115,116,117,118) have mixed types. Specify dtype option on import or set low_memory=False.\n",
      "  temp = pd.read_csv(file_in, sep=\",\")\n"
     ]
    },
    {
     "name": "stdout",
     "output_type": "stream",
     "text": [
      "radjerad/inpi/2017/1104_S1_20170504.csv\n"
     ]
    },
    {
     "name": "stderr",
     "output_type": "stream",
     "text": [
      "/tmp/ipykernel_2576/704992425.py:6: DtypeWarning: Columns (8,10,11,12,14,16,17,18,19,20,22,23,24,25,26,27,29,30,31,32,33,34,35,36,37,38,39,42,43,44,46,47,48,49,50,51,52,53,54,55,56,57,59,60,61,62,63,65,66,67,68,70,71,73,75,76,77,79,80,81,82,84,85,86,88,89,90,91,92,93,94,95,97,99,101,102,103,104,106,107,108,109,110,111,112,113,114,115,116,117,118) have mixed types. Specify dtype option on import or set low_memory=False.\n",
      "  temp = pd.read_csv(file_in, sep=\",\")\n"
     ]
    },
    {
     "name": "stdout",
     "output_type": "stream",
     "text": [
      "radjerad/inpi/2017/1203_S1_20170504.csv\n"
     ]
    },
    {
     "name": "stderr",
     "output_type": "stream",
     "text": [
      "/tmp/ipykernel_2576/704992425.py:6: DtypeWarning: Columns (8,10,11,12,14,16,17,18,19,20,22,23,24,25,26,27,29,30,31,32,33,34,35,36,37,38,39,42,43,44,46,47,48,49,50,51,52,53,54,55,56,57,59,60,61,62,63,65,66,67,68,70,71,73,75,76,77,79,80,81,82,84,85,86,88,89,90,91,92,93,94,95,97,99,101,102,103,104,106,107,108,109,110,111,112,113,114,115,116,117,118) have mixed types. Specify dtype option on import or set low_memory=False.\n",
      "  temp = pd.read_csv(file_in, sep=\",\")\n"
     ]
    },
    {
     "name": "stdout",
     "output_type": "stream",
     "text": [
      "radjerad/inpi/2017/1301_S1_20170504.csv\n"
     ]
    },
    {
     "name": "stderr",
     "output_type": "stream",
     "text": [
      "/tmp/ipykernel_2576/704992425.py:6: DtypeWarning: Columns (8,10,11,12,14,16,17,18,19,20,22,23,24,25,26,27,29,30,31,32,33,34,35,36,37,38,39,42,43,44,46,47,48,49,50,51,52,53,54,55,56,57,59,60,61,62,63,65,66,67,68,70,71,73,75,76,77,79,80,81,82,84,85,86,88,89,90,91,92,93,94,95,97,99,101,102,103,104,106,107,108,109,110,111,112,113,114,115,116,117,118) have mixed types. Specify dtype option on import or set low_memory=False.\n",
      "  temp = pd.read_csv(file_in, sep=\",\")\n"
     ]
    },
    {
     "name": "stdout",
     "output_type": "stream",
     "text": [
      "radjerad/inpi/2017/1303_S1_20170504.csv\n"
     ]
    },
    {
     "name": "stderr",
     "output_type": "stream",
     "text": [
      "/tmp/ipykernel_2576/704992425.py:6: DtypeWarning: Columns (8,10,11,12,14,16,17,18,19,20,22,23,24,25,26,27,29,30,33,34,35,36,38,39,42,43,44,46,47,48,49,50,51,52,53,54,55,56,57,58,59,60,61,62,63,65,66,67,68,69,70,71,73,75,76,77,79,81,82,84,85,86,87,88,89,90,91,92,101,102,103,104,106,107,108,109,110,111,112,113,114,115,116,117,118) have mixed types. Specify dtype option on import or set low_memory=False.\n",
      "  temp = pd.read_csv(file_in, sep=\",\")\n"
     ]
    },
    {
     "name": "stdout",
     "output_type": "stream",
     "text": [
      "radjerad/inpi/2017/1304_S1_20170504.csv\n"
     ]
    },
    {
     "name": "stderr",
     "output_type": "stream",
     "text": [
      "/tmp/ipykernel_2576/704992425.py:6: DtypeWarning: Columns (8,10,11,12,14,16,17,18,19,20,22,23,24,25,26,27,29,30,31,32,33,34,35,36,37,38,39,42,43,44,46,47,48,49,50,51,52,53,54,55,56,57,59,60,61,62,63,65,66,67,68,70,71,73,75,76,77,79,80,81,82,84,85,86,88,89,90,91,92,93,94,95,97,98,99,101,102,103,104,106,107,108,109,110,111,112,113,114,115,116,117,118) have mixed types. Specify dtype option on import or set low_memory=False.\n",
      "  temp = pd.read_csv(file_in, sep=\",\")\n"
     ]
    },
    {
     "name": "stdout",
     "output_type": "stream",
     "text": [
      "radjerad/inpi/2017/1305_S1_20170504.csv\n"
     ]
    },
    {
     "name": "stderr",
     "output_type": "stream",
     "text": [
      "/tmp/ipykernel_2576/704992425.py:6: DtypeWarning: Columns (8,10,11,12,14,16,17,18,19,20,22,23,24,25,26,27,29,30,31,32,33,34,35,36,37,38,39,42,43,44,46,47,48,49,50,51,52,53,54,55,56,57,59,60,61,62,63,65,66,67,68,70,71,73,75,76,77,79,80,81,82,84,85,86,88,89,90,91,92,93,94,95,97,99,101,102,103,104,106,107,108,109,110,111,112,113,114,115,116,117,118) have mixed types. Specify dtype option on import or set low_memory=False.\n",
      "  temp = pd.read_csv(file_in, sep=\",\")\n"
     ]
    },
    {
     "name": "stdout",
     "output_type": "stream",
     "text": [
      "radjerad/inpi/2017/1402_S1_20170504.csv\n"
     ]
    },
    {
     "name": "stderr",
     "output_type": "stream",
     "text": [
      "/tmp/ipykernel_2576/704992425.py:6: DtypeWarning: Columns (8,10,11,12,14,16,17,18,19,20,22,23,24,25,26,27,29,30,31,32,33,34,35,36,37,38,39,42,43,44,46,47,48,49,50,51,52,53,54,55,56,57,59,60,61,62,63,65,66,67,68,70,71,73,75,76,77,79,80,81,82,84,85,86,88,89,90,91,92,93,94,95,97,99,101,102,103,104,106,107,108,109,110,111,112,113,114,115,116,117,118) have mixed types. Specify dtype option on import or set low_memory=False.\n",
      "  temp = pd.read_csv(file_in, sep=\",\")\n"
     ]
    },
    {
     "name": "stdout",
     "output_type": "stream",
     "text": [
      "radjerad/inpi/2017/1407_S1_20170504.csv\n"
     ]
    },
    {
     "name": "stderr",
     "output_type": "stream",
     "text": [
      "/tmp/ipykernel_2576/704992425.py:6: DtypeWarning: Columns (8,10,11,12,14,16,17,18,19,20,22,23,24,25,26,27,29,30,31,32,33,34,35,36,37,38,39,42,43,44,46,47,48,49,50,51,52,53,54,55,56,57,59,60,61,62,63,65,66,67,68,70,71,73,75,76,77,79,80,81,82,84,85,86,88,89,90,91,92,94,95,97,99,101,102,103,104,106,107,108,109,110,111,112,113,114,115,116,117,118) have mixed types. Specify dtype option on import or set low_memory=False.\n",
      "  temp = pd.read_csv(file_in, sep=\",\")\n"
     ]
    },
    {
     "name": "stdout",
     "output_type": "stream",
     "text": [
      "radjerad/inpi/2017/1501_S1_20170504.csv\n"
     ]
    },
    {
     "name": "stderr",
     "output_type": "stream",
     "text": [
      "/tmp/ipykernel_2576/704992425.py:6: DtypeWarning: Columns (7,8,10,11,12,14,16,17,18,19,20,22,23,24,25,26,27,30,32,33,34,35,36,37,38,39,42,43,44,46,47,48,50,51,52,53,54,55,56,57,58,59,60,61,62,63,65,66,67,68,69,70,73,75,76,77,79,81,82,84,85,86,88,89,90,91,92,93,94,95,97,99,101,102,103,104,106,108,109,110,111,112,113,114,115,116,117,118) have mixed types. Specify dtype option on import or set low_memory=False.\n",
      "  temp = pd.read_csv(file_in, sep=\",\")\n"
     ]
    },
    {
     "name": "stdout",
     "output_type": "stream",
     "text": [
      "radjerad/inpi/2017/1601_S1_20170504.csv\n"
     ]
    },
    {
     "name": "stderr",
     "output_type": "stream",
     "text": [
      "/tmp/ipykernel_2576/704992425.py:6: DtypeWarning: Columns (8,10,11,12,14,16,17,18,19,20,22,23,24,25,26,27,29,30,31,32,33,34,35,36,37,38,39,42,43,44,46,47,48,49,50,51,52,53,54,55,56,57,59,60,61,62,63,65,66,67,68,70,71,73,75,76,77,79,80,81,82,84,85,86,88,89,90,91,92,94,95,97,99,101,102,103,104,106,107,108,109,110,111,112,113,114,115,116,117,118) have mixed types. Specify dtype option on import or set low_memory=False.\n",
      "  temp = pd.read_csv(file_in, sep=\",\")\n"
     ]
    },
    {
     "name": "stdout",
     "output_type": "stream",
     "text": [
      "radjerad/inpi/2017/1704_S1_20170504.csv\n"
     ]
    },
    {
     "name": "stderr",
     "output_type": "stream",
     "text": [
      "/tmp/ipykernel_2576/704992425.py:6: DtypeWarning: Columns (8,10,11,12,14,16,17,18,19,20,22,23,24,25,26,27,29,30,31,32,33,34,35,36,37,38,39,42,43,44,46,47,48,49,50,51,52,53,54,55,56,57,59,60,61,62,63,65,66,67,68,70,71,73,75,76,77,79,80,81,82,84,85,86,88,89,90,91,92,93,94,95,97,99,101,102,103,104,106,107,108,109,110,111,112,113,114,115,116,117,118) have mixed types. Specify dtype option on import or set low_memory=False.\n",
      "  temp = pd.read_csv(file_in, sep=\",\")\n"
     ]
    },
    {
     "name": "stdout",
     "output_type": "stream",
     "text": [
      "radjerad/inpi/2017/1708_S1_20170504.csv\n"
     ]
    },
    {
     "name": "stderr",
     "output_type": "stream",
     "text": [
      "/tmp/ipykernel_2576/704992425.py:6: DtypeWarning: Columns (8,10,11,12,14,16,17,18,19,20,22,23,24,25,26,27,29,30,33,34,35,36,38,39,42,43,44,46,47,48,49,50,51,52,53,54,55,56,57,58,59,60,61,62,63,65,66,67,68,69,70,71,73,75,76,77,79,81,82,84,85,86,88,89,90,91,92,101,102,103,104,106,107,108,109,110,111,112,113,114,115,116,117,118) have mixed types. Specify dtype option on import or set low_memory=False.\n",
      "  temp = pd.read_csv(file_in, sep=\",\")\n"
     ]
    },
    {
     "name": "stdout",
     "output_type": "stream",
     "text": [
      "radjerad/inpi/2017/1801_S1_20170504.csv\n"
     ]
    },
    {
     "name": "stderr",
     "output_type": "stream",
     "text": [
      "/tmp/ipykernel_2576/704992425.py:6: DtypeWarning: Columns (8,10,11,12,14,16,17,18,19,20,22,23,24,25,26,27,29,30,31,32,33,34,35,36,37,38,39,42,43,44,46,47,48,49,50,51,52,53,54,55,56,57,59,60,61,62,63,65,66,67,68,70,71,73,75,76,77,79,80,81,82,84,85,86,88,89,90,91,92,93,94,95,97,99,101,102,103,104,106,107,109,110,111,112,113,114,115,116,117,118) have mixed types. Specify dtype option on import or set low_memory=False.\n",
      "  temp = pd.read_csv(file_in, sep=\",\")\n"
     ]
    }
   ],
   "source": [
    "li = []\n",
    "for i in list_inpi_files :\n",
    "    FILE_PATH_S3 = i\n",
    "    with fs.open(FILE_PATH_S3, mode=\"rb\") as file_in:\n",
    "        print(i)\n",
    "        temp = pd.read_csv(file_in, sep=\",\")\n",
    "        temp = temp.drop([\"index\", \"Unnamed: 0\"], axis=1)\n",
    "        li.append(temp)"
   ]
  },
  {
   "cell_type": "code",
   "execution_count": null,
   "metadata": {},
   "outputs": [],
   "source": []
  }
 ],
 "metadata": {
  "interpreter": {
   "hash": "ed5946f2a0d3f5e934efd92075c2a89b2cb5130d0efd6e4509a568bedf48ed26"
  },
  "kernelspec": {
   "display_name": "Python 3.10.4 ('basesspcloud')",
   "language": "python",
   "name": "python3"
  },
  "language_info": {
   "codemirror_mode": {
    "name": "ipython",
    "version": 3
   },
   "file_extension": ".py",
   "mimetype": "text/x-python",
   "name": "python",
   "nbconvert_exporter": "python",
   "pygments_lexer": "ipython3",
   "version": "3.10.4"
  },
  "orig_nbformat": 4
 },
 "nbformat": 4,
 "nbformat_minor": 2
}
