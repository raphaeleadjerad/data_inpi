{
 "cells": [
  {
   "cell_type": "code",
   "execution_count": 1,
   "metadata": {},
   "outputs": [],
   "source": [
    "import pandas as pd\n",
    "import s3fs"
   ]
  },
  {
   "cell_type": "code",
   "execution_count": 8,
   "metadata": {},
   "outputs": [],
   "source": [
    "# fichiers représentants\n",
    "def import_inpi():\n",
    "    \"\"\"_summary_\n",
    "    Function that imports files from minio\n",
    "    Args:\n",
    "        year (_type_): _description_\n",
    "\n",
    "    Returns:\n",
    "        _type_: _description_\n",
    "    \"\"\"\n",
    "    s3_url = \"https://\" + os.environ[\"AWS_S3_ENDPOINT\"]\n",
    "    conn = s3fs.S3FileSystem(client_kwargs={'endpoint_url': s3_url})\n",
    "    bucket = \"radjerad/diffusion/inpi/\"\n",
    "    path2data = [bucket + \"df_pm_all_years.csv\",\n",
    "                bucket +  \"df_rep_all_years.csv\"]\n",
    "    \n",
    "    with conn.open(path2data[0], mode=\"rb\") as file_in:\n",
    "        pm = pd.read_csv(file_in, sep=\";\")\n",
    "    with conn.open(path2data[1], mode=\"rb\") as file_in:\n",
    "        representants = pd.read_csv(file_in, sep=\";\")\n",
    "    return pm, representants"
   ]
  },
  {
   "cell_type": "code",
   "execution_count": 9,
   "metadata": {},
   "outputs": [
    {
     "name": "stderr",
     "output_type": "stream",
     "text": [
      "/tmp/ipykernel_720/3992132590.py:18: DtypeWarning: Columns (7,8,10,11,16,30) have mixed types. Specify dtype option on import or set low_memory=False.\n",
      "  pm = pd.read_csv(file_in, sep=\";\")\n",
      "/tmp/ipykernel_720/3992132590.py:20: DtypeWarning: Columns (7,15,17,25,26,32,33,34,35,36,37,38,39,40,41,42,43,45,49,50) have mixed types. Specify dtype option on import or set low_memory=False.\n",
      "  representants = pd.read_csv(file_in, sep=\";\")\n"
     ]
    }
   ],
   "source": [
    "pm, rep = import_inpi()"
   ]
  },
  {
   "cell_type": "code",
   "execution_count": 10,
   "metadata": {},
   "outputs": [
    {
     "data": {
      "text/plain": [
       "(5001845, 31)"
      ]
     },
     "execution_count": 10,
     "metadata": {},
     "output_type": "execute_result"
    }
   ],
   "source": [
    "pm.shape"
   ]
  },
  {
   "cell_type": "code",
   "execution_count": 11,
   "metadata": {},
   "outputs": [
    {
     "data": {
      "text/plain": [
       "(11142886, 51)"
      ]
     },
     "execution_count": 11,
     "metadata": {},
     "output_type": "execute_result"
    }
   ],
   "source": [
    "rep.shape"
   ]
  },
  {
   "cell_type": "code",
   "execution_count": null,
   "metadata": {},
   "outputs": [],
   "source": []
  }
 ],
 "metadata": {
  "interpreter": {
   "hash": "ed5946f2a0d3f5e934efd92075c2a89b2cb5130d0efd6e4509a568bedf48ed26"
  },
  "kernelspec": {
   "display_name": "Python 3.10.4 ('basesspcloud')",
   "language": "python",
   "name": "python3"
  },
  "language_info": {
   "codemirror_mode": {
    "name": "ipython",
    "version": 3
   },
   "file_extension": ".py",
   "mimetype": "text/x-python",
   "name": "python",
   "nbconvert_exporter": "python",
   "pygments_lexer": "ipython3",
   "version": "3.10.4"
  },
  "orig_nbformat": 4
 },
 "nbformat": 4,
 "nbformat_minor": 2
}
