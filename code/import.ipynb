{
 "cells": [
  {
   "cell_type": "code",
   "execution_count": null,
   "metadata": {},
   "outputs": [],
   "source": [
    "import functions as fc\n",
    "import pandas as pd"
   ]
  },
  {
   "cell_type": "code",
   "execution_count": null,
   "metadata": {},
   "outputs": [],
   "source": [
    "fc.download_tgz_raw()"
   ]
  },
  {
   "cell_type": "code",
   "execution_count": null,
   "metadata": {},
   "outputs": [],
   "source": [
    "fc.import_tgz(\"2018\", \"./data2018\")"
   ]
  },
  {
   "cell_type": "code",
   "execution_count": null,
   "metadata": {},
   "outputs": [],
   "source": [
    "fc.import_tgz(\"2019\", \"./data2019\")"
   ]
  },
  {
   "cell_type": "code",
   "execution_count": null,
   "metadata": {},
   "outputs": [],
   "source": [
    "fc.import_tgz(\"2020\", \"./data2020\")"
   ]
  },
  {
   "cell_type": "code",
   "execution_count": null,
   "metadata": {},
   "outputs": [],
   "source": [
    "df_final = fc.transform_rcs(\"2018\")"
   ]
  },
  {
   "cell_type": "code",
   "execution_count": null,
   "metadata": {},
   "outputs": [],
   "source": [
    "df_final.head()"
   ]
  },
  {
   "cell_type": "code",
   "execution_count": null,
   "metadata": {},
   "outputs": [],
   "source": [
    "fc.export_2_minio(\"2018\", df_final)"
   ]
  },
  {
   "cell_type": "code",
   "execution_count": null,
   "metadata": {},
   "outputs": [],
   "source": [
    "fc.export_2_minio(\"2019\", df_final)"
   ]
  },
  {
   "cell_type": "code",
   "execution_count": null,
   "metadata": {},
   "outputs": [],
   "source": [
    "fc.export_2_minio(\"2020\", df_final)"
   ]
  },
  {
   "cell_type": "code",
   "execution_count": null,
   "metadata": {},
   "outputs": [],
   "source": [
    "from urllib.request import urlopen\n",
    "import re\n",
    "from bs4 import BeautifulSoup\n",
    "import requests\n",
    "from zipfile import ZipFile\n",
    "\n",
    "def isDirectory(url):\n",
    "    if(url.endswith('/') and \"..\" not in url):\n",
    "        return True\n",
    "    else:\n",
    "        return False\n",
    "list_urls = []\n",
    "def findLinks(url):\n",
    "    page = requests.get(url).content\n",
    "    bsObj = BeautifulSoup(page, 'html.parser')\n",
    "    maybe_directories = bsObj.findAll('a', href=True)\n",
    "    list_df = []\n",
    "    \n",
    "    for link in maybe_directories:\n",
    "        #print(link['href'])\n",
    "        # print(isDirectory(link['href']))\n",
    "        if(isDirectory(link['href'])):\n",
    "            newUrl = url + link['href']   \n",
    "            print(newUrl)   \n",
    "            list_urls.append(newUrl)  \n",
    "            print(list_urls) \n",
    "            findLinks(newUrl) #recursion happening here$\n",
    "            \n",
    "            \n",
    "        else:\n",
    "            if(link['href'].endswith('.zip')):\n",
    "                print(\"GOTCHA!\") #now safe and download\n",
    "                target_path = link['href']\n",
    "                response = requests.get(list_urls[-1] + link['href'], stream=True)\n",
    "                if response.status_code == 200:\n",
    "                    with open(target_path, 'wb') as f:\n",
    "                        f.write(response.raw.read())\n",
    "                \n",
    "                # zip_file = ZipFile(list_urls[-1] + link['href'])         \n",
    "                # temp_df = [open_complex_file(zip_file, text_file.filename)\n",
    "                # for text_file in zip_file.infolist()\n",
    "                # if text_file.filename.endswith('.csv')]\n",
    "                # list_df.append(temp_df)\n",
    "\n",
    "startUrl = \"http://data.cquest.org/inpi_rncs/imr/stock/2017/\"\n",
    "findLinks(startUrl)"
   ]
  },
  {
   "cell_type": "code",
   "execution_count": null,
   "metadata": {},
   "outputs": [],
   "source": [
    "def transform_rcs(year, path2data=os.getcwd()):\n",
    "    if year in [\"2019\", \"2020\"]:\n",
    "        list_df = fc.import_all_files(\"data\" + year + \"/\", \"*.zip\")\n",
    "    if year in [\"2017\"]:\n",
    "        list_df = fc.import_all_files(path2data + \"/\", \"*.zip\")\n",
    "    if year in [\"2018\"]:\n",
    "        list_df = fc.import_all_files(\"data\" + year + \"/\", \"*.csv\")\n",
    "    print(len(list_df))\n",
    "    if year in [\"2017\",\"2019\", \"2020\"]:\n",
    "        li = []\n",
    "        for i in range(len(list_df)):\n",
    "            temp = pd.concat(list_df[i])\n",
    "            li.append(temp)\n",
    "        df_final = pd.concat(li)\n",
    "    if year in [\"2018\"]:\n",
    "        df_final = pd.concat(list_df)\n",
    "    print(df_final.shape)\n",
    "    return df_final"
   ]
  },
  {
   "cell_type": "code",
   "execution_count": null,
   "metadata": {},
   "outputs": [],
   "source": [
    "del(list_df)"
   ]
  },
  {
   "cell_type": "code",
   "execution_count": null,
   "metadata": {},
   "outputs": [],
   "source": [
    "import os\n",
    "path2data=os.getcwd()"
   ]
  },
  {
   "cell_type": "code",
   "execution_count": null,
   "metadata": {},
   "outputs": [],
   "source": [
    "path2data"
   ]
  },
  {
   "cell_type": "code",
   "execution_count": null,
   "metadata": {},
   "outputs": [],
   "source": [
    "import functions as fc\n",
    "list_df = fc.import_all_files(path2data + \"/\", \"*.zip\")"
   ]
  },
  {
   "cell_type": "code",
   "execution_count": null,
   "metadata": {},
   "outputs": [],
   "source": [
    "len(list_df)"
   ]
  },
  {
   "cell_type": "code",
   "execution_count": null,
   "metadata": {},
   "outputs": [],
   "source": [
    "sys.getsizeof(list_df)"
   ]
  },
  {
   "cell_type": "code",
   "execution_count": null,
   "metadata": {},
   "outputs": [],
   "source": [
    "len(list_df[79])"
   ]
  },
  {
   "cell_type": "code",
   "execution_count": null,
   "metadata": {},
   "outputs": [],
   "source": [
    "list_df[79]"
   ]
  },
  {
   "cell_type": "code",
   "execution_count": null,
   "metadata": {},
   "outputs": [],
   "source": [
    "import pandas as pd\n",
    "temp = pd.concat(list_df[0])"
   ]
  },
  {
   "cell_type": "code",
   "execution_count": null,
   "metadata": {},
   "outputs": [],
   "source": [
    "temp.head()"
   ]
  },
  {
   "cell_type": "code",
   "execution_count": null,
   "metadata": {},
   "outputs": [],
   "source": [
    "temp.shape"
   ]
  },
  {
   "cell_type": "code",
   "execution_count": null,
   "metadata": {},
   "outputs": [],
   "source": [
    "def export_2_minio(year, path2output, df_final):\n",
    "    S3_ENDPOINT_URL = \"https://\" + os.environ[\"AWS_S3_ENDPOINT\"]\n",
    "    fs = s3fs.S3FileSystem(client_kwargs={'endpoint_url': S3_ENDPOINT_URL})\n",
    "    BUCKET_OUT = \"radjerad\"\n",
    "    FILE_KEY_OUT_S3 = \"inpi/\" + year + \"/\" + path2output \n",
    "    FILE_PATH_OUT_S3 = BUCKET_OUT + \"/\" + FILE_KEY_OUT_S3\n",
    "\n",
    "    with fs.open(FILE_PATH_OUT_S3, 'w') as file_out:\n",
    "        df_final.to_csv(file_out)\n",
    "    return None\n"
   ]
  },
  {
   "cell_type": "code",
   "execution_count": null,
   "metadata": {},
   "outputs": [],
   "source": [
    "import pandas as pd\n",
    "li = []\n",
    "import s3fs\n",
    "for i in range(len(list_df)):\n",
    "    print(i)\n",
    "    temp = pd.concat(list_df[i])\n",
    "    print(temp.shape)\n",
    "    temp = temp.reset_index()\n",
    "    path2output = temp.loc[0,\"source\"][0:16]\n",
    "    print(path2output)\n",
    "    #temp.to_csv(path2output, sep=\";\")\n",
    "    export_2_minio(\"2017\", path2output + \".csv\", temp)\n",
    "    # temp.to_csv(path2output + \".csv\", sep=\";\")\n",
    "    # li.append(temp)\n"
   ]
  },
  {
   "cell_type": "code",
   "execution_count": 1,
   "metadata": {},
   "outputs": [],
   "source": [
    "import os\n",
    "\n",
    "import s3fs\n",
    "import pandas as pd\n",
    "S3_ENDPOINT_URL = \"https://\" + os.environ[\"AWS_S3_ENDPOINT\"]\n",
    "fs = s3fs.S3FileSystem(client_kwargs={'endpoint_url': S3_ENDPOINT_URL})\n",
    "BUCKET = \"radjerad/inpi/2017\"\n",
    "list_inpi_files = fs.ls(BUCKET)\n"
   ]
  },
  {
   "cell_type": "code",
   "execution_count": 2,
   "metadata": {},
   "outputs": [],
   "source": [
    "list_inpi_files = [f for f in list_inpi_files if \".csv\" in f]"
   ]
  },
  {
   "cell_type": "code",
   "execution_count": 5,
   "metadata": {},
   "outputs": [
    {
     "name": "stdout",
     "output_type": "stream",
     "text": [
      "radjerad/inpi/2017/0101_S1_20170504.csv\n"
     ]
    },
    {
     "name": "stderr",
     "output_type": "stream",
     "text": [
      "/tmp/ipykernel_5253/1211820572.py:4: DtypeWarning: Columns (8,10,11,12,14,16,17,18,19,20,22,23,24,25,26,27,29,30,31,32,33,34,35,36,37,38,39,42,43,44,46,47,48,49,50,51,52,53,54,55,56,57,59,60,61,62,63,65,66,67,68,70,71,73,75,76,77,79,80,81,82,84,85,86,88,89,90,91,92,93,94,95,97,99,101,102,103,104,106,107,108,109,110,111,112,113,114,115,116,117,118) have mixed types. Specify dtype option on import or set low_memory=False.\n",
      "  temp = pd.read_csv(file_in, sep=\",\")\n"
     ]
    },
    {
     "name": "stdout",
     "output_type": "stream",
     "text": [
      "(513113, 117)\n"
     ]
    }
   ],
   "source": [
    "FILE_PATH_S3 = list_inpi_files[0]\n",
    "with fs.open(FILE_PATH_S3, mode=\"rb\") as file_in:\n",
    "    print(list_inpi_files[0])\n",
    "    temp = pd.read_csv(file_in, sep=\",\")\n",
    "    \n",
    "    temp = temp.drop([\"index\", \"Unnamed: 0\", \"Texte\"], axis=1)\n",
    "    print(temp.shape)\n",
    "df_final = temp"
   ]
  },
  {
   "cell_type": "code",
   "execution_count": 6,
   "metadata": {},
   "outputs": [
    {
     "data": {
      "text/html": [
       "<div>\n",
       "<style scoped>\n",
       "    .dataframe tbody tr th:only-of-type {\n",
       "        vertical-align: middle;\n",
       "    }\n",
       "\n",
       "    .dataframe tbody tr th {\n",
       "        vertical-align: top;\n",
       "    }\n",
       "\n",
       "    .dataframe thead th {\n",
       "        text-align: right;\n",
       "    }\n",
       "</style>\n",
       "<table border=\"1\" class=\"dataframe\">\n",
       "  <thead>\n",
       "    <tr style=\"text-align: right;\">\n",
       "      <th></th>\n",
       "      <th>Code Greffe</th>\n",
       "      <th>Nom_Greffe</th>\n",
       "      <th>Numero_Gestion</th>\n",
       "      <th>Siren</th>\n",
       "      <th>ID_Observation</th>\n",
       "      <th>Numéro_Observation</th>\n",
       "      <th>Date_Ajout</th>\n",
       "      <th>Date_Suppression</th>\n",
       "      <th>Date_Greffe</th>\n",
       "      <th>Etat</th>\n",
       "      <th>...</th>\n",
       "      <th>Enseigne</th>\n",
       "      <th>Activité_Ambulante</th>\n",
       "      <th>Activité_Saisonnière</th>\n",
       "      <th>Activité_Non_Sédentaire</th>\n",
       "      <th>Date_Début_Activité</th>\n",
       "      <th>Activité</th>\n",
       "      <th>Origine_Fonds</th>\n",
       "      <th>Origine_Fonds_Info</th>\n",
       "      <th>Type_Exploitation</th>\n",
       "      <th>ID_Etablissement</th>\n",
       "    </tr>\n",
       "  </thead>\n",
       "  <tbody>\n",
       "    <tr>\n",
       "      <th>0</th>\n",
       "      <td>101</td>\n",
       "      <td>Bourg-en-Bresse</td>\n",
       "      <td>2002D40001</td>\n",
       "      <td>440432052</td>\n",
       "      <td>4.0</td>\n",
       "      <td>NaN</td>\n",
       "      <td>2009-01-01</td>\n",
       "      <td>NaN</td>\n",
       "      <td>2017-02-20</td>\n",
       "      <td>Ajout</td>\n",
       "      <td>...</td>\n",
       "      <td>NaN</td>\n",
       "      <td>NaN</td>\n",
       "      <td>NaN</td>\n",
       "      <td>NaN</td>\n",
       "      <td>NaN</td>\n",
       "      <td>NaN</td>\n",
       "      <td>NaN</td>\n",
       "      <td>NaN</td>\n",
       "      <td>NaN</td>\n",
       "      <td>NaN</td>\n",
       "    </tr>\n",
       "    <tr>\n",
       "      <th>1</th>\n",
       "      <td>101</td>\n",
       "      <td>Bourg-en-Bresse</td>\n",
       "      <td>2003B00832</td>\n",
       "      <td>450548326</td>\n",
       "      <td>6.0</td>\n",
       "      <td>9364.0</td>\n",
       "      <td>2011-10-28</td>\n",
       "      <td>NaN</td>\n",
       "      <td>2017-03-29</td>\n",
       "      <td>Ajout</td>\n",
       "      <td>...</td>\n",
       "      <td>NaN</td>\n",
       "      <td>NaN</td>\n",
       "      <td>NaN</td>\n",
       "      <td>NaN</td>\n",
       "      <td>NaN</td>\n",
       "      <td>NaN</td>\n",
       "      <td>NaN</td>\n",
       "      <td>NaN</td>\n",
       "      <td>NaN</td>\n",
       "      <td>NaN</td>\n",
       "    </tr>\n",
       "    <tr>\n",
       "      <th>2</th>\n",
       "      <td>101</td>\n",
       "      <td>Bourg-en-Bresse</td>\n",
       "      <td>2003B00832</td>\n",
       "      <td>450548326</td>\n",
       "      <td>8.0</td>\n",
       "      <td>10671.0</td>\n",
       "      <td>2011-12-12</td>\n",
       "      <td>NaN</td>\n",
       "      <td>2017-03-29</td>\n",
       "      <td>Ajout</td>\n",
       "      <td>...</td>\n",
       "      <td>NaN</td>\n",
       "      <td>NaN</td>\n",
       "      <td>NaN</td>\n",
       "      <td>NaN</td>\n",
       "      <td>NaN</td>\n",
       "      <td>NaN</td>\n",
       "      <td>NaN</td>\n",
       "      <td>NaN</td>\n",
       "      <td>NaN</td>\n",
       "      <td>NaN</td>\n",
       "    </tr>\n",
       "    <tr>\n",
       "      <th>3</th>\n",
       "      <td>101</td>\n",
       "      <td>Bourg-en-Bresse</td>\n",
       "      <td>2003B00832</td>\n",
       "      <td>450548326</td>\n",
       "      <td>10.0</td>\n",
       "      <td>1538.0</td>\n",
       "      <td>2012-01-24</td>\n",
       "      <td>NaN</td>\n",
       "      <td>2017-03-29</td>\n",
       "      <td>Ajout</td>\n",
       "      <td>...</td>\n",
       "      <td>NaN</td>\n",
       "      <td>NaN</td>\n",
       "      <td>NaN</td>\n",
       "      <td>NaN</td>\n",
       "      <td>NaN</td>\n",
       "      <td>NaN</td>\n",
       "      <td>NaN</td>\n",
       "      <td>NaN</td>\n",
       "      <td>NaN</td>\n",
       "      <td>NaN</td>\n",
       "    </tr>\n",
       "    <tr>\n",
       "      <th>4</th>\n",
       "      <td>101</td>\n",
       "      <td>Bourg-en-Bresse</td>\n",
       "      <td>2003B00832</td>\n",
       "      <td>450548326</td>\n",
       "      <td>12.0</td>\n",
       "      <td>3746.0</td>\n",
       "      <td>2012-03-26</td>\n",
       "      <td>NaN</td>\n",
       "      <td>2017-03-29</td>\n",
       "      <td>Ajout</td>\n",
       "      <td>...</td>\n",
       "      <td>NaN</td>\n",
       "      <td>NaN</td>\n",
       "      <td>NaN</td>\n",
       "      <td>NaN</td>\n",
       "      <td>NaN</td>\n",
       "      <td>NaN</td>\n",
       "      <td>NaN</td>\n",
       "      <td>NaN</td>\n",
       "      <td>NaN</td>\n",
       "      <td>NaN</td>\n",
       "    </tr>\n",
       "  </tbody>\n",
       "</table>\n",
       "<p>5 rows × 117 columns</p>\n",
       "</div>"
      ],
      "text/plain": [
       "   Code Greffe       Nom_Greffe Numero_Gestion      Siren  ID_Observation  \\\n",
       "0          101  Bourg-en-Bresse     2002D40001  440432052             4.0   \n",
       "1          101  Bourg-en-Bresse     2003B00832  450548326             6.0   \n",
       "2          101  Bourg-en-Bresse     2003B00832  450548326             8.0   \n",
       "3          101  Bourg-en-Bresse     2003B00832  450548326            10.0   \n",
       "4          101  Bourg-en-Bresse     2003B00832  450548326            12.0   \n",
       "\n",
       "   Numéro_Observation  Date_Ajout  Date_Suppression Date_Greffe  Etat   ...  \\\n",
       "0                 NaN  2009-01-01               NaN  2017-02-20  Ajout  ...   \n",
       "1              9364.0  2011-10-28               NaN  2017-03-29  Ajout  ...   \n",
       "2             10671.0  2011-12-12               NaN  2017-03-29  Ajout  ...   \n",
       "3              1538.0  2012-01-24               NaN  2017-03-29  Ajout  ...   \n",
       "4              3746.0  2012-03-26               NaN  2017-03-29  Ajout  ...   \n",
       "\n",
       "  Enseigne Activité_Ambulante  Activité_Saisonnière Activité_Non_Sédentaire  \\\n",
       "0      NaN                NaN                   NaN                     NaN   \n",
       "1      NaN                NaN                   NaN                     NaN   \n",
       "2      NaN                NaN                   NaN                     NaN   \n",
       "3      NaN                NaN                   NaN                     NaN   \n",
       "4      NaN                NaN                   NaN                     NaN   \n",
       "\n",
       "  Date_Début_Activité Activité Origine_Fonds Origine_Fonds_Info  \\\n",
       "0                 NaN      NaN           NaN                NaN   \n",
       "1                 NaN      NaN           NaN                NaN   \n",
       "2                 NaN      NaN           NaN                NaN   \n",
       "3                 NaN      NaN           NaN                NaN   \n",
       "4                 NaN      NaN           NaN                NaN   \n",
       "\n",
       "   Type_Exploitation ID_Etablissement  \n",
       "0                NaN              NaN  \n",
       "1                NaN              NaN  \n",
       "2                NaN              NaN  \n",
       "3                NaN              NaN  \n",
       "4                NaN              NaN  \n",
       "\n",
       "[5 rows x 117 columns]"
      ]
     },
     "execution_count": 6,
     "metadata": {},
     "output_type": "execute_result"
    }
   ],
   "source": [
    "df_final.head()"
   ]
  },
  {
   "cell_type": "code",
   "execution_count": 3,
   "metadata": {},
   "outputs": [
    {
     "data": {
      "text/plain": [
       "['radjerad/inpi/2017/0101_S1_20170504.csv',\n",
       " 'radjerad/inpi/2017/0202_S1_20170504.csv',\n",
       " 'radjerad/inpi/2017/0203_S1_20170504.csv',\n",
       " 'radjerad/inpi/2017/0301_S1_20170504.csv',\n",
       " 'radjerad/inpi/2017/0303_S1_20170504.csv',\n",
       " 'radjerad/inpi/2017/0401_S1_20170504.csv',\n",
       " 'radjerad/inpi/2017/0501_S1_20170504.csv',\n",
       " 'radjerad/inpi/2017/0601_S1_20170504.csv',\n",
       " 'radjerad/inpi/2017/0602_S1_20170504.csv',\n",
       " 'radjerad/inpi/2017/0603_S1_20170504.csv',\n",
       " 'radjerad/inpi/2017/0605_S1_20170504.csv',\n",
       " 'radjerad/inpi/2017/0702_S1_20170504.csv',\n",
       " 'radjerad/inpi/2017/0802_S1_20170504.csv',\n",
       " 'radjerad/inpi/2017/0901_S1_20170504.csv',\n",
       " 'radjerad/inpi/2017/1001_S1_20170504.csv',\n",
       " 'radjerad/inpi/2017/1101_S1_20170504.csv',\n",
       " 'radjerad/inpi/2017/1104_S1_20170504.csv',\n",
       " 'radjerad/inpi/2017/1203_S1_20170504.csv',\n",
       " 'radjerad/inpi/2017/1301_S1_20170504.csv',\n",
       " 'radjerad/inpi/2017/1303_S1_20170504.csv',\n",
       " 'radjerad/inpi/2017/1304_S1_20170504.csv',\n",
       " 'radjerad/inpi/2017/1305_S1_20170504.csv',\n",
       " 'radjerad/inpi/2017/1402_S1_20170504.csv',\n",
       " 'radjerad/inpi/2017/1407_S1_20170504.csv',\n",
       " 'radjerad/inpi/2017/1501_S1_20170504.csv',\n",
       " 'radjerad/inpi/2017/1601_S1_20170504.csv',\n",
       " 'radjerad/inpi/2017/1704_S1_20170504.csv',\n",
       " 'radjerad/inpi/2017/1708_S1_20170504.csv',\n",
       " 'radjerad/inpi/2017/1801_S1_20170504.csv',\n",
       " 'radjerad/inpi/2017/1901_S1_20170504.csv',\n",
       " 'radjerad/inpi/2017/2001_S1_20170504.csv',\n",
       " 'radjerad/inpi/2017/2002_S1_20170504.csv',\n",
       " 'radjerad/inpi/2017/2104_S1_20170504.csv',\n",
       " 'radjerad/inpi/2017/2202_S1_20170504.csv',\n",
       " 'radjerad/inpi/2017/2301_S1_20170504.csv',\n",
       " 'radjerad/inpi/2017/2401_S1_20170504.csv',\n",
       " 'radjerad/inpi/2017/2402_S1_20170504.csv',\n",
       " 'radjerad/inpi/2017/2501_S1_20170504.csv',\n",
       " 'radjerad/inpi/2017/2602_S1_20170504.csv',\n",
       " 'radjerad/inpi/2017/2701_S1_20170504.csv',\n",
       " 'radjerad/inpi/2017/2702_S1_20170504.csv',\n",
       " 'radjerad/inpi/2017/2801_S1_20170504.csv',\n",
       " 'radjerad/inpi/2017/2901_S1_20170504.csv',\n",
       " 'radjerad/inpi/2017/2903_S1_20170504.csv',\n",
       " 'radjerad/inpi/2017/3003_S1_20170504.csv',\n",
       " 'radjerad/inpi/2017/3102_S1_20170504.csv',\n",
       " 'radjerad/inpi/2017/3201_S1_20170504.csv',\n",
       " 'radjerad/inpi/2017/3302_S1_20170504.csv',\n",
       " 'radjerad/inpi/2017/3303_S1_20170504.csv',\n",
       " 'radjerad/inpi/2017/3402_S1_20170504.csv',\n",
       " 'radjerad/inpi/2017/3405_S1_20170504.csv',\n",
       " 'radjerad/inpi/2017/3501_S1_20170504.csv',\n",
       " 'radjerad/inpi/2017/3502_S1_20170504.csv',\n",
       " 'radjerad/inpi/2017/3601_S1_20170504.csv',\n",
       " 'radjerad/inpi/2017/3701_S1_20170504.csv',\n",
       " 'radjerad/inpi/2017/3801_S1_20170504.csv',\n",
       " 'radjerad/inpi/2017/3802_S1_20170504.csv',\n",
       " 'radjerad/inpi/2017/3902_S1_20170504.csv',\n",
       " 'radjerad/inpi/2017/4001_S1_20170504.csv',\n",
       " 'radjerad/inpi/2017/4002_S1_20170504.csv',\n",
       " 'radjerad/inpi/2017/4101_S1_20170504.csv',\n",
       " 'radjerad/inpi/2017/4201_S1_20170504.csv',\n",
       " 'radjerad/inpi/2017/4202_S1_20170504.csv',\n",
       " 'radjerad/inpi/2017/4302_S1_20170504.csv',\n",
       " 'radjerad/inpi/2017/4401_S1_20170504.csv',\n",
       " 'radjerad/inpi/2017/4402_S1_20170504.csv',\n",
       " 'radjerad/inpi/2017/4502_S1_20170504.csv',\n",
       " 'radjerad/inpi/2017/4601_S1_20170504.csv',\n",
       " 'radjerad/inpi/2017/4701_S1_20170504.csv',\n",
       " 'radjerad/inpi/2017/4801_S1_20170504.csv',\n",
       " 'radjerad/inpi/2017/4901_S1_20170504.csv',\n",
       " 'radjerad/inpi/2017/5001_S1_20170504.csv',\n",
       " 'radjerad/inpi/2017/5002_S1_20170504.csv',\n",
       " 'radjerad/inpi/2017/5101_S1_20170504.csv',\n",
       " 'radjerad/inpi/2017/5103_S1_20170504.csv',\n",
       " 'radjerad/inpi/2017/5201_S1_20170504.csv',\n",
       " 'radjerad/inpi/2017/5301_S1_20170504.csv',\n",
       " 'radjerad/inpi/2017/5401_S1_20170504.csv',\n",
       " 'radjerad/inpi/2017/5402_S1_20170504.csv',\n",
       " 'radjerad/inpi/2017/5501_S1_20170504.csv',\n",
       " 'radjerad/inpi/2017/5601_S1_20170504.csv',\n",
       " 'radjerad/inpi/2017/5602_S1_20170504.csv',\n",
       " 'radjerad/inpi/2017/5802_S1_20170504.csv',\n",
       " 'radjerad/inpi/2017/5902_S1_20170504.csv',\n",
       " 'radjerad/inpi/2017/5906_S1_20170504.csv',\n",
       " 'radjerad/inpi/2017/5910_S1_20170504.csv',\n",
       " 'radjerad/inpi/2017/5952_S1_20170504.csv',\n",
       " 'radjerad/inpi/2017/6001_S1_20170504.csv',\n",
       " 'radjerad/inpi/2017/6002_S1_20170504.csv',\n",
       " 'radjerad/inpi/2017/6101_S1_20170504.csv',\n",
       " 'radjerad/inpi/2017/6201_S1_20170504.csv',\n",
       " 'radjerad/inpi/2017/6202_S1_20170504.csv',\n",
       " 'radjerad/inpi/2017/6303_S1_20170504.csv',\n",
       " 'radjerad/inpi/2017/6401_S1_20170504.csv',\n",
       " 'radjerad/inpi/2017/6403_S1_20170504.csv',\n",
       " 'radjerad/inpi/2017/6502_S1_20170504.csv',\n",
       " 'radjerad/inpi/2017/6601_S1_20170504.csv',\n",
       " 'radjerad/inpi/2017/6901_S1_20170504.csv',\n",
       " 'radjerad/inpi/2017/6903_S1_20170504.csv',\n",
       " 'radjerad/inpi/2017/7001_S1_20170504.csv',\n",
       " 'radjerad/inpi/2017/7102_S1_20170504.csv',\n",
       " 'radjerad/inpi/2017/7106_S1_20170504.csv',\n",
       " 'radjerad/inpi/2017/7202_S1_20170504.csv',\n",
       " 'radjerad/inpi/2017/7301_S1_20170504.csv',\n",
       " 'radjerad/inpi/2017/7401_S1_20170504.csv',\n",
       " 'radjerad/inpi/2017/7402_S1_20170504.csv',\n",
       " 'radjerad/inpi/2017/7501_S1_20170504.csv',\n",
       " 'radjerad/inpi/2017/7601_S1_20170504.csv',\n",
       " 'radjerad/inpi/2017/7606_S1_20170504.csv',\n",
       " 'radjerad/inpi/2017/7608_S1_20170504.csv',\n",
       " 'radjerad/inpi/2017/7701_S1_20170504.csv',\n",
       " 'radjerad/inpi/2017/7702_S1_20170504.csv',\n",
       " 'radjerad/inpi/2017/7801_S1_20170504.csv',\n",
       " 'radjerad/inpi/2017/7802_S1_20170504.csv',\n",
       " 'radjerad/inpi/2017/7803_S1_20170504.csv',\n",
       " 'radjerad/inpi/2017/7901_S1_20170504.csv',\n",
       " 'radjerad/inpi/2017/8002_S1_20170504.csv',\n",
       " 'radjerad/inpi/2017/8101_S1_20170504.csv',\n",
       " 'radjerad/inpi/2017/8102_S1_20170504.csv',\n",
       " 'radjerad/inpi/2017/8201_S1_20170504.csv',\n",
       " 'radjerad/inpi/2017/8302_S1_20170504.csv',\n",
       " 'radjerad/inpi/2017/8303_S1_20170504.csv',\n",
       " 'radjerad/inpi/2017/8305_S1_20170504.csv',\n",
       " 'radjerad/inpi/2017/8401_S1_20170504.csv',\n",
       " 'radjerad/inpi/2017/8501_S1_20170504.csv',\n",
       " 'radjerad/inpi/2017/8602_S1_20170504.csv',\n",
       " 'radjerad/inpi/2017/8701_S1_20170504.csv',\n",
       " 'radjerad/inpi/2017/8801_S1_20170504.csv',\n",
       " 'radjerad/inpi/2017/8901_S1_20170504.csv',\n",
       " 'radjerad/inpi/2017/8903_S1_20170504.csv',\n",
       " 'radjerad/inpi/2017/9001_S1_20170504.csv',\n",
       " 'radjerad/inpi/2017/9201_S1_20170504.csv',\n",
       " 'radjerad/inpi/2017/9301_S1_20170504.csv',\n",
       " 'radjerad/inpi/2017/9401_S1_20170504.csv']"
      ]
     },
     "execution_count": 3,
     "metadata": {},
     "output_type": "execute_result"
    }
   ],
   "source": [
    "list_inpi_files"
   ]
  },
  {
   "cell_type": "code",
   "execution_count": 7,
   "metadata": {},
   "outputs": [
    {
     "name": "stdout",
     "output_type": "stream",
     "text": [
      "radjerad/inpi/2017/0202_S1_20170504.csv\n"
     ]
    },
    {
     "name": "stderr",
     "output_type": "stream",
     "text": [
      "/tmp/ipykernel_5253/2400725123.py:5: DtypeWarning: Columns (8,10,11,12,14,16,17,18,19,20,22,23,24,25,26,27,29,30,31,33,34,35,36,37,38,39,42,43,44,46,47,48,49,50,51,52,53,54,55,56,57,59,60,61,62,63,65,66,67,68,69,70,73,75,76,77,79,80,81,82,84,85,86,88,89,90,91,92,93,94,97,99,101,102,103,104,109,110,111,112,113,114,115,116,117,118) have mixed types. Specify dtype option on import or set low_memory=False.\n",
      "  temp = pd.read_csv(file_in, sep=\",\")\n"
     ]
    },
    {
     "name": "stdout",
     "output_type": "stream",
     "text": [
      "(254252, 117)\n"
     ]
    }
   ],
   "source": [
    "\n",
    "for i in list_inpi_files[1:2] :\n",
    "    FILE_PATH_S3 = i\n",
    "    with fs.open(FILE_PATH_S3, mode=\"rb\") as file_in:\n",
    "        print(i)\n",
    "        temp = pd.read_csv(file_in, sep=\",\")\n",
    "        \n",
    "        temp = temp.drop([\"index\", \"Unnamed: 0\", \"Texte\"], axis=1)\n",
    "        print(temp.shape)\n",
    "        df_final = pd.concat([df_final, temp])"
   ]
  },
  {
   "cell_type": "code",
   "execution_count": 8,
   "metadata": {},
   "outputs": [
    {
     "data": {
      "text/plain": [
       "2797671947"
      ]
     },
     "execution_count": 8,
     "metadata": {},
     "output_type": "execute_result"
    }
   ],
   "source": [
    "sys.getsizeof(df_final)"
   ]
  },
  {
   "cell_type": "code",
   "execution_count": 10,
   "metadata": {},
   "outputs": [
    {
     "data": {
      "text/plain": [
       "(767365, 117)"
      ]
     },
     "execution_count": 10,
     "metadata": {},
     "output_type": "execute_result"
    }
   ],
   "source": [
    "df_final.shape"
   ]
  },
  {
   "cell_type": "code",
   "execution_count": 9,
   "metadata": {},
   "outputs": [
    {
     "data": {
      "text/plain": [
       "2.797671947"
      ]
     },
     "execution_count": 9,
     "metadata": {},
     "output_type": "execute_result"
    }
   ],
   "source": [
    "2797671947/1000000000"
   ]
  },
  {
   "cell_type": "code",
   "execution_count": null,
   "metadata": {},
   "outputs": [],
   "source": []
  }
 ],
 "metadata": {
  "interpreter": {
   "hash": "ed5946f2a0d3f5e934efd92075c2a89b2cb5130d0efd6e4509a568bedf48ed26"
  },
  "kernelspec": {
   "display_name": "Python 3.10.4 ('basesspcloud')",
   "language": "python",
   "name": "python3"
  },
  "language_info": {
   "codemirror_mode": {
    "name": "ipython",
    "version": 3
   },
   "file_extension": ".py",
   "mimetype": "text/x-python",
   "name": "python",
   "nbconvert_exporter": "python",
   "pygments_lexer": "ipython3",
   "version": "3.10.4"
  },
  "orig_nbformat": 4
 },
 "nbformat": 4,
 "nbformat_minor": 2
}
