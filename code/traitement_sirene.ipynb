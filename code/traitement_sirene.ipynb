{
 "cells": [
  {
   "cell_type": "code",
   "execution_count": 2,
   "metadata": {},
   "outputs": [],
   "source": [
    "# I. Analyse du répertoire SIRENE\n",
    "import s3fs\n",
    "import pandas as pd\n",
    "def import_sirene():\n",
    "    \"\"\"_summary_\n",
    "    Function that imports files from minio\n",
    "    Args:\n",
    "        year (_type_): _description_\n",
    "\n",
    "    Returns:\n",
    "        _type_: _description_\n",
    "    \"\"\"\n",
    "    s3_url = \"https://\" + os.environ[\"AWS_S3_ENDPOINT\"]\n",
    "    conn = s3fs.S3FileSystem(client_kwargs={'endpoint_url': s3_url})\n",
    "    bucket = \"radjerad/diffusion/sirene\"\n",
    "    file_s3 = \"StockUniteLegale_utf8.zip\"\n",
    "    path2data = bucket + \"/\" + file_s3\n",
    "    with conn.open(path2data, mode=\"rb\") as file_in:\n",
    "        ul = pd.read_csv(file_in, compression='zip')\n",
    "    return ul\n",
    "\n"
   ]
  },
  {
   "cell_type": "code",
   "execution_count": 8,
   "metadata": {},
   "outputs": [
    {
     "name": "stderr",
     "output_type": "stream",
     "text": [
      "/tmp/ipykernel_500/792972910.py:19: DtypeWarning: Columns (2,4,5,6,7,8,9,10,11,12,13,17,21,22,24,25,26) have mixed types. Specify dtype option on import or set low_memory=False.\n",
      "  ul = pd.read_csv(file_in, compression='zip')\n"
     ]
    }
   ],
   "source": [
    "ul = import_sirene()"
   ]
  },
  {
   "cell_type": "code",
   "execution_count": 10,
   "metadata": {},
   "outputs": [
    {
     "data": {
      "text/plain": [
       "(23242757, 33)"
      ]
     },
     "execution_count": 10,
     "metadata": {},
     "output_type": "execute_result"
    }
   ],
   "source": [
    "ul.shape # 23 242 757"
   ]
  },
  {
   "cell_type": "code",
   "execution_count": 12,
   "metadata": {},
   "outputs": [],
   "source": [
    "ul = ul.loc[:, [\"siren\", \"denominationUniteLegale\", \"denominationUsuelle1UniteLegale\", \"categorieJuridiqueUniteLegale\",\n",
    "         \"activitePrincipaleUniteLegale\",\"etatAdministratifUniteLegale\"]]\n",
    "         # nomenclatureActivitePrincipaleUn n'existe pas"
   ]
  },
  {
   "cell_type": "code",
   "execution_count": 7,
   "metadata": {},
   "outputs": [],
   "source": [
    "# 1.2 etablissements\n",
    "def import_sirene_etab():\n",
    "    \"\"\"_summary_\n",
    "    Function that imports files from minio\n",
    "    Args:\n",
    "        year (_type_): _description_\n",
    "\n",
    "    Returns:\n",
    "        _type_: _description_\n",
    "    \"\"\"\n",
    "    s3_url = \"https://\" + os.environ[\"AWS_S3_ENDPOINT\"]\n",
    "    conn = s3fs.S3FileSystem(client_kwargs={'endpoint_url': s3_url})\n",
    "    bucket = \"radjerad/diffusion/sirene\"\n",
    "    file_s3 = \"StockEtablissement_utf8.zip\"\n",
    "    path2data = bucket + \"/\" + file_s3\n",
    "    with conn.open(path2data, mode=\"rb\") as file_in:\n",
    "#         etab = pd.read_csv(file_in, compression='zip', select = [\"siren\", \"nic\", \"etablissementSiege\", \n",
    "# \"nombrePeriodesEtablissement\", \"complementAdresseEtablissement\", \"numeroVoieEtablissement\", \"indiceRepetitionEtablissement\",\n",
    "# \"typeVoieEtablissement\", \"libelleVoieEtablissement\", \"codePostalEtablissement\", \"libelleCommuneEtablissement\",\n",
    "# \"libelleCommuneEtrangerEtablissem\", \"distributionSpecialeEtablissemen\", \"codeCommuneEtablissement\" \n",
    "# \"denominationUsuelleEtablissement\"])\n",
    "        etab = pd.read_csv(file_in, compression='zip', usecols = [\"siren\", \"nic\", \"etablissementSiege\", \"codeCommuneEtablissement\"])\n",
    "    return etab"
   ]
  },
  {
   "cell_type": "code",
   "execution_count": 8,
   "metadata": {},
   "outputs": [
    {
     "name": "stderr",
     "output_type": "stream",
     "text": [
      "/tmp/ipykernel_1046/1614276372.py:22: DtypeWarning: Columns (20) have mixed types. Specify dtype option on import or set low_memory=False.\n",
      "  etab = pd.read_csv(file_in, compression='zip', usecols = [\"siren\", \"nic\", \"etablissementSiege\", \"codeCommuneEtablissement\"])\n"
     ]
    }
   ],
   "source": [
    "etab = import_sirene_etab()"
   ]
  },
  {
   "cell_type": "code",
   "execution_count": null,
   "metadata": {},
   "outputs": [],
   "source": [
    "etab.shape"
   ]
  },
  {
   "cell_type": "code",
   "execution_count": null,
   "metadata": {},
   "outputs": [],
   "source": [
    "ul = ul.sort_values(\"siren\", axis=1)"
   ]
  },
  {
   "cell_type": "code",
   "execution_count": null,
   "metadata": {},
   "outputs": [],
   "source": [
    "etab = etab.sort_values(\"siren\", axis=1)"
   ]
  }
 ],
 "metadata": {
  "interpreter": {
   "hash": "ed5946f2a0d3f5e934efd92075c2a89b2cb5130d0efd6e4509a568bedf48ed26"
  },
  "kernelspec": {
   "display_name": "Python 3.10.4 ('basesspcloud')",
   "language": "python",
   "name": "python3"
  },
  "language_info": {
   "codemirror_mode": {
    "name": "ipython",
    "version": 3
   },
   "file_extension": ".py",
   "mimetype": "text/x-python",
   "name": "python",
   "nbconvert_exporter": "python",
   "pygments_lexer": "ipython3",
   "version": "3.10.4"
  },
  "orig_nbformat": 4
 },
 "nbformat": 4,
 "nbformat_minor": 2
}
