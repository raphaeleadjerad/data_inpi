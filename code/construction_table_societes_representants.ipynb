{
 "cells": [
  {
   "cell_type": "markdown",
   "metadata": {},
   "source": [
    "1/ Importation des données TC et TITMC \n",
    "\n",
    "2/ Import et traitement du fichier des prénoms \n",
    "\n",
    "3/ Ajouter le genre des personnes \n",
    "\n",
    "4/ Codification des adresses \n",
    "\n",
    "5/ Ajout et traitement du code commune\n",
    "\n",
    "6/ Retraiter et simplifier les qualités "
   ]
  },
  {
   "cell_type": "code",
   "execution_count": null,
   "metadata": {},
   "outputs": [],
   "source": [
    "# Lecture de la base inpi\n",
    "import os\n",
    "import s3fs\n",
    "import pandas as pd\n",
    "# Create filesystem object\n",
    "S3_ENDPOINT_URL = \"https://\" + os.environ[\"AWS_S3_ENDPOINT\"]\n",
    "fs = s3fs.S3FileSystem(client_kwargs={'endpoint_url': S3_ENDPOINT_URL})\n",
    "BUCKET = \"radjerad/inpi\"\n",
    "FILE_KEY_S3 = \"data_rep_pm_2017.csv\"\n",
    "FILE_PATH_S3 = BUCKET + \"/\" + FILE_KEY_S3\n",
    "\n",
    "with fs.open(FILE_PATH_S3, mode=\"rb\") as file_in:\n",
    "    df_rep_pm = pd.read_csv(file_in, sep=\";\", encoding=\"utf-8\")"
   ]
  },
  {
   "cell_type": "code",
   "execution_count": null,
   "metadata": {},
   "outputs": [],
   "source": [
    "df_rep_pm.shape # 9 751 833"
   ]
  },
  {
   "cell_type": "code",
   "execution_count": null,
   "metadata": {},
   "outputs": [],
   "source": [
    "df_rep_pm = df_rep_pm.rename({\"code greffe\": \"code_greffe\"}, axis=1)"
   ]
  },
  {
   "cell_type": "code",
   "execution_count": null,
   "metadata": {},
   "outputs": [],
   "source": [
    "df_rep_pm = df_rep_pm.loc[:, [\"code_greffe\", \"siren\", \"denomination\", \"forme_juridique_x\", \"qualité\",\n",
    "\"nom_patronymique\", \"nom_usage\", \"prénoms\", \"type\", \"date_naissance\", \"ville_naissance\", \"adresse_ligne1\", \"adresse_ligne2\",\n",
    "\"adresse_ligne3\", \"code_postal\", \"ville\", \"code_commune\", \"pays\", \"id_représentant\"]]"
   ]
  },
  {
   "cell_type": "code",
   "execution_count": null,
   "metadata": {},
   "outputs": [],
   "source": [
    "df_rep_pm = df_rep_pm.rename({\"forme_juridique_x\": \"forme_juridique\", \"prénoms\": \"prenoms\", \"qualité\": \"qualite\", \"id_représentant\": \"id_representant\"}, axis=1)"
   ]
  },
  {
   "cell_type": "code",
   "execution_count": null,
   "metadata": {},
   "outputs": [],
   "source": [
    "df_rep_pm.head(10)"
   ]
  },
  {
   "cell_type": "code",
   "execution_count": null,
   "metadata": {},
   "outputs": [],
   "source": [
    "df_rep_pm[\"qualite\"].isna().sum() # 246 926"
   ]
  },
  {
   "cell_type": "code",
   "execution_count": null,
   "metadata": {},
   "outputs": [],
   "source": []
  }
 ],
 "metadata": {
  "interpreter": {
   "hash": "ed5946f2a0d3f5e934efd92075c2a89b2cb5130d0efd6e4509a568bedf48ed26"
  },
  "kernelspec": {
   "display_name": "Python 3.10.4 ('basesspcloud')",
   "language": "python",
   "name": "python3"
  },
  "language_info": {
   "codemirror_mode": {
    "name": "ipython",
    "version": 3
   },
   "file_extension": ".py",
   "mimetype": "text/x-python",
   "name": "python",
   "nbconvert_exporter": "python",
   "pygments_lexer": "ipython3",
   "version": "3.10.4"
  },
  "orig_nbformat": 4
 },
 "nbformat": 4,
 "nbformat_minor": 2
}
