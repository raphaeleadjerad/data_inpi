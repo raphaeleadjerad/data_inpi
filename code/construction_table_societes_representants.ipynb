{
 "cells": [
  {
   "cell_type": "markdown",
   "metadata": {},
   "source": [
    "# Création de la base Représentants et Personnes morales \n",
    "\n",
    "- Importation des données TC et TITMC \n",
    "\n",
    "- Codification des adresses \n",
    "\n",
    "- Ajout et traitement du code commune\n",
    "\n",
    "- Retraiter et simplifier les qualités \n",
    "\n",
    "- joindre avec les données de décès"
   ]
  },
  {
   "cell_type": "code",
   "execution_count": null,
   "metadata": {},
   "outputs": [],
   "source": [
    "# fonction permettant de traiter les données rep et pm et d'ajouter le code commune insee\n",
    "import os\n",
    "import s3fs\n",
    "import pandas as pd\n",
    "import functions as fc "
   ]
  },
  {
   "cell_type": "code",
   "execution_count": null,
   "metadata": {},
   "outputs": [],
   "source": [
    "# Lecture de la base inpi\n",
    "\n",
    "df_rep_pm = fc.import_inpi(\"data_rep_pm_2017.csv\")"
   ]
  },
  {
   "cell_type": "code",
   "execution_count": null,
   "metadata": {},
   "outputs": [],
   "source": [
    "# nettoyage de diverses variables\n",
    "df_rep_pm = fc.clean_rep_pm_inpi(df_rep_pm)"
   ]
  },
  {
   "cell_type": "code",
   "execution_count": null,
   "metadata": {},
   "outputs": [],
   "source": [
    "# ajout du code commune\n",
    "df_rep_pm = fc.add_code_com(df_rep_pm)"
   ]
  },
  {
   "cell_type": "code",
   "execution_count": null,
   "metadata": {},
   "outputs": [],
   "source": [
    "# export de la table\n",
    "fc.export2minio(\"df_rep_pm_2017_commune.csv\", df_rep_pm)"
   ]
  },
  {
   "cell_type": "code",
   "execution_count": null,
   "metadata": {},
   "outputs": [],
   "source": [
    "df_rep_pm = fc.import_inpi( \"df_rep_pm_2017_commune.csv\", cols=None)"
   ]
  },
  {
   "cell_type": "code",
   "execution_count": null,
   "metadata": {},
   "outputs": [],
   "source": [
    "df_rep_pm.head()"
   ]
  },
  {
   "cell_type": "code",
   "execution_count": null,
   "metadata": {},
   "outputs": [],
   "source": [
    "# on filtre on ne va garder que les lignes avec le nom patronymique, le nom usage, les prénoms, ou la date de naissance\n",
    "df_rep_pm = df_rep_pm.loc[(df_rep_pm[\"nom_patronymique\"].isna() == False) | (df_rep_pm[\"prenoms\"].isna() == False) | \\\n",
    "                            (df_rep_pm[\"date_naissance\"].isna() == False), :]"
   ]
  },
  {
   "cell_type": "code",
   "execution_count": null,
   "metadata": {},
   "outputs": [],
   "source": [
    "df_rep_pm.shape # 8 671 244"
   ]
  },
  {
   "cell_type": "code",
   "execution_count": null,
   "metadata": {},
   "outputs": [],
   "source": [
    "df_rep_pm.head()"
   ]
  },
  {
   "cell_type": "code",
   "execution_count": null,
   "metadata": {},
   "outputs": [],
   "source": [
    "test = df_rep_pm.loc[df_rep_pm[\"code_commune_insee\"].isna() == False, :]"
   ]
  },
  {
   "cell_type": "code",
   "execution_count": null,
   "metadata": {},
   "outputs": [],
   "source": [
    "test.shape # 4 693 722 avec code commune"
   ]
  },
  {
   "cell_type": "code",
   "execution_count": null,
   "metadata": {},
   "outputs": [],
   "source": [
    "test = df_rep_pm.loc[df_rep_pm[\"code_commune\"].isna() == False, :]"
   ]
  },
  {
   "cell_type": "code",
   "execution_count": null,
   "metadata": {},
   "outputs": [],
   "source": [
    "test.shape  # 7 740 164"
   ]
  },
  {
   "cell_type": "code",
   "execution_count": null,
   "metadata": {},
   "outputs": [],
   "source": [
    "df_rep_pm.columns"
   ]
  },
  {
   "cell_type": "code",
   "execution_count": null,
   "metadata": {},
   "outputs": [],
   "source": [
    "# correction pour paris, marseille et lyon\n",
    "df_rep_pm[\"code_commune3\"] = df_rep_pm[\"code_commune\"]"
   ]
  },
  {
   "cell_type": "code",
   "execution_count": null,
   "metadata": {},
   "outputs": [],
   "source": [
    "df_rep_pm.loc[(df_rep_pm[\"code_commune3\"].isna()) & (df_rep_pm[\"ville\"] == \"paris\") & (df_rep_pm[\"code_postal\"])]"
   ]
  }
 ],
 "metadata": {
  "interpreter": {
   "hash": "ed5946f2a0d3f5e934efd92075c2a89b2cb5130d0efd6e4509a568bedf48ed26"
  },
  "kernelspec": {
   "display_name": "Python 3.10.4 ('basesspcloud')",
   "language": "python",
   "name": "python3"
  },
  "language_info": {
   "codemirror_mode": {
    "name": "ipython",
    "version": 3
   },
   "file_extension": ".py",
   "mimetype": "text/x-python",
   "name": "python",
   "nbconvert_exporter": "python",
   "pygments_lexer": "ipython3",
   "version": "3.10.4"
  },
  "orig_nbformat": 4
 },
 "nbformat": 4,
 "nbformat_minor": 2
}
