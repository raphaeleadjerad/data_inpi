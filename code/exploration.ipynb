{
 "cells": [
  {
   "cell_type": "code",
   "execution_count": 3,
   "metadata": {},
   "outputs": [
    {
     "name": "stderr",
     "output_type": "stream",
     "text": [
      "/tmp/ipykernel_468/745401279.py:13: DtypeWarning: Columns (5,6,7,8,9,10,11,12,13,14,15,16,17,18,19,22,23,24,25,27,28,31,32,34,35,36,38,39,40,41,43,44,45,46,47,48,49,50,51,52,53,54,55,56,57,58,59,60,61,62,64,65,66,67,68,69,70,72,73,74,75,76,77,78,79,80,81,83,84,85,86,87,88,89,90,91,92,93,94,95,96,97,98,100,101,102,103,105,106,107,108,109,110,111,112,113,114,115,116,117) have mixed types. Specify dtype option on import or set low_memory=False.\n",
      "  df_bpe = pd.read_csv(file_in, sep=\",\")\n"
     ]
    }
   ],
   "source": [
    "# Exploration des bases de données enregistrées dans minio\n",
    "# Create filesystem object\n",
    "import os\n",
    "\n",
    "import s3fs\n",
    "import pandas as pd\n",
    "S3_ENDPOINT_URL = \"https://\" + os.environ[\"AWS_S3_ENDPOINT\"]\n",
    "fs = s3fs.S3FileSystem(client_kwargs={'endpoint_url': S3_ENDPOINT_URL})\n",
    "BUCKET = \"radjerad\"\n",
    "FILE_KEY_S3 = \"inpi/inpi_2019.csv\"\n",
    "FILE_PATH_S3 = BUCKET + \"/\" + FILE_KEY_S3\n",
    "with fs.open(FILE_PATH_S3, mode=\"rb\") as file_in:\n",
    "    df = pd.read_csv(file_in, sep=\",\")"
   ]
  },
  {
   "cell_type": "code",
   "execution_count": 6,
   "metadata": {},
   "outputs": [
    {
     "data": {
      "text/html": [
       "<div>\n",
       "<style scoped>\n",
       "    .dataframe tbody tr th:only-of-type {\n",
       "        vertical-align: middle;\n",
       "    }\n",
       "\n",
       "    .dataframe tbody tr th {\n",
       "        vertical-align: top;\n",
       "    }\n",
       "\n",
       "    .dataframe thead th {\n",
       "        text-align: right;\n",
       "    }\n",
       "</style>\n",
       "<table border=\"1\" class=\"dataframe\">\n",
       "  <thead>\n",
       "    <tr style=\"text-align: right;\">\n",
       "      <th></th>\n",
       "      <th>Unnamed: 0</th>\n",
       "      <th>Code Greffe</th>\n",
       "      <th>Nom_Greffe</th>\n",
       "      <th>Numero_Gestion</th>\n",
       "      <th>Siren</th>\n",
       "      <th>Type_Inscription</th>\n",
       "      <th>Date_Immatriculation</th>\n",
       "      <th>Date_1re_Immatriculation</th>\n",
       "      <th>Date_Radiation</th>\n",
       "      <th>Date_Transfert</th>\n",
       "      <th>...</th>\n",
       "      <th>Enseigne</th>\n",
       "      <th>Activité_Ambulante</th>\n",
       "      <th>Activité_Saisonnière</th>\n",
       "      <th>Activité_Non_Sédentaire</th>\n",
       "      <th>Date_Début_Activité</th>\n",
       "      <th>Activité</th>\n",
       "      <th>Origine_Fonds</th>\n",
       "      <th>Origine_Fonds_Info</th>\n",
       "      <th>Type_Exploitation</th>\n",
       "      <th>ID_Etablissement</th>\n",
       "    </tr>\n",
       "  </thead>\n",
       "  <tbody>\n",
       "    <tr>\n",
       "      <th>0</th>\n",
       "      <td>0</td>\n",
       "      <td>101</td>\n",
       "      <td>Bourg-en-Bresse</td>\n",
       "      <td>2019B00890</td>\n",
       "      <td>305148884</td>\n",
       "      <td>S</td>\n",
       "      <td>2019-05-24</td>\n",
       "      <td>2019-05-24</td>\n",
       "      <td>NaN</td>\n",
       "      <td>NaN</td>\n",
       "      <td>...</td>\n",
       "      <td>NaN</td>\n",
       "      <td>NaN</td>\n",
       "      <td>NaN</td>\n",
       "      <td>NaN</td>\n",
       "      <td>NaN</td>\n",
       "      <td>NaN</td>\n",
       "      <td>NaN</td>\n",
       "      <td>NaN</td>\n",
       "      <td>NaN</td>\n",
       "      <td>NaN</td>\n",
       "    </tr>\n",
       "    <tr>\n",
       "      <th>1</th>\n",
       "      <td>1</td>\n",
       "      <td>101</td>\n",
       "      <td>Bourg-en-Bresse</td>\n",
       "      <td>1976B40029</td>\n",
       "      <td>308529668</td>\n",
       "      <td>P</td>\n",
       "      <td>1976-11-26</td>\n",
       "      <td>NaN</td>\n",
       "      <td>NaN</td>\n",
       "      <td>NaN</td>\n",
       "      <td>...</td>\n",
       "      <td>NaN</td>\n",
       "      <td>NaN</td>\n",
       "      <td>NaN</td>\n",
       "      <td>NaN</td>\n",
       "      <td>NaN</td>\n",
       "      <td>NaN</td>\n",
       "      <td>NaN</td>\n",
       "      <td>NaN</td>\n",
       "      <td>NaN</td>\n",
       "      <td>NaN</td>\n",
       "    </tr>\n",
       "    <tr>\n",
       "      <th>2</th>\n",
       "      <td>2</td>\n",
       "      <td>101</td>\n",
       "      <td>Bourg-en-Bresse</td>\n",
       "      <td>2002D00732</td>\n",
       "      <td>309729879</td>\n",
       "      <td>P</td>\n",
       "      <td>2002-10-30</td>\n",
       "      <td>NaN</td>\n",
       "      <td>NaN</td>\n",
       "      <td>NaN</td>\n",
       "      <td>...</td>\n",
       "      <td>NaN</td>\n",
       "      <td>NaN</td>\n",
       "      <td>NaN</td>\n",
       "      <td>NaN</td>\n",
       "      <td>NaN</td>\n",
       "      <td>NaN</td>\n",
       "      <td>NaN</td>\n",
       "      <td>NaN</td>\n",
       "      <td>NaN</td>\n",
       "      <td>NaN</td>\n",
       "    </tr>\n",
       "    <tr>\n",
       "      <th>3</th>\n",
       "      <td>3</td>\n",
       "      <td>101</td>\n",
       "      <td>Bourg-en-Bresse</td>\n",
       "      <td>2011B01046</td>\n",
       "      <td>317272243</td>\n",
       "      <td>P</td>\n",
       "      <td>2011-09-06</td>\n",
       "      <td>NaN</td>\n",
       "      <td>NaN</td>\n",
       "      <td>NaN</td>\n",
       "      <td>...</td>\n",
       "      <td>NaN</td>\n",
       "      <td>NaN</td>\n",
       "      <td>NaN</td>\n",
       "      <td>NaN</td>\n",
       "      <td>NaN</td>\n",
       "      <td>NaN</td>\n",
       "      <td>NaN</td>\n",
       "      <td>NaN</td>\n",
       "      <td>NaN</td>\n",
       "      <td>NaN</td>\n",
       "    </tr>\n",
       "    <tr>\n",
       "      <th>4</th>\n",
       "      <td>4</td>\n",
       "      <td>101</td>\n",
       "      <td>Bourg-en-Bresse</td>\n",
       "      <td>1997B00138</td>\n",
       "      <td>319026720</td>\n",
       "      <td>P</td>\n",
       "      <td>1997-03-03</td>\n",
       "      <td>NaN</td>\n",
       "      <td>NaN</td>\n",
       "      <td>NaN</td>\n",
       "      <td>...</td>\n",
       "      <td>NaN</td>\n",
       "      <td>NaN</td>\n",
       "      <td>NaN</td>\n",
       "      <td>NaN</td>\n",
       "      <td>NaN</td>\n",
       "      <td>NaN</td>\n",
       "      <td>NaN</td>\n",
       "      <td>NaN</td>\n",
       "      <td>NaN</td>\n",
       "      <td>NaN</td>\n",
       "    </tr>\n",
       "  </tbody>\n",
       "</table>\n",
       "<p>5 rows × 119 columns</p>\n",
       "</div>"
      ],
      "text/plain": [
       "   Unnamed: 0  Code Greffe       Nom_Greffe Numero_Gestion      Siren  \\\n",
       "0           0          101  Bourg-en-Bresse     2019B00890  305148884   \n",
       "1           1          101  Bourg-en-Bresse     1976B40029  308529668   \n",
       "2           2          101  Bourg-en-Bresse     2002D00732  309729879   \n",
       "3           3          101  Bourg-en-Bresse     2011B01046  317272243   \n",
       "4           4          101  Bourg-en-Bresse     1997B00138  319026720   \n",
       "\n",
       "  Type_Inscription Date_Immatriculation Date_1re_Immatriculation  \\\n",
       "0                S           2019-05-24               2019-05-24   \n",
       "1                P           1976-11-26                      NaN   \n",
       "2                P           2002-10-30                      NaN   \n",
       "3                P           2011-09-06                      NaN   \n",
       "4                P           1997-03-03                      NaN   \n",
       "\n",
       "  Date_Radiation Date_Transfert  ... Enseigne Activité_Ambulante  \\\n",
       "0            NaN            NaN  ...      NaN                NaN   \n",
       "1            NaN            NaN  ...      NaN                NaN   \n",
       "2            NaN            NaN  ...      NaN                NaN   \n",
       "3            NaN            NaN  ...      NaN                NaN   \n",
       "4            NaN            NaN  ...      NaN                NaN   \n",
       "\n",
       "  Activité_Saisonnière Activité_Non_Sédentaire Date_Début_Activité Activité  \\\n",
       "0                  NaN                     NaN                 NaN      NaN   \n",
       "1                  NaN                     NaN                 NaN      NaN   \n",
       "2                  NaN                     NaN                 NaN      NaN   \n",
       "3                  NaN                     NaN                 NaN      NaN   \n",
       "4                  NaN                     NaN                 NaN      NaN   \n",
       "\n",
       "  Origine_Fonds Origine_Fonds_Info Type_Exploitation ID_Etablissement  \n",
       "0           NaN                NaN               NaN              NaN  \n",
       "1           NaN                NaN               NaN              NaN  \n",
       "2           NaN                NaN               NaN              NaN  \n",
       "3           NaN                NaN               NaN              NaN  \n",
       "4           NaN                NaN               NaN              NaN  \n",
       "\n",
       "[5 rows x 119 columns]"
      ]
     },
     "execution_count": 6,
     "metadata": {},
     "output_type": "execute_result"
    }
   ],
   "source": [
    "df.head()"
   ]
  },
  {
   "cell_type": "code",
   "execution_count": 8,
   "metadata": {},
   "outputs": [
    {
     "data": {
      "text/plain": [
       "269915"
      ]
     },
     "execution_count": 8,
     "metadata": {},
     "output_type": "execute_result"
    }
   ],
   "source": [
    "df[\"Siren\"].nunique()\n",
    "# 269 915"
   ]
  },
  {
   "cell_type": "code",
   "execution_count": 9,
   "metadata": {},
   "outputs": [
    {
     "data": {
      "text/plain": [
       "(5888180, 119)"
      ]
     },
     "execution_count": 9,
     "metadata": {},
     "output_type": "execute_result"
    }
   ],
   "source": [
    "df.shape # 5 888 180"
   ]
  },
  {
   "cell_type": "code",
   "execution_count": 10,
   "metadata": {},
   "outputs": [
    {
     "data": {
      "text/plain": [
       "0    2019-05-24\n",
       "1    1976-11-26\n",
       "2    2002-10-30\n",
       "3    2011-09-06\n",
       "4    1997-03-03\n",
       "Name: Date_Immatriculation, dtype: object"
      ]
     },
     "execution_count": 10,
     "metadata": {},
     "output_type": "execute_result"
    }
   ],
   "source": [
    "df[\"Date_Immatriculation\"].head()"
   ]
  },
  {
   "cell_type": "code",
   "execution_count": 12,
   "metadata": {},
   "outputs": [],
   "source": [
    "df[\"annee_Immatriculation\"] = pd.to_datetime(df[\"Date_Immatriculation\"]).dt.year"
   ]
  },
  {
   "cell_type": "code",
   "execution_count": 13,
   "metadata": {},
   "outputs": [
    {
     "data": {
      "text/plain": [
       "2017.0    42786\n",
       "2018.0    23971\n",
       "2019.0    13812\n",
       "2016.0    13416\n",
       "2015.0    11713\n",
       "          ...  \n",
       "1937.0        2\n",
       "1922.0        1\n",
       "1896.0        1\n",
       "1918.0        1\n",
       "1928.0        1\n",
       "Name: annee_Immatriculation, Length: 104, dtype: int64"
      ]
     },
     "execution_count": 13,
     "metadata": {},
     "output_type": "execute_result"
    }
   ],
   "source": [
    "df[\"annee_Immatriculation\"].value_counts() # ok donc pour le fichier stock 2019, on a le plus d'immatriculation en 2017"
   ]
  },
  {
   "cell_type": "code",
   "execution_count": 14,
   "metadata": {},
   "outputs": [
    {
     "data": {
      "text/plain": [
       "Index(['Unnamed: 0', 'Code Greffe', 'Nom_Greffe', 'Numero_Gestion', 'Siren',\n",
       "       'Type_Inscription', 'Date_Immatriculation', 'Date_1re_Immatriculation',\n",
       "       'Date_Radiation', 'Date_Transfert',\n",
       "       ...\n",
       "       'Activité_Ambulante', 'Activité_Saisonnière', 'Activité_Non_Sédentaire',\n",
       "       'Date_Début_Activité', 'Activité', 'Origine_Fonds',\n",
       "       'Origine_Fonds_Info', 'Type_Exploitation', 'ID_Etablissement',\n",
       "       'annee_Immatriculation'],\n",
       "      dtype='object', length=120)"
      ]
     },
     "execution_count": 14,
     "metadata": {},
     "output_type": "execute_result"
    }
   ],
   "source": [
    "df.columns"
   ]
  },
  {
   "cell_type": "code",
   "execution_count": 19,
   "metadata": {},
   "outputs": [],
   "source": [
    "df.columns = [c.lower() for c in df.columns]"
   ]
  },
  {
   "cell_type": "code",
   "execution_count": 21,
   "metadata": {},
   "outputs": [],
   "source": [
    "pd. set_option(\"display.max_columns\", None)"
   ]
  },
  {
   "cell_type": "code",
   "execution_count": 25,
   "metadata": {},
   "outputs": [],
   "source": [
    "df.columns = [c.replace(\"é\", \"e\") for c in df.columns]"
   ]
  },
  {
   "cell_type": "code",
   "execution_count": 27,
   "metadata": {},
   "outputs": [
    {
     "data": {
      "text/plain": [
       "6     2018-10-31\n",
       "8     2019-03-31\n",
       "19    2019-04-01\n",
       "25    2013-03-25\n",
       "28    2007-11-21\n",
       "Name: date_cessation_activite, dtype: object"
      ]
     },
     "execution_count": 27,
     "metadata": {},
     "output_type": "execute_result"
    }
   ],
   "source": [
    "df.loc[~df[\"date_cessation_activite\"].isna(), \"date_cessation_activite\"].head()"
   ]
  },
  {
   "cell_type": "code",
   "execution_count": 28,
   "metadata": {},
   "outputs": [
    {
     "data": {
      "text/html": [
       "<div>\n",
       "<style scoped>\n",
       "    .dataframe tbody tr th:only-of-type {\n",
       "        vertical-align: middle;\n",
       "    }\n",
       "\n",
       "    .dataframe tbody tr th {\n",
       "        vertical-align: top;\n",
       "    }\n",
       "\n",
       "    .dataframe thead th {\n",
       "        text-align: right;\n",
       "    }\n",
       "</style>\n",
       "<table border=\"1\" class=\"dataframe\">\n",
       "  <thead>\n",
       "    <tr style=\"text-align: right;\">\n",
       "      <th></th>\n",
       "      <th>denomination</th>\n",
       "      <th>denomination</th>\n",
       "    </tr>\n",
       "  </thead>\n",
       "  <tbody>\n",
       "    <tr>\n",
       "      <th>0</th>\n",
       "      <td>GROUPE SAB - FINANCIERE D'AZOLETTE</td>\n",
       "      <td>NaN</td>\n",
       "    </tr>\n",
       "    <tr>\n",
       "      <th>1</th>\n",
       "      <td>S.M.G. TURTSCHI</td>\n",
       "      <td>NaN</td>\n",
       "    </tr>\n",
       "    <tr>\n",
       "      <th>2</th>\n",
       "      <td>SOCIETE CIVILE IMMOBILIERE BERJADANE, PAR ABRE...</td>\n",
       "      <td>NaN</td>\n",
       "    </tr>\n",
       "    <tr>\n",
       "      <th>3</th>\n",
       "      <td>PROMOTION IMMOBILIERE</td>\n",
       "      <td>NaN</td>\n",
       "    </tr>\n",
       "    <tr>\n",
       "      <th>4</th>\n",
       "      <td>ETABLISSEMENTS SABY GIRARDOT</td>\n",
       "      <td>NaN</td>\n",
       "    </tr>\n",
       "  </tbody>\n",
       "</table>\n",
       "</div>"
      ],
      "text/plain": [
       "                                        denomination denomination\n",
       "0                 GROUPE SAB - FINANCIERE D'AZOLETTE          NaN\n",
       "1                                   S.M.G. TURTSCHI           NaN\n",
       "2  SOCIETE CIVILE IMMOBILIERE BERJADANE, PAR ABRE...          NaN\n",
       "3                              PROMOTION IMMOBILIERE          NaN\n",
       "4                       ETABLISSEMENTS SABY GIRARDOT          NaN"
      ]
     },
     "execution_count": 28,
     "metadata": {},
     "output_type": "execute_result"
    }
   ],
   "source": [
    "df[\"denomination\"].head()"
   ]
  },
  {
   "cell_type": "code",
   "execution_count": 29,
   "metadata": {},
   "outputs": [
    {
     "data": {
      "text/plain": [
       "0"
      ]
     },
     "execution_count": 29,
     "metadata": {},
     "output_type": "execute_result"
    }
   ],
   "source": [
    "df[\"siren\"].isna().sum()"
   ]
  },
  {
   "cell_type": "code",
   "execution_count": 30,
   "metadata": {},
   "outputs": [
    {
     "data": {
      "text/plain": [
       "0"
      ]
     },
     "execution_count": 30,
     "metadata": {},
     "output_type": "execute_result"
    }
   ],
   "source": [
    "(df[\"siren\"]==\"\").sum()"
   ]
  },
  {
   "cell_type": "code",
   "execution_count": 31,
   "metadata": {},
   "outputs": [
    {
     "data": {
      "text/plain": [
       "0    305148884\n",
       "1    308529668\n",
       "2    309729879\n",
       "3    317272243\n",
       "4    319026720\n",
       "Name: siren, dtype: int64"
      ]
     },
     "execution_count": 31,
     "metadata": {},
     "output_type": "execute_result"
    }
   ],
   "source": [
    "df[\"siren\"].head()"
   ]
  },
  {
   "cell_type": "code",
   "execution_count": 32,
   "metadata": {},
   "outputs": [
    {
     "data": {
      "text/plain": [
       "269915"
      ]
     },
     "execution_count": 32,
     "metadata": {},
     "output_type": "execute_result"
    }
   ],
   "source": [
    "df[\"siren\"].nunique() # 269 915"
   ]
  },
  {
   "cell_type": "code",
   "execution_count": 37,
   "metadata": {},
   "outputs": [
    {
     "data": {
      "text/plain": [
       "(0, 120)"
      ]
     },
     "execution_count": 37,
     "metadata": {},
     "output_type": "execute_result"
    }
   ],
   "source": [
    "df.loc[df[\"siren\"] == \"000000000\",:].shape"
   ]
  },
  {
   "cell_type": "code",
   "execution_count": 35,
   "metadata": {},
   "outputs": [
    {
     "data": {
      "text/plain": [
       "1453         CRIBEL\n",
       "1454       TURTSCHI\n",
       "1455       TURTSCHI\n",
       "1456    TARTAGLIONE\n",
       "1457    TARTAGLIONE\n",
       "Name: nom_patronymique, dtype: object"
      ]
     },
     "execution_count": 35,
     "metadata": {},
     "output_type": "execute_result"
    }
   ],
   "source": [
    "# personnes physiques\n",
    "df.loc[~df[\"nom_patronymique\"].isna(), \"nom_patronymique\"].head()"
   ]
  },
  {
   "cell_type": "code",
   "execution_count": 36,
   "metadata": {},
   "outputs": [
    {
     "data": {
      "text/plain": [
       "(651190,)"
      ]
     },
     "execution_count": 36,
     "metadata": {},
     "output_type": "execute_result"
    }
   ],
   "source": [
    "df.loc[~df[\"nom_patronymique\"].isna(), \"nom_patronymique\"].shape # 651 190"
   ]
  },
  {
   "cell_type": "code",
   "execution_count": 38,
   "metadata": {},
   "outputs": [
    {
     "data": {
      "text/plain": [
       "(114577,)"
      ]
     },
     "execution_count": 38,
     "metadata": {},
     "output_type": "execute_result"
    }
   ],
   "source": [
    "df.loc[~df[\"nom_usage\"].isna(), \"nom_usage\"].shape # 114 577"
   ]
  },
  {
   "cell_type": "code",
   "execution_count": 39,
   "metadata": {},
   "outputs": [
    {
     "data": {
      "text/plain": [
       "1453    Georges\n",
       "1454     Arnaud\n",
       "1455      Cyril\n",
       "1456      André\n",
       "1457      André\n",
       "Name: prenoms, dtype: object"
      ]
     },
     "execution_count": 39,
     "metadata": {},
     "output_type": "execute_result"
    }
   ],
   "source": [
    "df.loc[~df[\"prenoms\"].isna(), \"prenoms\"].head()"
   ]
  },
  {
   "cell_type": "code",
   "execution_count": 40,
   "metadata": {},
   "outputs": [
    {
     "data": {
      "text/plain": [
       "1453    1989-08-31\n",
       "1454    1985-06-11\n",
       "1455    1977-01-14\n",
       "1456    1945-03-17\n",
       "1457    1945-03-17\n",
       "Name: date_naissance, dtype: object"
      ]
     },
     "execution_count": 40,
     "metadata": {},
     "output_type": "execute_result"
    }
   ],
   "source": [
    "df.loc[~df[\"date_naissance\"].isna(), \"date_naissance\"].head()"
   ]
  },
  {
   "cell_type": "code",
   "execution_count": 41,
   "metadata": {},
   "outputs": [
    {
     "data": {
      "text/plain": [
       "1453              71270 Mâcon (71)\n",
       "1454             01034 Belley (01)\n",
       "1455             01034 Belley (01)\n",
       "1456    01053 Bourg-en-Bresse (01)\n",
       "1457    01053 Bourg-en-Bresse (01)\n",
       "Name: ville_naissance, dtype: object"
      ]
     },
     "execution_count": 41,
     "metadata": {},
     "output_type": "execute_result"
    }
   ],
   "source": [
    "df.loc[~df[\"ville_naissance\"].isna(), \"ville_naissance\"].head()"
   ]
  },
  {
   "cell_type": "code",
   "execution_count": 43,
   "metadata": {},
   "outputs": [
    {
     "data": {
      "text/plain": [
       "False    5888089\n",
       "True          91\n",
       "Name: siren, dtype: int64"
      ]
     },
     "execution_count": 43,
     "metadata": {},
     "output_type": "execute_result"
    }
   ],
   "source": [
    "(df[\"siren\"]==0).value_counts()"
   ]
  },
  {
   "cell_type": "code",
   "execution_count": 44,
   "metadata": {},
   "outputs": [
    {
     "data": {
      "text/plain": [
       "6901_S2_20190506_12_actes.csv              174728\n",
       "7501_S2_20190506_12_actes.csv              168471\n",
       "9401_S3_20190506_12_actes.csv              154666\n",
       "3102_S2_20190506_12_actes.csv               92834\n",
       "6901_S2_20190506_13_comptes_annuels.csv     89147\n",
       "                                            ...  \n",
       "6901_S3_20190616_3_PP.csv                       1\n",
       "2104_S3_20190616_3_PP.csv                       1\n",
       "9201_S4_20190616_3_PP.csv                       1\n",
       "7702_S4_20190616_3_PP.csv                       1\n",
       "0203_S4_20190922_3_PP.csv                       1\n",
       "Name: source, Length: 4638, dtype: int64"
      ]
     },
     "execution_count": 44,
     "metadata": {},
     "output_type": "execute_result"
    }
   ],
   "source": [
    "df[\"source\"].value_counts()"
   ]
  },
  {
   "cell_type": "code",
   "execution_count": 45,
   "metadata": {},
   "outputs": [],
   "source": [
    "pm = df.loc[df[\"source\"].str.contains('PM'),:]"
   ]
  },
  {
   "cell_type": "code",
   "execution_count": 46,
   "metadata": {},
   "outputs": [
    {
     "data": {
      "text/plain": [
       "(289656, 120)"
      ]
     },
     "execution_count": 46,
     "metadata": {},
     "output_type": "execute_result"
    }
   ],
   "source": [
    "pm.shape # 289 656"
   ]
  },
  {
   "cell_type": "code",
   "execution_count": 49,
   "metadata": {},
   "outputs": [],
   "source": [
    "pp = df.loc[df[\"source\"].str.contains('PP'),:]"
   ]
  },
  {
   "cell_type": "code",
   "execution_count": 50,
   "metadata": {},
   "outputs": [
    {
     "data": {
      "text/plain": [
       "(31746, 120)"
      ]
     },
     "execution_count": 50,
     "metadata": {},
     "output_type": "execute_result"
    }
   ],
   "source": [
    "pp.shape # 31 746"
   ]
  },
  {
   "cell_type": "code",
   "execution_count": 51,
   "metadata": {},
   "outputs": [
    {
     "data": {
      "text/plain": [
       "(550229, 120)"
      ]
     },
     "execution_count": 51,
     "metadata": {},
     "output_type": "execute_result"
    }
   ],
   "source": [
    "ets = df.loc[df[\"source\"].str.contains('ets'),:]\n",
    "ets.shape # 550 229"
   ]
  },
  {
   "cell_type": "code",
   "execution_count": 52,
   "metadata": {},
   "outputs": [
    {
     "data": {
      "text/plain": [
       "(729802, 120)"
      ]
     },
     "execution_count": 52,
     "metadata": {},
     "output_type": "execute_result"
    }
   ],
   "source": [
    "rep = df.loc[df[\"source\"].str.contains('rep'),:]\n",
    "rep.shape # 729 802"
   ]
  },
  {
   "cell_type": "code",
   "execution_count": 53,
   "metadata": {},
   "outputs": [
    {
     "data": {
      "text/plain": [
       "(529362, 120)"
      ]
     },
     "execution_count": 53,
     "metadata": {},
     "output_type": "execute_result"
    }
   ],
   "source": [
    "obs = df.loc[df[\"source\"].str.contains('obs'),:]\n",
    "obs.shape # 529 362"
   ]
  },
  {
   "cell_type": "code",
   "execution_count": 54,
   "metadata": {},
   "outputs": [
    {
     "data": {
      "text/plain": [
       "(2579430, 120)"
      ]
     },
     "execution_count": 54,
     "metadata": {},
     "output_type": "execute_result"
    }
   ],
   "source": [
    "actes = df.loc[df[\"source\"].str.contains('actes'),:]\n",
    "actes.shape  # 2 579 430"
   ]
  },
  {
   "cell_type": "code",
   "execution_count": 55,
   "metadata": {},
   "outputs": [
    {
     "data": {
      "text/plain": [
       "(1177955, 120)"
      ]
     },
     "execution_count": 55,
     "metadata": {},
     "output_type": "execute_result"
    }
   ],
   "source": [
    "comptes_an = df.loc[df[\"source\"].str.contains('comptes_annuels'),:]\n",
    "comptes_an.shape # 1 177 955"
   ]
  },
  {
   "cell_type": "code",
   "execution_count": 57,
   "metadata": {},
   "outputs": [
    {
     "data": {
      "text/plain": [
       "5888180"
      ]
     },
     "execution_count": 57,
     "metadata": {},
     "output_type": "execute_result"
    }
   ],
   "source": [
    "comptes_an.shape[0] + pm.shape[0] + pp.shape[0] + ets.shape[0] + actes.shape[0] + rep.shape[0] + obs.shape[0]"
   ]
  },
  {
   "cell_type": "code",
   "execution_count": 58,
   "metadata": {},
   "outputs": [
    {
     "data": {
      "text/plain": [
       "(5888180, 120)"
      ]
     },
     "execution_count": 58,
     "metadata": {},
     "output_type": "execute_result"
    }
   ],
   "source": [
    "df.shape"
   ]
  },
  {
   "cell_type": "code",
   "execution_count": null,
   "metadata": {},
   "outputs": [],
   "source": []
  }
 ],
 "metadata": {
  "interpreter": {
   "hash": "ed5946f2a0d3f5e934efd92075c2a89b2cb5130d0efd6e4509a568bedf48ed26"
  },
  "kernelspec": {
   "display_name": "Python 3.10.4 ('basesspcloud')",
   "language": "python",
   "name": "python3"
  },
  "language_info": {
   "codemirror_mode": {
    "name": "ipython",
    "version": 3
   },
   "file_extension": ".py",
   "mimetype": "text/x-python",
   "name": "python",
   "nbconvert_exporter": "python",
   "pygments_lexer": "ipython3",
   "version": "3.10.4"
  },
  "orig_nbformat": 4
 },
 "nbformat": 4,
 "nbformat_minor": 2
}
