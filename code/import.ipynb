{
 "cells": [
  {
   "cell_type": "code",
   "execution_count": null,
   "metadata": {},
   "outputs": [],
   "source": [
    "import functions as fc\n",
    "\n",
    "fc.download_tgz_raw()"
   ]
  },
  {
   "cell_type": "code",
   "execution_count": null,
   "metadata": {},
   "outputs": [],
   "source": [
    "fc.import_tgz(\"2018\", \"./data2018\")"
   ]
  },
  {
   "cell_type": "code",
   "execution_count": null,
   "metadata": {},
   "outputs": [],
   "source": [
    "fc.import_tgz(\"2019\", \"./data2019\")"
   ]
  },
  {
   "cell_type": "code",
   "execution_count": null,
   "metadata": {},
   "outputs": [],
   "source": [
    "fc.import_tgz(\"2020\", \"./data2020\")"
   ]
  },
  {
   "cell_type": "code",
   "execution_count": 144,
   "metadata": {},
   "outputs": [],
   "source": [
    "def open_complex_file(zip_file, fi):\n",
    "    df = pd.read_csv(zip_file.open(fi), sep=\";\")\n",
    "    df[\"source\"] = fi\n",
    "    return df\n",
    "\n",
    "\n",
    "def import_all_files(path2data, extension=\"*.csv\"):\n",
    "    \"\"\"_summary_\n",
    "\n",
    "    Args:\n",
    "        path (_type_): _description_\n",
    "    \"\"\"\n",
    "    all_files = [file for path, subdir, files in os.walk(path2data) for \\\n",
    "                    file in glob(os.path.join(path, extension))]\n",
    "    #print(all_files)\n",
    "    list_df = []\n",
    "    for filename in all_files:\n",
    "\n",
    "        filesize = os.path.getsize(filename)\n",
    "        if filesize != 0 and extension == \"*.csv\":\n",
    "            temp_df = pd.read_csv(filename, sep=\";\")\n",
    "            temp_df[\"file_path\"] = filename\n",
    "            list_df.append(temp_df)\n",
    "\n",
    "        if filesize != 0 and extension == \"*.zip\":\n",
    "            zip_file = ZipFile(filename)         \n",
    "            temp_df = [open_complex_file(zip_file, text_file.filename)\n",
    "                for text_file in zip_file.infolist()\n",
    "                if text_file.filename.endswith('.csv')]\n",
    "            list_df.append(temp_df)\n",
    "    return list_df"
   ]
  },
  {
   "cell_type": "code",
   "execution_count": 146,
   "metadata": {},
   "outputs": [
    {
     "name": "stderr",
     "output_type": "stream",
     "text": [
      "/tmp/ipykernel_548/724398429.py:2: DtypeWarning: Columns (7,17,32,34) have mixed types. Specify dtype option on import or set low_memory=False.\n",
      "  df = pd.read_csv(zip_file.open(fi), sep=\";\")\n",
      "/tmp/ipykernel_548/724398429.py:2: DtypeWarning: Columns (7) have mixed types. Specify dtype option on import or set low_memory=False.\n",
      "  df = pd.read_csv(zip_file.open(fi), sep=\";\")\n",
      "/tmp/ipykernel_548/724398429.py:2: DtypeWarning: Columns (7,34) have mixed types. Specify dtype option on import or set low_memory=False.\n",
      "  df = pd.read_csv(zip_file.open(fi), sep=\";\")\n",
      "/tmp/ipykernel_548/724398429.py:2: DtypeWarning: Columns (15,32,35,37) have mixed types. Specify dtype option on import or set low_memory=False.\n",
      "  df = pd.read_csv(zip_file.open(fi), sep=\";\")\n",
      "/tmp/ipykernel_548/724398429.py:2: DtypeWarning: Columns (25,26,33,39,40,42) have mixed types. Specify dtype option on import or set low_memory=False.\n",
      "  df = pd.read_csv(zip_file.open(fi), sep=\";\")\n",
      "/tmp/ipykernel_548/724398429.py:2: DtypeWarning: Columns (6,9,14,17,20,21,22,23,24,26,27) have mixed types. Specify dtype option on import or set low_memory=False.\n",
      "  df = pd.read_csv(zip_file.open(fi), sep=\";\")\n",
      "/tmp/ipykernel_548/724398429.py:2: DtypeWarning: Columns (15,32,35,37) have mixed types. Specify dtype option on import or set low_memory=False.\n",
      "  df = pd.read_csv(zip_file.open(fi), sep=\";\")\n",
      "/tmp/ipykernel_548/724398429.py:2: DtypeWarning: Columns (15,17,32,37,39,40,42) have mixed types. Specify dtype option on import or set low_memory=False.\n",
      "  df = pd.read_csv(zip_file.open(fi), sep=\";\")\n",
      "/tmp/ipykernel_548/724398429.py:2: DtypeWarning: Columns (14,16,18) have mixed types. Specify dtype option on import or set low_memory=False.\n",
      "  df = pd.read_csv(zip_file.open(fi), sep=\";\")\n",
      "/tmp/ipykernel_548/724398429.py:2: DtypeWarning: Columns (7) have mixed types. Specify dtype option on import or set low_memory=False.\n",
      "  df = pd.read_csv(zip_file.open(fi), sep=\";\")\n",
      "/tmp/ipykernel_548/724398429.py:2: DtypeWarning: Columns (7,17,25,39,40,42) have mixed types. Specify dtype option on import or set low_memory=False.\n",
      "  df = pd.read_csv(zip_file.open(fi), sep=\";\")\n",
      "/tmp/ipykernel_548/724398429.py:2: DtypeWarning: Columns (18) have mixed types. Specify dtype option on import or set low_memory=False.\n",
      "  df = pd.read_csv(zip_file.open(fi), sep=\";\")\n",
      "/tmp/ipykernel_548/724398429.py:2: DtypeWarning: Columns (7,17,25,26,34) have mixed types. Specify dtype option on import or set low_memory=False.\n",
      "  df = pd.read_csv(zip_file.open(fi), sep=\";\")\n",
      "/tmp/ipykernel_548/724398429.py:2: DtypeWarning: Columns (14) have mixed types. Specify dtype option on import or set low_memory=False.\n",
      "  df = pd.read_csv(zip_file.open(fi), sep=\";\")\n"
     ]
    }
   ],
   "source": [
    "list_df = import_all_files(\"data2020/\", \"*.zip\")"
   ]
  },
  {
   "cell_type": "code",
   "execution_count": 147,
   "metadata": {},
   "outputs": [
    {
     "data": {
      "text/plain": [
       "544"
      ]
     },
     "execution_count": 147,
     "metadata": {},
     "output_type": "execute_result"
    }
   ],
   "source": [
    "len(list_df)"
   ]
  },
  {
   "cell_type": "code",
   "execution_count": 148,
   "metadata": {},
   "outputs": [],
   "source": [
    "li = []\n",
    "for i in range(len(list_df)):\n",
    "    temp = pd.concat(list_df[i])\n",
    "    li.append(temp)"
   ]
  },
  {
   "cell_type": "code",
   "execution_count": 149,
   "metadata": {},
   "outputs": [],
   "source": [
    "df_final = pd.concat(li)"
   ]
  },
  {
   "cell_type": "code",
   "execution_count": 150,
   "metadata": {},
   "outputs": [
    {
     "data": {
      "text/plain": [
       "(5643099, 118)"
      ]
     },
     "execution_count": 150,
     "metadata": {},
     "output_type": "execute_result"
    }
   ],
   "source": [
    "df_final.shape"
   ]
  },
  {
   "cell_type": "code",
   "execution_count": 151,
   "metadata": {},
   "outputs": [
    {
     "data": {
      "text/html": [
       "<div>\n",
       "<style scoped>\n",
       "    .dataframe tbody tr th:only-of-type {\n",
       "        vertical-align: middle;\n",
       "    }\n",
       "\n",
       "    .dataframe tbody tr th {\n",
       "        vertical-align: top;\n",
       "    }\n",
       "\n",
       "    .dataframe thead th {\n",
       "        text-align: right;\n",
       "    }\n",
       "</style>\n",
       "<table border=\"1\" class=\"dataframe\">\n",
       "  <thead>\n",
       "    <tr style=\"text-align: right;\">\n",
       "      <th></th>\n",
       "      <th>Code Greffe</th>\n",
       "      <th>Nom_Greffe</th>\n",
       "      <th>Numero_Gestion</th>\n",
       "      <th>Siren</th>\n",
       "      <th>ID_Observation</th>\n",
       "      <th>Numéro_Observation</th>\n",
       "      <th>Date_Ajout</th>\n",
       "      <th>Date_Suppression</th>\n",
       "      <th>Texte</th>\n",
       "      <th>Date_Greffe</th>\n",
       "      <th>...</th>\n",
       "      <th>Enseigne</th>\n",
       "      <th>Activité_Ambulante</th>\n",
       "      <th>Activité_Saisonnière</th>\n",
       "      <th>Activité_Non_Sédentaire</th>\n",
       "      <th>Date_Début_Activité</th>\n",
       "      <th>Activité</th>\n",
       "      <th>Origine_Fonds</th>\n",
       "      <th>Origine_Fonds_Info</th>\n",
       "      <th>Type_Exploitation</th>\n",
       "      <th>ID_Etablissement</th>\n",
       "    </tr>\n",
       "  </thead>\n",
       "  <tbody>\n",
       "    <tr>\n",
       "      <th>0</th>\n",
       "      <td>202</td>\n",
       "      <td>Saint-Quentin</td>\n",
       "      <td>1985D70027</td>\n",
       "      <td>332890102</td>\n",
       "      <td>2.0</td>\n",
       "      <td>2.0</td>\n",
       "      <td>2002-01-01</td>\n",
       "      <td>NaN</td>\n",
       "      <td>La conversion du montant du capital des franc...</td>\n",
       "      <td>2020-06-26</td>\n",
       "      <td>...</td>\n",
       "      <td>NaN</td>\n",
       "      <td>NaN</td>\n",
       "      <td>NaN</td>\n",
       "      <td>NaN</td>\n",
       "      <td>NaN</td>\n",
       "      <td>NaN</td>\n",
       "      <td>NaN</td>\n",
       "      <td>NaN</td>\n",
       "      <td>NaN</td>\n",
       "      <td>NaN</td>\n",
       "    </tr>\n",
       "    <tr>\n",
       "      <th>1</th>\n",
       "      <td>202</td>\n",
       "      <td>Saint-Quentin</td>\n",
       "      <td>1985D70027</td>\n",
       "      <td>332890102</td>\n",
       "      <td>3.0</td>\n",
       "      <td>3.0</td>\n",
       "      <td>2009-01-01</td>\n",
       "      <td>NaN</td>\n",
       "      <td>L'entreprise était inscrite auprès du Greffe ...</td>\n",
       "      <td>2020-06-26</td>\n",
       "      <td>...</td>\n",
       "      <td>NaN</td>\n",
       "      <td>NaN</td>\n",
       "      <td>NaN</td>\n",
       "      <td>NaN</td>\n",
       "      <td>NaN</td>\n",
       "      <td>NaN</td>\n",
       "      <td>NaN</td>\n",
       "      <td>NaN</td>\n",
       "      <td>NaN</td>\n",
       "      <td>NaN</td>\n",
       "    </tr>\n",
       "    <tr>\n",
       "      <th>2</th>\n",
       "      <td>202</td>\n",
       "      <td>Saint-Quentin</td>\n",
       "      <td>1987D50023</td>\n",
       "      <td>342381415</td>\n",
       "      <td>1.0</td>\n",
       "      <td>1.0</td>\n",
       "      <td>1987-10-01</td>\n",
       "      <td>NaN</td>\n",
       "      <td>Historique : DEPOT AU GREFFE DE CHAUNY LE 24/...</td>\n",
       "      <td>2020-06-08</td>\n",
       "      <td>...</td>\n",
       "      <td>NaN</td>\n",
       "      <td>NaN</td>\n",
       "      <td>NaN</td>\n",
       "      <td>NaN</td>\n",
       "      <td>NaN</td>\n",
       "      <td>NaN</td>\n",
       "      <td>NaN</td>\n",
       "      <td>NaN</td>\n",
       "      <td>NaN</td>\n",
       "      <td>NaN</td>\n",
       "    </tr>\n",
       "    <tr>\n",
       "      <th>3</th>\n",
       "      <td>202</td>\n",
       "      <td>Saint-Quentin</td>\n",
       "      <td>1987D50023</td>\n",
       "      <td>342381415</td>\n",
       "      <td>2.0</td>\n",
       "      <td>2.0</td>\n",
       "      <td>2002-01-01</td>\n",
       "      <td>NaN</td>\n",
       "      <td>Conversion du capital social en EUROS effectu...</td>\n",
       "      <td>2020-06-08</td>\n",
       "      <td>...</td>\n",
       "      <td>NaN</td>\n",
       "      <td>NaN</td>\n",
       "      <td>NaN</td>\n",
       "      <td>NaN</td>\n",
       "      <td>NaN</td>\n",
       "      <td>NaN</td>\n",
       "      <td>NaN</td>\n",
       "      <td>NaN</td>\n",
       "      <td>NaN</td>\n",
       "      <td>NaN</td>\n",
       "    </tr>\n",
       "    <tr>\n",
       "      <th>4</th>\n",
       "      <td>202</td>\n",
       "      <td>Saint-Quentin</td>\n",
       "      <td>1987D50023</td>\n",
       "      <td>342381415</td>\n",
       "      <td>3.0</td>\n",
       "      <td>3.0</td>\n",
       "      <td>2009-01-01</td>\n",
       "      <td>NaN</td>\n",
       "      <td>Cette entreprise précédemment inscrite auprès...</td>\n",
       "      <td>2020-06-08</td>\n",
       "      <td>...</td>\n",
       "      <td>NaN</td>\n",
       "      <td>NaN</td>\n",
       "      <td>NaN</td>\n",
       "      <td>NaN</td>\n",
       "      <td>NaN</td>\n",
       "      <td>NaN</td>\n",
       "      <td>NaN</td>\n",
       "      <td>NaN</td>\n",
       "      <td>NaN</td>\n",
       "      <td>NaN</td>\n",
       "    </tr>\n",
       "  </tbody>\n",
       "</table>\n",
       "<p>5 rows × 118 columns</p>\n",
       "</div>"
      ],
      "text/plain": [
       "  Code Greffe     Nom_Greffe Numero_Gestion      Siren ID_Observation  \\\n",
       "0         202  Saint-Quentin     1985D70027  332890102            2.0   \n",
       "1         202  Saint-Quentin     1985D70027  332890102            3.0   \n",
       "2         202  Saint-Quentin     1987D50023  342381415            1.0   \n",
       "3         202  Saint-Quentin     1987D50023  342381415            2.0   \n",
       "4         202  Saint-Quentin     1987D50023  342381415            3.0   \n",
       "\n",
       "  Numéro_Observation  Date_Ajout Date_Suppression  \\\n",
       "0                2.0  2002-01-01              NaN   \n",
       "1                3.0  2009-01-01              NaN   \n",
       "2                1.0  1987-10-01              NaN   \n",
       "3                2.0  2002-01-01              NaN   \n",
       "4                3.0  2009-01-01              NaN   \n",
       "\n",
       "                                               Texte Date_Greffe  ...  \\\n",
       "0   La conversion du montant du capital des franc...  2020-06-26  ...   \n",
       "1   L'entreprise était inscrite auprès du Greffe ...  2020-06-26  ...   \n",
       "2   Historique : DEPOT AU GREFFE DE CHAUNY LE 24/...  2020-06-08  ...   \n",
       "3   Conversion du capital social en EUROS effectu...  2020-06-08  ...   \n",
       "4   Cette entreprise précédemment inscrite auprès...  2020-06-08  ...   \n",
       "\n",
       "  Enseigne Activité_Ambulante Activité_Saisonnière Activité_Non_Sédentaire  \\\n",
       "0      NaN                NaN                  NaN                     NaN   \n",
       "1      NaN                NaN                  NaN                     NaN   \n",
       "2      NaN                NaN                  NaN                     NaN   \n",
       "3      NaN                NaN                  NaN                     NaN   \n",
       "4      NaN                NaN                  NaN                     NaN   \n",
       "\n",
       "  Date_Début_Activité Activité Origine_Fonds Origine_Fonds_Info  \\\n",
       "0                 NaN      NaN           NaN                NaN   \n",
       "1                 NaN      NaN           NaN                NaN   \n",
       "2                 NaN      NaN           NaN                NaN   \n",
       "3                 NaN      NaN           NaN                NaN   \n",
       "4                 NaN      NaN           NaN                NaN   \n",
       "\n",
       "  Type_Exploitation ID_Etablissement  \n",
       "0               NaN              NaN  \n",
       "1               NaN              NaN  \n",
       "2               NaN              NaN  \n",
       "3               NaN              NaN  \n",
       "4               NaN              NaN  \n",
       "\n",
       "[5 rows x 118 columns]"
      ]
     },
     "execution_count": 151,
     "metadata": {},
     "output_type": "execute_result"
    }
   ],
   "source": [
    "df_final.head()"
   ]
  },
  {
   "cell_type": "code",
   "execution_count": null,
   "metadata": {},
   "outputs": [],
   "source": [
    "import s3fs\n",
    "# Create filesystem object\n",
    "S3_ENDPOINT_URL = \"https://\" + os.environ[\"AWS_S3_ENDPOINT\"]\n",
    "fs = s3fs.S3FileSystem(client_kwargs={'endpoint_url': S3_ENDPOINT_URL})\n",
    "BUCKET_OUT = \"radjerad\"\n",
    "FILE_KEY_OUT_S3 = \"inpi/inpi_2018.csv\"\n",
    "FILE_PATH_OUT_S3 = BUCKET_OUT + \"/\" + FILE_KEY_OUT_S3\n",
    "\n",
    "with fs.open(FILE_PATH_OUT_S3, 'w') as file_out:\n",
    "    dfs.to_csv(file_out)"
   ]
  },
  {
   "cell_type": "code",
   "execution_count": null,
   "metadata": {},
   "outputs": [],
   "source": [
    "import s3fs\n",
    "# Create filesystem object\n",
    "S3_ENDPOINT_URL = \"https://\" + os.environ[\"AWS_S3_ENDPOINT\"]\n",
    "fs = s3fs.S3FileSystem(client_kwargs={'endpoint_url': S3_ENDPOINT_URL})\n",
    "BUCKET_OUT = \"radjerad\"\n",
    "FILE_KEY_OUT_S3 = \"inpi/inpi_2019.csv\"\n",
    "FILE_PATH_OUT_S3 = BUCKET_OUT + \"/\" + FILE_KEY_OUT_S3\n",
    "\n",
    "with fs.open(FILE_PATH_OUT_S3, 'w') as file_out:\n",
    "    df_final.to_csv(file_out)"
   ]
  },
  {
   "cell_type": "code",
   "execution_count": null,
   "metadata": {},
   "outputs": [],
   "source": [
    "import s3fs\n",
    "# Create filesystem object\n",
    "S3_ENDPOINT_URL = \"https://\" + os.environ[\"AWS_S3_ENDPOINT\"]\n",
    "fs = s3fs.S3FileSystem(client_kwargs={'endpoint_url': S3_ENDPOINT_URL})\n",
    "BUCKET_OUT = \"radjerad\"\n",
    "FILE_KEY_OUT_S3 = \"inpi/inpi_2020.csv\"\n",
    "FILE_PATH_OUT_S3 = BUCKET_OUT + \"/\" + FILE_KEY_OUT_S3\n",
    "\n",
    "with fs.open(FILE_PATH_OUT_S3, 'w') as file_out:\n",
    "    df_final.to_csv(file_out)"
   ]
  },
  {
   "cell_type": "code",
   "execution_count": null,
   "metadata": {},
   "outputs": [],
   "source": []
  }
 ],
 "metadata": {
  "interpreter": {
   "hash": "ed5946f2a0d3f5e934efd92075c2a89b2cb5130d0efd6e4509a568bedf48ed26"
  },
  "kernelspec": {
   "display_name": "Python 3.10.4 ('basesspcloud')",
   "language": "python",
   "name": "python3"
  },
  "language_info": {
   "codemirror_mode": {
    "name": "ipython",
    "version": 3
   },
   "file_extension": ".py",
   "mimetype": "text/x-python",
   "name": "python",
   "nbconvert_exporter": "python",
   "pygments_lexer": "ipython3",
   "version": "3.10.4"
  },
  "orig_nbformat": 4
 },
 "nbformat": 4,
 "nbformat_minor": 2
}
