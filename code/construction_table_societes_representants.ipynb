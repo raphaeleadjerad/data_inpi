{
 "cells": [
  {
   "cell_type": "markdown",
   "metadata": {},
   "source": [
    "1/ Importation des données TC et TITMC \n",
    "\n",
    "2/ Import et traitement du fichier des prénoms \n",
    "\n",
    "3/ Ajouter le genre des personnes \n",
    "\n",
    "4/ Codification des adresses \n",
    "\n",
    "5/ Ajout et traitement du code commune\n",
    "\n",
    "6/ Retraiter et simplifier les qualités "
   ]
  },
  {
   "cell_type": "code",
   "execution_count": null,
   "metadata": {},
   "outputs": [],
   "source": [
    "# Lecture de la base inpi\n",
    "import os\n",
    "import s3fs\n",
    "import pandas as pd\n",
    "# Create filesystem object\n",
    "S3_ENDPOINT_URL = \"https://\" + os.environ[\"AWS_S3_ENDPOINT\"]\n",
    "fs = s3fs.S3FileSystem(client_kwargs={'endpoint_url': S3_ENDPOINT_URL})\n",
    "BUCKET = \"radjerad/inpi\"\n",
    "FILE_KEY_S3 = \"data_rep_pm_2017.csv\"\n",
    "FILE_PATH_S3 = BUCKET + \"/\" + FILE_KEY_S3\n",
    "\n",
    "with fs.open(FILE_PATH_S3, mode=\"rb\") as file_in:\n",
    "    df_rep_pm = pd.read_csv(file_in, sep=\";\", encoding=\"utf-8\")"
   ]
  },
  {
   "cell_type": "code",
   "execution_count": null,
   "metadata": {},
   "outputs": [],
   "source": [
    "df_rep_pm.shape # 9 751 833"
   ]
  },
  {
   "cell_type": "code",
   "execution_count": null,
   "metadata": {},
   "outputs": [],
   "source": [
    "df_rep_pm = df_rep_pm.rename({\"code greffe\": \"code_greffe\"}, axis=1)"
   ]
  },
  {
   "cell_type": "code",
   "execution_count": null,
   "metadata": {},
   "outputs": [],
   "source": [
    "df_rep_pm = df_rep_pm.loc[:, [\"code_greffe\", \"siren\", \"denomination\", \"forme_juridique_x\", \"qualité\",\n",
    "\"nom_patronymique\", \"nom_usage\", \"prénoms\", \"type\", \"date_naissance\", \"ville_naissance\", \"adresse_ligne1\", \"adresse_ligne2\",\n",
    "\"adresse_ligne3\", \"code_postal\", \"ville\", \"code_commune\", \"pays\", \"id_représentant\"]]"
   ]
  },
  {
   "cell_type": "code",
   "execution_count": null,
   "metadata": {},
   "outputs": [],
   "source": [
    "df_rep_pm = df_rep_pm.rename({\"forme_juridique_x\": \"forme_juridique\", \"prénoms\": \"prenoms\", \"qualité\": \"qualite\", \"id_représentant\": \"id_representant\"}, axis=1)"
   ]
  },
  {
   "cell_type": "code",
   "execution_count": null,
   "metadata": {},
   "outputs": [],
   "source": [
    "df_rep_pm.head(10)"
   ]
  },
  {
   "cell_type": "code",
   "execution_count": null,
   "metadata": {},
   "outputs": [],
   "source": [
    "df_rep_pm[\"qualite\"].isna().sum() # 246 926"
   ]
  },
  {
   "cell_type": "code",
   "execution_count": null,
   "metadata": {},
   "outputs": [],
   "source": [
    "# Traitement des cas où le nom et les prénoms sont manquants\n",
    "\n",
    "re2 = \"(\\sNEE\\s[A-Za-z\\-]+)\\s([A-Za-z\\-\\.\\s]+)\"\n"
   ]
  },
  {
   "cell_type": "code",
   "execution_count": null,
   "metadata": {},
   "outputs": [],
   "source": [
    "df_rep_pm.loc[df_rep_pm[\"prenoms\"] == \"-\", \"prenoms\"] = \"\""
   ]
  },
  {
   "cell_type": "code",
   "execution_count": null,
   "metadata": {},
   "outputs": [],
   "source": [
    "df_rep_pm.loc[df_rep_pm[\"prenoms\"] == \"\", :].shape # 4 448"
   ]
  },
  {
   "cell_type": "code",
   "execution_count": null,
   "metadata": {},
   "outputs": [],
   "source": [
    "df_rep_pm.loc[(df_rep_pm[\"prenoms\"] == \"\") & (df_rep_pm[\"type\"] == \"P.Physique\"), :].shape # 4 448"
   ]
  },
  {
   "cell_type": "code",
   "execution_count": null,
   "metadata": {},
   "outputs": [],
   "source": [
    "re1 = \"(INDIVISION SUCCESSORALE DE M\\.\\s|\\sM\\.\\s|^M\\.\\s|MME\\.\\s|MR\\.\\s|MELLE\\.\\s|MONSIEUR\\.?\\s|MADAME\\.?\\s|MLLE\\.\\s|REPRESENTEE\\sPAR\\sMONSIEUR\\.?\\s|REPRESENTEE\\sPAR\\s)\"\n",
    "df_rep_pm[\"top_civilite\"] = df_rep_pm[\"nom_patronymique\"].str.contains(re1, regex=True)"
   ]
  },
  {
   "cell_type": "code",
   "execution_count": null,
   "metadata": {},
   "outputs": [],
   "source": [
    "df_rep_pm.loc[df_rep_pm[\"top_civilite\"] == True, \"nom_patronymique\"].head()"
   ]
  },
  {
   "cell_type": "code",
   "execution_count": null,
   "metadata": {},
   "outputs": [],
   "source": [
    "df_rep_pm[\"contenu_civilite\"] = df_rep_pm[\"nom_patronymique\"].str.extract(re1)"
   ]
  },
  {
   "cell_type": "code",
   "execution_count": null,
   "metadata": {},
   "outputs": [],
   "source": [
    "df_rep_pm.loc[df_rep_pm[\"top_civilite\"] == True, \"contenu_civilite\"].head()"
   ]
  },
  {
   "cell_type": "code",
   "execution_count": null,
   "metadata": {},
   "outputs": [],
   "source": [
    "df_rep_pm[\"nom_patronymique2\"] = df_rep_pm[\"nom_patronymique\"]"
   ]
  },
  {
   "cell_type": "code",
   "execution_count": null,
   "metadata": {},
   "outputs": [],
   "source": [
    "df_rep_pm[\"nom_patronymique2\"] = df_rep_pm[\"nom_patronymique2\"].str.replace(re1,\"\")"
   ]
  },
  {
   "cell_type": "code",
   "execution_count": null,
   "metadata": {},
   "outputs": [],
   "source": [
    "from pandas import option_context\n",
    "with option_context('display.max_colwidth', 400):\n",
    "    print(df_rep_pm.loc[df_rep_pm[\"top_civilite\"] == True, \"nom_patronymique2\"].head(10))"
   ]
  },
  {
   "cell_type": "code",
   "execution_count": null,
   "metadata": {},
   "outputs": [],
   "source": [
    "# on repartit les noms et les prénoms dans les bonnes variables\n",
    "# on a modifié un peu le code de l'insee pour enlever les representee par, ici aussi car on va essayer de prendre en compte les particules\n",
    "particule = \"(DU\\s[A-Za-z]+|DE\\sLA\\s[A-Za-z]+|[A-Za-z]+\\sDU\\s[A-Za-z]+|[A-Za-z]+\\sDE\\sLA\\s[A-Za-z]+|DE\\s[A-Za-z]+|[A-Za-z]+\\sDE\\s[A-Za-z]+)\"\n",
    "#particule = \"(DU\\s|DE\\sLA\\s|\\sDU\\s|\\sDE\\sLA\\s|DE\\s|\\sDE\\s)\"\n",
    "df_rep_pm[\"top_particule\"] = df_rep_pm[\"nom_patronymique\"].str.contains(particule, regex=True)"
   ]
  },
  {
   "cell_type": "code",
   "execution_count": null,
   "metadata": {},
   "outputs": [],
   "source": [
    "df_rep_pm.loc[(df_rep_pm[\"prenoms\"] == \"\") | (df_rep_pm[\"prenoms\"].isna()),:].shape # 1093022"
   ]
  },
  {
   "cell_type": "code",
   "execution_count": null,
   "metadata": {},
   "outputs": [],
   "source": [
    "df_rep_pm.loc[(df_rep_pm[\"prenoms\"] == \"\"),:].shape # 4448, mais ce sont tous des cas différents, donc on n'a pas envie de séparer nom et prénoms comme le fait l'insee"
   ]
  },
  {
   "cell_type": "code",
   "execution_count": null,
   "metadata": {},
   "outputs": [],
   "source": [
    "df_rep_pm.loc[(df_rep_pm[\"top_particule\"] == True) & (df_rep_pm[\"prenoms\"] == \"\"), \"nom_patronymique2\"].head(10)"
   ]
  },
  {
   "cell_type": "code",
   "execution_count": null,
   "metadata": {},
   "outputs": [],
   "source": [
    "df_rep_pm.loc[df_rep_pm[\"nom_usage\"].isna(), :].head() # pas d'info parfois quand il y a l'info nom patronymique et prénoms "
   ]
  },
  {
   "cell_type": "code",
   "execution_count": 99,
   "metadata": {},
   "outputs": [
    {
     "data": {
      "text/plain": [
       "Gérant                                  2413218\n",
       "Associé                                 2174834\n",
       "Gérant                                  1112522\n",
       "Associé indéfiniment responsable        1089112\n",
       "gérant                                   633900\n",
       "                                         ...   \n",
       "Adhérent                                      1\n",
       "Directeur technique et administratif          1\n",
       "Comptable                                     1\n",
       "Contrôleur des comptes adjoint                1\n",
       "Mandataire général                            1\n",
       "Name: qualite, Length: 371, dtype: int64"
      ]
     },
     "execution_count": 99,
     "metadata": {},
     "output_type": "execute_result"
    }
   ],
   "source": [
    "# nettoyage de la variable qualite \n",
    "df_rep_pm[\"qualite\"].value_counts()"
   ]
  },
  {
   "cell_type": "code",
   "execution_count": 100,
   "metadata": {},
   "outputs": [],
   "source": [
    "df_rep_pm[\"qualite2\"] = df_rep_pm[\"qualite\"]"
   ]
  },
  {
   "cell_type": "code",
   "execution_count": 104,
   "metadata": {},
   "outputs": [],
   "source": [
    "df_rep_pm[\"qualite2\"] = df_rep_pm[\"qualite2\"].str.lower()\n",
    "df_rep_pm[\"qualite2\"] = df_rep_pm[\"qualite2\"].str.strip()"
   ]
  },
  {
   "cell_type": "code",
   "execution_count": 105,
   "metadata": {},
   "outputs": [
    {
     "data": {
      "text/plain": [
       "gérant                                                                                                              4159640\n",
       "associé                                                                                                             2174857\n",
       "associé indéfiniment responsable                                                                                    1089112\n",
       "président                                                                                                            578505\n",
       "commissaire aux comptes titulaire                                                                                    249159\n",
       "                                                                                                                     ...   \n",
       "adhérent                                                                                                                  1\n",
       "directeur technique et administratif                                                                                      1\n",
       "membre titulaire représentant du conseil d'etat, de la cour des comptes ou de l'inspection générale des finances          1\n",
       "contrôleur des comptes adjoint                                                                                            1\n",
       "mandataire général                                                                                                        1\n",
       "Name: qualite2, Length: 306, dtype: int64"
      ]
     },
     "execution_count": 105,
     "metadata": {},
     "output_type": "execute_result"
    }
   ],
   "source": [
    "df_rep_pm[\"qualite2\"].value_counts()"
   ]
  },
  {
   "cell_type": "code",
   "execution_count": 106,
   "metadata": {},
   "outputs": [],
   "source": [
    "# nettoyage de la dénomination\n",
    "df_rep_pm[\"denomination2\"] = df_rep_pm[\"denomination\"]"
   ]
  },
  {
   "cell_type": "code",
   "execution_count": 108,
   "metadata": {},
   "outputs": [],
   "source": [
    "df_rep_pm[\"denomination2\"] = df_rep_pm[\"denomination2\"].str.lower()"
   ]
  },
  {
   "cell_type": "code",
   "execution_count": 109,
   "metadata": {},
   "outputs": [
    {
     "data": {
      "text/plain": [
       "0                                    agir technologies\n",
       "1                                                doras\n",
       "2    societe immobiliere financiere d etudes et de ...\n",
       "3    societe immobiliere financiere d etudes et de ...\n",
       "4    societe immobiliere financiere d etudes et de ...\n",
       "5    societe immobiliere financiere d etudes et de ...\n",
       "6       societe nationale des etablissements piot pneu\n",
       "7                                           richardson\n",
       "8                                                samse\n",
       "9                                                 bmra\n",
       "Name: denomination2, dtype: object"
      ]
     },
     "execution_count": 109,
     "metadata": {},
     "output_type": "execute_result"
    }
   ],
   "source": [
    "df_rep_pm[\"denomination2\"].head(10)"
   ]
  },
  {
   "cell_type": "code",
   "execution_count": 110,
   "metadata": {},
   "outputs": [
    {
     "data": {
      "text/plain": [
       "Index(['code_greffe', 'siren', 'denomination', 'forme_juridique', 'qualite', 'nom_patronymique', 'nom_usage', 'prenoms', 'type', 'date_naissance', 'ville_naissance', 'adresse_ligne1', 'adresse_ligne2', 'adresse_ligne3', 'code_postal', 'ville', 'code_commune', 'pays', 'id_representant', 'top_civilite', 'contenu_civilite', 'nom_patronymique2', 'top_particule', 'qualite2', 'denomination2'], dtype='object')"
      ]
     },
     "execution_count": 110,
     "metadata": {},
     "output_type": "execute_result"
    }
   ],
   "source": [
    "# codification des adresses\n",
    "df_rep_pm.columns"
   ]
  },
  {
   "cell_type": "code",
   "execution_count": 112,
   "metadata": {},
   "outputs": [
    {
     "data": {
      "text/plain": [
       "0           NaN\n",
       "1           NaN\n",
       "2    Carpentras\n",
       "3         Paris\n",
       "4    Carpentras\n",
       "5    Strasbourg\n",
       "6           NaN\n",
       "7           NaN\n",
       "8           NaN\n",
       "9           NaN\n",
       "Name: ville, dtype: object"
      ]
     },
     "execution_count": 112,
     "metadata": {},
     "output_type": "execute_result"
    }
   ],
   "source": [
    "df_rep_pm[\"ville\"].head(10)"
   ]
  },
  {
   "cell_type": "code",
   "execution_count": 113,
   "metadata": {},
   "outputs": [
    {
     "data": {
      "text/plain": [
       "(0, 25)"
      ]
     },
     "execution_count": 113,
     "metadata": {},
     "output_type": "execute_result"
    }
   ],
   "source": [
    "df_rep_pm.loc[df_rep_pm[\"ville\"] == \"\", :].shape"
   ]
  },
  {
   "cell_type": "code",
   "execution_count": null,
   "metadata": {},
   "outputs": [],
   "source": []
  }
 ],
 "metadata": {
  "interpreter": {
   "hash": "ed5946f2a0d3f5e934efd92075c2a89b2cb5130d0efd6e4509a568bedf48ed26"
  },
  "kernelspec": {
   "display_name": "Python 3.10.4 ('basesspcloud')",
   "language": "python",
   "name": "python3"
  },
  "language_info": {
   "codemirror_mode": {
    "name": "ipython",
    "version": 3
   },
   "file_extension": ".py",
   "mimetype": "text/x-python",
   "name": "python",
   "nbconvert_exporter": "python",
   "pygments_lexer": "ipython3",
   "version": "3.10.4"
  },
  "orig_nbformat": 4
 },
 "nbformat": 4,
 "nbformat_minor": 2
}
