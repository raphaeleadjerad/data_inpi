{
 "cells": [
  {
   "cell_type": "code",
   "execution_count": null,
   "metadata": {},
   "outputs": [],
   "source": [
    "import functions as fc\n",
    "import pandas as pd"
   ]
  },
  {
   "cell_type": "code",
   "execution_count": null,
   "metadata": {},
   "outputs": [],
   "source": [
    "fc.download_tgz_raw()"
   ]
  },
  {
   "cell_type": "code",
   "execution_count": null,
   "metadata": {},
   "outputs": [],
   "source": [
    "fc.import_tgz(\"2018\", \"./data2018\")"
   ]
  },
  {
   "cell_type": "code",
   "execution_count": null,
   "metadata": {},
   "outputs": [],
   "source": [
    "fc.import_tgz(\"2019\", \"./data2019\")"
   ]
  },
  {
   "cell_type": "code",
   "execution_count": null,
   "metadata": {},
   "outputs": [],
   "source": [
    "fc.import_tgz(\"2020\", \"./data2020\")"
   ]
  },
  {
   "cell_type": "code",
   "execution_count": null,
   "metadata": {},
   "outputs": [],
   "source": [
    "df_final = fc.transform_rcs(\"2018\")"
   ]
  },
  {
   "cell_type": "code",
   "execution_count": null,
   "metadata": {},
   "outputs": [],
   "source": [
    "df_final.head()"
   ]
  },
  {
   "cell_type": "code",
   "execution_count": null,
   "metadata": {},
   "outputs": [],
   "source": [
    "fc.export_2_minio(\"2018\", df_final)"
   ]
  },
  {
   "cell_type": "code",
   "execution_count": null,
   "metadata": {},
   "outputs": [],
   "source": [
    "fc.export_2_minio(\"2019\", df_final)"
   ]
  },
  {
   "cell_type": "code",
   "execution_count": null,
   "metadata": {},
   "outputs": [],
   "source": [
    "fc.export_2_minio(\"2020\", df_final)"
   ]
  },
  {
   "cell_type": "code",
   "execution_count": null,
   "metadata": {},
   "outputs": [],
   "source": [
    "from urllib.request import urlopen\n",
    "import re\n",
    "from bs4 import BeautifulSoup\n",
    "import requests\n",
    "from zipfile import ZipFile\n",
    "\n",
    "def isDirectory(url):\n",
    "    if(url.endswith('/') and \"..\" not in url):\n",
    "        return True\n",
    "    else:\n",
    "        return False\n",
    "list_urls = []\n",
    "def findLinks(url):\n",
    "    page = requests.get(url).content\n",
    "    bsObj = BeautifulSoup(page, 'html.parser')\n",
    "    maybe_directories = bsObj.findAll('a', href=True)\n",
    "    list_df = []\n",
    "    \n",
    "    for link in maybe_directories:\n",
    "        #print(link['href'])\n",
    "        # print(isDirectory(link['href']))\n",
    "        if(isDirectory(link['href'])):\n",
    "            newUrl = url + link['href']   \n",
    "            print(newUrl)   \n",
    "            list_urls.append(newUrl)  \n",
    "            print(list_urls) \n",
    "            findLinks(newUrl) #recursion happening here$\n",
    "            \n",
    "            \n",
    "        else:\n",
    "            if(link['href'].endswith('.zip')):\n",
    "                print(\"GOTCHA!\") #now safe and download\n",
    "                target_path = link['href']\n",
    "                response = requests.get(list_urls[-1] + link['href'], stream=True)\n",
    "                if response.status_code == 200:\n",
    "                    with open(target_path, 'wb') as f:\n",
    "                        f.write(response.raw.read())\n",
    "                \n",
    "                # zip_file = ZipFile(list_urls[-1] + link['href'])         \n",
    "                # temp_df = [open_complex_file(zip_file, text_file.filename)\n",
    "                # for text_file in zip_file.infolist()\n",
    "                # if text_file.filename.endswith('.csv')]\n",
    "                # list_df.append(temp_df)\n",
    "\n",
    "startUrl = \"http://data.cquest.org/inpi_rncs/imr/stock/2017/\"\n",
    "findLinks(startUrl)"
   ]
  },
  {
   "cell_type": "code",
   "execution_count": null,
   "metadata": {},
   "outputs": [],
   "source": [
    "def transform_rcs(year, path2data=os.getcwd()):\n",
    "    if year in [\"2019\", \"2020\"]:\n",
    "        list_df = fc.import_all_files(\"data\" + year + \"/\", \"*.zip\")\n",
    "    if year in [\"2017\"]:\n",
    "        list_df = fc.import_all_files(path2data + \"/\", \"*.zip\")\n",
    "    if year in [\"2018\"]:\n",
    "        list_df = fc.import_all_files(\"data\" + year + \"/\", \"*.csv\")\n",
    "    print(len(list_df))\n",
    "    if year in [\"2017\",\"2019\", \"2020\"]:\n",
    "        li = []\n",
    "        for i in range(len(list_df)):\n",
    "            temp = pd.concat(list_df[i])\n",
    "            li.append(temp)\n",
    "        df_final = pd.concat(li)\n",
    "    if year in [\"2018\"]:\n",
    "        df_final = pd.concat(list_df)\n",
    "    print(df_final.shape)\n",
    "    return df_final"
   ]
  },
  {
   "cell_type": "code",
   "execution_count": null,
   "metadata": {},
   "outputs": [],
   "source": [
    "del(list_df)"
   ]
  },
  {
   "cell_type": "code",
   "execution_count": null,
   "metadata": {},
   "outputs": [],
   "source": [
    "import os\n",
    "path2data=os.getcwd()"
   ]
  },
  {
   "cell_type": "code",
   "execution_count": null,
   "metadata": {},
   "outputs": [],
   "source": [
    "path2data"
   ]
  },
  {
   "cell_type": "code",
   "execution_count": null,
   "metadata": {},
   "outputs": [],
   "source": [
    "import functions as fc\n",
    "list_df = fc.import_all_files(path2data + \"/\", \"*.zip\")"
   ]
  },
  {
   "cell_type": "code",
   "execution_count": null,
   "metadata": {},
   "outputs": [],
   "source": [
    "len(list_df)"
   ]
  },
  {
   "cell_type": "code",
   "execution_count": null,
   "metadata": {},
   "outputs": [],
   "source": [
    "sys.getsizeof(list_df)"
   ]
  },
  {
   "cell_type": "code",
   "execution_count": null,
   "metadata": {},
   "outputs": [],
   "source": [
    "len(list_df[79])"
   ]
  },
  {
   "cell_type": "code",
   "execution_count": null,
   "metadata": {},
   "outputs": [],
   "source": [
    "list_df[79]"
   ]
  },
  {
   "cell_type": "code",
   "execution_count": null,
   "metadata": {},
   "outputs": [],
   "source": [
    "import pandas as pd\n",
    "temp = pd.concat(list_df[0])"
   ]
  },
  {
   "cell_type": "code",
   "execution_count": null,
   "metadata": {},
   "outputs": [],
   "source": [
    "temp.head()"
   ]
  },
  {
   "cell_type": "code",
   "execution_count": null,
   "metadata": {},
   "outputs": [],
   "source": [
    "temp.shape"
   ]
  },
  {
   "cell_type": "code",
   "execution_count": null,
   "metadata": {},
   "outputs": [],
   "source": [
    "def export_2_minio(year, path2output, df_final):\n",
    "    S3_ENDPOINT_URL = \"https://\" + os.environ[\"AWS_S3_ENDPOINT\"]\n",
    "    fs = s3fs.S3FileSystem(client_kwargs={'endpoint_url': S3_ENDPOINT_URL})\n",
    "    BUCKET_OUT = \"radjerad\"\n",
    "    FILE_KEY_OUT_S3 = \"inpi/\" + year + \"/\" + path2output \n",
    "    FILE_PATH_OUT_S3 = BUCKET_OUT + \"/\" + FILE_KEY_OUT_S3\n",
    "\n",
    "    with fs.open(FILE_PATH_OUT_S3, 'w') as file_out:\n",
    "        df_final.to_csv(file_out)\n",
    "    return None\n"
   ]
  },
  {
   "cell_type": "code",
   "execution_count": null,
   "metadata": {},
   "outputs": [],
   "source": [
    "import pandas as pd\n",
    "li = []\n",
    "import s3fs\n",
    "for i in range(len(list_df)):\n",
    "    print(i)\n",
    "    temp = pd.concat(list_df[i])\n",
    "    print(temp.shape)\n",
    "    temp = temp.reset_index()\n",
    "    path2output = temp.loc[0,\"source\"][0:16]\n",
    "    print(path2output)\n",
    "    #temp.to_csv(path2output, sep=\";\")\n",
    "    export_2_minio(\"2017\", path2output + \".csv\", temp)\n",
    "    # temp.to_csv(path2output + \".csv\", sep=\";\")\n",
    "    # li.append(temp)\n"
   ]
  },
  {
   "cell_type": "code",
   "execution_count": null,
   "metadata": {},
   "outputs": [],
   "source": [
    "import os\n",
    "\n",
    "import s3fs\n",
    "import pandas as pd\n",
    "S3_ENDPOINT_URL = \"https://\" + os.environ[\"AWS_S3_ENDPOINT\"]\n",
    "fs = s3fs.S3FileSystem(client_kwargs={'endpoint_url': S3_ENDPOINT_URL})\n",
    "BUCKET = \"radjerad/inpi/2017\"\n",
    "list_inpi_files = fs.ls(BUCKET)\n"
   ]
  },
  {
   "cell_type": "code",
   "execution_count": null,
   "metadata": {},
   "outputs": [],
   "source": [
    "list_inpi_files = [f for f in list_inpi_files if \".csv\" in f]"
   ]
  },
  {
   "cell_type": "code",
   "execution_count": null,
   "metadata": {},
   "outputs": [],
   "source": [
    "list_inpi_files"
   ]
  },
  {
   "cell_type": "code",
   "execution_count": null,
   "metadata": {},
   "outputs": [],
   "source": [
    "li = []\n",
    "for i in list_inpi_files[0:42] :\n",
    "    FILE_PATH_S3 = i\n",
    "    with fs.open(FILE_PATH_S3, mode=\"rb\") as file_in:\n",
    "        print(i)\n",
    "        temp = pd.read_csv(file_in, sep=\",\")\n",
    "        temp = temp.drop([\"index\", \"Unnamed: 0\"], axis=1)\n",
    "        li.append(temp)"
   ]
  },
  {
   "cell_type": "code",
   "execution_count": null,
   "metadata": {},
   "outputs": [],
   "source": [
    "df_final = pd.concat(li)"
   ]
  },
  {
   "cell_type": "code",
   "execution_count": null,
   "metadata": {},
   "outputs": [],
   "source": []
  }
 ],
 "metadata": {
  "interpreter": {
   "hash": "ed5946f2a0d3f5e934efd92075c2a89b2cb5130d0efd6e4509a568bedf48ed26"
  },
  "kernelspec": {
   "display_name": "Python 3.10.4 ('basesspcloud')",
   "language": "python",
   "name": "python3"
  },
  "language_info": {
   "codemirror_mode": {
    "name": "ipython",
    "version": 3
   },
   "file_extension": ".py",
   "mimetype": "text/x-python",
   "name": "python",
   "nbconvert_exporter": "python",
   "pygments_lexer": "ipython3",
   "version": "3.10.4"
  },
  "orig_nbformat": 4
 },
 "nbformat": 4,
 "nbformat_minor": 2
}
