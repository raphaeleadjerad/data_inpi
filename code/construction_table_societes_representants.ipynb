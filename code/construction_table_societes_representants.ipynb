{
 "cells": [
  {
   "cell_type": "markdown",
   "metadata": {},
   "source": [
    "1/ Importation des données TC et TITMC \n",
    "\n",
    "2/ Import et traitement du fichier des prénoms \n",
    "\n",
    "3/ Ajouter le genre des personnes \n",
    "\n",
    "4/ Codification des adresses \n",
    "\n",
    "5/ Ajout et traitement du code commune\n",
    "\n",
    "6/ Retraiter et simplifier les qualités "
   ]
  },
  {
   "cell_type": "code",
   "execution_count": null,
   "metadata": {},
   "outputs": [],
   "source": [
    "# Lecture de la base inpi\n",
    "import os\n",
    "import s3fs\n",
    "import pandas as pd\n",
    "# Create filesystem object\n",
    "S3_ENDPOINT_URL = \"https://\" + os.environ[\"AWS_S3_ENDPOINT\"]\n",
    "fs = s3fs.S3FileSystem(client_kwargs={'endpoint_url': S3_ENDPOINT_URL})\n",
    "BUCKET = \"radjerad/inpi\"\n",
    "FILE_KEY_S3 = \"data_rep_pm_2017.csv\"\n",
    "FILE_PATH_S3 = BUCKET + \"/\" + FILE_KEY_S3\n",
    "\n",
    "with fs.open(FILE_PATH_S3, mode=\"rb\") as file_in:\n",
    "    df_rep_pm = pd.read_csv(file_in, sep=\";\", encoding=\"utf-8\")"
   ]
  },
  {
   "cell_type": "code",
   "execution_count": null,
   "metadata": {},
   "outputs": [],
   "source": [
    "df_rep_pm.shape # 9 751 833"
   ]
  },
  {
   "cell_type": "code",
   "execution_count": null,
   "metadata": {},
   "outputs": [],
   "source": [
    "df_rep_pm = df_rep_pm.rename({\"code greffe\": \"code_greffe\"}, axis=1)"
   ]
  },
  {
   "cell_type": "code",
   "execution_count": null,
   "metadata": {},
   "outputs": [],
   "source": [
    "df_rep_pm = df_rep_pm.loc[:, [\"code_greffe\", \"siren\", \"denomination\", \"forme_juridique_x\", \"qualité\",\n",
    "\"nom_patronymique\", \"nom_usage\", \"prénoms\", \"type\", \"date_naissance\", \"ville_naissance\", \"adresse_ligne1\", \"adresse_ligne2\",\n",
    "\"adresse_ligne3\", \"code_postal\", \"ville\", \"code_commune\", \"pays\", \"id_représentant\"]]"
   ]
  },
  {
   "cell_type": "code",
   "execution_count": null,
   "metadata": {},
   "outputs": [],
   "source": [
    "df_rep_pm = df_rep_pm.rename({\"forme_juridique_x\": \"forme_juridique\", \"prénoms\": \"prenoms\", \"qualité\": \"qualite\", \"id_représentant\": \"id_representant\"}, axis=1)"
   ]
  },
  {
   "cell_type": "code",
   "execution_count": null,
   "metadata": {},
   "outputs": [],
   "source": [
    "df_rep_pm.head(10)"
   ]
  },
  {
   "cell_type": "code",
   "execution_count": null,
   "metadata": {},
   "outputs": [],
   "source": [
    "df_rep_pm[\"qualite\"].isna().sum() # 246 926"
   ]
  },
  {
   "cell_type": "code",
   "execution_count": null,
   "metadata": {},
   "outputs": [],
   "source": [
    "# Traitement des cas où le nom et les prénoms sont manquants\n"
   ]
  },
  {
   "cell_type": "code",
   "execution_count": null,
   "metadata": {},
   "outputs": [],
   "source": [
    "df_rep_pm.loc[df_rep_pm[\"prenoms\"] == \"-\", \"prenoms\"] = \"\""
   ]
  },
  {
   "cell_type": "code",
   "execution_count": null,
   "metadata": {},
   "outputs": [],
   "source": [
    "df_rep_pm.loc[df_rep_pm[\"prenoms\"] == \"\", :].shape # 4 448"
   ]
  },
  {
   "cell_type": "code",
   "execution_count": null,
   "metadata": {},
   "outputs": [],
   "source": [
    "df_rep_pm.loc[(df_rep_pm[\"prenoms\"] == \"\") & (df_rep_pm[\"type\"] == \"P.Physique\"), :].shape # 4 448"
   ]
  },
  {
   "cell_type": "code",
   "execution_count": null,
   "metadata": {},
   "outputs": [],
   "source": [
    "re1 = \"(INDIVISION SUCCESSORALE DE M\\.\\s|\\sM\\.\\s|^M\\.\\s|MME\\.\\s|MR\\.\\s|MELLE\\.\\s|MONSIEUR\\.?\\s|MADAME\\.?\\s|MLLE\\.\\s|REPRESENTEE\\sPAR\\sMONSIEUR\\.?\\s|REPRESENTEE\\sPAR\\s)\"\n",
    "df_rep_pm[\"top_civilite\"] = df_rep_pm[\"nom_patronymique\"].str.contains(re1, regex=True)"
   ]
  },
  {
   "cell_type": "code",
   "execution_count": null,
   "metadata": {},
   "outputs": [],
   "source": [
    "df_rep_pm.loc[df_rep_pm[\"top_civilite\"] == True, \"nom_patronymique\"].head()"
   ]
  },
  {
   "cell_type": "code",
   "execution_count": null,
   "metadata": {},
   "outputs": [],
   "source": [
    "#df_rep_pm[\"contenu_civilite\"] = df_rep_pm[\"nom_patronymique\"].str.extract(re1)"
   ]
  },
  {
   "cell_type": "code",
   "execution_count": null,
   "metadata": {},
   "outputs": [],
   "source": [
    "#df_rep_pm.loc[df_rep_pm[\"top_civilite\"] == True, \"contenu_civilite\"].head()"
   ]
  },
  {
   "cell_type": "code",
   "execution_count": null,
   "metadata": {},
   "outputs": [],
   "source": [
    "df_rep_pm[\"nom_patronymique2\"] = df_rep_pm[\"nom_patronymique\"]"
   ]
  },
  {
   "cell_type": "code",
   "execution_count": null,
   "metadata": {},
   "outputs": [],
   "source": [
    "df_rep_pm[\"nom_patronymique2\"] = df_rep_pm[\"nom_patronymique2\"].str.replace(re1,\"\")"
   ]
  },
  {
   "cell_type": "code",
   "execution_count": null,
   "metadata": {},
   "outputs": [],
   "source": [
    "from pandas import option_context\n",
    "with option_context('display.max_colwidth', 400):\n",
    "    print(df_rep_pm.loc[df_rep_pm[\"top_civilite\"] == True, \"nom_patronymique2\"].head(10))"
   ]
  },
  {
   "cell_type": "code",
   "execution_count": null,
   "metadata": {},
   "outputs": [],
   "source": [
    "# on repartit les noms et les prénoms dans les bonnes variables\n",
    "# on a modifié un peu le code de l'insee pour enlever les representee par, ici aussi car on va essayer de prendre en compte les particules\n",
    "particule = \"(DU\\s[A-Za-z]+|DE\\sLA\\s[A-Za-z]+|[A-Za-z]+\\sDU\\s[A-Za-z]+|[A-Za-z]+\\sDE\\sLA\\s[A-Za-z]+|DE\\s[A-Za-z]+|[A-Za-z]+\\sDE\\s[A-Za-z]+)\"\n",
    "#particule = \"(DU\\s|DE\\sLA\\s|\\sDU\\s|\\sDE\\sLA\\s|DE\\s|\\sDE\\s)\"\n",
    "df_rep_pm[\"top_particule\"] = df_rep_pm[\"nom_patronymique\"].str.contains(particule, regex=True)"
   ]
  },
  {
   "cell_type": "code",
   "execution_count": null,
   "metadata": {},
   "outputs": [],
   "source": [
    "df_rep_pm.loc[(df_rep_pm[\"prenoms\"] == \"\") | (df_rep_pm[\"prenoms\"].isna()),:].shape # 1093022"
   ]
  },
  {
   "cell_type": "code",
   "execution_count": null,
   "metadata": {},
   "outputs": [],
   "source": [
    "df_rep_pm.loc[(df_rep_pm[\"prenoms\"] == \"\"),:].shape # 4448, mais ce sont tous des cas différents, donc on n'a pas envie de séparer nom et prénoms comme le fait l'insee"
   ]
  },
  {
   "cell_type": "code",
   "execution_count": null,
   "metadata": {},
   "outputs": [],
   "source": [
    "df_rep_pm.loc[(df_rep_pm[\"top_particule\"] == True) & (df_rep_pm[\"prenoms\"] == \"\"), \"nom_patronymique2\"].head(10)"
   ]
  },
  {
   "cell_type": "code",
   "execution_count": null,
   "metadata": {},
   "outputs": [],
   "source": [
    "df_rep_pm.loc[df_rep_pm[\"nom_usage\"].isna(), :].head() # pas d'info parfois quand il y a l'info nom patronymique et prénoms "
   ]
  },
  {
   "cell_type": "code",
   "execution_count": null,
   "metadata": {},
   "outputs": [],
   "source": [
    "# nettoyage de la variable qualite \n",
    "df_rep_pm[\"qualite\"].value_counts()"
   ]
  },
  {
   "cell_type": "code",
   "execution_count": null,
   "metadata": {},
   "outputs": [],
   "source": [
    "df_rep_pm[\"qualite2\"] = df_rep_pm[\"qualite\"]"
   ]
  },
  {
   "cell_type": "code",
   "execution_count": null,
   "metadata": {},
   "outputs": [],
   "source": [
    "df_rep_pm[\"qualite2\"] = df_rep_pm[\"qualite2\"].str.lower()\n",
    "df_rep_pm[\"qualite2\"] = df_rep_pm[\"qualite2\"].str.strip()"
   ]
  },
  {
   "cell_type": "code",
   "execution_count": null,
   "metadata": {},
   "outputs": [],
   "source": [
    "df_rep_pm[\"qualite2\"].value_counts()"
   ]
  },
  {
   "cell_type": "code",
   "execution_count": null,
   "metadata": {},
   "outputs": [],
   "source": [
    "# nettoyage de la dénomination\n",
    "df_rep_pm[\"denomination2\"] = df_rep_pm[\"denomination\"]"
   ]
  },
  {
   "cell_type": "code",
   "execution_count": null,
   "metadata": {},
   "outputs": [],
   "source": [
    "df_rep_pm[\"denomination2\"] = df_rep_pm[\"denomination2\"].str.lower()"
   ]
  },
  {
   "cell_type": "code",
   "execution_count": null,
   "metadata": {},
   "outputs": [],
   "source": [
    "df_rep_pm[\"denomination2\"].head(10)"
   ]
  },
  {
   "cell_type": "code",
   "execution_count": null,
   "metadata": {},
   "outputs": [],
   "source": [
    "# codification des adresses\n",
    "df_rep_pm.columns"
   ]
  },
  {
   "cell_type": "code",
   "execution_count": null,
   "metadata": {},
   "outputs": [],
   "source": [
    "df_rep_pm[\"ville\"].head(10)"
   ]
  },
  {
   "cell_type": "code",
   "execution_count": null,
   "metadata": {},
   "outputs": [],
   "source": [
    "df_rep_pm.loc[df_rep_pm[\"ville\"] == \"\", :].shape"
   ]
  },
  {
   "cell_type": "code",
   "execution_count": null,
   "metadata": {},
   "outputs": [],
   "source": [
    "df_rep_pm.loc[(df_rep_pm[\"ville\"].isna()) & (df_rep_pm[\"adresse_ligne3\"].isna() == False), :].head(10) #90740"
   ]
  },
  {
   "cell_type": "code",
   "execution_count": null,
   "metadata": {},
   "outputs": [],
   "source": [
    "df_rep_pm.loc[(df_rep_pm[\"ville\"].isna()) & (df_rep_pm[\"adresse_ligne3\"].isna() == False), \"ville\"] = \\\n",
    "    df_rep_pm.loc[(df_rep_pm[\"ville\"].isna()) & (df_rep_pm[\"adresse_ligne3\"].isna() == False), \"adresse_ligne3\"]"
   ]
  },
  {
   "cell_type": "code",
   "execution_count": null,
   "metadata": {},
   "outputs": [],
   "source": [
    "df_rep_pm.columns"
   ]
  },
  {
   "cell_type": "code",
   "execution_count": null,
   "metadata": {},
   "outputs": [],
   "source": [
    "df_rep_pm[\"commune\"] = df_rep_pm[\"ville\"]"
   ]
  },
  {
   "cell_type": "code",
   "execution_count": null,
   "metadata": {},
   "outputs": [],
   "source": [
    "df_rep_pm[\"commune\"] = df_rep_pm[\"commune\"].str.lower()"
   ]
  },
  {
   "cell_type": "code",
   "execution_count": null,
   "metadata": {},
   "outputs": [],
   "source": [
    "df_rep_pm[\"commune\"].head(10)"
   ]
  },
  {
   "cell_type": "code",
   "execution_count": null,
   "metadata": {},
   "outputs": [],
   "source": [
    "df_rep_pm[\"commune\"] = (df_rep_pm[\"commune\"].str.replace(\"à\", \"a\")\n",
    "                                            .str.replace(\"è\", \"e\")\n",
    "                                            .str.replace(\"é\", \"e\")\n",
    "                                            .str.replace(\"ç\", \"c\")\n",
    "                                            .str.replace(\"ù\", \"u\")\n",
    "                                            .str.replace(\"ô\", \"o\"))"
   ]
  },
  {
   "cell_type": "code",
   "execution_count": null,
   "metadata": {},
   "outputs": [],
   "source": [
    "df_rep_pm[\"commune\"] = (df_rep_pm[\"commune\"].str.replace(\"SAINT\", \"ST\"))"
   ]
  },
  {
   "cell_type": "code",
   "execution_count": null,
   "metadata": {},
   "outputs": [],
   "source": [
    "df_rep_pm[\"commune\"] = df_rep_pm[\"commune\"].str.replace(\" \", \"\")"
   ]
  },
  {
   "cell_type": "code",
   "execution_count": null,
   "metadata": {},
   "outputs": [],
   "source": [
    "df_rep_pm[\"commune\"].value_counts()"
   ]
  },
  {
   "cell_type": "code",
   "execution_count": null,
   "metadata": {},
   "outputs": [],
   "source": [
    "# Create filesystem object\n",
    "S3_ENDPOINT_URL = \"https://\" + os.environ[\"AWS_S3_ENDPOINT\"]\n",
    "fs = s3fs.S3FileSystem(client_kwargs={'endpoint_url': S3_ENDPOINT_URL})\n",
    "BUCKET = \"radjerad/diffusion/code_postal\"\n",
    "FILE_KEY_S3 = \"laposte_hexasmal.csv\"\n",
    "FILE_PATH_S3 = BUCKET + \"/\" + FILE_KEY_S3\n",
    "\n",
    "with fs.open(FILE_PATH_S3, mode=\"rb\") as file_in:\n",
    "    code_postal = pd.read_csv(file_in, sep=\";\")"
   ]
  },
  {
   "cell_type": "code",
   "execution_count": null,
   "metadata": {},
   "outputs": [],
   "source": [
    "code_postal.head()"
   ]
  },
  {
   "cell_type": "code",
   "execution_count": null,
   "metadata": {},
   "outputs": [],
   "source": [
    "code_postal.shape # 39 193"
   ]
  },
  {
   "cell_type": "code",
   "execution_count": null,
   "metadata": {},
   "outputs": [],
   "source": [
    "df_rep_pm.loc[df_rep_pm[\"code_postal\"].isna(), :].shape # 528 795"
   ]
  },
  {
   "cell_type": "code",
   "execution_count": null,
   "metadata": {},
   "outputs": [],
   "source": [
    "df_rep_pm.loc[df_rep_pm[\"code_commune\"].isna(), :].shape # 1 441 393"
   ]
  },
  {
   "cell_type": "code",
   "execution_count": null,
   "metadata": {},
   "outputs": [],
   "source": [
    "# donc plus de code commune manquants que de code postaux\n",
    "# on va merger code postal et code_insee\n",
    "# code_postal = code_postal.loc[:, [\"Code_commune_INSEE\", \"Code_postal\"]]"
   ]
  },
  {
   "cell_type": "code",
   "execution_count": null,
   "metadata": {},
   "outputs": [],
   "source": [
    "code_postal.columns = [c.lower() for c in code_postal.columns]"
   ]
  },
  {
   "cell_type": "code",
   "execution_count": null,
   "metadata": {},
   "outputs": [],
   "source": [
    "#df_rep_pm['code_postal2'] = pd.to_numeric(df_rep_pm['code_postal'], errors='coerce')"
   ]
  },
  {
   "cell_type": "code",
   "execution_count": null,
   "metadata": {},
   "outputs": [],
   "source": [
    "# df_rep_pm.loc[df_rep_pm[\"code_postal2\"].isna(),:].shape # 540862 , on a remplacé des valeurs bizarres en valeurs manquantes"
   ]
  },
  {
   "cell_type": "code",
   "execution_count": null,
   "metadata": {},
   "outputs": [],
   "source": [
    "code_postal.head()"
   ]
  },
  {
   "cell_type": "code",
   "execution_count": null,
   "metadata": {},
   "outputs": [],
   "source": [
    "code_postal[\"code_departement\"] = code_postal[\"code_commune_insee\"].str.slice(start=0,stop=2) # a corriger pour les drom"
   ]
  },
  {
   "cell_type": "code",
   "execution_count": null,
   "metadata": {},
   "outputs": [],
   "source": [
    "code_postal[[\"code_departement\", \"code_commune_insee\"]].head()"
   ]
  },
  {
   "cell_type": "code",
   "execution_count": null,
   "metadata": {},
   "outputs": [],
   "source": [
    "df_rep_pm[\"code_departement\"] = df_rep_pm[\"code_postal\"].astype(str).str.slice(start=0, stop=2)"
   ]
  },
  {
   "cell_type": "code",
   "execution_count": null,
   "metadata": {},
   "outputs": [],
   "source": [
    "df_rep_pm[[\"code_departement\", \"code_postal\"]].head()"
   ]
  },
  {
   "cell_type": "code",
   "execution_count": null,
   "metadata": {},
   "outputs": [],
   "source": [
    "code_postal[\"commune\"] = code_postal[\"nom_commune\"].str.lower()"
   ]
  },
  {
   "cell_type": "code",
   "execution_count": null,
   "metadata": {},
   "outputs": [],
   "source": [
    "code_postal[\"commune\"] = (code_postal[\"commune\"].str.replace(\"à\", \"a\")\n",
    "                                            .str.replace(\"è\", \"e\")\n",
    "                                            .str.replace(\"é\", \"e\")\n",
    "                                            .str.replace(\"ç\", \"c\")\n",
    "                                            .str.replace(\"ù\", \"u\")\n",
    "                                            .str.replace(\"ô\", \"o\"))"
   ]
  },
  {
   "cell_type": "code",
   "execution_count": null,
   "metadata": {},
   "outputs": [],
   "source": [
    "code_postal[\"commune\"] = (code_postal[\"commune\"].str.replace(\"SAINT\", \"ST\"))"
   ]
  },
  {
   "cell_type": "code",
   "execution_count": null,
   "metadata": {},
   "outputs": [],
   "source": [
    "code_postal[\"commune\"] = code_postal[\"commune\"].str.replace(\" \", \"\")"
   ]
  },
  {
   "cell_type": "code",
   "execution_count": null,
   "metadata": {},
   "outputs": [],
   "source": [
    "code_postal[\"commune\"].value_counts()"
   ]
  },
  {
   "cell_type": "code",
   "execution_count": null,
   "metadata": {},
   "outputs": [],
   "source": [
    "code_postal.duplicated(subset=[\"commune\", \"code_departement\"]).sum() # 4113"
   ]
  },
  {
   "cell_type": "code",
   "execution_count": null,
   "metadata": {},
   "outputs": [],
   "source": [
    "code_postal.shape # 39193 -> 35080"
   ]
  },
  {
   "cell_type": "code",
   "execution_count": null,
   "metadata": {},
   "outputs": [],
   "source": [
    "code_postal = code_postal.drop_duplicates(subset = [\"commune\", \"code_departement\"])"
   ]
  },
  {
   "cell_type": "code",
   "execution_count": null,
   "metadata": {},
   "outputs": [],
   "source": [
    "code_postal.head(20)"
   ]
  },
  {
   "cell_type": "code",
   "execution_count": null,
   "metadata": {},
   "outputs": [],
   "source": [
    "code_postal = code_postal.loc[:, [\"code_commune_insee\", \"code_departement\", \"commune\"]]"
   ]
  },
  {
   "cell_type": "code",
   "execution_count": null,
   "metadata": {},
   "outputs": [],
   "source": [
    "df_rep_pm.shape # 9 751 833"
   ]
  },
  {
   "cell_type": "code",
   "execution_count": null,
   "metadata": {},
   "outputs": [],
   "source": [
    "df_rep_pm = pd.merge(df_rep_pm, code_postal, on=[\"code_departement\", \"commune\"], how=\"left\")"
   ]
  },
  {
   "cell_type": "code",
   "execution_count": null,
   "metadata": {},
   "outputs": [],
   "source": [
    "df_rep_pm.shape # 9751833"
   ]
  },
  {
   "cell_type": "code",
   "execution_count": null,
   "metadata": {},
   "outputs": [],
   "source": [
    "import functions as fc\n",
    "fc.export2minio(\"df_rep_pm_2017_commune.csv\", df_rep_pm)"
   ]
  },
  {
   "cell_type": "code",
   "execution_count": null,
   "metadata": {},
   "outputs": [],
   "source": [
    "df_rep_pm.loc[df_rep_pm[\"code_commune_insee\"].isna(), :].sum()"
   ]
  },
  {
   "cell_type": "code",
   "execution_count": null,
   "metadata": {},
   "outputs": [],
   "source": [
    "df_rep_pm.head()"
   ]
  },
  {
   "cell_type": "code",
   "execution_count": null,
   "metadata": {},
   "outputs": [],
   "source": []
  }
 ],
 "metadata": {
  "interpreter": {
   "hash": "ed5946f2a0d3f5e934efd92075c2a89b2cb5130d0efd6e4509a568bedf48ed26"
  },
  "kernelspec": {
   "display_name": "Python 3.10.4 ('basesspcloud')",
   "language": "python",
   "name": "python3"
  },
  "language_info": {
   "codemirror_mode": {
    "name": "ipython",
    "version": 3
   },
   "file_extension": ".py",
   "mimetype": "text/x-python",
   "name": "python",
   "nbconvert_exporter": "python",
   "pygments_lexer": "ipython3",
   "version": "3.10.4"
  },
  "orig_nbformat": 4
 },
 "nbformat": 4,
 "nbformat_minor": 2
}
