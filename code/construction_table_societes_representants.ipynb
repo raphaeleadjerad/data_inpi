{
 "cells": [
  {
   "cell_type": "markdown",
   "metadata": {},
   "source": [
    "# Création de la base Représentants et Personnes morales \n",
    "\n",
    "- Importation des données TC et TITMC \n",
    "\n",
    "- Codification des adresses \n",
    "\n",
    "- Ajout et traitement du code commune\n",
    "\n",
    "- Retraiter et simplifier les qualités "
   ]
  },
  {
   "cell_type": "code",
   "execution_count": 2,
   "metadata": {},
   "outputs": [],
   "source": [
    "# fonction permettant de traiter les données rep et pm et d'ajouter le code commune insee\n",
    "import os\n",
    "import s3fs\n",
    "import pandas as pd\n",
    "import functions as fc "
   ]
  },
  {
   "cell_type": "code",
   "execution_count": null,
   "metadata": {},
   "outputs": [],
   "source": [
    "# Lecture de la base inpi\n",
    "df_rep_pm = fc.import_inpi(\"data_rep_pm_2017.csv\")"
   ]
  },
  {
   "cell_type": "code",
   "execution_count": null,
   "metadata": {},
   "outputs": [],
   "source": [
    "# nettoyage de diverses variables\n",
    "df_rep_pm = fc.clean_rep_pm_inpi(df_rep_pm)"
   ]
  },
  {
   "cell_type": "code",
   "execution_count": null,
   "metadata": {},
   "outputs": [],
   "source": [
    "# ajout du code commune\n",
    "df_rep_pm = fc.add_code_com(df_rep_pm)"
   ]
  },
  {
   "cell_type": "code",
   "execution_count": null,
   "metadata": {},
   "outputs": [],
   "source": [
    "# export de la table\n",
    "fc.export2minio(\"df_rep_pm_2017_commune.csv\", df_rep_pm)"
   ]
  },
  {
   "cell_type": "code",
   "execution_count": 28,
   "metadata": {},
   "outputs": [
    {
     "name": "stderr",
     "output_type": "stream",
     "text": [
      "/home/coder/work/data_inpi/code/functions.py:192: DtypeWarning: Columns (14,16,26) have mixed types. Specify dtype option on import or set low_memory=False.\n",
      "  df_rep_pm = pd.read_csv(file_in, sep=\";\", encoding=\"utf-8\",\n"
     ]
    }
   ],
   "source": [
    "df_rep_pm = fc.import_inpi( \"df_rep_pm_2017_commune.csv\", cols=None)"
   ]
  },
  {
   "cell_type": "code",
   "execution_count": 29,
   "metadata": {},
   "outputs": [
    {
     "data": {
      "text/html": [
       "<div>\n",
       "<style scoped>\n",
       "    .dataframe tbody tr th:only-of-type {\n",
       "        vertical-align: middle;\n",
       "    }\n",
       "\n",
       "    .dataframe tbody tr th {\n",
       "        vertical-align: top;\n",
       "    }\n",
       "\n",
       "    .dataframe thead th {\n",
       "        text-align: right;\n",
       "    }\n",
       "</style>\n",
       "<table border=\"1\" class=\"dataframe\">\n",
       "  <thead>\n",
       "    <tr style=\"text-align: right;\">\n",
       "      <th></th>\n",
       "      <th>code_greffe</th>\n",
       "      <th>siren</th>\n",
       "      <th>denomination</th>\n",
       "      <th>forme_juridique</th>\n",
       "      <th>qualite</th>\n",
       "      <th>nom_patronymique</th>\n",
       "      <th>nom_usage</th>\n",
       "      <th>prenoms</th>\n",
       "      <th>type</th>\n",
       "      <th>date_naissance</th>\n",
       "      <th>...</th>\n",
       "      <th>pays</th>\n",
       "      <th>id_representant</th>\n",
       "      <th>top_civilite</th>\n",
       "      <th>nom_patronymique2</th>\n",
       "      <th>top_particule</th>\n",
       "      <th>qualite2</th>\n",
       "      <th>denomination2</th>\n",
       "      <th>commune</th>\n",
       "      <th>code_departement</th>\n",
       "      <th>code_commune_insee</th>\n",
       "    </tr>\n",
       "  </thead>\n",
       "  <tbody>\n",
       "    <tr>\n",
       "      <th>0</th>\n",
       "      <td>101</td>\n",
       "      <td>15850944</td>\n",
       "      <td>AGIR TECHNOLOGIES</td>\n",
       "      <td>Société par actions simplifiée à associé unique</td>\n",
       "      <td>NaN</td>\n",
       "      <td>NaN</td>\n",
       "      <td>NaN</td>\n",
       "      <td>NaN</td>\n",
       "      <td>NaN</td>\n",
       "      <td>NaN</td>\n",
       "      <td>...</td>\n",
       "      <td>NaN</td>\n",
       "      <td>NaN</td>\n",
       "      <td>NaN</td>\n",
       "      <td>NaN</td>\n",
       "      <td>NaN</td>\n",
       "      <td>NaN</td>\n",
       "      <td>agir technologies</td>\n",
       "      <td>NaN</td>\n",
       "      <td>na</td>\n",
       "      <td>NaN</td>\n",
       "    </tr>\n",
       "    <tr>\n",
       "      <th>1</th>\n",
       "      <td>101</td>\n",
       "      <td>15851793</td>\n",
       "      <td>DORAS</td>\n",
       "      <td>Société anonyme à directoire et conseil de sur...</td>\n",
       "      <td>NaN</td>\n",
       "      <td>NaN</td>\n",
       "      <td>NaN</td>\n",
       "      <td>NaN</td>\n",
       "      <td>NaN</td>\n",
       "      <td>NaN</td>\n",
       "      <td>...</td>\n",
       "      <td>NaN</td>\n",
       "      <td>NaN</td>\n",
       "      <td>NaN</td>\n",
       "      <td>NaN</td>\n",
       "      <td>NaN</td>\n",
       "      <td>NaN</td>\n",
       "      <td>doras</td>\n",
       "      <td>NaN</td>\n",
       "      <td>na</td>\n",
       "      <td>NaN</td>\n",
       "    </tr>\n",
       "    <tr>\n",
       "      <th>2</th>\n",
       "      <td>101</td>\n",
       "      <td>26380212</td>\n",
       "      <td>SOCIETE IMMOBILIERE FINANCIERE D ETUDES ET DE ...</td>\n",
       "      <td>Société par actions simplifiée</td>\n",
       "      <td>Président</td>\n",
       "      <td>VATIN</td>\n",
       "      <td>NaN</td>\n",
       "      <td>Gerard</td>\n",
       "      <td>P.Physique</td>\n",
       "      <td>1947-10-07</td>\n",
       "      <td>...</td>\n",
       "      <td>FRANCE</td>\n",
       "      <td>1.0</td>\n",
       "      <td>False</td>\n",
       "      <td>VATIN</td>\n",
       "      <td>False</td>\n",
       "      <td>président</td>\n",
       "      <td>societe immobiliere financiere d etudes et de ...</td>\n",
       "      <td>carpentras</td>\n",
       "      <td>84</td>\n",
       "      <td>84031.0</td>\n",
       "    </tr>\n",
       "    <tr>\n",
       "      <th>3</th>\n",
       "      <td>101</td>\n",
       "      <td>26380212</td>\n",
       "      <td>SOCIETE IMMOBILIERE FINANCIERE D ETUDES ET DE ...</td>\n",
       "      <td>Société par actions simplifiée</td>\n",
       "      <td>Directeur général</td>\n",
       "      <td>VATIN</td>\n",
       "      <td>NaN</td>\n",
       "      <td>Jacques</td>\n",
       "      <td>P.Physique</td>\n",
       "      <td>1930-04-03</td>\n",
       "      <td>...</td>\n",
       "      <td>FRANCE</td>\n",
       "      <td>3.0</td>\n",
       "      <td>False</td>\n",
       "      <td>VATIN</td>\n",
       "      <td>False</td>\n",
       "      <td>directeur général</td>\n",
       "      <td>societe immobiliere financiere d etudes et de ...</td>\n",
       "      <td>paris</td>\n",
       "      <td>75</td>\n",
       "      <td>NaN</td>\n",
       "    </tr>\n",
       "    <tr>\n",
       "      <th>4</th>\n",
       "      <td>101</td>\n",
       "      <td>26380212</td>\n",
       "      <td>SOCIETE IMMOBILIERE FINANCIERE D ETUDES ET DE ...</td>\n",
       "      <td>Société par actions simplifiée</td>\n",
       "      <td>Directeur général</td>\n",
       "      <td>JORDENS</td>\n",
       "      <td>VATIN</td>\n",
       "      <td>Regina</td>\n",
       "      <td>P.Physique</td>\n",
       "      <td>1948-08-07</td>\n",
       "      <td>...</td>\n",
       "      <td>FRANCE</td>\n",
       "      <td>4.0</td>\n",
       "      <td>False</td>\n",
       "      <td>JORDENS</td>\n",
       "      <td>False</td>\n",
       "      <td>directeur général</td>\n",
       "      <td>societe immobiliere financiere d etudes et de ...</td>\n",
       "      <td>carpentras</td>\n",
       "      <td>84</td>\n",
       "      <td>84031.0</td>\n",
       "    </tr>\n",
       "  </tbody>\n",
       "</table>\n",
       "<p>5 rows × 27 columns</p>\n",
       "</div>"
      ],
      "text/plain": [
       "   code_greffe     siren                                       denomination  \\\n",
       "0          101  15850944                                  AGIR TECHNOLOGIES   \n",
       "1          101  15851793                                              DORAS   \n",
       "2          101  26380212  SOCIETE IMMOBILIERE FINANCIERE D ETUDES ET DE ...   \n",
       "3          101  26380212  SOCIETE IMMOBILIERE FINANCIERE D ETUDES ET DE ...   \n",
       "4          101  26380212  SOCIETE IMMOBILIERE FINANCIERE D ETUDES ET DE ...   \n",
       "\n",
       "                                     forme_juridique            qualite  \\\n",
       "0    Société par actions simplifiée à associé unique                NaN   \n",
       "1  Société anonyme à directoire et conseil de sur...                NaN   \n",
       "2                     Société par actions simplifiée          Président   \n",
       "3                     Société par actions simplifiée  Directeur général   \n",
       "4                     Société par actions simplifiée  Directeur général   \n",
       "\n",
       "  nom_patronymique nom_usage  prenoms        type date_naissance  ...    pays  \\\n",
       "0              NaN       NaN      NaN         NaN            NaN  ...     NaN   \n",
       "1              NaN       NaN      NaN         NaN            NaN  ...     NaN   \n",
       "2            VATIN       NaN   Gerard  P.Physique     1947-10-07  ...  FRANCE   \n",
       "3            VATIN       NaN  Jacques  P.Physique     1930-04-03  ...  FRANCE   \n",
       "4          JORDENS     VATIN   Regina  P.Physique     1948-08-07  ...  FRANCE   \n",
       "\n",
       "  id_representant top_civilite nom_patronymique2 top_particule  \\\n",
       "0             NaN          NaN               NaN           NaN   \n",
       "1             NaN          NaN               NaN           NaN   \n",
       "2             1.0        False             VATIN         False   \n",
       "3             3.0        False             VATIN         False   \n",
       "4             4.0        False           JORDENS         False   \n",
       "\n",
       "            qualite2                                      denomination2  \\\n",
       "0                NaN                                  agir technologies   \n",
       "1                NaN                                              doras   \n",
       "2          président  societe immobiliere financiere d etudes et de ...   \n",
       "3  directeur général  societe immobiliere financiere d etudes et de ...   \n",
       "4  directeur général  societe immobiliere financiere d etudes et de ...   \n",
       "\n",
       "      commune  code_departement code_commune_insee  \n",
       "0         NaN                na                NaN  \n",
       "1         NaN                na                NaN  \n",
       "2  carpentras                84            84031.0  \n",
       "3       paris                75                NaN  \n",
       "4  carpentras                84            84031.0  \n",
       "\n",
       "[5 rows x 27 columns]"
      ]
     },
     "execution_count": 29,
     "metadata": {},
     "output_type": "execute_result"
    }
   ],
   "source": [
    "df_rep_pm.head()"
   ]
  },
  {
   "cell_type": "code",
   "execution_count": 30,
   "metadata": {},
   "outputs": [],
   "source": [
    "# on filtre on ne va garder que les lignes avec le nom patronymique, le nom usage, les prénoms, ou la date de naissance\n",
    "df_rep_pm = df_rep_pm.loc[(df_rep_pm[\"nom_patronymique\"].isna() == False) | (df_rep_pm[\"prenoms\"].isna() == False) | \\\n",
    "                            (df_rep_pm[\"date_naissance\"].isna() == False), :]"
   ]
  },
  {
   "cell_type": "code",
   "execution_count": 6,
   "metadata": {},
   "outputs": [
    {
     "data": {
      "text/plain": [
       "(8671244, 27)"
      ]
     },
     "execution_count": 6,
     "metadata": {},
     "output_type": "execute_result"
    }
   ],
   "source": [
    "df_rep_pm.shape # 8 671 244"
   ]
  },
  {
   "cell_type": "code",
   "execution_count": 31,
   "metadata": {},
   "outputs": [
    {
     "data": {
      "text/plain": [
       "3977143"
      ]
     },
     "execution_count": 31,
     "metadata": {},
     "output_type": "execute_result"
    }
   ],
   "source": [
    "df_rep_pm[\"siren\"].nunique() # 3 977 143"
   ]
  },
  {
   "cell_type": "code",
   "execution_count": 6,
   "metadata": {},
   "outputs": [],
   "source": [
    "test = df_rep_pm.loc[df_rep_pm[\"code_commune_insee\"].isna() == False, :]"
   ]
  },
  {
   "cell_type": "code",
   "execution_count": 7,
   "metadata": {},
   "outputs": [
    {
     "data": {
      "text/plain": [
       "(4693722, 27)"
      ]
     },
     "execution_count": 7,
     "metadata": {},
     "output_type": "execute_result"
    }
   ],
   "source": [
    "test.shape # 4 693 722 avec code commune"
   ]
  },
  {
   "cell_type": "code",
   "execution_count": 8,
   "metadata": {},
   "outputs": [],
   "source": [
    "test = df_rep_pm.loc[df_rep_pm[\"code_commune\"].isna() == False, :]"
   ]
  },
  {
   "cell_type": "code",
   "execution_count": 9,
   "metadata": {},
   "outputs": [
    {
     "data": {
      "text/plain": [
       "(7740164, 27)"
      ]
     },
     "execution_count": 9,
     "metadata": {},
     "output_type": "execute_result"
    }
   ],
   "source": [
    "test.shape  # 7 740 164"
   ]
  },
  {
   "cell_type": "code",
   "execution_count": 11,
   "metadata": {},
   "outputs": [
    {
     "data": {
      "text/plain": [
       "Index(['code_greffe', 'siren', 'denomination', 'forme_juridique', 'qualite',\n",
       "       'nom_patronymique', 'nom_usage', 'prenoms', 'type', 'date_naissance',\n",
       "       'ville_naissance', 'adresse_ligne1', 'adresse_ligne2', 'adresse_ligne3',\n",
       "       'code_postal', 'ville', 'code_commune', 'pays', 'id_representant',\n",
       "       'top_civilite', 'nom_patronymique2', 'top_particule', 'qualite2',\n",
       "       'denomination2', 'commune', 'code_departement', 'code_commune_insee',\n",
       "       'code_commune3'],\n",
       "      dtype='object')"
      ]
     },
     "execution_count": 11,
     "metadata": {},
     "output_type": "execute_result"
    }
   ],
   "source": [
    "df_rep_pm.columns"
   ]
  },
  {
   "cell_type": "code",
   "execution_count": 32,
   "metadata": {},
   "outputs": [],
   "source": [
    "# correction pour paris, marseille et lyon\n",
    "df_rep_pm[\"code_commune3\"] = df_rep_pm[\"code_commune\"]"
   ]
  },
  {
   "cell_type": "code",
   "execution_count": 33,
   "metadata": {},
   "outputs": [
    {
     "data": {
      "text/plain": [
       "(10249, 28)"
      ]
     },
     "execution_count": 33,
     "metadata": {},
     "output_type": "execute_result"
    }
   ],
   "source": [
    "df_rep_pm.loc[(df_rep_pm[\"code_commune3\"].isna()) & (df_rep_pm[\"commune\"] == \"paris\") & (df_rep_pm[\"code_postal\"].isna() == False), :].shape # 10249"
   ]
  },
  {
   "cell_type": "code",
   "execution_count": 34,
   "metadata": {},
   "outputs": [],
   "source": [
    "df_rep_pm.loc[(df_rep_pm[\"code_commune3\"].isna()) & (df_rep_pm[\"commune\"] == \"paris\") & (df_rep_pm[\"code_postal\"].isna() == False), \"code_commune3\"] = \"751\" + \\\n",
    "    df_rep_pm.loc[(df_rep_pm[\"code_commune3\"].isna()) & (df_rep_pm[\"commune\"] == \"paris\") & (df_rep_pm[\"code_postal\"].isna() == False), \"code_postal\"].str.slice(start=4, stop=7)"
   ]
  },
  {
   "cell_type": "code",
   "execution_count": 10,
   "metadata": {},
   "outputs": [
    {
     "data": {
      "text/plain": [
       "(8551,)"
      ]
     },
     "execution_count": 10,
     "metadata": {},
     "output_type": "execute_result"
    }
   ],
   "source": [
    "df_rep_pm.loc[(df_rep_pm[\"code_commune3\"].isna()) & (df_rep_pm[\"commune\"] == \"paris\") & (df_rep_pm[\"code_postal\"].isna() == False), \"code_commune3\"].shape  # 8 551"
   ]
  },
  {
   "cell_type": "code",
   "execution_count": 11,
   "metadata": {},
   "outputs": [
    {
     "data": {
      "text/plain": [
       "(945,)"
      ]
     },
     "execution_count": 11,
     "metadata": {},
     "output_type": "execute_result"
    }
   ],
   "source": [
    "df_rep_pm.loc[(df_rep_pm[\"code_commune3\"].isna()) & (df_rep_pm[\"commune\"] == \"lyon\") & (df_rep_pm[\"code_postal\"].isna() == False), \"code_commune3\"].shape # 945"
   ]
  },
  {
   "cell_type": "code",
   "execution_count": 35,
   "metadata": {},
   "outputs": [],
   "source": [
    "df_rep_pm.loc[(df_rep_pm[\"code_commune3\"].isna()) & (df_rep_pm[\"commune\"] == \"lyon\") & (df_rep_pm[\"code_postal\"].isna() == False), \"code_commune3\"] = \"6938\" + \\\n",
    "    df_rep_pm.loc[(df_rep_pm[\"code_commune3\"].isna()) & (df_rep_pm[\"commune\"] == \"lyon\") & (df_rep_pm[\"code_postal\"].isna() == False), \"code_postal\"].str.slice(start=5, stop=7)"
   ]
  },
  {
   "cell_type": "code",
   "execution_count": 13,
   "metadata": {},
   "outputs": [
    {
     "data": {
      "text/plain": [
       "(863,)"
      ]
     },
     "execution_count": 13,
     "metadata": {},
     "output_type": "execute_result"
    }
   ],
   "source": [
    "df_rep_pm.loc[(df_rep_pm[\"code_commune3\"].isna()) & (df_rep_pm[\"commune\"] == \"lyon\") & (df_rep_pm[\"code_postal\"].isna() == False), \"code_commune3\"].shape # 945"
   ]
  },
  {
   "cell_type": "code",
   "execution_count": 14,
   "metadata": {},
   "outputs": [
    {
     "data": {
      "text/plain": [
       "(2827,)"
      ]
     },
     "execution_count": 14,
     "metadata": {},
     "output_type": "execute_result"
    }
   ],
   "source": [
    "df_rep_pm.loc[(df_rep_pm[\"code_commune3\"].isna()) & (df_rep_pm[\"commune\"] == \"marseille\") & (df_rep_pm[\"code_postal\"].isna() == False), \"code_commune3\"].shape # 2827"
   ]
  },
  {
   "cell_type": "code",
   "execution_count": 36,
   "metadata": {},
   "outputs": [],
   "source": [
    "df_rep_pm.loc[(df_rep_pm[\"code_commune3\"].isna()) & (df_rep_pm[\"commune\"] == \"marseille\") & (df_rep_pm[\"code_postal\"].isna() == False), \"code_commune3\"] = \"132\" + \\\n",
    "    df_rep_pm.loc[(df_rep_pm[\"code_commune3\"].isna()) & (df_rep_pm[\"commune\"] == \"marseille\") & (df_rep_pm[\"code_postal\"].isna() == False), \"code_postal\"].str.slice(start=4, stop=7)"
   ]
  },
  {
   "cell_type": "code",
   "execution_count": 12,
   "metadata": {},
   "outputs": [
    {
     "data": {
      "text/plain": [
       "(2374,)"
      ]
     },
     "execution_count": 12,
     "metadata": {},
     "output_type": "execute_result"
    }
   ],
   "source": [
    "df_rep_pm.loc[(df_rep_pm[\"code_commune3\"].isna()) & (df_rep_pm[\"commune\"] == \"marseille\") & (df_rep_pm[\"code_postal\"].isna() == False), \"code_commune3\"].shape  # 2374"
   ]
  },
  {
   "cell_type": "code",
   "execution_count": 37,
   "metadata": {},
   "outputs": [],
   "source": [
    "# codifier le type de voie\n",
    "df_rep_pm[\"adresse_ligne1_cor\"] = df_rep_pm[\"adresse_ligne1\"].str.lower()"
   ]
  },
  {
   "cell_type": "code",
   "execution_count": 38,
   "metadata": {},
   "outputs": [],
   "source": [
    "df_rep_pm[\"adresse_ligne1_cor\"] = df_rep_pm[\"adresse_ligne1_cor\"].str.strip()"
   ]
  },
  {
   "cell_type": "code",
   "execution_count": 39,
   "metadata": {},
   "outputs": [
    {
     "data": {
      "text/plain": [
       "394          le coin perdu\n",
       "395          le coin perdu\n",
       "400     le prince de galle\n",
       "1050           l'3631 kayl\n",
       "1286               ch 6312\n",
       "Name: adresse_ligne1_cor, dtype: object"
      ]
     },
     "execution_count": 39,
     "metadata": {},
     "output_type": "execute_result"
    }
   ],
   "source": [
    "df_rep_pm.loc[df_rep_pm[\"adresse_ligne1_cor\"].isna() == False, \"adresse_ligne1_cor\"].head()"
   ]
  },
  {
   "cell_type": "code",
   "execution_count": 41,
   "metadata": {},
   "outputs": [],
   "source": [
    "df_rep_pm[\"adresse_ligne1_cor\"] = (df_rep_pm[\"adresse_ligne1_cor\"].str.replace(\"à\", \"a\")\n",
    "                                            .str.replace(\"è\", \"e\")\n",
    "                                            .str.replace(\"é\", \"e\")\n",
    "                                            .str.replace(\"ç\", \"c\")\n",
    "                                            .str.replace(\"ù\", \"u\")\n",
    "                                            .str.replace(\"ô\", \"o\"))"
   ]
  },
  {
   "cell_type": "code",
   "execution_count": 42,
   "metadata": {},
   "outputs": [],
   "source": [
    "df_rep_pm[\"adresse_ligne1_cor\"] = df_rep_pm[\"adresse_ligne1_cor\"].str.replace('\"', ' ')"
   ]
  },
  {
   "cell_type": "code",
   "execution_count": 43,
   "metadata": {},
   "outputs": [
    {
     "data": {
      "text/plain": [
       "394          le coin perdu\n",
       "395          le coin perdu\n",
       "400     le prince de galle\n",
       "1050           l'3631 kayl\n",
       "1286               ch 6312\n",
       "Name: adresse_ligne1_cor, dtype: object"
      ]
     },
     "execution_count": 43,
     "metadata": {},
     "output_type": "execute_result"
    }
   ],
   "source": [
    "df_rep_pm.loc[df_rep_pm[\"adresse_ligne1_cor\"].isna() == False, \"adresse_ligne1_cor\"].head()"
   ]
  },
  {
   "cell_type": "code",
   "execution_count": 44,
   "metadata": {},
   "outputs": [
    {
     "data": {
      "text/plain": [
       "2         1360 chemin saint-roch\n",
       "3              50 rue de la tour\n",
       "4         1360 chemin saint-roch\n",
       "5                 63 rue virgile\n",
       "13    222 rue jean-marie vianney\n",
       "Name: adresse_ligne2_cor, dtype: object"
      ]
     },
     "execution_count": 44,
     "metadata": {},
     "output_type": "execute_result"
    }
   ],
   "source": [
    "df_rep_pm[\"adresse_ligne2_cor\"] = df_rep_pm[\"adresse_ligne2\"].str.lower()\n",
    "df_rep_pm[\"adresse_ligne2_cor\"] = df_rep_pm[\"adresse_ligne2_cor\"].str.strip()\n",
    "df_rep_pm[\"adresse_ligne2_cor\"] = (df_rep_pm[\"adresse_ligne2_cor\"].str.replace(\"à\", \"a\")\n",
    "                                            .str.replace(\"è\", \"e\")\n",
    "                                            .str.replace(\"é\", \"e\")\n",
    "                                            .str.replace(\"ç\", \"c\")\n",
    "                                            .str.replace(\"ù\", \"u\")\n",
    "                                            .str.replace(\"ô\", \"o\"))\n",
    "df_rep_pm[\"adresse_ligne2_cor\"] = df_rep_pm[\"adresse_ligne2_cor\"].str.replace('\"', ' ')\n",
    "df_rep_pm.loc[df_rep_pm[\"adresse_ligne2_cor\"].isna() == False, \"adresse_ligne2_cor\"].head()"
   ]
  },
  {
   "cell_type": "code",
   "execution_count": 45,
   "metadata": {},
   "outputs": [
    {
     "data": {
      "text/plain": [
       "23    459 route de donsonnas\n",
       "24    527 route de donsonnas\n",
       "27                    belley\n",
       "38          treffort-cuisiat\n",
       "57              cran gevrier\n",
       "Name: adresse_ligne3_cor, dtype: object"
      ]
     },
     "execution_count": 45,
     "metadata": {},
     "output_type": "execute_result"
    }
   ],
   "source": [
    "df_rep_pm[\"adresse_ligne3_cor\"] = df_rep_pm[\"adresse_ligne3\"].str.lower()\n",
    "df_rep_pm[\"adresse_ligne3_cor\"] = df_rep_pm[\"adresse_ligne3_cor\"].str.strip()\n",
    "df_rep_pm[\"adresse_ligne3_cor\"] = (df_rep_pm[\"adresse_ligne3_cor\"].str.replace(\"à\", \"a\")\n",
    "                                            .str.replace(\"è\", \"e\")\n",
    "                                            .str.replace(\"é\", \"e\")\n",
    "                                            .str.replace(\"ç\", \"c\")\n",
    "                                            .str.replace(\"ù\", \"u\")\n",
    "                                            .str.replace(\"ô\", \"o\"))\n",
    "df_rep_pm[\"adresse_ligne3_cor\"] = df_rep_pm[\"adresse_ligne3_cor\"].str.replace('\"', ' ')\n",
    "df_rep_pm.loc[df_rep_pm[\"adresse_ligne3_cor\"].isna() == False, \"adresse_ligne3_cor\"].head()"
   ]
  },
  {
   "cell_type": "code",
   "execution_count": 46,
   "metadata": {},
   "outputs": [],
   "source": [
    "# Remettre l'adresse dans la bonne colonne\n",
    "df_rep_pm.loc[(df_rep_pm[\"adresse_ligne1_cor\"].isna()) & \n",
    "                (df_rep_pm[\"adresse_ligne2_cor\"].isna() == False), \"adresse_ligne1_cor\"] = df_rep_pm.loc[(df_rep_pm[\"adresse_ligne1_cor\"].isna()) & \n",
    "                (df_rep_pm[\"adresse_ligne2_cor\"].isna() == False), \"adresse_ligne2_cor\"]"
   ]
  },
  {
   "cell_type": "code",
   "execution_count": 47,
   "metadata": {},
   "outputs": [
    {
     "data": {
      "text/plain": [
       "(154145, 31)"
      ]
     },
     "execution_count": 47,
     "metadata": {},
     "output_type": "execute_result"
    }
   ],
   "source": [
    "df_rep_pm.loc[(df_rep_pm[\"adresse_ligne1_cor\"].isna()),:].shape # 154 145"
   ]
  },
  {
   "cell_type": "code",
   "execution_count": 48,
   "metadata": {},
   "outputs": [],
   "source": [
    "df_rep_pm.loc[(df_rep_pm[\"adresse_ligne1_cor\"].isna()) & \n",
    "                (df_rep_pm[\"adresse_ligne3_cor\"].isna() == False), \"adresse_ligne1_cor\"] = df_rep_pm.loc[(df_rep_pm[\"adresse_ligne1_cor\"].isna()) & \n",
    "                (df_rep_pm[\"adresse_ligne3_cor\"].isna() == False), \"adresse_ligne3_cor\"]"
   ]
  },
  {
   "cell_type": "code",
   "execution_count": 49,
   "metadata": {},
   "outputs": [
    {
     "data": {
      "text/plain": [
       "(69235, 31)"
      ]
     },
     "execution_count": 49,
     "metadata": {},
     "output_type": "execute_result"
    }
   ],
   "source": [
    "df_rep_pm.loc[(df_rep_pm[\"adresse_ligne1_cor\"].isna()),:].shape # 69235\n",
    "# d'autres corrections insee n'ont pas été mises en place pour le moment, voir le code si ces corrections se révèlent nécessaires"
   ]
  },
  {
   "cell_type": "code",
   "execution_count": 53,
   "metadata": {},
   "outputs": [],
   "source": [
    "# Retraiter et simplifier les qualités\n",
    "import numpy as np\n",
    "df_rep_pm[\"qualite_simplifie\"] = np.nan"
   ]
  },
  {
   "cell_type": "code",
   "execution_count": 54,
   "metadata": {},
   "outputs": [],
   "source": [
    "# on reprend la classification de l'Insee\n",
    "df_rep_pm.loc[df_rep_pm[\"qualite2\"].isin([\"actionnaire unique\", \"associé\", \"associé actionnaire\", \"associé commanditaire\", \n",
    "\t\"associé en nom\", \"associé indéfiniment et solidairement responsable\", \n",
    "\t\"associé indéfiniment responsable\", \"associé non exploitant\", \"associé suppléant\", \"associé unique\", \n",
    "\t\"conjoint marié ou pacsé, associé\", \"propriétaire du fonds\", \"propriétaire non exploitant\"]), \"qualite_simplifie\"] = 10"
   ]
  },
  {
   "cell_type": "code",
   "execution_count": 55,
   "metadata": {},
   "outputs": [],
   "source": [
    "df_rep_pm.loc[df_rep_pm[\"qualite2\"].isin([\"associé commandité\", \"associé commandite\", \"associé exploitant\", \"associé gérant\", \"associé qui participe à la gestion\", \n",
    "\t\"associé-gérant\", \"gérant associé\", \"gérant associé en nom\", \"gérant associé indéfiniment responsable\", \n",
    "\t\"gérant associé unique\", \"gérant et associé indéfiniment et solidairement responsable\"]), \"qualite_simplifie\"] = 11"
   ]
  },
  {
   "cell_type": "code",
   "execution_count": 59,
   "metadata": {},
   "outputs": [],
   "source": [
    "df_rep_pm.loc[df_rep_pm[\"qualite2\"].isin([\"administrateur\", \"administrateur ad'hoc\", \"administrateur adjoint\", \n",
    "    \"administrateur choisi en raison de ses compétences\", \"administrateur dont la nomination a été publiée au j.o\", \n",
    "    \"administrateur dont la nomination a été publiée au j.o.\", \"administrateur délégué\", \"administrateur délégué adjoint\", \n",
    "    \"administrateur général\", \"administrateur général adjoint\", \"administrateur nommé par le csa\", \n",
    "    \"administrateur personnalité qualifiée\", \"administrateur provisoire\", \n",
    "    \"administrateur représentant des communes et de leurs groupes\", \"administrateur représentant des locataires\", \n",
    "    \"administrateur représentant des usagers\", \"administrateur représentant du personnel\", \"administrateur représentant l'etat\", \n",
    "    \"administrateur représentant la ville de paris\", \"administrateur représentant le parlement\", \n",
    "    \"administrateur représentant le capital privé\", \"administrateur représentant les collectivités territoriales\", \n",
    "    \"administrateur représentant les collectivités territoriales\", \"administrateur représentant les régions\", \n",
    "    \"administrateur représentant les salariés\", \"administrateur représentant les salariés actionnaires\", \n",
    "    \"administrateur salarié\", \"administrateur suppléant\", \"administrateur suppléant représentant l'etat\", \n",
    "    \"administrateur titulaire\", \"administrateur représentant le capital public\", \"co-gérant\", \"cogérant\", \n",
    "    \"directeur\", \"directeur adjoint\", \"directeur administratif\", \"directeur commercial\", \"directeur d'exploitation\", \n",
    "    \"directeur d'établissement\", \"directeur des transports\", \"directeur délégué\", \"directeur exécutif\", \"directeur général\", \n",
    "    \"directeur général (non administrateur)\", \"directeur général adjoint\", \"directeur général délégué\", \n",
    "    \"directeur général délégué et pharmacien responsable\", \"directeur général et administrateur\", \n",
    "    \"directeur général non administrateur\", \"directeur général unique\", \"directeur gérant\", \"directeur régional\", \n",
    "    \"directeur technique\", \"directeur technique et administratif\", \"dirigeant\", \"dirigeant de fait\", \n",
    "    \"dirigeant en france d'une personne morale étrangère\", \"dirigeant responsable\", \n",
    "    \"dirigeant à l'étranger d'une personne morale étrangère\", \"fondé de pouvoir\", \n",
    "    \"fondé de pouvoir de l'entreprise\", \"fondé de pouvoir à procuration générale\", \n",
    "    \"fondé de pouvoir à procuration spéciale et individuelle\", \"gestionnaire\", \"gouverneur\", \"gérant\", \"gérant adjoint\", \n",
    "    \"gérant non associé\", \"gérant suppléant\", \"gérant technique\", \"indivisaire\", \"mandataire\", \"mandataire général\", \"membre du comité collégial\", \n",
    "    \"membre du comité consultatif\", \"membre du comité d'administration\", \"membre du comité d'engagement\", \n",
    "    \"membre du comité d'investissement et de gestion\", \"membre du comité d'orientation\", \"membre du comité d'orientation stratégique\", \n",
    "    \"membre du comité de contrôle\", \"membre du comité de coordination\", \"membre du comité de direction\", \"membre du comité de gestion\", \n",
    "    \"membre du comité de parrainage\", \"membre du comité de pilotage\", \"membre du comité de présidence\", \"membre du comité de suivi\", \n",
    "    \"membre du comité de supervision\", \"membre du comité de surveillance\", \"membre du comité des associés\", \n",
    "    \"membre du comité des investissements\", \"membre du comité directeur\", \"membre du comité exécutif\", \"membre du comité opérationnel\", \n",
    "    \"membre du comité stratégique\", \"membre du comité stratégique et financier\", \"membre du conseil\", \"membre du conseil d'administration\", \n",
    "    \"membre du conseil d'exploitation\", \"membre du conseil d'orientation\", \"membre du conseil d'orientation et de surveillance\", \n",
    "    \"membre du conseil de direction\", \"membre du conseil de gestion\", \"membre du conseil de gouvernance\", \"membre du conseil de gérance\", \n",
    "    \"membre du conseil de parrainage\", \"membre du conseil de présidence\", \"membre du conseil de surveillance\", \n",
    "    \"membre du conseil de surveillance représentant l'etat\", \"membre du conseil de surveillance représentant les salariés\", \n",
    "    \"membre du conseil exécutif\", \"membre du conseil scientifique\", \"membre du conseil stratégique et de surveillance\", \n",
    "    \"membre du directoire\", \"membre du g.i.e.\", \"membre du gie et administrateur\", \"membre et directeur du directoire\", \n",
    "    \"membre suppléant de la commission de contrôle de gestion\", \"membre suppléant du ministère de l'économie, de l'industrie\", \n",
    "    \"membre titulaire de la commission de contrôle de gestion\", \"membre titulaire du ministère de l'économie, de l'industrie\", \n",
    "    \"membre titulaire pers. choisie en raison de ses compétences\", \"membre titulaire représentant\", \n",
    "    \"membre titulaire représentant des collectivités et personnes\", \"membre titulaire représentant des personnels de droit privé\", \n",
    "    \"membre titulaire représentant des personnels de droit public\", \"membre titulaire représentant du conseil d'etat, de la cour\", \n",
    "    \"membre titulaire représentant du ministre chargé de l'enviro\", \"membre titulaire représentant du ministre chargé des forêts\", \n",
    "    \"personne ayant le pouvoir d'engager à titre habituel l'établ\", \"personne ayant le pouvoir d'engager à titre habituel la soci\", \n",
    "    \"président\", \"président directeur général\", \"président délégué\", \"président d'honneur\", \"président directeur général\", \n",
    "    \"président directeur général\", \"président directeur général et administrateur\", \n",
    "    \"président dont la nomination a été publiée au j.o.\", \"président du comité\", \"président du comité d'administration\",\n",
    "    \"président du comité d'orientation\", \"président du comité d'orientation stratégique\", \"président du comité de contrôle\", \n",
    "    \"président du comité de direction\", \"président du comité de gestion\", \"président du comité de suivi\", \"président du comité de supervision\", \n",
    "    \"président du comité de surveillance\", \"président du comité des investissements\", \"président du comité exécutif\", \n",
    "    \"président du comité opérationnel\", \"président du comité stratégique\", \"président du comité stratégique et financier\",\n",
    "    \"président du conseil\", \"président du conseil d'administration\", \"président du conseil d'administration et administrateur\", \n",
    "    \"président du conseil d'administration et directeur général\", \"président du conseil d'orientation et de surveillance\", \n",
    "    \"président du conseil de direction\", \"président du conseil de gestion\", \"président du conseil de gérance\", \n",
    "    \"président du conseil de surveillance\", \"président du conseil scientifique\", \"président du conseil stratégique\", \n",
    "    \"président du conseil stratégique et de surveillance\", \"président du directoire\", \"président délégué\", \"président et directeur général\", \n",
    "    \"président gérant\", \"président suppléant\", \"société de gestion\", \"titulaire de la capacité\", \"trésorier\", \"trésorier adjoint\", \n",
    "    \"vice gérant\", \"vice président\", \"vice président du conseil d'administration\", \"vice président du conseil de surveillance\", \n",
    "    \"vice-président\", \"vice-président\", \"vice-président du comité d'administration\", \"vice-président du comité de direction\", \n",
    "    \"vice-président du comité de surveillance\", \"vice-président du comité stratégique\", \"vice-président du conseil\", \n",
    "    \"vice-président du conseil d'administration\", \"vice-président du conseil d'orientation et de surveillance\", \n",
    "    \"vice-président du conseil de gérance\", \"vice-président du conseil de surveillance\", \n",
    "    \"vice-président du conseil stratégique et de surveillance\", \"vice-président du directoire\", \n",
    "    \"vice-président délégué\", \"vice-président exécutif\", \"vice-secrétaire\", \"vice-trésorier\"]), \"qualite_simplifie\"] = 1"
   ]
  },
  {
   "cell_type": "code",
   "execution_count": 60,
   "metadata": {},
   "outputs": [
    {
     "data": {
      "text/plain": [
       "1.0     5106566\n",
       "10.0    3142702\n",
       "11.0      14305\n",
       "Name: qualite_simplifie, dtype: int64"
      ]
     },
     "execution_count": 60,
     "metadata": {},
     "output_type": "execute_result"
    }
   ],
   "source": [
    "df_rep_pm[\"qualite_simplifie\"].value_counts()\n",
    "# 1.0     5106566 -> activité de gestion\n",
    "# 10.0    3142702 -> droit de propriété\n",
    "# 11.0      14305 -> les deux"
   ]
  },
  {
   "cell_type": "code",
   "execution_count": 61,
   "metadata": {},
   "outputs": [
    {
     "data": {
      "text/plain": [
       "407671"
      ]
     },
     "execution_count": 61,
     "metadata": {},
     "output_type": "execute_result"
    }
   ],
   "source": [
    "df_rep_pm[\"qualite_simplifie\"].isna().sum() # 407 671"
   ]
  },
  {
   "cell_type": "code",
   "execution_count": 62,
   "metadata": {},
   "outputs": [
    {
     "data": {
      "text/plain": [
       "Index(['code_greffe', 'siren', 'denomination', 'forme_juridique', 'qualite',\n",
       "       'nom_patronymique', 'nom_usage', 'prenoms', 'type', 'date_naissance',\n",
       "       'ville_naissance', 'adresse_ligne1', 'adresse_ligne2', 'adresse_ligne3',\n",
       "       'code_postal', 'ville', 'code_commune', 'pays', 'id_representant',\n",
       "       'top_civilite', 'nom_patronymique2', 'top_particule', 'qualite2',\n",
       "       'denomination2', 'commune', 'code_departement', 'code_commune_insee',\n",
       "       'code_commune3', 'adresse_ligne1_cor', 'adresse_ligne2_cor',\n",
       "       'adresse_ligne3_cor', 'qualite_simplifie'],\n",
       "      dtype='object')"
      ]
     },
     "execution_count": 62,
     "metadata": {},
     "output_type": "execute_result"
    }
   ],
   "source": [
    "df_rep_pm.columns"
   ]
  },
  {
   "cell_type": "code",
   "execution_count": 67,
   "metadata": {},
   "outputs": [],
   "source": [
    "# supprimer les doublons avec qualité simplifiée identique\n",
    "df_rep_pm2 = df_rep_pm.drop_duplicates(subset=[\"siren\", \"denomination2\", \"id_representant\", \"nom_patronymique2\", \"prenoms\", \"qualite_simplifie\"])"
   ]
  },
  {
   "cell_type": "code",
   "execution_count": 68,
   "metadata": {},
   "outputs": [
    {
     "data": {
      "text/plain": [
       "(8621820, 32)"
      ]
     },
     "execution_count": 68,
     "metadata": {},
     "output_type": "execute_result"
    }
   ],
   "source": [
    "df_rep_pm2.shape # 8 621 820"
   ]
  },
  {
   "cell_type": "code",
   "execution_count": 70,
   "metadata": {},
   "outputs": [],
   "source": [
    "df_rep_pm3 = df_rep_pm.drop_duplicates(subset=[\"siren\", \"denomination2\", \"id_representant\", \"nom_patronymique2\", \"prenoms\"])"
   ]
  },
  {
   "cell_type": "code",
   "execution_count": 71,
   "metadata": {},
   "outputs": [
    {
     "data": {
      "text/plain": [
       "(7384566, 32)"
      ]
     },
     "execution_count": 71,
     "metadata": {},
     "output_type": "execute_result"
    }
   ],
   "source": [
    "df_rep_pm3.shape # 7 384 566"
   ]
  },
  {
   "cell_type": "code",
   "execution_count": 73,
   "metadata": {},
   "outputs": [],
   "source": [
    "# résumer la qualité des représentants\n",
    "df_rep_pm2 = df_rep_pm2.loc[:,[\"siren\", \"denomination2\", \"id_representant\", \"nom_patronymique2\", \"prenoms\", \"qualite_simplifie\"]].groupby([\"siren\", \"denomination2\", \"id_representant\", \"nom_patronymique2\", \"prenoms\"]).agg({\"qualite_simplifie\" : \"sum\"})"
   ]
  },
  {
   "cell_type": "code",
   "execution_count": 74,
   "metadata": {},
   "outputs": [
    {
     "data": {
      "text/plain": [
       "(7372758, 1)"
      ]
     },
     "execution_count": 74,
     "metadata": {},
     "output_type": "execute_result"
    }
   ],
   "source": [
    "df_rep_pm2.shape # 7 372 758"
   ]
  },
  {
   "cell_type": "code",
   "execution_count": 76,
   "metadata": {},
   "outputs": [],
   "source": [
    "df_rep_pm2 = df_rep_pm2.reset_index()"
   ]
  },
  {
   "cell_type": "code",
   "execution_count": 77,
   "metadata": {},
   "outputs": [
    {
     "data": {
      "text/html": [
       "<div>\n",
       "<style scoped>\n",
       "    .dataframe tbody tr th:only-of-type {\n",
       "        vertical-align: middle;\n",
       "    }\n",
       "\n",
       "    .dataframe tbody tr th {\n",
       "        vertical-align: top;\n",
       "    }\n",
       "\n",
       "    .dataframe thead th {\n",
       "        text-align: right;\n",
       "    }\n",
       "</style>\n",
       "<table border=\"1\" class=\"dataframe\">\n",
       "  <thead>\n",
       "    <tr style=\"text-align: right;\">\n",
       "      <th></th>\n",
       "      <th>siren</th>\n",
       "      <th>denomination2</th>\n",
       "      <th>id_representant</th>\n",
       "      <th>nom_patronymique2</th>\n",
       "      <th>prenoms</th>\n",
       "      <th>qualite_simplifie</th>\n",
       "    </tr>\n",
       "  </thead>\n",
       "  <tbody>\n",
       "    <tr>\n",
       "      <th>0</th>\n",
       "      <td>0</td>\n",
       "      <td>capital insurrance</td>\n",
       "      <td>1.0</td>\n",
       "      <td>DERORE</td>\n",
       "      <td>GUY PAUL GEORGES MAURICE</td>\n",
       "      <td>0.0</td>\n",
       "    </tr>\n",
       "    <tr>\n",
       "      <th>1</th>\n",
       "      <td>0</td>\n",
       "      <td>capital insurrance</td>\n",
       "      <td>2.0</td>\n",
       "      <td>MUNOZ RAMONET</td>\n",
       "      <td>JULIO</td>\n",
       "      <td>0.0</td>\n",
       "    </tr>\n",
       "    <tr>\n",
       "      <th>2</th>\n",
       "      <td>0</td>\n",
       "      <td>creation tradition france le decor de la maiso...</td>\n",
       "      <td>1.0</td>\n",
       "      <td>MICHAELIS</td>\n",
       "      <td>PIERRE</td>\n",
       "      <td>1.0</td>\n",
       "    </tr>\n",
       "    <tr>\n",
       "      <th>3</th>\n",
       "      <td>0</td>\n",
       "      <td>creation tradition france le decor de la maiso...</td>\n",
       "      <td>2.0</td>\n",
       "      <td>STELLA</td>\n",
       "      <td>GILBERT</td>\n",
       "      <td>1.0</td>\n",
       "    </tr>\n",
       "    <tr>\n",
       "      <th>4</th>\n",
       "      <td>0</td>\n",
       "      <td>creation tradition france le decor de la maiso...</td>\n",
       "      <td>3.0</td>\n",
       "      <td>BEAUDEQUIN</td>\n",
       "      <td>ROSE ANDREE</td>\n",
       "      <td>1.0</td>\n",
       "    </tr>\n",
       "  </tbody>\n",
       "</table>\n",
       "</div>"
      ],
      "text/plain": [
       "   siren                                      denomination2  id_representant  \\\n",
       "0      0                                 capital insurrance              1.0   \n",
       "1      0                                 capital insurrance              2.0   \n",
       "2      0  creation tradition france le decor de la maiso...              1.0   \n",
       "3      0  creation tradition france le decor de la maiso...              2.0   \n",
       "4      0  creation tradition france le decor de la maiso...              3.0   \n",
       "\n",
       "  nom_patronymique2                   prenoms  qualite_simplifie  \n",
       "0            DERORE  GUY PAUL GEORGES MAURICE                0.0  \n",
       "1     MUNOZ RAMONET                     JULIO                0.0  \n",
       "2         MICHAELIS                    PIERRE                1.0  \n",
       "3            STELLA                   GILBERT                1.0  \n",
       "4        BEAUDEQUIN               ROSE ANDREE                1.0  "
      ]
     },
     "execution_count": 77,
     "metadata": {},
     "output_type": "execute_result"
    }
   ],
   "source": [
    "df_rep_pm2.head()"
   ]
  },
  {
   "cell_type": "code",
   "execution_count": 79,
   "metadata": {},
   "outputs": [
    {
     "data": {
      "text/plain": [
       "(0, 6)"
      ]
     },
     "execution_count": 79,
     "metadata": {},
     "output_type": "execute_result"
    }
   ],
   "source": [
    "df_rep_pm2.loc[df_rep_pm2[\"siren\"] == 0,:].shape # 16"
   ]
  },
  {
   "cell_type": "code",
   "execution_count": 80,
   "metadata": {},
   "outputs": [
    {
     "data": {
      "text/plain": [
       "1.0     3823156\n",
       "10.0    1913440\n",
       "11.0    1240493\n",
       "0.0      394987\n",
       "12.0        627\n",
       "21.0         32\n",
       "22.0         23\n",
       "Name: qualite_simplifie, dtype: int64"
      ]
     },
     "execution_count": 80,
     "metadata": {},
     "output_type": "execute_result"
    }
   ],
   "source": [
    "df_rep_pm2[\"qualite_simplifie\"].value_counts()"
   ]
  },
  {
   "cell_type": "code",
   "execution_count": 83,
   "metadata": {},
   "outputs": [],
   "source": [
    "df_rep_pm2[\"qualite_simplifie\"] = np.minimum(11, df_rep_pm2['qualite_simplifie'])"
   ]
  },
  {
   "cell_type": "code",
   "execution_count": 84,
   "metadata": {},
   "outputs": [
    {
     "data": {
      "text/plain": [
       "1.0     3823156\n",
       "10.0    1913440\n",
       "11.0    1241175\n",
       "0.0      394987\n",
       "Name: qualite_simplifie, dtype: int64"
      ]
     },
     "execution_count": 84,
     "metadata": {},
     "output_type": "execute_result"
    }
   ],
   "source": [
    "df_rep_pm2[\"qualite_simplifie\"].value_counts()"
   ]
  },
  {
   "cell_type": "code",
   "execution_count": 86,
   "metadata": {},
   "outputs": [],
   "source": [
    "df_rep_pm4 = pd.merge(df_rep_pm3, df_rep_pm2, on=[\"siren\", \"denomination2\", \"id_representant\", \"nom_patronymique2\", \"prenoms\"], how=\"left\")"
   ]
  },
  {
   "cell_type": "code",
   "execution_count": 87,
   "metadata": {},
   "outputs": [
    {
     "data": {
      "text/plain": [
       "(7384566, 33)"
      ]
     },
     "execution_count": 87,
     "metadata": {},
     "output_type": "execute_result"
    }
   ],
   "source": [
    "df_rep_pm4.shape # 7384566"
   ]
  },
  {
   "cell_type": "code",
   "execution_count": 88,
   "metadata": {},
   "outputs": [
    {
     "data": {
      "text/plain": [
       "Index(['code_greffe', 'siren', 'denomination', 'forme_juridique', 'qualite',\n",
       "       'nom_patronymique', 'nom_usage', 'prenoms', 'type', 'date_naissance',\n",
       "       'ville_naissance', 'adresse_ligne1', 'adresse_ligne2', 'adresse_ligne3',\n",
       "       'code_postal', 'ville', 'code_commune', 'pays', 'id_representant',\n",
       "       'top_civilite', 'nom_patronymique2', 'top_particule', 'qualite2',\n",
       "       'denomination2', 'commune', 'code_departement', 'code_commune_insee',\n",
       "       'code_commune3', 'adresse_ligne1_cor', 'adresse_ligne2_cor',\n",
       "       'adresse_ligne3_cor', 'qualite_simplifie_x', 'qualite_simplifie_y'],\n",
       "      dtype='object')"
      ]
     },
     "execution_count": 88,
     "metadata": {},
     "output_type": "execute_result"
    }
   ],
   "source": [
    "df_rep_pm4.columns"
   ]
  },
  {
   "cell_type": "code",
   "execution_count": 89,
   "metadata": {},
   "outputs": [],
   "source": [
    "df_rep_pm4 = df_rep_pm4.drop(\"qualite_simplifie_x\", axis=1)"
   ]
  },
  {
   "cell_type": "code",
   "execution_count": 90,
   "metadata": {},
   "outputs": [],
   "source": [
    "df_rep_pm4 = df_rep_pm4.rename({\"qualite_simplifie_y\" : \"qualite_simplifie\"}, axis=1)"
   ]
  },
  {
   "cell_type": "code",
   "execution_count": 91,
   "metadata": {},
   "outputs": [],
   "source": [
    "df_rep_pm4 = df_rep_pm4.drop([\"top_particule\", \"top_civilite\"], axis=1)\n",
    "df_rep_pm4 = df_rep_pm4.rename({\"nom_patronymique2\" : \"nom_patronymique_cor\", \"qualite2\" : \"qualite_cor\", \"denomination2\" : \"denomination_cor\", \n",
    "                                \"code_commune3\" : \"code_commune_cor\"}, axis=1)"
   ]
  },
  {
   "cell_type": "code",
   "execution_count": 92,
   "metadata": {},
   "outputs": [
    {
     "data": {
      "text/html": [
       "<div>\n",
       "<style scoped>\n",
       "    .dataframe tbody tr th:only-of-type {\n",
       "        vertical-align: middle;\n",
       "    }\n",
       "\n",
       "    .dataframe tbody tr th {\n",
       "        vertical-align: top;\n",
       "    }\n",
       "\n",
       "    .dataframe thead th {\n",
       "        text-align: right;\n",
       "    }\n",
       "</style>\n",
       "<table border=\"1\" class=\"dataframe\">\n",
       "  <thead>\n",
       "    <tr style=\"text-align: right;\">\n",
       "      <th></th>\n",
       "      <th>code_greffe</th>\n",
       "      <th>siren</th>\n",
       "      <th>denomination</th>\n",
       "      <th>forme_juridique</th>\n",
       "      <th>qualite</th>\n",
       "      <th>nom_patronymique</th>\n",
       "      <th>nom_usage</th>\n",
       "      <th>prenoms</th>\n",
       "      <th>type</th>\n",
       "      <th>date_naissance</th>\n",
       "      <th>...</th>\n",
       "      <th>qualite_cor</th>\n",
       "      <th>denomination_cor</th>\n",
       "      <th>commune</th>\n",
       "      <th>code_departement</th>\n",
       "      <th>code_commune_insee</th>\n",
       "      <th>code_commune_cor</th>\n",
       "      <th>adresse_ligne1_cor</th>\n",
       "      <th>adresse_ligne2_cor</th>\n",
       "      <th>adresse_ligne3_cor</th>\n",
       "      <th>qualite_simplifie</th>\n",
       "    </tr>\n",
       "  </thead>\n",
       "  <tbody>\n",
       "    <tr>\n",
       "      <th>0</th>\n",
       "      <td>101</td>\n",
       "      <td>26380212</td>\n",
       "      <td>SOCIETE IMMOBILIERE FINANCIERE D ETUDES ET DE ...</td>\n",
       "      <td>Société par actions simplifiée</td>\n",
       "      <td>Président</td>\n",
       "      <td>VATIN</td>\n",
       "      <td>NaN</td>\n",
       "      <td>Gerard</td>\n",
       "      <td>P.Physique</td>\n",
       "      <td>1947-10-07</td>\n",
       "      <td>...</td>\n",
       "      <td>président</td>\n",
       "      <td>societe immobiliere financiere d etudes et de ...</td>\n",
       "      <td>carpentras</td>\n",
       "      <td>84</td>\n",
       "      <td>84031.0</td>\n",
       "      <td>84031.0</td>\n",
       "      <td>1360 chemin saint-roch</td>\n",
       "      <td>1360 chemin saint-roch</td>\n",
       "      <td>NaN</td>\n",
       "      <td>1.0</td>\n",
       "    </tr>\n",
       "    <tr>\n",
       "      <th>1</th>\n",
       "      <td>101</td>\n",
       "      <td>26380212</td>\n",
       "      <td>SOCIETE IMMOBILIERE FINANCIERE D ETUDES ET DE ...</td>\n",
       "      <td>Société par actions simplifiée</td>\n",
       "      <td>Directeur général</td>\n",
       "      <td>VATIN</td>\n",
       "      <td>NaN</td>\n",
       "      <td>Jacques</td>\n",
       "      <td>P.Physique</td>\n",
       "      <td>1930-04-03</td>\n",
       "      <td>...</td>\n",
       "      <td>directeur général</td>\n",
       "      <td>societe immobiliere financiere d etudes et de ...</td>\n",
       "      <td>paris</td>\n",
       "      <td>75</td>\n",
       "      <td>NaN</td>\n",
       "      <td>NaN</td>\n",
       "      <td>50 rue de la tour</td>\n",
       "      <td>50 rue de la tour</td>\n",
       "      <td>NaN</td>\n",
       "      <td>1.0</td>\n",
       "    </tr>\n",
       "    <tr>\n",
       "      <th>2</th>\n",
       "      <td>101</td>\n",
       "      <td>26380212</td>\n",
       "      <td>SOCIETE IMMOBILIERE FINANCIERE D ETUDES ET DE ...</td>\n",
       "      <td>Société par actions simplifiée</td>\n",
       "      <td>Directeur général</td>\n",
       "      <td>JORDENS</td>\n",
       "      <td>VATIN</td>\n",
       "      <td>Regina</td>\n",
       "      <td>P.Physique</td>\n",
       "      <td>1948-08-07</td>\n",
       "      <td>...</td>\n",
       "      <td>directeur général</td>\n",
       "      <td>societe immobiliere financiere d etudes et de ...</td>\n",
       "      <td>carpentras</td>\n",
       "      <td>84</td>\n",
       "      <td>84031.0</td>\n",
       "      <td>84031.0</td>\n",
       "      <td>1360 chemin saint-roch</td>\n",
       "      <td>1360 chemin saint-roch</td>\n",
       "      <td>NaN</td>\n",
       "      <td>1.0</td>\n",
       "    </tr>\n",
       "    <tr>\n",
       "      <th>3</th>\n",
       "      <td>101</td>\n",
       "      <td>26380212</td>\n",
       "      <td>SOCIETE IMMOBILIERE FINANCIERE D ETUDES ET DE ...</td>\n",
       "      <td>Société par actions simplifiée</td>\n",
       "      <td>Directeur général</td>\n",
       "      <td>VATIN</td>\n",
       "      <td>VATIN-CHAIX</td>\n",
       "      <td>Bertrand Heinrich René</td>\n",
       "      <td>P.Physique</td>\n",
       "      <td>1977-06-09</td>\n",
       "      <td>...</td>\n",
       "      <td>directeur général</td>\n",
       "      <td>societe immobiliere financiere d etudes et de ...</td>\n",
       "      <td>strasbourg</td>\n",
       "      <td>67</td>\n",
       "      <td>67482.0</td>\n",
       "      <td>67482.0</td>\n",
       "      <td>63 rue virgile</td>\n",
       "      <td>63 rue virgile</td>\n",
       "      <td>NaN</td>\n",
       "      <td>1.0</td>\n",
       "    </tr>\n",
       "    <tr>\n",
       "      <th>4</th>\n",
       "      <td>101</td>\n",
       "      <td>61500740</td>\n",
       "      <td>SOCIETE J.F.B.</td>\n",
       "      <td>Société par actions simplifiée</td>\n",
       "      <td>Président</td>\n",
       "      <td>BENOIT</td>\n",
       "      <td>NaN</td>\n",
       "      <td>Nicolas Arnold Denis</td>\n",
       "      <td>P.Physique</td>\n",
       "      <td>1974-05-15</td>\n",
       "      <td>...</td>\n",
       "      <td>président</td>\n",
       "      <td>societe j.f.b.</td>\n",
       "      <td>ars-sur-formans</td>\n",
       "      <td>14</td>\n",
       "      <td>NaN</td>\n",
       "      <td>1021.0</td>\n",
       "      <td>222 rue jean-marie vianney</td>\n",
       "      <td>222 rue jean-marie vianney</td>\n",
       "      <td>NaN</td>\n",
       "      <td>1.0</td>\n",
       "    </tr>\n",
       "  </tbody>\n",
       "</table>\n",
       "<p>5 rows × 30 columns</p>\n",
       "</div>"
      ],
      "text/plain": [
       "   code_greffe     siren                                       denomination  \\\n",
       "0          101  26380212  SOCIETE IMMOBILIERE FINANCIERE D ETUDES ET DE ...   \n",
       "1          101  26380212  SOCIETE IMMOBILIERE FINANCIERE D ETUDES ET DE ...   \n",
       "2          101  26380212  SOCIETE IMMOBILIERE FINANCIERE D ETUDES ET DE ...   \n",
       "3          101  26380212  SOCIETE IMMOBILIERE FINANCIERE D ETUDES ET DE ...   \n",
       "4          101  61500740                                     SOCIETE J.F.B.   \n",
       "\n",
       "                  forme_juridique            qualite nom_patronymique  \\\n",
       "0  Société par actions simplifiée          Président            VATIN   \n",
       "1  Société par actions simplifiée  Directeur général            VATIN   \n",
       "2  Société par actions simplifiée  Directeur général          JORDENS   \n",
       "3  Société par actions simplifiée  Directeur général            VATIN   \n",
       "4  Société par actions simplifiée          Président           BENOIT   \n",
       "\n",
       "     nom_usage                 prenoms        type date_naissance  ...  \\\n",
       "0          NaN                  Gerard  P.Physique     1947-10-07  ...   \n",
       "1          NaN                 Jacques  P.Physique     1930-04-03  ...   \n",
       "2        VATIN                  Regina  P.Physique     1948-08-07  ...   \n",
       "3  VATIN-CHAIX  Bertrand Heinrich René  P.Physique     1977-06-09  ...   \n",
       "4          NaN    Nicolas Arnold Denis  P.Physique     1974-05-15  ...   \n",
       "\n",
       "         qualite_cor                                   denomination_cor  \\\n",
       "0          président  societe immobiliere financiere d etudes et de ...   \n",
       "1  directeur général  societe immobiliere financiere d etudes et de ...   \n",
       "2  directeur général  societe immobiliere financiere d etudes et de ...   \n",
       "3  directeur général  societe immobiliere financiere d etudes et de ...   \n",
       "4          président                                     societe j.f.b.   \n",
       "\n",
       "           commune code_departement code_commune_insee code_commune_cor  \\\n",
       "0       carpentras               84            84031.0          84031.0   \n",
       "1            paris               75                NaN              NaN   \n",
       "2       carpentras               84            84031.0          84031.0   \n",
       "3       strasbourg               67            67482.0          67482.0   \n",
       "4  ars-sur-formans               14                NaN           1021.0   \n",
       "\n",
       "           adresse_ligne1_cor          adresse_ligne2_cor  adresse_ligne3_cor  \\\n",
       "0      1360 chemin saint-roch      1360 chemin saint-roch                 NaN   \n",
       "1           50 rue de la tour           50 rue de la tour                 NaN   \n",
       "2      1360 chemin saint-roch      1360 chemin saint-roch                 NaN   \n",
       "3              63 rue virgile              63 rue virgile                 NaN   \n",
       "4  222 rue jean-marie vianney  222 rue jean-marie vianney                 NaN   \n",
       "\n",
       "  qualite_simplifie  \n",
       "0               1.0  \n",
       "1               1.0  \n",
       "2               1.0  \n",
       "3               1.0  \n",
       "4               1.0  \n",
       "\n",
       "[5 rows x 30 columns]"
      ]
     },
     "execution_count": 92,
     "metadata": {},
     "output_type": "execute_result"
    }
   ],
   "source": [
    "df_rep_pm4.head()"
   ]
  },
  {
   "cell_type": "code",
   "execution_count": 93,
   "metadata": {},
   "outputs": [],
   "source": [
    "fc.export2minio(\"societe_rep.csv\", df_rep_pm4)"
   ]
  },
  {
   "cell_type": "code",
   "execution_count": null,
   "metadata": {},
   "outputs": [],
   "source": []
  }
 ],
 "metadata": {
  "interpreter": {
   "hash": "ed5946f2a0d3f5e934efd92075c2a89b2cb5130d0efd6e4509a568bedf48ed26"
  },
  "kernelspec": {
   "display_name": "Python 3.10.4 ('basesspcloud')",
   "language": "python",
   "name": "python3"
  },
  "language_info": {
   "codemirror_mode": {
    "name": "ipython",
    "version": 3
   },
   "file_extension": ".py",
   "mimetype": "text/x-python",
   "name": "python",
   "nbconvert_exporter": "python",
   "pygments_lexer": "ipython3",
   "version": "3.10.4"
  },
  "orig_nbformat": 4
 },
 "nbformat": 4,
 "nbformat_minor": 2
}
