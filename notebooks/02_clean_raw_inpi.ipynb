{
 "cells": [
  {
   "cell_type": "code",
   "execution_count": 1,
   "metadata": {},
   "outputs": [],
   "source": [
    "import os\n",
    "os.chdir(\"../src/\")\n",
    "import pandas as pd\n",
    "import s3fs\n",
    "import import_inpi as inpi"
   ]
  },
  {
   "cell_type": "code",
   "execution_count": 3,
   "metadata": {},
   "outputs": [
    {
     "name": "stderr",
     "output_type": "stream",
     "text": [
      "/home/coder/work/data_inpi/src/import_inpi.py:109: DtypeWarning: Columns (7,8,10,11,16,30) have mixed types. Specify dtype option on import or set low_memory=False.\n",
      "  personnes_morales = pd.read_csv(file_in, sep=\";\")\n",
      "/home/coder/work/data_inpi/src/import_inpi.py:111: DtypeWarning: Columns (7,15,17,25,26,32,33,34,35,36,37,38,39,40,41,42,43,45,49,50) have mixed types. Specify dtype option on import or set low_memory=False.\n",
      "  representants = pd.read_csv(file_in, sep=\";\")\n"
     ]
    }
   ],
   "source": [
    "pm, rep = inpi.import_inpi_s3()"
   ]
  },
  {
   "cell_type": "code",
   "execution_count": 4,
   "metadata": {},
   "outputs": [
    {
     "data": {
      "text/plain": [
       "(5001845, 31)"
      ]
     },
     "execution_count": 4,
     "metadata": {},
     "output_type": "execute_result"
    }
   ],
   "source": [
    "pm.shape"
   ]
  },
  {
   "cell_type": "code",
   "execution_count": 5,
   "metadata": {},
   "outputs": [
    {
     "data": {
      "text/plain": [
       "(11142886, 51)"
      ]
     },
     "execution_count": 5,
     "metadata": {},
     "output_type": "execute_result"
    }
   ],
   "source": [
    "rep.shape"
   ]
  },
  {
   "cell_type": "code",
   "execution_count": 41,
   "metadata": {},
   "outputs": [],
   "source": [
    "import numpy as np\n",
    "def clean_rep_inpi(df_rep):\n",
    "    \"\"\"_summary_Function that cleans data from Inpi\n",
    "\n",
    "    Args:\n",
    "        df_rep (_type_): _description_\n",
    "\n",
    "    Returns:\n",
    "        _type_: _description_\n",
    "    \"\"\"\n",
    "    # nettoyage du nom des colonnes\n",
    "    df_rep.columns = [c.lower() for c in df_rep.columns]\n",
    "    df_rep = df_rep.rename({\"code greffe\": \"code_greffe\", \n",
    "                                \"forme_juridique_x\": \"forme_juridique\", \n",
    "                                \"prénoms\": \"prenoms\", \"qualité\": \"qualite\", \n",
    "                                \"dénomination\": \"denomination\",\n",
    "                                \"nationalité\": \"nationalite\",\n",
    "                                \"id_représentant\": \"id_representant\",\n",
    "                                \"siren.1\": \"siren_representant_pm\"}, axis=1)\n",
    "    # suppression de colonnes inutiles\n",
    "    df_rep = df_rep.drop(['rep_perm_nom',\n",
    "       'rep_perm_nom_usage', 'rep_perm_pseudo', 'rep_perm_prénoms',\n",
    "       'rep_perm_date_naissance', 'rep_perm_ville_naissance',\n",
    "       'rep_perm_pays_naissance', 'rep_perm_nationalité',\n",
    "       'rep_perm_adr_ligne1', 'rep_perm_adr_ligne2', 'rep_perm_adr_ligne3',\n",
    "       'rep_perm_code_postal', 'rep_perm_ville', 'rep_perm_code_commune',\n",
    "       'rep_perm_pays', 'conjoint_collab_nom_patronym',\n",
    "       'conjoint_collab_nom_usage', 'conjoint_collab_pseudo',\n",
    "       'conjoint_collab_prénoms', 'conjoint_collab_date_fin'], axis=1)\n",
    "    \n",
    "    # Traitement des cas où le nom et les prénoms sont -\n",
    "    df_rep.loc[df_rep[\"prenoms\"] == \"-\", \"prenoms\"] = \"\"\n",
    "    # on retire les termes en trop dans les noms\n",
    "    re1 = \"(INDIVISION SUCCESSORALE DE M\\.\\s|\\sM\\.\\s|^M\\.\\s|MME\\.\\s|MR\\.\\s|MELLE\\.\\s|MONSIEUR\\.?\\s|MADAME\\.?\\s|MLLE\\.\\s|REPRESENTEE\\sPAR\\sMONSIEUR\\.?\\s|REPRESENTEE\\sPAR\\s|SUCCESSION\\s|SUCCESSION\\sDE\\s)\"\n",
    "    # df_rep[\"top_civilite\"] = df_rep[\"nom_patronymique\"].str.contains(re1, regex=True)\n",
    "    df_rep[\"nom_patronymique_cor\"] = df_rep[\"nom_patronymique\"]\n",
    "    df_rep[\"nom_patronymique_cor\"] = df_rep[\"nom_patronymique_cor\"].str.replace(re1,\"\")\n",
    "    \n",
    "    # Traitement de la qualite\n",
    "    df_rep[\"qualite_cor\"] = (df_rep[\"qualite\"].str.lower().str.strip())\n",
    "    # nettoyage de la dénomination\n",
    "    df_rep[\"denomination_cor\"] = (df_rep[\"denomination\"].str.lower())\n",
    "    # Correction des adresses\n",
    "    df_rep.loc[(df_rep[\"ville\"].isna()) & (df_rep[\"adresse_ligne3\"].isna() == False), \"ville\"] = \\\n",
    "    df_rep.loc[(df_rep[\"ville\"].isna()) & (df_rep[\"adresse_ligne3\"].isna() == False), \"adresse_ligne3\"]\n",
    "    df_rep[\"commune\"] = df_rep[\"ville\"]\n",
    "    df_rep[\"commune\"] = df_rep[\"commune\"].str.lower()\n",
    "    df_rep[\"commune\"] = (df_rep[\"commune\"].str.replace(\"à\", \"a\")\n",
    "                                            .str.replace(\"è\", \"e\")\n",
    "                                            .str.replace(\"é\", \"e\")\n",
    "                                            .str.replace(\"ç\", \"c\")\n",
    "                                            .str.replace(\"ù\", \"u\")\n",
    "                                            .str.replace(\"ô\", \"o\"))\n",
    "    df_rep[\"commune\"] = (df_rep[\"commune\"].str.replace(\"saint\", \"st\"))\n",
    "    df_rep[\"commune\"] = df_rep[\"commune\"].str.replace(\" \", \"\")\n",
    "    # mettre date de naissance sous la forme AAAMMJJ\n",
    "    df_rep[\"date_naissance_cor\"] = df_rep[\"date_naissance\"].str.replace(\"-\",\"\")\n",
    "    # traitement des noms et prenoms\n",
    "    # Traitement des particules\n",
    "    df_rep[\"nom_patronymique_cor\"] = (df_rep[\"nom_patronymique_cor\"].str.replace(\" DE LA \", \"-DE-LA-\")\n",
    "        .str.replace(\" DU \", \"-DU-\").str.replace(\" LE \", \"-LE-\").str.replace(\" LA \", \"-LA-\")\n",
    "        .str.replace(\" EL \", \"-EL-\")\n",
    "        .str.replace(\" SAINT \", \"-SAINT-\")\n",
    "        .str.replace(\" VAN \", \"-VAN-\")\n",
    "        .str.replace(\" DE \", \"-DE-\")\n",
    "        .str.replace(\" D \", \"-D-\")\n",
    "        .str.replace(\"SAINT \", \"SAINT-\")\n",
    "    #.str.replace(\"D \", \"D-\") -> induit des problemes\n",
    "        .str.replace(\"DE \", \"DE-\")\n",
    "        .str.replace(\"DU \", \"DU-\")\n",
    "        .str.replace(\"LE \", \"LE-\")\n",
    "        .str.replace(\"LA \", \"LA-\")\n",
    "        .str.replace(\"EL \", \"EL-\")\n",
    "        .str.replace(\"DI \", \"DI-\")\n",
    "        .str.replace(\"BEN \", \"BEN-\")\n",
    "        .str.replace(\"VAN \", \"VAN-\")\n",
    "        .str.replace(\" D'\", \"-D'\"))\n",
    "    df_rep[\"nom_cor\"] = df_rep[\"nom_patronymique_cor\"] \n",
    "    df_rep[\"prenom1_cor\"] = df_rep[\"prenoms\"] \n",
    "    df_rep[\"prenom2_cor\"] = np.nan \n",
    "    df_rep[\"prenom3_cor\"] = np.nan \n",
    "    temp = df_rep.loc[df_rep[\"prenoms\"] == \"\", \"nom_patronymique_cor\"].str.split(pat=\" \", n=3, expand=True)\n",
    "    temp.columns = [\"nom_cor\", \"prenom1_cor\", \"prenom2_cor\", \"prenom3_cor\"]\n",
    "    df_rep.loc[df_rep[\"prenoms\"] == \"\", [\"nom_cor\", \"prenom1_cor\", \"prenom2_cor\", \"prenom3_cor\"]] = temp\n",
    "    df_rep.loc[df_rep[\"nom_cor\"] == \"\", \"nom_cor\"] = np.nan\n",
    "    df_rep.loc[df_rep[\"prenom1_cor\"] == \"\", \"prenom1_cor\"] = np.nan\n",
    "    # correction du type \n",
    "    df_rep[\"type\"] = df_rep[\"type\"].str.lower().str.replace(\" \", \"\") \n",
    "    # correction des noms prenoms quand prenom est na, type est personne physique et le nom contient une virgule\n",
    "    temp = df_rep.loc[(df_rep[\"prenoms\"].isna()==True)&(df_rep[\"type\"]==\"p.physique\")&\n",
    "            (df_rep[\"nom_cor\"].str.contains(\",\")),\"nom_cor\"].str.split(pat=\" \", n=3, expand=True)\n",
    "    temp.columns = [\"nom_cor\", \"prenom1_cor\", \"prenom2_cor\", \"prenom3_cor\"]\n",
    "    temp[\"prenom1_cor\"] = temp[\"prenom1_cor\"].str.replace(\",\", \"\")\n",
    "    temp[\"prenom2_cor\"] = temp[\"prenom2_cor\"].str.replace(\",\", \"\")\n",
    "    temp[\"prenom3_cor\"] = temp[\"prenom3_cor\"].str.replace(\",\", \"\")\n",
    "    df_rep.loc[(df_rep[\"prenoms\"].isna()==True)&(df_rep[\"type\"]==\"p.physique\")&(df_rep[\"nom_cor\"].str.contains(\",\")),\n",
    "        [\"nom_cor\", \"prenom1_cor\", \"prenom2_cor\", \"prenom3_cor\"]] = temp\n",
    "    # traitement des cas X née Y\n",
    "    temp = df_rep.loc[(df_rep[\"nom_cor\"].str.contains(\"NEE\\s|née\\s|Née\\s\") == True)&\n",
    "                        (df_rep[\"nom_usage\"].isna()), \"nom_cor\"].str.split(pat=\"NEE\\s|née\\s|Née\\s\", n=1, expand=True)\n",
    "    temp.columns = [\"nom_usage_cor\", \"nom_cor\"]\n",
    "    df_rep.loc[(df_rep[\"nom_cor\"].str.contains(\"NEE\\s|née\\s|Née\\s\") == True)&\n",
    "                (df_rep[\"nom_usage\"].isna()), [\"nom_cor\"]] = temp[\"nom_cor\"]\n",
    "    return df_rep"
   ]
  },
  {
   "cell_type": "code",
   "execution_count": 42,
   "metadata": {},
   "outputs": [
    {
     "name": "stderr",
     "output_type": "stream",
     "text": [
      "/tmp/ipykernel_1382/989057859.py:32: FutureWarning: The default value of regex will change from True to False in a future version.\n",
      "  df_rep[\"nom_patronymique_cor\"] = df_rep[\"nom_patronymique_cor\"].str.replace(re1,\"\")\n",
      "/tmp/ipykernel_1382/989057859.py:35: UserWarning: This pattern is interpreted as a regular expression, and has match groups. To actually get the groups, use str.extract.\n",
      "  df_rep[\"top_particule\"] = df_rep[\"nom_patronymique\"].str.contains(particule, regex=True)\n"
     ]
    }
   ],
   "source": [
    "df_rep = clean_rep_inpi(rep)"
   ]
  },
  {
   "cell_type": "code",
   "execution_count": 44,
   "metadata": {},
   "outputs": [
    {
     "data": {
      "text/plain": [
       "57                     DE-LAFORCADE\n",
       "75     THIERRY-D'ARGENLIEU-DE-GYVES\n",
       "108                        DE-MORAS\n",
       "114                      DE-LORENZO\n",
       "115                      DE-LORENZO\n",
       "Name: nom_patronymique_cor, dtype: object"
      ]
     },
     "execution_count": 44,
     "metadata": {},
     "output_type": "execute_result"
    }
   ],
   "source": [
    "df_rep.loc[df_rep[\"top_particule\"] == True, \"nom_patronymique_cor\"].head()"
   ]
  },
  {
   "cell_type": "code",
   "execution_count": 45,
   "metadata": {},
   "outputs": [
    {
     "data": {
      "text/plain": [
       "Index(['code_greffe', 'nom_greffe', 'numero_gestion', 'siren', 'type',\n",
       "       'nom_patronymique', 'nom_usage', 'pseudonyme', 'prenoms',\n",
       "       'denomination', 'siren_representant_pm', 'forme_juridique',\n",
       "       'adresse_ligne1', 'adresse_ligne2', 'adresse_ligne3', 'code_postal',\n",
       "       'ville', 'code_commune', 'pays', 'date_naissance', 'ville_naissance',\n",
       "       'pays_naissance', 'nationalite', 'qualite', 'id_representant',\n",
       "       'date_greffe', 'libelle_evt', 'source', 'year', 'file_path',\n",
       "       'date_greffe', 'nom_patronymique_cor', 'top_particule', 'qualite_cor',\n",
       "       'denomination_cor', 'commune', 'date_naissance_cor'],\n",
       "      dtype='object')"
      ]
     },
     "execution_count": 45,
     "metadata": {},
     "output_type": "execute_result"
    }
   ],
   "source": [
    "df_rep.columns"
   ]
  },
  {
   "cell_type": "code",
   "execution_count": 67,
   "metadata": {},
   "outputs": [
    {
     "data": {
      "text/plain": [
       "(4705, 41)"
      ]
     },
     "execution_count": 67,
     "metadata": {},
     "output_type": "execute_result"
    }
   ],
   "source": [
    "df_rep.loc[df_rep[\"prenoms\"] == \"\", ].shape # 4705"
   ]
  },
  {
   "cell_type": "code",
   "execution_count": 78,
   "metadata": {},
   "outputs": [
    {
     "data": {
      "text/plain": [
       "(11142886, 41)"
      ]
     },
     "execution_count": 78,
     "metadata": {},
     "output_type": "execute_result"
    }
   ],
   "source": [
    "df_rep.shape"
   ]
  },
  {
   "cell_type": "code",
   "execution_count": 69,
   "metadata": {},
   "outputs": [
    {
     "data": {
      "text/html": [
       "<div>\n",
       "<style scoped>\n",
       "    .dataframe tbody tr th:only-of-type {\n",
       "        vertical-align: middle;\n",
       "    }\n",
       "\n",
       "    .dataframe tbody tr th {\n",
       "        vertical-align: top;\n",
       "    }\n",
       "\n",
       "    .dataframe thead th {\n",
       "        text-align: right;\n",
       "    }\n",
       "</style>\n",
       "<table border=\"1\" class=\"dataframe\">\n",
       "  <thead>\n",
       "    <tr style=\"text-align: right;\">\n",
       "      <th></th>\n",
       "      <th>nom_cor</th>\n",
       "      <th>prenom1_cor</th>\n",
       "      <th>prenom2_cor</th>\n",
       "      <th>prenom3_cor</th>\n",
       "    </tr>\n",
       "  </thead>\n",
       "  <tbody>\n",
       "    <tr>\n",
       "      <th>24689</th>\n",
       "      <td>SYED-ADIL</td>\n",
       "      <td>RASHID</td>\n",
       "      <td>None</td>\n",
       "      <td>None</td>\n",
       "    </tr>\n",
       "    <tr>\n",
       "      <th>25196</th>\n",
       "      <td>ISLAM</td>\n",
       "      <td>AWLAD</td>\n",
       "      <td>None</td>\n",
       "      <td>None</td>\n",
       "    </tr>\n",
       "    <tr>\n",
       "      <th>54431</th>\n",
       "      <td>ABD-EL-SALAM</td>\n",
       "      <td>ABD-EL-FATTAH</td>\n",
       "      <td>AHMED-RADWAN</td>\n",
       "      <td>None</td>\n",
       "    </tr>\n",
       "    <tr>\n",
       "      <th>70930</th>\n",
       "      <td>PIERRON</td>\n",
       "      <td>None</td>\n",
       "      <td>None</td>\n",
       "      <td>None</td>\n",
       "    </tr>\n",
       "    <tr>\n",
       "      <th>70931</th>\n",
       "      <td>PIERRON</td>\n",
       "      <td>None</td>\n",
       "      <td>None</td>\n",
       "      <td>None</td>\n",
       "    </tr>\n",
       "  </tbody>\n",
       "</table>\n",
       "</div>"
      ],
      "text/plain": [
       "            nom_cor    prenom1_cor   prenom2_cor prenom3_cor\n",
       "24689     SYED-ADIL         RASHID          None        None\n",
       "25196         ISLAM          AWLAD          None        None\n",
       "54431  ABD-EL-SALAM  ABD-EL-FATTAH  AHMED-RADWAN        None\n",
       "70930       PIERRON           None          None        None\n",
       "70931       PIERRON           None          None        None"
      ]
     },
     "execution_count": 69,
     "metadata": {},
     "output_type": "execute_result"
    }
   ],
   "source": [
    "df_rep.loc[df_rep[\"prenoms\"] == \"\", [\"nom_cor\", \"prenom1_cor\", \"prenom2_cor\", \"prenom3_cor\"]].head()"
   ]
  },
  {
   "cell_type": "code",
   "execution_count": 72,
   "metadata": {},
   "outputs": [
    {
     "data": {
      "text/html": [
       "<div>\n",
       "<style scoped>\n",
       "    .dataframe tbody tr th:only-of-type {\n",
       "        vertical-align: middle;\n",
       "    }\n",
       "\n",
       "    .dataframe tbody tr th {\n",
       "        vertical-align: top;\n",
       "    }\n",
       "\n",
       "    .dataframe thead th {\n",
       "        text-align: right;\n",
       "    }\n",
       "</style>\n",
       "<table border=\"1\" class=\"dataframe\">\n",
       "  <thead>\n",
       "    <tr style=\"text-align: right;\">\n",
       "      <th></th>\n",
       "      <th>nom_cor</th>\n",
       "      <th>prenom1_cor</th>\n",
       "    </tr>\n",
       "  </thead>\n",
       "  <tbody>\n",
       "    <tr>\n",
       "      <th>0</th>\n",
       "      <td>BAZILE</td>\n",
       "      <td>Eric</td>\n",
       "    </tr>\n",
       "    <tr>\n",
       "      <th>1</th>\n",
       "      <td>BORFIGA</td>\n",
       "      <td>Philippe</td>\n",
       "    </tr>\n",
       "    <tr>\n",
       "      <th>2</th>\n",
       "      <td>NaN</td>\n",
       "      <td>NaN</td>\n",
       "    </tr>\n",
       "    <tr>\n",
       "      <th>3</th>\n",
       "      <td>GEORGHIOU</td>\n",
       "      <td>Jean-Christophe</td>\n",
       "    </tr>\n",
       "    <tr>\n",
       "      <th>4</th>\n",
       "      <td>NaN</td>\n",
       "      <td>NaN</td>\n",
       "    </tr>\n",
       "  </tbody>\n",
       "</table>\n",
       "</div>"
      ],
      "text/plain": [
       "     nom_cor      prenom1_cor\n",
       "0     BAZILE             Eric\n",
       "1    BORFIGA         Philippe\n",
       "2        NaN              NaN\n",
       "3  GEORGHIOU  Jean-Christophe\n",
       "4        NaN              NaN"
      ]
     },
     "execution_count": 72,
     "metadata": {},
     "output_type": "execute_result"
    }
   ],
   "source": [
    "df_rep.loc[:,[\"nom_cor\", \"prenom1_cor\"]].head()"
   ]
  },
  {
   "cell_type": "code",
   "execution_count": 79,
   "metadata": {},
   "outputs": [
    {
     "data": {
      "text/plain": [
       "(981443, 41)"
      ]
     },
     "execution_count": 79,
     "metadata": {},
     "output_type": "execute_result"
    }
   ],
   "source": [
    "df_rep.loc[(df_rep[\"prenoms\"].isna()==True)&(df_rep[\"siren_representant_pm\"].isna()==False), ].shape"
   ]
  },
  {
   "cell_type": "code",
   "execution_count": 86,
   "metadata": {},
   "outputs": [
    {
     "data": {
      "text/plain": [
       "(8526, 41)"
      ]
     },
     "execution_count": 86,
     "metadata": {},
     "output_type": "execute_result"
    }
   ],
   "source": [
    "df_rep.loc[(df_rep[\"prenoms\"].isna()==True)&(df_rep[\"type\"]==\"p.physique\"),:].shape # 8526"
   ]
  },
  {
   "cell_type": "code",
   "execution_count": 85,
   "metadata": {},
   "outputs": [
    {
     "data": {
      "text/html": [
       "<div>\n",
       "<style scoped>\n",
       "    .dataframe tbody tr th:only-of-type {\n",
       "        vertical-align: middle;\n",
       "    }\n",
       "\n",
       "    .dataframe tbody tr th {\n",
       "        vertical-align: top;\n",
       "    }\n",
       "\n",
       "    .dataframe thead th {\n",
       "        text-align: right;\n",
       "    }\n",
       "</style>\n",
       "<table border=\"1\" class=\"dataframe\">\n",
       "  <thead>\n",
       "    <tr style=\"text-align: right;\">\n",
       "      <th></th>\n",
       "      <th>code_greffe</th>\n",
       "      <th>nom_greffe</th>\n",
       "      <th>numero_gestion</th>\n",
       "      <th>siren</th>\n",
       "      <th>type</th>\n",
       "      <th>nom_patronymique</th>\n",
       "      <th>nom_usage</th>\n",
       "      <th>pseudonyme</th>\n",
       "      <th>prenoms</th>\n",
       "      <th>denomination</th>\n",
       "      <th>...</th>\n",
       "      <th>nom_patronymique_cor</th>\n",
       "      <th>top_particule</th>\n",
       "      <th>qualite_cor</th>\n",
       "      <th>denomination_cor</th>\n",
       "      <th>commune</th>\n",
       "      <th>date_naissance_cor</th>\n",
       "      <th>nom_cor</th>\n",
       "      <th>prenom1_cor</th>\n",
       "      <th>prenom2_cor</th>\n",
       "      <th>prenom3_cor</th>\n",
       "    </tr>\n",
       "  </thead>\n",
       "  <tbody>\n",
       "    <tr>\n",
       "      <th>674145</th>\n",
       "      <td>8903</td>\n",
       "      <td>Sens</td>\n",
       "      <td>2002D00078</td>\n",
       "      <td>775718463</td>\n",
       "      <td>p.physique</td>\n",
       "      <td>FEDERATION NATIONALE DE REVISION DES COOPERATI...</td>\n",
       "      <td>NaN</td>\n",
       "      <td>NaN</td>\n",
       "      <td>NaN</td>\n",
       "      <td>NaN</td>\n",
       "      <td>...</td>\n",
       "      <td>FEDERATION NATIONALE-DE-REVISION DES COOPERATI...</td>\n",
       "      <td>True</td>\n",
       "      <td>commissaire aux comptes suppléant</td>\n",
       "      <td>NaN</td>\n",
       "      <td>paris</td>\n",
       "      <td>NaN</td>\n",
       "      <td>FEDERATION NATIONALE-DE-REVISION DES COOPERATI...</td>\n",
       "      <td>NaN</td>\n",
       "      <td>NaN</td>\n",
       "      <td>NaN</td>\n",
       "    </tr>\n",
       "    <tr>\n",
       "      <th>683174</th>\n",
       "      <td>8903</td>\n",
       "      <td>Sens</td>\n",
       "      <td>1985D00013</td>\n",
       "      <td>331648063</td>\n",
       "      <td>p.physique</td>\n",
       "      <td>FEDERATION NATIONALE DE REVISION DES COOPERATI...</td>\n",
       "      <td>NaN</td>\n",
       "      <td>NaN</td>\n",
       "      <td>NaN</td>\n",
       "      <td>NaN</td>\n",
       "      <td>...</td>\n",
       "      <td>FEDERATION NATIONALE-DE-REVISION DES COOPERATI...</td>\n",
       "      <td>True</td>\n",
       "      <td>commissaire aux comptes suppléant</td>\n",
       "      <td>NaN</td>\n",
       "      <td>coin-les-cuvry</td>\n",
       "      <td>NaN</td>\n",
       "      <td>FEDERATION NATIONALE-DE-REVISION DES COOPERATI...</td>\n",
       "      <td>NaN</td>\n",
       "      <td>NaN</td>\n",
       "      <td>NaN</td>\n",
       "    </tr>\n",
       "    <tr>\n",
       "      <th>694286</th>\n",
       "      <td>8501</td>\n",
       "      <td>La Roche-sur-Yon</td>\n",
       "      <td>2007B01050</td>\n",
       "      <td>499451029</td>\n",
       "      <td>p.physique</td>\n",
       "      <td>ERNST &amp; YOUNG ATLANTIQUE</td>\n",
       "      <td>NaN</td>\n",
       "      <td>NaN</td>\n",
       "      <td>NaN</td>\n",
       "      <td>NaN</td>\n",
       "      <td>...</td>\n",
       "      <td>ERNST &amp; YOUNG ATLANTIQUE</td>\n",
       "      <td>False</td>\n",
       "      <td>commissaire aux comptes titulaire</td>\n",
       "      <td>NaN</td>\n",
       "      <td>nantescedex1</td>\n",
       "      <td>NaN</td>\n",
       "      <td>ERNST &amp; YOUNG ATLANTIQUE</td>\n",
       "      <td>NaN</td>\n",
       "      <td>NaN</td>\n",
       "      <td>NaN</td>\n",
       "    </tr>\n",
       "    <tr>\n",
       "      <th>694299</th>\n",
       "      <td>8501</td>\n",
       "      <td>La Roche-sur-Yon</td>\n",
       "      <td>1998B00460</td>\n",
       "      <td>419107107</td>\n",
       "      <td>p.physique</td>\n",
       "      <td>FIDEA-FPL</td>\n",
       "      <td>NaN</td>\n",
       "      <td>NaN</td>\n",
       "      <td>NaN</td>\n",
       "      <td>NaN</td>\n",
       "      <td>...</td>\n",
       "      <td>FIDEA-FPL</td>\n",
       "      <td>False</td>\n",
       "      <td>commissaire aux comptes titulaire</td>\n",
       "      <td>NaN</td>\n",
       "      <td>st-gilles-croix-de-vie</td>\n",
       "      <td>NaN</td>\n",
       "      <td>FIDEA-FPL</td>\n",
       "      <td>NaN</td>\n",
       "      <td>NaN</td>\n",
       "      <td>NaN</td>\n",
       "    </tr>\n",
       "    <tr>\n",
       "      <th>694828</th>\n",
       "      <td>8501</td>\n",
       "      <td>La Roche-sur-Yon</td>\n",
       "      <td>1983B00115</td>\n",
       "      <td>327017992</td>\n",
       "      <td>p.physique</td>\n",
       "      <td>SELAS G/AUDIT</td>\n",
       "      <td>NaN</td>\n",
       "      <td>NaN</td>\n",
       "      <td>NaN</td>\n",
       "      <td>NaN</td>\n",
       "      <td>...</td>\n",
       "      <td>SELAS G/AUDIT</td>\n",
       "      <td>False</td>\n",
       "      <td>commissaire aux comptes titulaire</td>\n",
       "      <td>NaN</td>\n",
       "      <td>angers</td>\n",
       "      <td>NaN</td>\n",
       "      <td>SELAS G/AUDIT</td>\n",
       "      <td>NaN</td>\n",
       "      <td>NaN</td>\n",
       "      <td>NaN</td>\n",
       "    </tr>\n",
       "  </tbody>\n",
       "</table>\n",
       "<p>5 rows × 41 columns</p>\n",
       "</div>"
      ],
      "text/plain": [
       "        code_greffe        nom_greffe numero_gestion      siren        type  \\\n",
       "674145         8903              Sens     2002D00078  775718463  p.physique   \n",
       "683174         8903              Sens     1985D00013  331648063  p.physique   \n",
       "694286         8501  La Roche-sur-Yon     2007B01050  499451029  p.physique   \n",
       "694299         8501  La Roche-sur-Yon     1998B00460  419107107  p.physique   \n",
       "694828         8501  La Roche-sur-Yon     1983B00115  327017992  p.physique   \n",
       "\n",
       "                                         nom_patronymique nom_usage  \\\n",
       "674145  FEDERATION NATIONALE DE REVISION DES COOPERATI...       NaN   \n",
       "683174  FEDERATION NATIONALE DE REVISION DES COOPERATI...       NaN   \n",
       "694286                           ERNST & YOUNG ATLANTIQUE       NaN   \n",
       "694299                                          FIDEA-FPL       NaN   \n",
       "694828                                      SELAS G/AUDIT       NaN   \n",
       "\n",
       "       pseudonyme prenoms denomination  ...  \\\n",
       "674145        NaN     NaN          NaN  ...   \n",
       "683174        NaN     NaN          NaN  ...   \n",
       "694286        NaN     NaN          NaN  ...   \n",
       "694299        NaN     NaN          NaN  ...   \n",
       "694828        NaN     NaN          NaN  ...   \n",
       "\n",
       "                                     nom_patronymique_cor top_particule  \\\n",
       "674145  FEDERATION NATIONALE-DE-REVISION DES COOPERATI...          True   \n",
       "683174  FEDERATION NATIONALE-DE-REVISION DES COOPERATI...          True   \n",
       "694286                           ERNST & YOUNG ATLANTIQUE         False   \n",
       "694299                                          FIDEA-FPL         False   \n",
       "694828                                      SELAS G/AUDIT         False   \n",
       "\n",
       "                              qualite_cor denomination_cor  \\\n",
       "674145  commissaire aux comptes suppléant              NaN   \n",
       "683174  commissaire aux comptes suppléant              NaN   \n",
       "694286  commissaire aux comptes titulaire              NaN   \n",
       "694299  commissaire aux comptes titulaire              NaN   \n",
       "694828  commissaire aux comptes titulaire              NaN   \n",
       "\n",
       "                       commune date_naissance_cor  \\\n",
       "674145                   paris                NaN   \n",
       "683174          coin-les-cuvry                NaN   \n",
       "694286            nantescedex1                NaN   \n",
       "694299  st-gilles-croix-de-vie                NaN   \n",
       "694828                  angers                NaN   \n",
       "\n",
       "                                                  nom_cor prenom1_cor  \\\n",
       "674145  FEDERATION NATIONALE-DE-REVISION DES COOPERATI...         NaN   \n",
       "683174  FEDERATION NATIONALE-DE-REVISION DES COOPERATI...         NaN   \n",
       "694286                           ERNST & YOUNG ATLANTIQUE         NaN   \n",
       "694299                                          FIDEA-FPL         NaN   \n",
       "694828                                      SELAS G/AUDIT         NaN   \n",
       "\n",
       "       prenom2_cor prenom3_cor  \n",
       "674145         NaN         NaN  \n",
       "683174         NaN         NaN  \n",
       "694286         NaN         NaN  \n",
       "694299         NaN         NaN  \n",
       "694828         NaN         NaN  \n",
       "\n",
       "[5 rows x 41 columns]"
      ]
     },
     "execution_count": 85,
     "metadata": {},
     "output_type": "execute_result"
    }
   ],
   "source": [
    "df_rep.loc[(df_rep[\"prenoms\"].isna()==True)&(df_rep[\"type\"]==\"p.physique\"),:].head()"
   ]
  },
  {
   "cell_type": "code",
   "execution_count": 104,
   "metadata": {},
   "outputs": [
    {
     "data": {
      "text/html": [
       "<div>\n",
       "<style scoped>\n",
       "    .dataframe tbody tr th:only-of-type {\n",
       "        vertical-align: middle;\n",
       "    }\n",
       "\n",
       "    .dataframe tbody tr th {\n",
       "        vertical-align: top;\n",
       "    }\n",
       "\n",
       "    .dataframe thead th {\n",
       "        text-align: right;\n",
       "    }\n",
       "</style>\n",
       "<table border=\"1\" class=\"dataframe\">\n",
       "  <thead>\n",
       "    <tr style=\"text-align: right;\">\n",
       "      <th></th>\n",
       "      <th>nom_cor</th>\n",
       "    </tr>\n",
       "  </thead>\n",
       "  <tbody>\n",
       "    <tr>\n",
       "      <th>2084</th>\n",
       "      <td>GIARDINA NEE CUSUMANO PHILIPPINE</td>\n",
       "    </tr>\n",
       "    <tr>\n",
       "      <th>2085</th>\n",
       "      <td>GIARDINA NEE CUSUMANO PHILIPPINE</td>\n",
       "    </tr>\n",
       "    <tr>\n",
       "      <th>2299</th>\n",
       "      <td>ROMINGER NEE ZAMARON MARIE-CLAIRE ANNIE</td>\n",
       "    </tr>\n",
       "    <tr>\n",
       "      <th>3406</th>\n",
       "      <td>SCHNEEGANS</td>\n",
       "    </tr>\n",
       "    <tr>\n",
       "      <th>7039</th>\n",
       "      <td>MARCIANO NEE SOUSSAN SARAH</td>\n",
       "    </tr>\n",
       "  </tbody>\n",
       "</table>\n",
       "</div>"
      ],
      "text/plain": [
       "                                      nom_cor\n",
       "2084         GIARDINA NEE CUSUMANO PHILIPPINE\n",
       "2085         GIARDINA NEE CUSUMANO PHILIPPINE\n",
       "2299  ROMINGER NEE ZAMARON MARIE-CLAIRE ANNIE\n",
       "3406                               SCHNEEGANS\n",
       "7039               MARCIANO NEE SOUSSAN SARAH"
      ]
     },
     "execution_count": 104,
     "metadata": {},
     "output_type": "execute_result"
    }
   ],
   "source": [
    "# traitement du cas avec nee X\n",
    "df_rep.loc[df_rep[\"nom_cor\"].str.contains(\"NEE|née|Née\") == True,[\"nom_cor\"]].head()"
   ]
  },
  {
   "cell_type": "code",
   "execution_count": 106,
   "metadata": {},
   "outputs": [
    {
     "data": {
      "text/plain": [
       "(9300011, 41)"
      ]
     },
     "execution_count": 106,
     "metadata": {},
     "output_type": "execute_result"
    }
   ],
   "source": [
    "df_rep.loc[df_rep[\"nom_usage\"].isna(), :].shape # 9 300 011"
   ]
  },
  {
   "cell_type": "code",
   "execution_count": 108,
   "metadata": {},
   "outputs": [
    {
     "data": {
      "text/html": [
       "<div>\n",
       "<style scoped>\n",
       "    .dataframe tbody tr th:only-of-type {\n",
       "        vertical-align: middle;\n",
       "    }\n",
       "\n",
       "    .dataframe tbody tr th {\n",
       "        vertical-align: top;\n",
       "    }\n",
       "\n",
       "    .dataframe thead th {\n",
       "        text-align: right;\n",
       "    }\n",
       "</style>\n",
       "<table border=\"1\" class=\"dataframe\">\n",
       "  <thead>\n",
       "    <tr style=\"text-align: right;\">\n",
       "      <th></th>\n",
       "      <th>nom_cor</th>\n",
       "      <th>nom_usage</th>\n",
       "    </tr>\n",
       "  </thead>\n",
       "  <tbody>\n",
       "    <tr>\n",
       "      <th>35</th>\n",
       "      <td>MOUNIER</td>\n",
       "      <td>BLAZY</td>\n",
       "    </tr>\n",
       "    <tr>\n",
       "      <th>51</th>\n",
       "      <td>PEREZ</td>\n",
       "      <td>BENHAMOU</td>\n",
       "    </tr>\n",
       "    <tr>\n",
       "      <th>56</th>\n",
       "      <td>LE-CHEVALIER</td>\n",
       "      <td>PALUMBO</td>\n",
       "    </tr>\n",
       "    <tr>\n",
       "      <th>78</th>\n",
       "      <td>LEGRIS</td>\n",
       "      <td>PECCI</td>\n",
       "    </tr>\n",
       "    <tr>\n",
       "      <th>96</th>\n",
       "      <td>KETCHEDJIAN</td>\n",
       "      <td>BENARD</td>\n",
       "    </tr>\n",
       "    <tr>\n",
       "      <th>...</th>\n",
       "      <td>...</td>\n",
       "      <td>...</td>\n",
       "    </tr>\n",
       "    <tr>\n",
       "      <th>11142875</th>\n",
       "      <td>HUE</td>\n",
       "      <td>MOQUET</td>\n",
       "    </tr>\n",
       "    <tr>\n",
       "      <th>11142876</th>\n",
       "      <td>DELACOUR</td>\n",
       "      <td>CHOL</td>\n",
       "    </tr>\n",
       "    <tr>\n",
       "      <th>11142878</th>\n",
       "      <td>LEVASSOR</td>\n",
       "      <td>HUE</td>\n",
       "    </tr>\n",
       "    <tr>\n",
       "      <th>11142879</th>\n",
       "      <td>BATAILLE</td>\n",
       "      <td>CORLAY</td>\n",
       "    </tr>\n",
       "    <tr>\n",
       "      <th>11142880</th>\n",
       "      <td>BATAILLE</td>\n",
       "      <td>CORLAY</td>\n",
       "    </tr>\n",
       "  </tbody>\n",
       "</table>\n",
       "<p>1842875 rows × 2 columns</p>\n",
       "</div>"
      ],
      "text/plain": [
       "               nom_cor nom_usage\n",
       "35             MOUNIER     BLAZY\n",
       "51               PEREZ  BENHAMOU\n",
       "56        LE-CHEVALIER   PALUMBO\n",
       "78              LEGRIS     PECCI\n",
       "96         KETCHEDJIAN    BENARD\n",
       "...                ...       ...\n",
       "11142875           HUE    MOQUET\n",
       "11142876      DELACOUR      CHOL\n",
       "11142878      LEVASSOR       HUE\n",
       "11142879      BATAILLE    CORLAY\n",
       "11142880      BATAILLE    CORLAY\n",
       "\n",
       "[1842875 rows x 2 columns]"
      ]
     },
     "execution_count": 108,
     "metadata": {},
     "output_type": "execute_result"
    }
   ],
   "source": [
    "# nom patronymique est censé être le nom de naissance et nom d'usage pas forcément\n",
    "df_rep.loc[~df_rep[\"nom_usage\"].isna(), [\"nom_cor\", \"nom_usage\"]].head()"
   ]
  },
  {
   "cell_type": "code",
   "execution_count": 109,
   "metadata": {},
   "outputs": [
    {
     "data": {
      "text/plain": [
       "(1842875, 2)"
      ]
     },
     "execution_count": 109,
     "metadata": {},
     "output_type": "execute_result"
    }
   ],
   "source": [
    "df_rep.loc[~df_rep[\"nom_usage\"].isna(), [\"nom_cor\", \"nom_usage\"]].shape"
   ]
  },
  {
   "cell_type": "code",
   "execution_count": 105,
   "metadata": {},
   "outputs": [
    {
     "data": {
      "text/plain": [
       "(12219, 1)"
      ]
     },
     "execution_count": 105,
     "metadata": {},
     "output_type": "execute_result"
    }
   ],
   "source": [
    "# donc quand il y a marque nee, il faut mettre ce qu'il y a après nee dans nom_cor et avant dans nom d'usage\n",
    "df_rep.loc[df_rep[\"nom_cor\"].str.contains(\"NEE|née|Née\") == True,[\"nom_cor\"]].shape # 12 219 cas"
   ]
  },
  {
   "cell_type": "code",
   "execution_count": 110,
   "metadata": {},
   "outputs": [
    {
     "data": {
      "text/html": [
       "<div>\n",
       "<style scoped>\n",
       "    .dataframe tbody tr th:only-of-type {\n",
       "        vertical-align: middle;\n",
       "    }\n",
       "\n",
       "    .dataframe tbody tr th {\n",
       "        vertical-align: top;\n",
       "    }\n",
       "\n",
       "    .dataframe thead th {\n",
       "        text-align: right;\n",
       "    }\n",
       "</style>\n",
       "<table border=\"1\" class=\"dataframe\">\n",
       "  <thead>\n",
       "    <tr style=\"text-align: right;\">\n",
       "      <th></th>\n",
       "      <th>nom_cor</th>\n",
       "    </tr>\n",
       "  </thead>\n",
       "  <tbody>\n",
       "    <tr>\n",
       "      <th>2084</th>\n",
       "      <td>GIARDINA NEE CUSUMANO PHILIPPINE</td>\n",
       "    </tr>\n",
       "    <tr>\n",
       "      <th>2085</th>\n",
       "      <td>GIARDINA NEE CUSUMANO PHILIPPINE</td>\n",
       "    </tr>\n",
       "    <tr>\n",
       "      <th>2299</th>\n",
       "      <td>ROMINGER NEE ZAMARON MARIE-CLAIRE ANNIE</td>\n",
       "    </tr>\n",
       "    <tr>\n",
       "      <th>3406</th>\n",
       "      <td>SCHNEEGANS</td>\n",
       "    </tr>\n",
       "    <tr>\n",
       "      <th>7039</th>\n",
       "      <td>MARCIANO NEE SOUSSAN SARAH</td>\n",
       "    </tr>\n",
       "  </tbody>\n",
       "</table>\n",
       "</div>"
      ],
      "text/plain": [
       "                                      nom_cor\n",
       "2084         GIARDINA NEE CUSUMANO PHILIPPINE\n",
       "2085         GIARDINA NEE CUSUMANO PHILIPPINE\n",
       "2299  ROMINGER NEE ZAMARON MARIE-CLAIRE ANNIE\n",
       "3406                               SCHNEEGANS\n",
       "7039               MARCIANO NEE SOUSSAN SARAH"
      ]
     },
     "execution_count": 110,
     "metadata": {},
     "output_type": "execute_result"
    }
   ],
   "source": [
    "df_rep.loc[df_rep[\"nom_cor\"].str.contains(\"NEE|née|Née\") == True,[\"nom_cor\"]].head()"
   ]
  },
  {
   "cell_type": "code",
   "execution_count": 123,
   "metadata": {},
   "outputs": [
    {
     "data": {
      "text/html": [
       "<div>\n",
       "<style scoped>\n",
       "    .dataframe tbody tr th:only-of-type {\n",
       "        vertical-align: middle;\n",
       "    }\n",
       "\n",
       "    .dataframe tbody tr th {\n",
       "        vertical-align: top;\n",
       "    }\n",
       "\n",
       "    .dataframe thead th {\n",
       "        text-align: right;\n",
       "    }\n",
       "</style>\n",
       "<table border=\"1\" class=\"dataframe\">\n",
       "  <thead>\n",
       "    <tr style=\"text-align: right;\">\n",
       "      <th></th>\n",
       "      <th>nom_cor</th>\n",
       "      <th>nom_usage</th>\n",
       "    </tr>\n",
       "  </thead>\n",
       "  <tbody>\n",
       "    <tr>\n",
       "      <th>50723</th>\n",
       "      <td>GOHIER RAYMONDE-RENEE HENRIETTE</td>\n",
       "      <td>JEUNEMAITRE</td>\n",
       "    </tr>\n",
       "    <tr>\n",
       "      <th>564677</th>\n",
       "      <td>NEE BLAIS</td>\n",
       "      <td>AUVRAY</td>\n",
       "    </tr>\n",
       "    <tr>\n",
       "      <th>806492</th>\n",
       "      <td>GEIGER NEE TURLAN</td>\n",
       "      <td>GEIGER</td>\n",
       "    </tr>\n",
       "    <tr>\n",
       "      <th>1071701</th>\n",
       "      <td>ROBIN NEE BAVOILLOT</td>\n",
       "      <td>ROBIN</td>\n",
       "    </tr>\n",
       "    <tr>\n",
       "      <th>1091448</th>\n",
       "      <td>GUEU NEE BOURCEY</td>\n",
       "      <td>GUEU</td>\n",
       "    </tr>\n",
       "  </tbody>\n",
       "</table>\n",
       "</div>"
      ],
      "text/plain": [
       "                                 nom_cor    nom_usage\n",
       "50723    GOHIER RAYMONDE-RENEE HENRIETTE  JEUNEMAITRE\n",
       "564677                         NEE BLAIS       AUVRAY\n",
       "806492                 GEIGER NEE TURLAN       GEIGER\n",
       "1071701              ROBIN NEE BAVOILLOT        ROBIN\n",
       "1091448                 GUEU NEE BOURCEY         GUEU"
      ]
     },
     "execution_count": 123,
     "metadata": {},
     "output_type": "execute_result"
    }
   ],
   "source": [
    "df_rep.loc[(df_rep[\"nom_cor\"].str.contains(\"NEE\\s|née\\s|Née\\s\") == True)&(~df_rep[\"nom_usage\"].isna()), [\"nom_cor\", \"nom_usage\"]].head()"
   ]
  },
  {
   "cell_type": "code",
   "execution_count": 124,
   "metadata": {},
   "outputs": [
    {
     "data": {
      "text/plain": [
       "(74, 41)"
      ]
     },
     "execution_count": 124,
     "metadata": {},
     "output_type": "execute_result"
    }
   ],
   "source": [
    "df_rep.loc[(df_rep[\"nom_cor\"].str.contains(\"NEE\\s|née\\s|Née\\s\") == True)&(~df_rep[\"nom_usage\"].isna()),].shape # seulement 74 sur 8000, on voit que nom d'usage répète\n",
    "#  parfois ce qui est avant le nee, donc on va garder le nom d'usage quand il est rempli"
   ]
  },
  {
   "cell_type": "code",
   "execution_count": 132,
   "metadata": {},
   "outputs": [
    {
     "data": {
      "text/html": [
       "<div>\n",
       "<style scoped>\n",
       "    .dataframe tbody tr th:only-of-type {\n",
       "        vertical-align: middle;\n",
       "    }\n",
       "\n",
       "    .dataframe tbody tr th {\n",
       "        vertical-align: top;\n",
       "    }\n",
       "\n",
       "    .dataframe thead th {\n",
       "        text-align: right;\n",
       "    }\n",
       "</style>\n",
       "<table border=\"1\" class=\"dataframe\">\n",
       "  <thead>\n",
       "    <tr style=\"text-align: right;\">\n",
       "      <th></th>\n",
       "      <th>nom_cor</th>\n",
       "      <th>nom_usage</th>\n",
       "    </tr>\n",
       "  </thead>\n",
       "  <tbody>\n",
       "    <tr>\n",
       "      <th>273754</th>\n",
       "      <td>MARTIN-LAVIGNE JOSETTE RENEE MARIE-LOUISE</td>\n",
       "      <td>NaN</td>\n",
       "    </tr>\n",
       "    <tr>\n",
       "      <th>273755</th>\n",
       "      <td>MARTIN-LAVIGNE JOSETTE RENEE MARIE-LOUISE</td>\n",
       "      <td>NaN</td>\n",
       "    </tr>\n",
       "    <tr>\n",
       "      <th>991893</th>\n",
       "      <td>GENSOLLEN CHRISTIANE RENEE MARIE</td>\n",
       "      <td>NaN</td>\n",
       "    </tr>\n",
       "    <tr>\n",
       "      <th>2487098</th>\n",
       "      <td>GALMICHE RENNEE GEORGETTE</td>\n",
       "      <td>NaN</td>\n",
       "    </tr>\n",
       "    <tr>\n",
       "      <th>2499737</th>\n",
       "      <td>RONCO MURIEL-RENEE JULIETTE</td>\n",
       "      <td>NaN</td>\n",
       "    </tr>\n",
       "  </tbody>\n",
       "</table>\n",
       "</div>"
      ],
      "text/plain": [
       "                                           nom_cor nom_usage\n",
       "273754   MARTIN-LAVIGNE JOSETTE RENEE MARIE-LOUISE       NaN\n",
       "273755   MARTIN-LAVIGNE JOSETTE RENEE MARIE-LOUISE       NaN\n",
       "991893            GENSOLLEN CHRISTIANE RENEE MARIE       NaN\n",
       "2487098                  GALMICHE RENNEE GEORGETTE       NaN\n",
       "2499737                RONCO MURIEL-RENEE JULIETTE       NaN"
      ]
     },
     "execution_count": 132,
     "metadata": {},
     "output_type": "execute_result"
    }
   ],
   "source": [
    "df_rep.loc[(df_rep[\"nom_cor\"].str.contains(\"\\sNEE\\s|née\\s|Née\\s\") == True)&(df_rep[\"nom_usage\"].isna()),[\"nom_cor\", \"nom_usage\"]].head()"
   ]
  },
  {
   "cell_type": "code",
   "execution_count": null,
   "metadata": {},
   "outputs": [],
   "source": []
  }
 ],
 "metadata": {
  "interpreter": {
   "hash": "ed5946f2a0d3f5e934efd92075c2a89b2cb5130d0efd6e4509a568bedf48ed26"
  },
  "kernelspec": {
   "display_name": "Python 3.10.4 ('basesspcloud')",
   "language": "python",
   "name": "python3"
  },
  "language_info": {
   "codemirror_mode": {
    "name": "ipython",
    "version": 3
   },
   "file_extension": ".py",
   "mimetype": "text/x-python",
   "name": "python",
   "nbconvert_exporter": "python",
   "pygments_lexer": "ipython3",
   "version": "3.10.4"
  },
  "orig_nbformat": 4
 },
 "nbformat": 4,
 "nbformat_minor": 2
}
