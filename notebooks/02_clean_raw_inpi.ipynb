{
 "cells": [
  {
   "cell_type": "code",
   "execution_count": 1,
   "metadata": {},
   "outputs": [],
   "source": [
    "import os\n",
    "os.chdir(\"../src/\")\n",
    "import pandas as pd\n",
    "import s3fs\n",
    "import import_inpi as inpi"
   ]
  },
  {
   "cell_type": "code",
   "execution_count": 3,
   "metadata": {},
   "outputs": [
    {
     "name": "stderr",
     "output_type": "stream",
     "text": [
      "/home/coder/work/data_inpi/src/import_inpi.py:109: DtypeWarning: Columns (7,8,10,11,16,30) have mixed types. Specify dtype option on import or set low_memory=False.\n",
      "  personnes_morales = pd.read_csv(file_in, sep=\";\")\n",
      "/home/coder/work/data_inpi/src/import_inpi.py:111: DtypeWarning: Columns (7,15,17,25,26,32,33,34,35,36,37,38,39,40,41,42,43,45,49,50) have mixed types. Specify dtype option on import or set low_memory=False.\n",
      "  representants = pd.read_csv(file_in, sep=\";\")\n"
     ]
    }
   ],
   "source": [
    "pm, rep = inpi.import_inpi_s3()"
   ]
  },
  {
   "cell_type": "code",
   "execution_count": 4,
   "metadata": {},
   "outputs": [
    {
     "data": {
      "text/plain": [
       "(5001845, 31)"
      ]
     },
     "execution_count": 4,
     "metadata": {},
     "output_type": "execute_result"
    }
   ],
   "source": [
    "pm.shape"
   ]
  },
  {
   "cell_type": "code",
   "execution_count": 5,
   "metadata": {},
   "outputs": [
    {
     "data": {
      "text/plain": [
       "(11142886, 51)"
      ]
     },
     "execution_count": 5,
     "metadata": {},
     "output_type": "execute_result"
    }
   ],
   "source": [
    "rep.shape"
   ]
  },
  {
   "cell_type": "code",
   "execution_count": 23,
   "metadata": {},
   "outputs": [],
   "source": [
    "\n",
    "def clean_rep_inpi(df_rep):\n",
    "    \"\"\"_summary_Function that cleans data from Inpi\n",
    "\n",
    "    Args:\n",
    "        df_rep (_type_): _description_\n",
    "\n",
    "    Returns:\n",
    "        _type_: _description_\n",
    "    \"\"\"\n",
    "    df_rep.columns = [c.lower() for c in df_rep.columns]\n",
    "    df_rep = df_rep.drop(['rep_perm_nom',\n",
    "       'rep_perm_nom_usage', 'rep_perm_pseudo', 'rep_perm_prénoms',\n",
    "       'rep_perm_date_naissance', 'rep_perm_ville_naissance',\n",
    "       'rep_perm_pays_naissance', 'rep_perm_nationalité',\n",
    "       'rep_perm_adr_ligne1', 'rep_perm_adr_ligne2', 'rep_perm_adr_ligne3',\n",
    "       'rep_perm_code_postal', 'rep_perm_ville', 'rep_perm_code_commune',\n",
    "       'rep_perm_pays', 'conjoint_collab_nom_patronym',\n",
    "       'conjoint_collab_nom_usage', 'conjoint_collab_pseudo',\n",
    "       'conjoint_collab_prénoms', 'conjoint_collab_date_fin'], axis=1)\n",
    "    df_rep = df_rep.rename({\"code greffe\": \"code_greffe\", \n",
    "                                \"forme_juridique_x\": \"forme_juridique\", \n",
    "                                \"prénoms\": \"prenoms\", \"qualité\": \"qualite\", \n",
    "                                \"dénomination\": \"denomination\",\n",
    "                                \"nationalité\": \"nationalite\",\n",
    "                                \"id_représentant\": \"id_representant\",\n",
    "                                \"siren.1\": \"siren_representant_pm\"}, axis=1)\n",
    "    # Traitement des cas où le nom et les prénoms sont manquants\n",
    "    df_rep.loc[df_rep[\"prenoms\"] == \"-\", \"prenoms\"] = \"\"\n",
    "    re1 = \"(INDIVISION SUCCESSORALE DE M\\.\\s|\\sM\\.\\s|^M\\.\\s|MME\\.\\s|MR\\.\\s|MELLE\\.\\s|MONSIEUR\\.?\\s|MADAME\\.?\\s|MLLE\\.\\s|REPRESENTEE\\sPAR\\sMONSIEUR\\.?\\s|REPRESENTEE\\sPAR\\s)\"\n",
    "    # df_rep[\"top_civilite\"] = df_rep[\"nom_patronymique\"].str.contains(re1, regex=True)\n",
    "    df_rep[\"nom_patronymique2\"] = df_rep[\"nom_patronymique\"]\n",
    "    df_rep[\"nom_patronymique2\"] = df_rep[\"nom_patronymique2\"].str.replace(re1,\"\")\n",
    "    # on a modifié un peu le code de l'insee pour enlever les representee par, ici aussi car on va essayer de prendre en compte les particules\n",
    "    particule = \"(DU\\s[A-Za-z]+|DE\\sLA\\s[A-Za-z]+|[A-Za-z]+\\sDU\\s[A-Za-z]+|[A-Za-z]+\\sDE\\sLA\\s[A-Za-z]+|DE\\s[A-Za-z]+|[A-Za-z]+\\sDE\\s[A-Za-z]+)\"\n",
    "    df_rep[\"top_particule\"] = df_rep[\"nom_patronymique\"].str.contains(particule, regex=True)\n",
    "    # Traitement de la qualite\n",
    "    df_rep[\"qualite2\"] = df_rep[\"qualite\"]\n",
    "    df_rep[\"qualite2\"] = df_rep[\"qualite2\"].str.lower()\n",
    "    df_rep[\"qualite2\"] = df_rep[\"qualite2\"].str.strip()\n",
    "    # nettoyage de la dénomination\n",
    "    df_rep[\"denomination2\"] = df_rep[\"denomination\"]\n",
    "    df_rep[\"denomination2\"] = df_rep[\"denomination2\"].str.lower()\n",
    "    # Correction des adresses\n",
    "    df_rep.loc[(df_rep[\"ville\"].isna()) & (df_rep[\"adresse_ligne3\"].isna() == False), \"ville\"] = \\\n",
    "    df_rep.loc[(df_rep[\"ville\"].isna()) & (df_rep[\"adresse_ligne3\"].isna() == False), \"adresse_ligne3\"]\n",
    "    df_rep[\"commune\"] = df_rep[\"ville\"]\n",
    "    df_rep[\"commune\"] = df_rep[\"commune\"].str.lower()\n",
    "    df_rep[\"commune\"] = (df_rep[\"commune\"].str.replace(\"à\", \"a\")\n",
    "                                            .str.replace(\"è\", \"e\")\n",
    "                                            .str.replace(\"é\", \"e\")\n",
    "                                            .str.replace(\"ç\", \"c\")\n",
    "                                            .str.replace(\"ù\", \"u\")\n",
    "                                            .str.replace(\"ô\", \"o\"))\n",
    "    df_rep[\"commune\"] = (df_rep[\"commune\"].str.replace(\"saint\", \"st\"))\n",
    "    df_rep[\"commune\"] = df_rep[\"commune\"].str.replace(\" \", \"\")\n",
    "    return df_rep"
   ]
  },
  {
   "cell_type": "code",
   "execution_count": 24,
   "metadata": {},
   "outputs": [
    {
     "name": "stderr",
     "output_type": "stream",
     "text": [
      "/tmp/ipykernel_1382/1532121528.py:32: FutureWarning: The default value of regex will change from True to False in a future version.\n",
      "  df_rep[\"nom_patronymique2\"] = df_rep[\"nom_patronymique2\"].str.replace(re1,\"\")\n",
      "/tmp/ipykernel_1382/1532121528.py:35: UserWarning: This pattern is interpreted as a regular expression, and has match groups. To actually get the groups, use str.extract.\n",
      "  df_rep[\"top_particule\"] = df_rep[\"nom_patronymique\"].str.contains(particule, regex=True)\n"
     ]
    }
   ],
   "source": [
    "df_rep = clean_rep_inpi(rep)"
   ]
  },
  {
   "cell_type": "code",
   "execution_count": null,
   "metadata": {},
   "outputs": [],
   "source": []
  }
 ],
 "metadata": {
  "interpreter": {
   "hash": "ed5946f2a0d3f5e934efd92075c2a89b2cb5130d0efd6e4509a568bedf48ed26"
  },
  "kernelspec": {
   "display_name": "Python 3.10.4 ('basesspcloud')",
   "language": "python",
   "name": "python3"
  },
  "language_info": {
   "codemirror_mode": {
    "name": "ipython",
    "version": 3
   },
   "file_extension": ".py",
   "mimetype": "text/x-python",
   "name": "python",
   "nbconvert_exporter": "python",
   "pygments_lexer": "ipython3",
   "version": "3.10.4"
  },
  "orig_nbformat": 4
 },
 "nbformat": 4,
 "nbformat_minor": 2
}
