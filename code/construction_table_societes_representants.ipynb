{
 "cells": [
  {
   "cell_type": "markdown",
   "metadata": {},
   "source": [
    "1/ Importation des données TC et TITMC \n",
    "\n",
    "2/ Import et traitement du fichier des prénoms \n",
    "\n",
    "3/ Ajouter le genre des personnes \n",
    "\n",
    "4/ Codification des adresses \n",
    "\n",
    "5/ Ajout et traitement du code commune\n",
    "\n",
    "6/ Retraiter et simplifier les qualités "
   ]
  },
  {
   "cell_type": "code",
   "execution_count": null,
   "metadata": {},
   "outputs": [],
   "source": [
    "# Lecture de la base inpi\n",
    "import os\n",
    "import s3fs\n",
    "import pandas as pd\n",
    "# Create filesystem object\n",
    "S3_ENDPOINT_URL = \"https://\" + os.environ[\"AWS_S3_ENDPOINT\"]\n",
    "fs = s3fs.S3FileSystem(client_kwargs={'endpoint_url': S3_ENDPOINT_URL})\n",
    "BUCKET = \"radjerad/inpi\"\n",
    "FILE_KEY_S3 = \"data_rep_pm_2017.csv\"\n",
    "FILE_PATH_S3 = BUCKET + \"/\" + FILE_KEY_S3\n",
    "\n",
    "with fs.open(FILE_PATH_S3, mode=\"rb\") as file_in:\n",
    "    df_rep_pm = pd.read_csv(file_in, sep=\";\", encoding=\"utf-8\")"
   ]
  },
  {
   "cell_type": "code",
   "execution_count": null,
   "metadata": {},
   "outputs": [],
   "source": [
    "df_rep_pm.shape # 9 751 833"
   ]
  },
  {
   "cell_type": "code",
   "execution_count": null,
   "metadata": {},
   "outputs": [],
   "source": [
    "df_rep_pm = df_rep_pm.rename({\"code greffe\": \"code_greffe\"}, axis=1)"
   ]
  },
  {
   "cell_type": "code",
   "execution_count": null,
   "metadata": {},
   "outputs": [],
   "source": [
    "df_rep_pm = df_rep_pm.loc[:, [\"code_greffe\", \"siren\", \"denomination\", \"forme_juridique_x\", \"qualité\",\n",
    "\"nom_patronymique\", \"nom_usage\", \"prénoms\", \"type\", \"date_naissance\", \"ville_naissance\", \"adresse_ligne1\", \"adresse_ligne2\",\n",
    "\"adresse_ligne3\", \"code_postal\", \"ville\", \"code_commune\", \"pays\", \"id_représentant\"]]"
   ]
  },
  {
   "cell_type": "code",
   "execution_count": null,
   "metadata": {},
   "outputs": [],
   "source": [
    "df_rep_pm = df_rep_pm.rename({\"forme_juridique_x\": \"forme_juridique\", \"prénoms\": \"prenoms\", \"qualité\": \"qualite\", \"id_représentant\": \"id_representant\"}, axis=1)"
   ]
  },
  {
   "cell_type": "code",
   "execution_count": null,
   "metadata": {},
   "outputs": [],
   "source": [
    "df_rep_pm.head(10)"
   ]
  },
  {
   "cell_type": "code",
   "execution_count": null,
   "metadata": {},
   "outputs": [],
   "source": [
    "df_rep_pm[\"qualite\"].isna().sum() # 246 926"
   ]
  },
  {
   "cell_type": "code",
   "execution_count": null,
   "metadata": {},
   "outputs": [],
   "source": [
    "# Traitement des cas où le nom et les prénoms sont manquants\n",
    "\n",
    "re2 = \"(\\sNEE\\s[A-Za-z\\-]+)\\s([A-Za-z\\-\\.\\s]+)\"\n"
   ]
  },
  {
   "cell_type": "code",
   "execution_count": null,
   "metadata": {},
   "outputs": [],
   "source": [
    "df_rep_pm.loc[df_rep_pm[\"prenoms\"] == \"-\", \"prenoms\"] = \"\""
   ]
  },
  {
   "cell_type": "code",
   "execution_count": null,
   "metadata": {},
   "outputs": [],
   "source": [
    "df_rep_pm.loc[df_rep_pm[\"prenoms\"] == \"\", :].shape # 4 448"
   ]
  },
  {
   "cell_type": "code",
   "execution_count": null,
   "metadata": {},
   "outputs": [],
   "source": [
    "df_rep_pm.loc[(df_rep_pm[\"prenoms\"] == \"\") & (df_rep_pm[\"type\"] == \"P.Physique\"), :].shape # 4 448"
   ]
  },
  {
   "cell_type": "code",
   "execution_count": null,
   "metadata": {},
   "outputs": [],
   "source": [
    "re1 = \"(INDIVISION SUCCESSORALE DE M\\.\\s|\\sM\\.\\s|^M\\.\\s|MME\\.\\s|MR\\.\\s|MELLE\\.\\s|MONSIEUR\\.?\\s|MADAME\\.?\\s|MLLE\\.\\s|REPRESENTEE\\sPAR\\sMONSIEUR\\.?\\s|REPRESENTEE\\sPAR\\s)\"\n",
    "df_rep_pm[\"top_civilite\"] = df_rep_pm[\"nom_patronymique\"].str.contains(re1, regex=True)"
   ]
  },
  {
   "cell_type": "code",
   "execution_count": null,
   "metadata": {},
   "outputs": [],
   "source": [
    "df_rep_pm.loc[df_rep_pm[\"top_civilite\"] == True, \"nom_patronymique\"].head()"
   ]
  },
  {
   "cell_type": "code",
   "execution_count": null,
   "metadata": {},
   "outputs": [],
   "source": [
    "df_rep_pm[\"contenu_civilite\"] = df_rep_pm[\"nom_patronymique\"].str.extract(re1)"
   ]
  },
  {
   "cell_type": "code",
   "execution_count": null,
   "metadata": {},
   "outputs": [],
   "source": [
    "df_rep_pm.loc[df_rep_pm[\"top_civilite\"] == True, \"contenu_civilite\"].head()"
   ]
  },
  {
   "cell_type": "code",
   "execution_count": null,
   "metadata": {},
   "outputs": [],
   "source": [
    "df_rep_pm[\"nom_patronymique2\"] = df_rep_pm[\"nom_patronymique\"]"
   ]
  },
  {
   "cell_type": "code",
   "execution_count": null,
   "metadata": {},
   "outputs": [],
   "source": [
    "df_rep_pm[\"nom_patronymique2\"] = df_rep_pm[\"nom_patronymique2\"].str.replace(re1,\"\")"
   ]
  },
  {
   "cell_type": "code",
   "execution_count": null,
   "metadata": {},
   "outputs": [],
   "source": [
    "from pandas import option_context\n",
    "with option_context('display.max_colwidth', 400):\n",
    "    print(df_rep_pm.loc[df_rep_pm[\"top_civilite\"] == True, \"nom_patronymique2\"].head(10))"
   ]
  },
  {
   "cell_type": "code",
   "execution_count": null,
   "metadata": {},
   "outputs": [],
   "source": [
    "# on repartit les noms et les prénoms dans les bonnes variables\n",
    "# on a modifié un peu le code de l'insee pour enlever les representee par, ici aussi car on va essayer de prendre en compte les particules\n",
    "particule = \"(DU\\s[A-Za-z]+|DE\\sLA\\s[A-Za-z]+|[A-Za-z]+\\sDU\\s[A-Za-z]+|[A-Za-z]+\\sDE\\sLA\\s[A-Za-z]+|DE\\s[A-Za-z]+|[A-Za-z]+\\sDE\\s[A-Za-z]+)\"\n",
    "#particule = \"(DU\\s|DE\\sLA\\s|\\sDU\\s|\\sDE\\sLA\\s|DE\\s|\\sDE\\s)\"\n",
    "df_rep_pm[\"top_particule\"] = df_rep_pm[\"nom_patronymique\"].str.contains(particule, regex=True)"
   ]
  },
  {
   "cell_type": "code",
   "execution_count": null,
   "metadata": {},
   "outputs": [],
   "source": [
    "df_rep_pm.loc[(df_rep_pm[\"prenoms\"] == \"\") | (df_rep_pm[\"prenoms\"].isna()),:].shape # 1093022"
   ]
  },
  {
   "cell_type": "code",
   "execution_count": null,
   "metadata": {},
   "outputs": [],
   "source": [
    "df_rep_pm.loc[(df_rep_pm[\"prenoms\"] == \"\"),:].shape # 4448, mais ce sont tous des cas différents, donc on n'a pas envie de séparer nom et prénoms comme le fait l'insee"
   ]
  },
  {
   "cell_type": "code",
   "execution_count": null,
   "metadata": {},
   "outputs": [],
   "source": [
    "df_rep_pm.loc[(df_rep_pm[\"top_particule\"] == True) & (df_rep_pm[\"prenoms\"] == \"\"), \"nom_patronymique2\"].head(10)"
   ]
  },
  {
   "cell_type": "code",
   "execution_count": null,
   "metadata": {},
   "outputs": [],
   "source": [
    "df_rep_pm.loc[df_rep_pm[\"nom_usage\"].isna(), :].head() # pas d'info parfois quand il y a l'info nom patronymique et prénoms "
   ]
  },
  {
   "cell_type": "code",
   "execution_count": 99,
   "metadata": {},
   "outputs": [
    {
     "data": {
      "text/plain": [
       "Gérant                                  2413218\n",
       "Associé                                 2174834\n",
       "Gérant                                  1112522\n",
       "Associé indéfiniment responsable        1089112\n",
       "gérant                                   633900\n",
       "                                         ...   \n",
       "Adhérent                                      1\n",
       "Directeur technique et administratif          1\n",
       "Comptable                                     1\n",
       "Contrôleur des comptes adjoint                1\n",
       "Mandataire général                            1\n",
       "Name: qualite, Length: 371, dtype: int64"
      ]
     },
     "execution_count": 99,
     "metadata": {},
     "output_type": "execute_result"
    }
   ],
   "source": [
    "# nettoyage de la variable qualite \n",
    "df_rep_pm[\"qualite\"].value_counts()"
   ]
  },
  {
   "cell_type": "code",
   "execution_count": 100,
   "metadata": {},
   "outputs": [],
   "source": [
    "df_rep_pm[\"qualite2\"] = df_rep_pm[\"qualite\"]"
   ]
  },
  {
   "cell_type": "code",
   "execution_count": 104,
   "metadata": {},
   "outputs": [],
   "source": [
    "df_rep_pm[\"qualite2\"] = df_rep_pm[\"qualite2\"].str.lower()\n",
    "df_rep_pm[\"qualite2\"] = df_rep_pm[\"qualite2\"].str.strip()"
   ]
  },
  {
   "cell_type": "code",
   "execution_count": 105,
   "metadata": {},
   "outputs": [
    {
     "data": {
      "text/plain": [
       "gérant                                                                                                              4159640\n",
       "associé                                                                                                             2174857\n",
       "associé indéfiniment responsable                                                                                    1089112\n",
       "président                                                                                                            578505\n",
       "commissaire aux comptes titulaire                                                                                    249159\n",
       "                                                                                                                     ...   \n",
       "adhérent                                                                                                                  1\n",
       "directeur technique et administratif                                                                                      1\n",
       "membre titulaire représentant du conseil d'etat, de la cour des comptes ou de l'inspection générale des finances          1\n",
       "contrôleur des comptes adjoint                                                                                            1\n",
       "mandataire général                                                                                                        1\n",
       "Name: qualite2, Length: 306, dtype: int64"
      ]
     },
     "execution_count": 105,
     "metadata": {},
     "output_type": "execute_result"
    }
   ],
   "source": [
    "df_rep_pm[\"qualite2\"].value_counts()"
   ]
  },
  {
   "cell_type": "code",
   "execution_count": 106,
   "metadata": {},
   "outputs": [],
   "source": [
    "# nettoyage de la dénomination\n",
    "df_rep_pm[\"denomination2\"] = df_rep_pm[\"denomination\"]"
   ]
  },
  {
   "cell_type": "code",
   "execution_count": 108,
   "metadata": {},
   "outputs": [],
   "source": [
    "df_rep_pm[\"denomination2\"] = df_rep_pm[\"denomination2\"].str.lower()"
   ]
  },
  {
   "cell_type": "code",
   "execution_count": 109,
   "metadata": {},
   "outputs": [
    {
     "data": {
      "text/plain": [
       "0                                    agir technologies\n",
       "1                                                doras\n",
       "2    societe immobiliere financiere d etudes et de ...\n",
       "3    societe immobiliere financiere d etudes et de ...\n",
       "4    societe immobiliere financiere d etudes et de ...\n",
       "5    societe immobiliere financiere d etudes et de ...\n",
       "6       societe nationale des etablissements piot pneu\n",
       "7                                           richardson\n",
       "8                                                samse\n",
       "9                                                 bmra\n",
       "Name: denomination2, dtype: object"
      ]
     },
     "execution_count": 109,
     "metadata": {},
     "output_type": "execute_result"
    }
   ],
   "source": [
    "df_rep_pm[\"denomination2\"].head(10)"
   ]
  },
  {
   "cell_type": "code",
   "execution_count": 110,
   "metadata": {},
   "outputs": [
    {
     "data": {
      "text/plain": [
       "Index(['code_greffe', 'siren', 'denomination', 'forme_juridique', 'qualite', 'nom_patronymique', 'nom_usage', 'prenoms', 'type', 'date_naissance', 'ville_naissance', 'adresse_ligne1', 'adresse_ligne2', 'adresse_ligne3', 'code_postal', 'ville', 'code_commune', 'pays', 'id_representant', 'top_civilite', 'contenu_civilite', 'nom_patronymique2', 'top_particule', 'qualite2', 'denomination2'], dtype='object')"
      ]
     },
     "execution_count": 110,
     "metadata": {},
     "output_type": "execute_result"
    }
   ],
   "source": [
    "# codification des adresses\n",
    "df_rep_pm.columns"
   ]
  },
  {
   "cell_type": "code",
   "execution_count": 112,
   "metadata": {},
   "outputs": [
    {
     "data": {
      "text/plain": [
       "0           NaN\n",
       "1           NaN\n",
       "2    Carpentras\n",
       "3         Paris\n",
       "4    Carpentras\n",
       "5    Strasbourg\n",
       "6           NaN\n",
       "7           NaN\n",
       "8           NaN\n",
       "9           NaN\n",
       "Name: ville, dtype: object"
      ]
     },
     "execution_count": 112,
     "metadata": {},
     "output_type": "execute_result"
    }
   ],
   "source": [
    "df_rep_pm[\"ville\"].head(10)"
   ]
  },
  {
   "cell_type": "code",
   "execution_count": 113,
   "metadata": {},
   "outputs": [
    {
     "data": {
      "text/plain": [
       "(0, 25)"
      ]
     },
     "execution_count": 113,
     "metadata": {},
     "output_type": "execute_result"
    }
   ],
   "source": [
    "df_rep_pm.loc[df_rep_pm[\"ville\"] == \"\", :].shape"
   ]
  },
  {
   "cell_type": "code",
   "execution_count": 116,
   "metadata": {},
   "outputs": [
    {
     "data": {
      "text/html": [
       "<div>\n",
       "<style scoped>\n",
       "    .dataframe tbody tr th:only-of-type {\n",
       "        vertical-align: middle;\n",
       "    }\n",
       "\n",
       "    .dataframe tbody tr th {\n",
       "        vertical-align: top;\n",
       "    }\n",
       "\n",
       "    .dataframe thead th {\n",
       "        text-align: right;\n",
       "    }\n",
       "</style>\n",
       "<table border=\"1\" class=\"dataframe\">\n",
       "  <thead>\n",
       "    <tr style=\"text-align: right;\">\n",
       "      <th></th>\n",
       "      <th>code_greffe</th>\n",
       "      <th>siren</th>\n",
       "      <th>denomination</th>\n",
       "      <th>forme_juridique</th>\n",
       "      <th>qualite</th>\n",
       "      <th>nom_patronymique</th>\n",
       "      <th>nom_usage</th>\n",
       "      <th>prenoms</th>\n",
       "      <th>type</th>\n",
       "      <th>date_naissance</th>\n",
       "      <th>ville_naissance</th>\n",
       "      <th>adresse_ligne1</th>\n",
       "      <th>adresse_ligne2</th>\n",
       "      <th>adresse_ligne3</th>\n",
       "      <th>code_postal</th>\n",
       "      <th>ville</th>\n",
       "      <th>code_commune</th>\n",
       "      <th>pays</th>\n",
       "      <th>id_representant</th>\n",
       "      <th>top_civilite</th>\n",
       "      <th>contenu_civilite</th>\n",
       "      <th>nom_patronymique2</th>\n",
       "      <th>top_particule</th>\n",
       "      <th>qualite2</th>\n",
       "      <th>denomination2</th>\n",
       "    </tr>\n",
       "  </thead>\n",
       "  <tbody>\n",
       "    <tr>\n",
       "      <th>27</th>\n",
       "      <td>101</td>\n",
       "      <td>73500050</td>\n",
       "      <td>SARL DUMAN</td>\n",
       "      <td>Société à responsabilité limitée</td>\n",
       "      <td>Gérant</td>\n",
       "      <td>BORODAGE</td>\n",
       "      <td>NaN</td>\n",
       "      <td>Vilem Pierre</td>\n",
       "      <td>P.Physique</td>\n",
       "      <td>1945-12-27</td>\n",
       "      <td>TRNOVANY TCHECOSLOVAQUIE</td>\n",
       "      <td>NaN</td>\n",
       "      <td>AV. HOFF</td>\n",
       "      <td>BELLEY</td>\n",
       "      <td>1300.0</td>\n",
       "      <td>NaN</td>\n",
       "      <td>NaN</td>\n",
       "      <td>FRANCE</td>\n",
       "      <td>1.0</td>\n",
       "      <td>False</td>\n",
       "      <td>NaN</td>\n",
       "      <td>BORODAGE</td>\n",
       "      <td>False</td>\n",
       "      <td>gérant</td>\n",
       "      <td>sarl duman</td>\n",
       "    </tr>\n",
       "    <tr>\n",
       "      <th>78</th>\n",
       "      <td>101</td>\n",
       "      <td>300434446</td>\n",
       "      <td>TRANCHAND</td>\n",
       "      <td>Société par actions simplifiée</td>\n",
       "      <td>Directeur général</td>\n",
       "      <td>TRANCHAND</td>\n",
       "      <td>NaN</td>\n",
       "      <td>Claude</td>\n",
       "      <td>P.Physique</td>\n",
       "      <td>1937-11-12</td>\n",
       "      <td>Belley 01</td>\n",
       "      <td>NaN</td>\n",
       "      <td>rue Grammont</td>\n",
       "      <td>Belley</td>\n",
       "      <td>1300.0</td>\n",
       "      <td>NaN</td>\n",
       "      <td>NaN</td>\n",
       "      <td>FRANCE</td>\n",
       "      <td>1.0</td>\n",
       "      <td>False</td>\n",
       "      <td>NaN</td>\n",
       "      <td>TRANCHAND</td>\n",
       "      <td>False</td>\n",
       "      <td>directeur général</td>\n",
       "      <td>tranchand</td>\n",
       "    </tr>\n",
       "    <tr>\n",
       "      <th>239</th>\n",
       "      <td>101</td>\n",
       "      <td>301296075</td>\n",
       "      <td>SOCIETE JURASSIENNE DE CONSTRUCTION</td>\n",
       "      <td>Société à responsabilité limitée</td>\n",
       "      <td>Gérant</td>\n",
       "      <td>DAVID</td>\n",
       "      <td>SCHAPOSCHNIKOFF</td>\n",
       "      <td>Alice Henriette</td>\n",
       "      <td>P.Physique</td>\n",
       "      <td>1930-01-28</td>\n",
       "      <td>LA TRONCHE 38</td>\n",
       "      <td>NaN</td>\n",
       "      <td>45B BD. CDT CHARCOT</td>\n",
       "      <td>NEUILLY SUR SEINE</td>\n",
       "      <td>NaN</td>\n",
       "      <td>NaN</td>\n",
       "      <td>NaN</td>\n",
       "      <td>FRANCE</td>\n",
       "      <td>1.0</td>\n",
       "      <td>False</td>\n",
       "      <td>NaN</td>\n",
       "      <td>DAVID</td>\n",
       "      <td>False</td>\n",
       "      <td>gérant</td>\n",
       "      <td>societe jurassienne de construction</td>\n",
       "    </tr>\n",
       "    <tr>\n",
       "      <th>256</th>\n",
       "      <td>101</td>\n",
       "      <td>301524302</td>\n",
       "      <td>ENTREPRISE PETETIN</td>\n",
       "      <td>Société à responsabilité limitée</td>\n",
       "      <td>Gérant</td>\n",
       "      <td>PETETIN</td>\n",
       "      <td>NaN</td>\n",
       "      <td>Jean-Yves Raoul</td>\n",
       "      <td>P.Physique</td>\n",
       "      <td>1965-05-01</td>\n",
       "      <td>Bourg-en-Bresse - 01</td>\n",
       "      <td>NaN</td>\n",
       "      <td>1515 chemin des Rippes</td>\n",
       "      <td>01000 Saint-Denis-Les-Bourg</td>\n",
       "      <td>NaN</td>\n",
       "      <td>NaN</td>\n",
       "      <td>NaN</td>\n",
       "      <td>FRANCE</td>\n",
       "      <td>1.0</td>\n",
       "      <td>False</td>\n",
       "      <td>NaN</td>\n",
       "      <td>PETETIN</td>\n",
       "      <td>False</td>\n",
       "      <td>gérant</td>\n",
       "      <td>entreprise petetin</td>\n",
       "    </tr>\n",
       "    <tr>\n",
       "      <th>278</th>\n",
       "      <td>101</td>\n",
       "      <td>301899522</td>\n",
       "      <td>ANDRE NEYRET IMMOBILIER</td>\n",
       "      <td>Société à responsabilité limitée</td>\n",
       "      <td>Gérant</td>\n",
       "      <td>NEYRET</td>\n",
       "      <td>NaN</td>\n",
       "      <td>André</td>\n",
       "      <td>P.Physique</td>\n",
       "      <td>1946-11-26</td>\n",
       "      <td>Crans 01</td>\n",
       "      <td>NaN</td>\n",
       "      <td>Crans</td>\n",
       "      <td>Chalamont</td>\n",
       "      <td>NaN</td>\n",
       "      <td>NaN</td>\n",
       "      <td>NaN</td>\n",
       "      <td>FRANCE</td>\n",
       "      <td>1.0</td>\n",
       "      <td>False</td>\n",
       "      <td>NaN</td>\n",
       "      <td>NEYRET</td>\n",
       "      <td>False</td>\n",
       "      <td>gérant</td>\n",
       "      <td>andre neyret immobilier</td>\n",
       "    </tr>\n",
       "    <tr>\n",
       "      <th>303</th>\n",
       "      <td>101</td>\n",
       "      <td>302329420</td>\n",
       "      <td>MACDERMID FRANCE</td>\n",
       "      <td>Société par actions simplifiée à associé unique</td>\n",
       "      <td>Président</td>\n",
       "      <td>TORNE SANCHO</td>\n",
       "      <td>NaN</td>\n",
       "      <td>Javier</td>\n",
       "      <td>P.Physique</td>\n",
       "      <td>1975-05-18</td>\n",
       "      <td>Barcelone</td>\n",
       "      <td>NaN</td>\n",
       "      <td>C/valencia 87-89 Atico 1a</td>\n",
       "      <td>Barcelone</td>\n",
       "      <td>NaN</td>\n",
       "      <td>NaN</td>\n",
       "      <td>NaN</td>\n",
       "      <td>ESPAGNE</td>\n",
       "      <td>26.0</td>\n",
       "      <td>False</td>\n",
       "      <td>NaN</td>\n",
       "      <td>TORNE SANCHO</td>\n",
       "      <td>False</td>\n",
       "      <td>président</td>\n",
       "      <td>macdermid france</td>\n",
       "    </tr>\n",
       "    <tr>\n",
       "      <th>314</th>\n",
       "      <td>101</td>\n",
       "      <td>302458344</td>\n",
       "      <td>STYL MONDE SA</td>\n",
       "      <td>Société anonyme à directoire et conseil de sur...</td>\n",
       "      <td>Membre du directoire</td>\n",
       "      <td>MOREAU</td>\n",
       "      <td>NaN</td>\n",
       "      <td>Bernard Jean-Paul</td>\n",
       "      <td>P.Physique</td>\n",
       "      <td>1961-11-20</td>\n",
       "      <td>38516 La tronche 38</td>\n",
       "      <td>NaN</td>\n",
       "      <td>le Rampot</td>\n",
       "      <td>Chazey-sur-Ain 01</td>\n",
       "      <td>NaN</td>\n",
       "      <td>NaN</td>\n",
       "      <td>NaN</td>\n",
       "      <td>FRANCE</td>\n",
       "      <td>8.0</td>\n",
       "      <td>False</td>\n",
       "      <td>NaN</td>\n",
       "      <td>MOREAU</td>\n",
       "      <td>False</td>\n",
       "      <td>membre du directoire</td>\n",
       "      <td>styl monde sa</td>\n",
       "    </tr>\n",
       "    <tr>\n",
       "      <th>394</th>\n",
       "      <td>101</td>\n",
       "      <td>302725197</td>\n",
       "      <td>SCI DU BALZAC</td>\n",
       "      <td>Société civile immobilière</td>\n",
       "      <td>Associé indéfiniment responsable</td>\n",
       "      <td>TURRETTINI</td>\n",
       "      <td>NaN</td>\n",
       "      <td>Benedict Francois</td>\n",
       "      <td>P.Physique</td>\n",
       "      <td>1944-10-16</td>\n",
       "      <td>Zurich (suisse)</td>\n",
       "      <td>le Coin Perdu</td>\n",
       "      <td>Ch des Champs de Chaux Sa</td>\n",
       "      <td>Vesenaz CH 1222</td>\n",
       "      <td>NaN</td>\n",
       "      <td>NaN</td>\n",
       "      <td>NaN</td>\n",
       "      <td>SUISSE</td>\n",
       "      <td>1.0</td>\n",
       "      <td>False</td>\n",
       "      <td>NaN</td>\n",
       "      <td>TURRETTINI</td>\n",
       "      <td>False</td>\n",
       "      <td>associé indéfiniment responsable</td>\n",
       "      <td>sci du balzac</td>\n",
       "    </tr>\n",
       "    <tr>\n",
       "      <th>395</th>\n",
       "      <td>101</td>\n",
       "      <td>302725197</td>\n",
       "      <td>SCI DU BALZAC</td>\n",
       "      <td>Société civile immobilière</td>\n",
       "      <td>Gérant</td>\n",
       "      <td>TURRETTINI</td>\n",
       "      <td>NaN</td>\n",
       "      <td>Benedict Francois</td>\n",
       "      <td>P.Physique</td>\n",
       "      <td>1944-10-16</td>\n",
       "      <td>Zurich (suisse)</td>\n",
       "      <td>le Coin Perdu</td>\n",
       "      <td>Ch des Champs de Chaux Sa</td>\n",
       "      <td>Vesenaz CH 1222</td>\n",
       "      <td>NaN</td>\n",
       "      <td>NaN</td>\n",
       "      <td>NaN</td>\n",
       "      <td>SUISSE</td>\n",
       "      <td>1.0</td>\n",
       "      <td>False</td>\n",
       "      <td>NaN</td>\n",
       "      <td>TURRETTINI</td>\n",
       "      <td>False</td>\n",
       "      <td>gérant</td>\n",
       "      <td>sci du balzac</td>\n",
       "    </tr>\n",
       "    <tr>\n",
       "      <th>400</th>\n",
       "      <td>101</td>\n",
       "      <td>303242408</td>\n",
       "      <td>CEDEC SA</td>\n",
       "      <td>Société de droit étranger</td>\n",
       "      <td>Président du conseil d'administration</td>\n",
       "      <td>NICLAUS</td>\n",
       "      <td>NaN</td>\n",
       "      <td>Jean Émile</td>\n",
       "      <td>P.Physique</td>\n",
       "      <td>1930-01-26</td>\n",
       "      <td>Gent (Belgique)</td>\n",
       "      <td>le prince de galle</td>\n",
       "      <td>10 avenue de Grande-Bretagne</td>\n",
       "      <td>98000 Monaco</td>\n",
       "      <td>NaN</td>\n",
       "      <td>NaN</td>\n",
       "      <td>NaN</td>\n",
       "      <td>MONACO</td>\n",
       "      <td>2.0</td>\n",
       "      <td>False</td>\n",
       "      <td>NaN</td>\n",
       "      <td>NICLAUS</td>\n",
       "      <td>False</td>\n",
       "      <td>président du conseil d'administration</td>\n",
       "      <td>cedec sa</td>\n",
       "    </tr>\n",
       "  </tbody>\n",
       "</table>\n",
       "</div>"
      ],
      "text/plain": [
       "     code_greffe      siren                         denomination                                    forme_juridique                                qualite nom_patronymique        nom_usage            prenoms        type date_naissance             ville_naissance      adresse_ligne1                adresse_ligne2               adresse_ligne3 code_postal ville code_commune     pays  id_representant top_civilite contenu_civilite nom_patronymique2 top_particule                               qualite2                        denomination2\n",
       "27           101   73500050                           SARL DUMAN                   Société à responsabilité limitée                                 Gérant         BORODAGE              NaN       Vilem Pierre  P.Physique     1945-12-27   TRNOVANY TCHECOSLOVAQUIE                  NaN                      AV. HOFF                       BELLEY      1300.0   NaN          NaN   FRANCE              1.0        False              NaN          BORODAGE         False                                 gérant                           sarl duman\n",
       "78           101  300434446                            TRANCHAND                     Société par actions simplifiée                      Directeur général        TRANCHAND              NaN             Claude  P.Physique     1937-11-12                  Belley 01                  NaN                  rue Grammont                       Belley      1300.0   NaN          NaN   FRANCE              1.0        False              NaN         TRANCHAND         False                      directeur général                            tranchand\n",
       "239          101  301296075  SOCIETE JURASSIENNE DE CONSTRUCTION                   Société à responsabilité limitée                                 Gérant            DAVID  SCHAPOSCHNIKOFF    Alice Henriette  P.Physique     1930-01-28              LA TRONCHE 38                  NaN           45B BD. CDT CHARCOT            NEUILLY SUR SEINE         NaN   NaN          NaN   FRANCE              1.0        False              NaN             DAVID         False                                 gérant  societe jurassienne de construction\n",
       "256          101  301524302                   ENTREPRISE PETETIN                   Société à responsabilité limitée                                 Gérant          PETETIN              NaN    Jean-Yves Raoul  P.Physique     1965-05-01       Bourg-en-Bresse - 01                  NaN        1515 chemin des Rippes  01000 Saint-Denis-Les-Bourg         NaN   NaN          NaN   FRANCE              1.0        False              NaN           PETETIN         False                                 gérant                   entreprise petetin\n",
       "278          101  301899522              ANDRE NEYRET IMMOBILIER                   Société à responsabilité limitée                                 Gérant           NEYRET              NaN              André  P.Physique     1946-11-26                   Crans 01                  NaN                         Crans                    Chalamont         NaN   NaN          NaN   FRANCE              1.0        False              NaN            NEYRET         False                                 gérant              andre neyret immobilier\n",
       "303          101  302329420                     MACDERMID FRANCE    Société par actions simplifiée à associé unique                              Président     TORNE SANCHO              NaN             Javier  P.Physique     1975-05-18                  Barcelone                  NaN     C/valencia 87-89 Atico 1a                    Barcelone         NaN   NaN          NaN  ESPAGNE             26.0        False              NaN      TORNE SANCHO         False                              président                     macdermid france\n",
       "314          101  302458344                        STYL MONDE SA  Société anonyme à directoire et conseil de sur...                   Membre du directoire           MOREAU              NaN  Bernard Jean-Paul  P.Physique     1961-11-20        38516 La tronche 38                  NaN                     le Rampot            Chazey-sur-Ain 01         NaN   NaN          NaN   FRANCE              8.0        False              NaN            MOREAU         False                   membre du directoire                        styl monde sa\n",
       "394          101  302725197                        SCI DU BALZAC                         Société civile immobilière       Associé indéfiniment responsable       TURRETTINI              NaN  Benedict Francois  P.Physique     1944-10-16            Zurich (suisse)        le Coin Perdu     Ch des Champs de Chaux Sa              Vesenaz CH 1222         NaN   NaN          NaN   SUISSE              1.0        False              NaN        TURRETTINI         False       associé indéfiniment responsable                        sci du balzac\n",
       "395          101  302725197                        SCI DU BALZAC                         Société civile immobilière                                 Gérant       TURRETTINI              NaN  Benedict Francois  P.Physique     1944-10-16            Zurich (suisse)        le Coin Perdu     Ch des Champs de Chaux Sa              Vesenaz CH 1222         NaN   NaN          NaN   SUISSE              1.0        False              NaN        TURRETTINI         False                                 gérant                        sci du balzac\n",
       "400          101  303242408                             CEDEC SA                          Société de droit étranger  Président du conseil d'administration          NICLAUS              NaN         Jean Émile  P.Physique     1930-01-26            Gent (Belgique)   le prince de galle  10 avenue de Grande-Bretagne                 98000 Monaco         NaN   NaN          NaN   MONACO              2.0        False              NaN           NICLAUS         False  président du conseil d'administration                             cedec sa"
      ]
     },
     "execution_count": 116,
     "metadata": {},
     "output_type": "execute_result"
    }
   ],
   "source": [
    "df_rep_pm.loc[(df_rep_pm[\"ville\"].isna()) & (df_rep_pm[\"adresse_ligne3\"].isna() == False), :].head(10) #90740"
   ]
  },
  {
   "cell_type": "code",
   "execution_count": 117,
   "metadata": {},
   "outputs": [],
   "source": [
    "df_rep_pm.loc[(df_rep_pm[\"ville\"].isna()) & (df_rep_pm[\"adresse_ligne3\"].isna() == False), \"ville\"] = \\\n",
    "    df_rep_pm.loc[(df_rep_pm[\"ville\"].isna()) & (df_rep_pm[\"adresse_ligne3\"].isna() == False), \"adresse_ligne3\"]"
   ]
  },
  {
   "cell_type": "code",
   "execution_count": 118,
   "metadata": {},
   "outputs": [],
   "source": [
    "df_rep_pm[\"ville2\"] = df_rep_pm[\"ville\"]"
   ]
  },
  {
   "cell_type": "code",
   "execution_count": 119,
   "metadata": {},
   "outputs": [],
   "source": [
    "df_rep_pm[\"ville2\"] = df_rep_pm[\"ville2\"].str.lower()"
   ]
  },
  {
   "cell_type": "code",
   "execution_count": 120,
   "metadata": {},
   "outputs": [
    {
     "data": {
      "text/plain": [
       "0           NaN\n",
       "1           NaN\n",
       "2    carpentras\n",
       "3         paris\n",
       "4    carpentras\n",
       "5    strasbourg\n",
       "6           NaN\n",
       "7           NaN\n",
       "8           NaN\n",
       "9           NaN\n",
       "Name: ville2, dtype: object"
      ]
     },
     "execution_count": 120,
     "metadata": {},
     "output_type": "execute_result"
    }
   ],
   "source": [
    "df_rep_pm[\"ville2\"].head(10)"
   ]
  },
  {
   "cell_type": "code",
   "execution_count": 127,
   "metadata": {},
   "outputs": [],
   "source": [
    "df_rep_pm[\"ville2\"] = (df_rep_pm[\"ville2\"].str.replace(\"à\", \"a\")\n",
    "                                            .str.replace(\"è\", \"e\")\n",
    "                                            .str.replace(\"é\", \"e\")\n",
    "                                            .str.replace(\"ç\", \"c\")\n",
    "                                            .str.replace(\"ù\", \"u\")\n",
    "                                            .str.replace(\"ô\", \"o\"))"
   ]
  },
  {
   "cell_type": "code",
   "execution_count": 129,
   "metadata": {},
   "outputs": [
    {
     "data": {
      "text/plain": [
       "paris                                 720512\n",
       "marseille                             134835\n",
       "lyon                                  104458\n",
       "toulouse                               75744\n",
       "nice                                   73523\n",
       "                                       ...  \n",
       "marseille 4eme                             1\n",
       "ambatondrazaka (madagascar)                1\n",
       "london w 13 9 be (grande bretagne)         1\n",
       "42441 angered (suede)                      1\n",
       "56283 beulich                              1\n",
       "Name: ville2, Length: 134995, dtype: int64"
      ]
     },
     "execution_count": 129,
     "metadata": {},
     "output_type": "execute_result"
    }
   ],
   "source": [
    "df_rep_pm[\"ville2\"].value_counts()"
   ]
  },
  {
   "cell_type": "code",
   "execution_count": null,
   "metadata": {},
   "outputs": [],
   "source": []
  }
 ],
 "metadata": {
  "interpreter": {
   "hash": "ed5946f2a0d3f5e934efd92075c2a89b2cb5130d0efd6e4509a568bedf48ed26"
  },
  "kernelspec": {
   "display_name": "Python 3.10.4 ('basesspcloud')",
   "language": "python",
   "name": "python3"
  },
  "language_info": {
   "codemirror_mode": {
    "name": "ipython",
    "version": 3
   },
   "file_extension": ".py",
   "mimetype": "text/x-python",
   "name": "python",
   "nbconvert_exporter": "python",
   "pygments_lexer": "ipython3",
   "version": "3.10.4"
  },
  "orig_nbformat": 4
 },
 "nbformat": 4,
 "nbformat_minor": 2
}
