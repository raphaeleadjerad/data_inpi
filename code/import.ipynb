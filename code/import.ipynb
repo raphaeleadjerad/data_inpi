{
 "cells": [
  {
   "cell_type": "code",
   "execution_count": 1,
   "metadata": {},
   "outputs": [],
   "source": [
    "import functions as fc\n",
    "import pandas as pd"
   ]
  },
  {
   "cell_type": "code",
   "execution_count": null,
   "metadata": {},
   "outputs": [],
   "source": [
    "fc.download_tgz_raw()"
   ]
  },
  {
   "cell_type": "code",
   "execution_count": null,
   "metadata": {},
   "outputs": [],
   "source": [
    "fc.import_tgz(\"2018\", \"./data2018\")"
   ]
  },
  {
   "cell_type": "code",
   "execution_count": null,
   "metadata": {},
   "outputs": [],
   "source": [
    "fc.import_tgz(\"2019\", \"./data2019\")"
   ]
  },
  {
   "cell_type": "code",
   "execution_count": null,
   "metadata": {},
   "outputs": [],
   "source": [
    "fc.import_tgz(\"2020\", \"./data2020\")"
   ]
  },
  {
   "cell_type": "code",
   "execution_count": 3,
   "metadata": {},
   "outputs": [
    {
     "name": "stdout",
     "output_type": "stream",
     "text": [
      "101\n",
      "(11328, 118)\n"
     ]
    }
   ],
   "source": [
    "df_final = fc.transform_rcs(\"2018\")"
   ]
  },
  {
   "cell_type": "code",
   "execution_count": 4,
   "metadata": {},
   "outputs": [
    {
     "data": {
      "text/html": [
       "<div>\n",
       "<style scoped>\n",
       "    .dataframe tbody tr th:only-of-type {\n",
       "        vertical-align: middle;\n",
       "    }\n",
       "\n",
       "    .dataframe tbody tr th {\n",
       "        vertical-align: top;\n",
       "    }\n",
       "\n",
       "    .dataframe thead th {\n",
       "        text-align: right;\n",
       "    }\n",
       "</style>\n",
       "<table border=\"1\" class=\"dataframe\">\n",
       "  <thead>\n",
       "    <tr style=\"text-align: right;\">\n",
       "      <th></th>\n",
       "      <th>Code Greffe</th>\n",
       "      <th>Nom_Greffe</th>\n",
       "      <th>Numero_Gestion</th>\n",
       "      <th>Siren</th>\n",
       "      <th>Type_Inscription</th>\n",
       "      <th>Date_Immatriculation</th>\n",
       "      <th>Date_1re_Immatriculation</th>\n",
       "      <th>Date_Radiation</th>\n",
       "      <th>Date_Transfert</th>\n",
       "      <th>Sans_Activité</th>\n",
       "      <th>...</th>\n",
       "      <th>Type_Remise</th>\n",
       "      <th>Confidentialité</th>\n",
       "      <th>Confidentialité_Compte_résultat</th>\n",
       "      <th>ID_Observation</th>\n",
       "      <th>Numéro_Observation</th>\n",
       "      <th>Date_Ajout</th>\n",
       "      <th>Date_Suppression</th>\n",
       "      <th>Texte</th>\n",
       "      <th>Etat</th>\n",
       "      <th>date_greffe</th>\n",
       "    </tr>\n",
       "  </thead>\n",
       "  <tbody>\n",
       "    <tr>\n",
       "      <th>0</th>\n",
       "      <td>7501</td>\n",
       "      <td>Paris</td>\n",
       "      <td>2017B29899</td>\n",
       "      <td>834296204</td>\n",
       "      <td>P</td>\n",
       "      <td>21/12/2017</td>\n",
       "      <td>21/12/2017</td>\n",
       "      <td>NaN</td>\n",
       "      <td>NaN</td>\n",
       "      <td>Non</td>\n",
       "      <td>...</td>\n",
       "      <td>NaN</td>\n",
       "      <td>NaN</td>\n",
       "      <td>NaN</td>\n",
       "      <td>NaN</td>\n",
       "      <td>NaN</td>\n",
       "      <td>NaN</td>\n",
       "      <td>NaN</td>\n",
       "      <td>NaN</td>\n",
       "      <td>NaN</td>\n",
       "      <td>NaN</td>\n",
       "    </tr>\n",
       "    <tr>\n",
       "      <th>1</th>\n",
       "      <td>7501</td>\n",
       "      <td>Paris</td>\n",
       "      <td>2017B30352</td>\n",
       "      <td>833974348</td>\n",
       "      <td>P</td>\n",
       "      <td>27/12/2017</td>\n",
       "      <td>27/12/2017</td>\n",
       "      <td>NaN</td>\n",
       "      <td>NaN</td>\n",
       "      <td>Non</td>\n",
       "      <td>...</td>\n",
       "      <td>NaN</td>\n",
       "      <td>NaN</td>\n",
       "      <td>NaN</td>\n",
       "      <td>NaN</td>\n",
       "      <td>NaN</td>\n",
       "      <td>NaN</td>\n",
       "      <td>NaN</td>\n",
       "      <td>NaN</td>\n",
       "      <td>NaN</td>\n",
       "      <td>NaN</td>\n",
       "    </tr>\n",
       "    <tr>\n",
       "      <th>2</th>\n",
       "      <td>7501</td>\n",
       "      <td>Paris</td>\n",
       "      <td>2017B30378</td>\n",
       "      <td>834260796</td>\n",
       "      <td>P</td>\n",
       "      <td>28/12/2017</td>\n",
       "      <td>28/12/2017</td>\n",
       "      <td>NaN</td>\n",
       "      <td>NaN</td>\n",
       "      <td>Non</td>\n",
       "      <td>...</td>\n",
       "      <td>NaN</td>\n",
       "      <td>NaN</td>\n",
       "      <td>NaN</td>\n",
       "      <td>NaN</td>\n",
       "      <td>NaN</td>\n",
       "      <td>NaN</td>\n",
       "      <td>NaN</td>\n",
       "      <td>NaN</td>\n",
       "      <td>NaN</td>\n",
       "      <td>NaN</td>\n",
       "    </tr>\n",
       "    <tr>\n",
       "      <th>3</th>\n",
       "      <td>7501</td>\n",
       "      <td>Paris</td>\n",
       "      <td>2017B30379</td>\n",
       "      <td>834220444</td>\n",
       "      <td>P</td>\n",
       "      <td>28/12/2017</td>\n",
       "      <td>28/12/2017</td>\n",
       "      <td>NaN</td>\n",
       "      <td>NaN</td>\n",
       "      <td>Non</td>\n",
       "      <td>...</td>\n",
       "      <td>NaN</td>\n",
       "      <td>NaN</td>\n",
       "      <td>NaN</td>\n",
       "      <td>NaN</td>\n",
       "      <td>NaN</td>\n",
       "      <td>NaN</td>\n",
       "      <td>NaN</td>\n",
       "      <td>NaN</td>\n",
       "      <td>NaN</td>\n",
       "      <td>NaN</td>\n",
       "    </tr>\n",
       "    <tr>\n",
       "      <th>4</th>\n",
       "      <td>7501</td>\n",
       "      <td>Paris</td>\n",
       "      <td>2017B30381</td>\n",
       "      <td>834278079</td>\n",
       "      <td>P</td>\n",
       "      <td>28/12/2017</td>\n",
       "      <td>28/12/2017</td>\n",
       "      <td>NaN</td>\n",
       "      <td>NaN</td>\n",
       "      <td>Oui</td>\n",
       "      <td>...</td>\n",
       "      <td>NaN</td>\n",
       "      <td>NaN</td>\n",
       "      <td>NaN</td>\n",
       "      <td>NaN</td>\n",
       "      <td>NaN</td>\n",
       "      <td>NaN</td>\n",
       "      <td>NaN</td>\n",
       "      <td>NaN</td>\n",
       "      <td>NaN</td>\n",
       "      <td>NaN</td>\n",
       "    </tr>\n",
       "  </tbody>\n",
       "</table>\n",
       "<p>5 rows × 118 columns</p>\n",
       "</div>"
      ],
      "text/plain": [
       "  Code Greffe Nom_Greffe Numero_Gestion      Siren Type_Inscription  \\\n",
       "0        7501      Paris     2017B29899  834296204                P   \n",
       "1        7501      Paris     2017B30352  833974348                P   \n",
       "2        7501      Paris     2017B30378  834260796                P   \n",
       "3        7501      Paris     2017B30379  834220444                P   \n",
       "4        7501      Paris     2017B30381  834278079                P   \n",
       "\n",
       "  Date_Immatriculation Date_1re_Immatriculation Date_Radiation Date_Transfert  \\\n",
       "0           21/12/2017               21/12/2017            NaN            NaN   \n",
       "1           27/12/2017               27/12/2017            NaN            NaN   \n",
       "2           28/12/2017               28/12/2017            NaN            NaN   \n",
       "3           28/12/2017               28/12/2017            NaN            NaN   \n",
       "4           28/12/2017               28/12/2017            NaN            NaN   \n",
       "\n",
       "  Sans_Activité  ... Type_Remise Confidentialité  \\\n",
       "0           Non  ...         NaN             NaN   \n",
       "1           Non  ...         NaN             NaN   \n",
       "2           Non  ...         NaN             NaN   \n",
       "3           Non  ...         NaN             NaN   \n",
       "4           Oui  ...         NaN             NaN   \n",
       "\n",
       "  Confidentialité_Compte_résultat ID_Observation Numéro_Observation  \\\n",
       "0                             NaN            NaN                NaN   \n",
       "1                             NaN            NaN                NaN   \n",
       "2                             NaN            NaN                NaN   \n",
       "3                             NaN            NaN                NaN   \n",
       "4                             NaN            NaN                NaN   \n",
       "\n",
       "  Date_Ajout Date_Suppression Texte Etat  date_greffe  \n",
       "0        NaN              NaN   NaN   NaN         NaN  \n",
       "1        NaN              NaN   NaN   NaN         NaN  \n",
       "2        NaN              NaN   NaN   NaN         NaN  \n",
       "3        NaN              NaN   NaN   NaN         NaN  \n",
       "4        NaN              NaN   NaN   NaN         NaN  \n",
       "\n",
       "[5 rows x 118 columns]"
      ]
     },
     "execution_count": 4,
     "metadata": {},
     "output_type": "execute_result"
    }
   ],
   "source": [
    "df_final.head()"
   ]
  },
  {
   "cell_type": "code",
   "execution_count": 6,
   "metadata": {},
   "outputs": [],
   "source": [
    "fc.export_2_minio(\"2018\", df_final)"
   ]
  },
  {
   "cell_type": "code",
   "execution_count": null,
   "metadata": {},
   "outputs": [],
   "source": [
    "fc.export_2_minio(\"2019\", df_final)"
   ]
  },
  {
   "cell_type": "code",
   "execution_count": null,
   "metadata": {},
   "outputs": [],
   "source": [
    "fc.export_2_minio(\"2020\", df_final)"
   ]
  }
 ],
 "metadata": {
  "interpreter": {
   "hash": "ed5946f2a0d3f5e934efd92075c2a89b2cb5130d0efd6e4509a568bedf48ed26"
  },
  "kernelspec": {
   "display_name": "Python 3.10.4 ('basesspcloud')",
   "language": "python",
   "name": "python3"
  },
  "language_info": {
   "codemirror_mode": {
    "name": "ipython",
    "version": 3
   },
   "file_extension": ".py",
   "mimetype": "text/x-python",
   "name": "python",
   "nbconvert_exporter": "python",
   "pygments_lexer": "ipython3",
   "version": "3.10.4"
  },
  "orig_nbformat": 4
 },
 "nbformat": 4,
 "nbformat_minor": 2
}
