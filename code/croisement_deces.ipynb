{
 "cells": [
  {
   "cell_type": "code",
   "execution_count": 1,
   "metadata": {},
   "outputs": [],
   "source": [
    "import os\n",
    "import s3fs\n",
    "import pandas as pd\n",
    "import functions as fc "
   ]
  },
  {
   "cell_type": "code",
   "execution_count": 2,
   "metadata": {},
   "outputs": [
    {
     "name": "stderr",
     "output_type": "stream",
     "text": [
      "/home/coder/work/data_inpi/code/functions.py:192: DtypeWarning: Columns (14,16,24,25) have mixed types. Specify dtype option on import or set low_memory=False.\n",
      "  df_rep_pm = pd.read_csv(file_in, sep=\";\", encoding=\"utf-8\",\n"
     ]
    }
   ],
   "source": [
    "df_rep_pm = fc.import_inpi( \"societe_rep.csv\", cols=None)"
   ]
  },
  {
   "cell_type": "code",
   "execution_count": 3,
   "metadata": {},
   "outputs": [
    {
     "data": {
      "text/html": [
       "<div>\n",
       "<style scoped>\n",
       "    .dataframe tbody tr th:only-of-type {\n",
       "        vertical-align: middle;\n",
       "    }\n",
       "\n",
       "    .dataframe tbody tr th {\n",
       "        vertical-align: top;\n",
       "    }\n",
       "\n",
       "    .dataframe thead th {\n",
       "        text-align: right;\n",
       "    }\n",
       "</style>\n",
       "<table border=\"1\" class=\"dataframe\">\n",
       "  <thead>\n",
       "    <tr style=\"text-align: right;\">\n",
       "      <th></th>\n",
       "      <th>code_greffe</th>\n",
       "      <th>siren</th>\n",
       "      <th>denomination</th>\n",
       "      <th>forme_juridique</th>\n",
       "      <th>qualite</th>\n",
       "      <th>nom_patronymique</th>\n",
       "      <th>nom_usage</th>\n",
       "      <th>prenoms</th>\n",
       "      <th>type</th>\n",
       "      <th>date_naissance</th>\n",
       "      <th>...</th>\n",
       "      <th>qualite_cor</th>\n",
       "      <th>denomination_cor</th>\n",
       "      <th>commune</th>\n",
       "      <th>code_departement</th>\n",
       "      <th>code_commune_insee</th>\n",
       "      <th>code_commune_cor</th>\n",
       "      <th>adresse_ligne1_cor</th>\n",
       "      <th>adresse_ligne2_cor</th>\n",
       "      <th>adresse_ligne3_cor</th>\n",
       "      <th>qualite_simplifie</th>\n",
       "    </tr>\n",
       "  </thead>\n",
       "  <tbody>\n",
       "    <tr>\n",
       "      <th>0</th>\n",
       "      <td>101</td>\n",
       "      <td>26380212</td>\n",
       "      <td>SOCIETE IMMOBILIERE FINANCIERE D ETUDES ET DE ...</td>\n",
       "      <td>Société par actions simplifiée</td>\n",
       "      <td>Président</td>\n",
       "      <td>VATIN</td>\n",
       "      <td>NaN</td>\n",
       "      <td>Gerard</td>\n",
       "      <td>P.Physique</td>\n",
       "      <td>1947-10-07</td>\n",
       "      <td>...</td>\n",
       "      <td>président</td>\n",
       "      <td>societe immobiliere financiere d etudes et de ...</td>\n",
       "      <td>carpentras</td>\n",
       "      <td>84</td>\n",
       "      <td>84031.0</td>\n",
       "      <td>84031.0</td>\n",
       "      <td>1360 chemin saint-roch</td>\n",
       "      <td>1360 chemin saint-roch</td>\n",
       "      <td>NaN</td>\n",
       "      <td>1.0</td>\n",
       "    </tr>\n",
       "    <tr>\n",
       "      <th>1</th>\n",
       "      <td>101</td>\n",
       "      <td>26380212</td>\n",
       "      <td>SOCIETE IMMOBILIERE FINANCIERE D ETUDES ET DE ...</td>\n",
       "      <td>Société par actions simplifiée</td>\n",
       "      <td>Directeur général</td>\n",
       "      <td>VATIN</td>\n",
       "      <td>NaN</td>\n",
       "      <td>Jacques</td>\n",
       "      <td>P.Physique</td>\n",
       "      <td>1930-04-03</td>\n",
       "      <td>...</td>\n",
       "      <td>directeur général</td>\n",
       "      <td>societe immobiliere financiere d etudes et de ...</td>\n",
       "      <td>paris</td>\n",
       "      <td>75</td>\n",
       "      <td>NaN</td>\n",
       "      <td>NaN</td>\n",
       "      <td>50 rue de la tour</td>\n",
       "      <td>50 rue de la tour</td>\n",
       "      <td>NaN</td>\n",
       "      <td>1.0</td>\n",
       "    </tr>\n",
       "    <tr>\n",
       "      <th>2</th>\n",
       "      <td>101</td>\n",
       "      <td>26380212</td>\n",
       "      <td>SOCIETE IMMOBILIERE FINANCIERE D ETUDES ET DE ...</td>\n",
       "      <td>Société par actions simplifiée</td>\n",
       "      <td>Directeur général</td>\n",
       "      <td>JORDENS</td>\n",
       "      <td>VATIN</td>\n",
       "      <td>Regina</td>\n",
       "      <td>P.Physique</td>\n",
       "      <td>1948-08-07</td>\n",
       "      <td>...</td>\n",
       "      <td>directeur général</td>\n",
       "      <td>societe immobiliere financiere d etudes et de ...</td>\n",
       "      <td>carpentras</td>\n",
       "      <td>84</td>\n",
       "      <td>84031.0</td>\n",
       "      <td>84031.0</td>\n",
       "      <td>1360 chemin saint-roch</td>\n",
       "      <td>1360 chemin saint-roch</td>\n",
       "      <td>NaN</td>\n",
       "      <td>1.0</td>\n",
       "    </tr>\n",
       "    <tr>\n",
       "      <th>3</th>\n",
       "      <td>101</td>\n",
       "      <td>26380212</td>\n",
       "      <td>SOCIETE IMMOBILIERE FINANCIERE D ETUDES ET DE ...</td>\n",
       "      <td>Société par actions simplifiée</td>\n",
       "      <td>Directeur général</td>\n",
       "      <td>VATIN</td>\n",
       "      <td>VATIN-CHAIX</td>\n",
       "      <td>Bertrand Heinrich René</td>\n",
       "      <td>P.Physique</td>\n",
       "      <td>1977-06-09</td>\n",
       "      <td>...</td>\n",
       "      <td>directeur général</td>\n",
       "      <td>societe immobiliere financiere d etudes et de ...</td>\n",
       "      <td>strasbourg</td>\n",
       "      <td>67</td>\n",
       "      <td>67482.0</td>\n",
       "      <td>67482.0</td>\n",
       "      <td>63 rue virgile</td>\n",
       "      <td>63 rue virgile</td>\n",
       "      <td>NaN</td>\n",
       "      <td>1.0</td>\n",
       "    </tr>\n",
       "    <tr>\n",
       "      <th>4</th>\n",
       "      <td>101</td>\n",
       "      <td>61500740</td>\n",
       "      <td>SOCIETE J.F.B.</td>\n",
       "      <td>Société par actions simplifiée</td>\n",
       "      <td>Président</td>\n",
       "      <td>BENOIT</td>\n",
       "      <td>NaN</td>\n",
       "      <td>Nicolas Arnold Denis</td>\n",
       "      <td>P.Physique</td>\n",
       "      <td>1974-05-15</td>\n",
       "      <td>...</td>\n",
       "      <td>président</td>\n",
       "      <td>societe j.f.b.</td>\n",
       "      <td>ars-sur-formans</td>\n",
       "      <td>14</td>\n",
       "      <td>NaN</td>\n",
       "      <td>1021.0</td>\n",
       "      <td>222 rue jean-marie vianney</td>\n",
       "      <td>222 rue jean-marie vianney</td>\n",
       "      <td>NaN</td>\n",
       "      <td>1.0</td>\n",
       "    </tr>\n",
       "  </tbody>\n",
       "</table>\n",
       "<p>5 rows × 30 columns</p>\n",
       "</div>"
      ],
      "text/plain": [
       "   code_greffe     siren                                       denomination  \\\n",
       "0          101  26380212  SOCIETE IMMOBILIERE FINANCIERE D ETUDES ET DE ...   \n",
       "1          101  26380212  SOCIETE IMMOBILIERE FINANCIERE D ETUDES ET DE ...   \n",
       "2          101  26380212  SOCIETE IMMOBILIERE FINANCIERE D ETUDES ET DE ...   \n",
       "3          101  26380212  SOCIETE IMMOBILIERE FINANCIERE D ETUDES ET DE ...   \n",
       "4          101  61500740                                     SOCIETE J.F.B.   \n",
       "\n",
       "                  forme_juridique            qualite nom_patronymique  \\\n",
       "0  Société par actions simplifiée          Président            VATIN   \n",
       "1  Société par actions simplifiée  Directeur général            VATIN   \n",
       "2  Société par actions simplifiée  Directeur général          JORDENS   \n",
       "3  Société par actions simplifiée  Directeur général            VATIN   \n",
       "4  Société par actions simplifiée          Président           BENOIT   \n",
       "\n",
       "     nom_usage                 prenoms        type date_naissance  ...  \\\n",
       "0          NaN                  Gerard  P.Physique     1947-10-07  ...   \n",
       "1          NaN                 Jacques  P.Physique     1930-04-03  ...   \n",
       "2        VATIN                  Regina  P.Physique     1948-08-07  ...   \n",
       "3  VATIN-CHAIX  Bertrand Heinrich René  P.Physique     1977-06-09  ...   \n",
       "4          NaN    Nicolas Arnold Denis  P.Physique     1974-05-15  ...   \n",
       "\n",
       "         qualite_cor                                   denomination_cor  \\\n",
       "0          président  societe immobiliere financiere d etudes et de ...   \n",
       "1  directeur général  societe immobiliere financiere d etudes et de ...   \n",
       "2  directeur général  societe immobiliere financiere d etudes et de ...   \n",
       "3  directeur général  societe immobiliere financiere d etudes et de ...   \n",
       "4          président                                     societe j.f.b.   \n",
       "\n",
       "           commune code_departement code_commune_insee code_commune_cor  \\\n",
       "0       carpentras               84            84031.0          84031.0   \n",
       "1            paris               75                NaN              NaN   \n",
       "2       carpentras               84            84031.0          84031.0   \n",
       "3       strasbourg               67            67482.0          67482.0   \n",
       "4  ars-sur-formans               14                NaN           1021.0   \n",
       "\n",
       "           adresse_ligne1_cor          adresse_ligne2_cor  adresse_ligne3_cor  \\\n",
       "0      1360 chemin saint-roch      1360 chemin saint-roch                 NaN   \n",
       "1           50 rue de la tour           50 rue de la tour                 NaN   \n",
       "2      1360 chemin saint-roch      1360 chemin saint-roch                 NaN   \n",
       "3              63 rue virgile              63 rue virgile                 NaN   \n",
       "4  222 rue jean-marie vianney  222 rue jean-marie vianney                 NaN   \n",
       "\n",
       "  qualite_simplifie  \n",
       "0               1.0  \n",
       "1               1.0  \n",
       "2               1.0  \n",
       "3               1.0  \n",
       "4               1.0  \n",
       "\n",
       "[5 rows x 30 columns]"
      ]
     },
     "execution_count": 3,
     "metadata": {},
     "output_type": "execute_result"
    }
   ],
   "source": [
    "df_rep_pm.head()"
   ]
  },
  {
   "cell_type": "code",
   "execution_count": 3,
   "metadata": {},
   "outputs": [
    {
     "name": "stderr",
     "output_type": "stream",
     "text": [
      "/home/coder/work/data_inpi/code/functions.py:269: DtypeWarning: Columns (2,6) have mixed types. Specify dtype option on import or set low_memory=False.\n",
      "  df_rep_pm = pd.read_csv(file_in, sep=\";\", encoding=\"utf-8\")\n"
     ]
    }
   ],
   "source": [
    "deces = fc.import_file(\"deces/deces_all_years.csv\")"
   ]
  },
  {
   "cell_type": "code",
   "execution_count": 4,
   "metadata": {},
   "outputs": [
    {
     "data": {
      "text/html": [
       "<div>\n",
       "<style scoped>\n",
       "    .dataframe tbody tr th:only-of-type {\n",
       "        vertical-align: middle;\n",
       "    }\n",
       "\n",
       "    .dataframe tbody tr th {\n",
       "        vertical-align: top;\n",
       "    }\n",
       "\n",
       "    .dataframe thead th {\n",
       "        text-align: right;\n",
       "    }\n",
       "</style>\n",
       "<table border=\"1\" class=\"dataframe\">\n",
       "  <thead>\n",
       "    <tr style=\"text-align: right;\">\n",
       "      <th></th>\n",
       "      <th>sexe</th>\n",
       "      <th>datenaiss</th>\n",
       "      <th>lieunaiss</th>\n",
       "      <th>commnaiss</th>\n",
       "      <th>paysnaiss</th>\n",
       "      <th>datedeces</th>\n",
       "      <th>lieudeces</th>\n",
       "      <th>nom</th>\n",
       "      <th>prenom</th>\n",
       "      <th>annee</th>\n",
       "    </tr>\n",
       "  </thead>\n",
       "  <tbody>\n",
       "    <tr>\n",
       "      <th>0</th>\n",
       "      <td>2</td>\n",
       "      <td>19221022</td>\n",
       "      <td>01366</td>\n",
       "      <td>SAINTE-JULIE</td>\n",
       "      <td>NaN</td>\n",
       "      <td>20160114</td>\n",
       "      <td>01004</td>\n",
       "      <td>MARIN</td>\n",
       "      <td>MARCELINE</td>\n",
       "      <td>2016</td>\n",
       "    </tr>\n",
       "    <tr>\n",
       "      <th>1</th>\n",
       "      <td>2</td>\n",
       "      <td>19311101</td>\n",
       "      <td>62617</td>\n",
       "      <td>NOEUX-LES-MINES</td>\n",
       "      <td>NaN</td>\n",
       "      <td>20160105</td>\n",
       "      <td>01004</td>\n",
       "      <td>DEBRET</td>\n",
       "      <td>THERESE MADELEINE</td>\n",
       "      <td>2016</td>\n",
       "    </tr>\n",
       "    <tr>\n",
       "      <th>2</th>\n",
       "      <td>1</td>\n",
       "      <td>19410508</td>\n",
       "      <td>42147</td>\n",
       "      <td>MONTBRISON</td>\n",
       "      <td>NaN</td>\n",
       "      <td>20160121</td>\n",
       "      <td>01004</td>\n",
       "      <td>THELIOL</td>\n",
       "      <td>ANTOINE ROGER MARIE</td>\n",
       "      <td>2016</td>\n",
       "    </tr>\n",
       "    <tr>\n",
       "      <th>3</th>\n",
       "      <td>1</td>\n",
       "      <td>19320207</td>\n",
       "      <td>01004</td>\n",
       "      <td>AMBERIEU-EN-BUGEY</td>\n",
       "      <td>NaN</td>\n",
       "      <td>20160121</td>\n",
       "      <td>01004</td>\n",
       "      <td>GALLET</td>\n",
       "      <td>ROBERT HENRI</td>\n",
       "      <td>2016</td>\n",
       "    </tr>\n",
       "    <tr>\n",
       "      <th>4</th>\n",
       "      <td>2</td>\n",
       "      <td>19300218</td>\n",
       "      <td>01004</td>\n",
       "      <td>AMBERIEU-EN-BUGEY</td>\n",
       "      <td>NaN</td>\n",
       "      <td>20160122</td>\n",
       "      <td>01004</td>\n",
       "      <td>BOUCHARD</td>\n",
       "      <td>GEORGETTE</td>\n",
       "      <td>2016</td>\n",
       "    </tr>\n",
       "  </tbody>\n",
       "</table>\n",
       "</div>"
      ],
      "text/plain": [
       "   sexe  datenaiss lieunaiss          commnaiss paysnaiss  datedeces  \\\n",
       "0     2   19221022     01366       SAINTE-JULIE       NaN   20160114   \n",
       "1     2   19311101     62617    NOEUX-LES-MINES       NaN   20160105   \n",
       "2     1   19410508     42147         MONTBRISON       NaN   20160121   \n",
       "3     1   19320207     01004  AMBERIEU-EN-BUGEY       NaN   20160121   \n",
       "4     2   19300218     01004  AMBERIEU-EN-BUGEY       NaN   20160122   \n",
       "\n",
       "  lieudeces       nom               prenom  annee  \n",
       "0     01004     MARIN            MARCELINE   2016  \n",
       "1     01004    DEBRET    THERESE MADELEINE   2016  \n",
       "2     01004   THELIOL  ANTOINE ROGER MARIE   2016  \n",
       "3     01004    GALLET         ROBERT HENRI   2016  \n",
       "4     01004  BOUCHARD            GEORGETTE   2016  "
      ]
     },
     "execution_count": 4,
     "metadata": {},
     "output_type": "execute_result"
    }
   ],
   "source": [
    "deces.head()"
   ]
  },
  {
   "cell_type": "code",
   "execution_count": 6,
   "metadata": {},
   "outputs": [
    {
     "data": {
      "text/plain": [
       "Index(['code_greffe', 'siren', 'denomination', 'forme_juridique', 'qualite',\n",
       "       'nom_patronymique', 'nom_usage', 'prenoms', 'type', 'date_naissance',\n",
       "       'ville_naissance', 'adresse_ligne1', 'adresse_ligne2', 'adresse_ligne3',\n",
       "       'code_postal', 'ville', 'code_commune', 'pays', 'id_representant',\n",
       "       'nom_patronymique_cor', 'qualite_cor', 'denomination_cor', 'commune',\n",
       "       'code_departement', 'code_commune_insee', 'code_commune_cor',\n",
       "       'adresse_ligne1_cor', 'adresse_ligne2_cor', 'adresse_ligne3_cor',\n",
       "       'qualite_simplifie'],\n",
       "      dtype='object')"
      ]
     },
     "execution_count": 6,
     "metadata": {},
     "output_type": "execute_result"
    }
   ],
   "source": [
    "df_rep_pm.columns"
   ]
  },
  {
   "cell_type": "code",
   "execution_count": 45,
   "metadata": {},
   "outputs": [
    {
     "data": {
      "text/html": [
       "<div>\n",
       "<style scoped>\n",
       "    .dataframe tbody tr th:only-of-type {\n",
       "        vertical-align: middle;\n",
       "    }\n",
       "\n",
       "    .dataframe tbody tr th {\n",
       "        vertical-align: top;\n",
       "    }\n",
       "\n",
       "    .dataframe thead th {\n",
       "        text-align: right;\n",
       "    }\n",
       "</style>\n",
       "<table border=\"1\" class=\"dataframe\">\n",
       "  <thead>\n",
       "    <tr style=\"text-align: right;\">\n",
       "      <th></th>\n",
       "      <th>nom_patronymique_cor</th>\n",
       "      <th>prenoms</th>\n",
       "      <th>nom_usage</th>\n",
       "      <th>date_naissance</th>\n",
       "      <th>ville_naissance</th>\n",
       "    </tr>\n",
       "  </thead>\n",
       "  <tbody>\n",
       "    <tr>\n",
       "      <th>0</th>\n",
       "      <td>VATIN</td>\n",
       "      <td>Gerard</td>\n",
       "      <td>NaN</td>\n",
       "      <td>1947-10-07</td>\n",
       "      <td>79270 Saint-Maixent-L'École 79</td>\n",
       "    </tr>\n",
       "    <tr>\n",
       "      <th>1</th>\n",
       "      <td>VATIN</td>\n",
       "      <td>Jacques</td>\n",
       "      <td>NaN</td>\n",
       "      <td>1930-04-03</td>\n",
       "      <td>02691 Saint-Quentin 02</td>\n",
       "    </tr>\n",
       "    <tr>\n",
       "      <th>2</th>\n",
       "      <td>JORDENS</td>\n",
       "      <td>Regina</td>\n",
       "      <td>VATIN</td>\n",
       "      <td>1948-08-07</td>\n",
       "      <td>Allemagne</td>\n",
       "    </tr>\n",
       "    <tr>\n",
       "      <th>3</th>\n",
       "      <td>VATIN</td>\n",
       "      <td>Bertrand Heinrich René</td>\n",
       "      <td>VATIN-CHAIX</td>\n",
       "      <td>1977-06-09</td>\n",
       "      <td>Chêne bougeries</td>\n",
       "    </tr>\n",
       "    <tr>\n",
       "      <th>4</th>\n",
       "      <td>BENOIT</td>\n",
       "      <td>Nicolas Arnold Denis</td>\n",
       "      <td>NaN</td>\n",
       "      <td>1974-05-15</td>\n",
       "      <td>69381 LYON 01</td>\n",
       "    </tr>\n",
       "  </tbody>\n",
       "</table>\n",
       "</div>"
      ],
      "text/plain": [
       "  nom_patronymique_cor                 prenoms    nom_usage date_naissance  \\\n",
       "0                VATIN                  Gerard          NaN     1947-10-07   \n",
       "1                VATIN                 Jacques          NaN     1930-04-03   \n",
       "2              JORDENS                  Regina        VATIN     1948-08-07   \n",
       "3                VATIN  Bertrand Heinrich René  VATIN-CHAIX     1977-06-09   \n",
       "4               BENOIT    Nicolas Arnold Denis          NaN     1974-05-15   \n",
       "\n",
       "                   ville_naissance  \n",
       "0  79270 Saint-Maixent-L'École 79   \n",
       "1          02691 Saint-Quentin 02   \n",
       "2                       Allemagne   \n",
       "3                 Chêne bougeries   \n",
       "4                   69381 LYON 01   "
      ]
     },
     "execution_count": 45,
     "metadata": {},
     "output_type": "execute_result"
    }
   ],
   "source": [
    "# variables permettant de lier le fichier deces au fichier inpi:\n",
    "df_rep_pm.loc[:,[\"nom_patronymique_cor\", \"prenoms\", \"nom_usage\", \"date_naissance\", 'ville_naissance']].head()"
   ]
  },
  {
   "cell_type": "code",
   "execution_count": 27,
   "metadata": {},
   "outputs": [],
   "source": [
    "# il faut nettoyer la ville de naissance dans la base inpi et y ajouter le code commune insee\n",
    "\n",
    "df_rep_pm[\"commune_nais\"] = df_rep_pm[\"ville_naissance\"].str.lower()"
   ]
  },
  {
   "cell_type": "code",
   "execution_count": 28,
   "metadata": {},
   "outputs": [],
   "source": [
    "df_rep_pm[\"commune_nais\"] = (df_rep_pm[\"commune_nais\"].str.replace(\"à\", \"a\")\n",
    "                                            .str.replace(\"è\", \"e\")\n",
    "                                            .str.replace(\"é\", \"e\")\n",
    "                                            .str.replace(\"ç\", \"c\")\n",
    "                                            .str.replace(\"ù\", \"u\")\n",
    "                                            .str.replace(\"ô\", \"o\"))"
   ]
  },
  {
   "cell_type": "code",
   "execution_count": 29,
   "metadata": {},
   "outputs": [],
   "source": [
    "re0 = \"([0-9]{5})\"\n",
    "df_rep_pm[\"code_commune_nais\"]  = df_rep_pm[\"commune_nais\"].str.extract(re0)"
   ]
  },
  {
   "cell_type": "code",
   "execution_count": 30,
   "metadata": {},
   "outputs": [
    {
     "data": {
      "text/html": [
       "<div>\n",
       "<style scoped>\n",
       "    .dataframe tbody tr th:only-of-type {\n",
       "        vertical-align: middle;\n",
       "    }\n",
       "\n",
       "    .dataframe tbody tr th {\n",
       "        vertical-align: top;\n",
       "    }\n",
       "\n",
       "    .dataframe thead th {\n",
       "        text-align: right;\n",
       "    }\n",
       "</style>\n",
       "<table border=\"1\" class=\"dataframe\">\n",
       "  <thead>\n",
       "    <tr style=\"text-align: right;\">\n",
       "      <th></th>\n",
       "      <th>code_commune_nais</th>\n",
       "      <th>commune_nais</th>\n",
       "    </tr>\n",
       "  </thead>\n",
       "  <tbody>\n",
       "    <tr>\n",
       "      <th>0</th>\n",
       "      <td>79270</td>\n",
       "      <td>79270 saint-maixent-l'ecole 79</td>\n",
       "    </tr>\n",
       "    <tr>\n",
       "      <th>1</th>\n",
       "      <td>02691</td>\n",
       "      <td>02691 saint-quentin 02</td>\n",
       "    </tr>\n",
       "    <tr>\n",
       "      <th>2</th>\n",
       "      <td>NaN</td>\n",
       "      <td>allemagne</td>\n",
       "    </tr>\n",
       "    <tr>\n",
       "      <th>3</th>\n",
       "      <td>NaN</td>\n",
       "      <td>chêne bougeries</td>\n",
       "    </tr>\n",
       "    <tr>\n",
       "      <th>4</th>\n",
       "      <td>69381</td>\n",
       "      <td>69381 lyon 01</td>\n",
       "    </tr>\n",
       "    <tr>\n",
       "      <th>5</th>\n",
       "      <td>38185</td>\n",
       "      <td>38185 grenoble</td>\n",
       "    </tr>\n",
       "    <tr>\n",
       "      <th>6</th>\n",
       "      <td>69386</td>\n",
       "      <td>69386 lyon 6eme</td>\n",
       "    </tr>\n",
       "    <tr>\n",
       "      <th>7</th>\n",
       "      <td>69386</td>\n",
       "      <td>69386 lyon 6eme</td>\n",
       "    </tr>\n",
       "    <tr>\n",
       "      <th>8</th>\n",
       "      <td>35238</td>\n",
       "      <td>35238 rennes</td>\n",
       "    </tr>\n",
       "    <tr>\n",
       "      <th>9</th>\n",
       "      <td>35335</td>\n",
       "      <td>35335 thourie</td>\n",
       "    </tr>\n",
       "  </tbody>\n",
       "</table>\n",
       "</div>"
      ],
      "text/plain": [
       "  code_commune_nais                     commune_nais\n",
       "0             79270  79270 saint-maixent-l'ecole 79 \n",
       "1             02691          02691 saint-quentin 02 \n",
       "2               NaN                       allemagne \n",
       "3               NaN                 chêne bougeries \n",
       "4             69381                   69381 lyon 01 \n",
       "5             38185                  38185 grenoble \n",
       "6             69386                 69386 lyon 6eme \n",
       "7             69386                 69386 lyon 6eme \n",
       "8             35238                    35238 rennes \n",
       "9             35335                   35335 thourie "
      ]
     },
     "execution_count": 30,
     "metadata": {},
     "output_type": "execute_result"
    }
   ],
   "source": [
    "df_rep_pm.loc[:,[\"code_commune_nais\", \"commune_nais\"]].head(10)"
   ]
  },
  {
   "cell_type": "code",
   "execution_count": 31,
   "metadata": {},
   "outputs": [
    {
     "name": "stderr",
     "output_type": "stream",
     "text": [
      "/tmp/ipykernel_3684/1642337416.py:1: FutureWarning: The default value of regex will change from True to False in a future version.\n",
      "  df_rep_pm[\"commune_nais\"]  = df_rep_pm[\"commune_nais\"].str.replace(re0, \"\")\n"
     ]
    }
   ],
   "source": [
    "df_rep_pm[\"commune_nais\"]  = df_rep_pm[\"commune_nais\"].str.replace(re0, \"\")"
   ]
  },
  {
   "cell_type": "code",
   "execution_count": 32,
   "metadata": {},
   "outputs": [
    {
     "data": {
      "text/html": [
       "<div>\n",
       "<style scoped>\n",
       "    .dataframe tbody tr th:only-of-type {\n",
       "        vertical-align: middle;\n",
       "    }\n",
       "\n",
       "    .dataframe tbody tr th {\n",
       "        vertical-align: top;\n",
       "    }\n",
       "\n",
       "    .dataframe thead th {\n",
       "        text-align: right;\n",
       "    }\n",
       "</style>\n",
       "<table border=\"1\" class=\"dataframe\">\n",
       "  <thead>\n",
       "    <tr style=\"text-align: right;\">\n",
       "      <th></th>\n",
       "      <th>code_commune_nais</th>\n",
       "      <th>commune_nais</th>\n",
       "    </tr>\n",
       "  </thead>\n",
       "  <tbody>\n",
       "    <tr>\n",
       "      <th>0</th>\n",
       "      <td>79270</td>\n",
       "      <td>saint-maixent-l'ecole 79</td>\n",
       "    </tr>\n",
       "    <tr>\n",
       "      <th>1</th>\n",
       "      <td>02691</td>\n",
       "      <td>saint-quentin 02</td>\n",
       "    </tr>\n",
       "    <tr>\n",
       "      <th>2</th>\n",
       "      <td>NaN</td>\n",
       "      <td>allemagne</td>\n",
       "    </tr>\n",
       "    <tr>\n",
       "      <th>3</th>\n",
       "      <td>NaN</td>\n",
       "      <td>chêne bougeries</td>\n",
       "    </tr>\n",
       "    <tr>\n",
       "      <th>4</th>\n",
       "      <td>69381</td>\n",
       "      <td>lyon 01</td>\n",
       "    </tr>\n",
       "    <tr>\n",
       "      <th>5</th>\n",
       "      <td>38185</td>\n",
       "      <td>grenoble</td>\n",
       "    </tr>\n",
       "    <tr>\n",
       "      <th>6</th>\n",
       "      <td>69386</td>\n",
       "      <td>lyon 6eme</td>\n",
       "    </tr>\n",
       "    <tr>\n",
       "      <th>7</th>\n",
       "      <td>69386</td>\n",
       "      <td>lyon 6eme</td>\n",
       "    </tr>\n",
       "    <tr>\n",
       "      <th>8</th>\n",
       "      <td>35238</td>\n",
       "      <td>rennes</td>\n",
       "    </tr>\n",
       "    <tr>\n",
       "      <th>9</th>\n",
       "      <td>35335</td>\n",
       "      <td>thourie</td>\n",
       "    </tr>\n",
       "  </tbody>\n",
       "</table>\n",
       "</div>"
      ],
      "text/plain": [
       "  code_commune_nais                commune_nais\n",
       "0             79270   saint-maixent-l'ecole 79 \n",
       "1             02691           saint-quentin 02 \n",
       "2               NaN                  allemagne \n",
       "3               NaN            chêne bougeries \n",
       "4             69381                    lyon 01 \n",
       "5             38185                   grenoble \n",
       "6             69386                  lyon 6eme \n",
       "7             69386                  lyon 6eme \n",
       "8             35238                     rennes \n",
       "9             35335                    thourie "
      ]
     },
     "execution_count": 32,
     "metadata": {},
     "output_type": "execute_result"
    }
   ],
   "source": [
    "df_rep_pm.loc[:,[\"code_commune_nais\", \"commune_nais\"]].head(10)"
   ]
  },
  {
   "cell_type": "code",
   "execution_count": 33,
   "metadata": {},
   "outputs": [
    {
     "name": "stderr",
     "output_type": "stream",
     "text": [
      "/tmp/ipykernel_3684/672803900.py:2: FutureWarning: The default value of regex will change from True to False in a future version.\n",
      "  df_rep_pm[\"commune_nais\"]  = df_rep_pm[\"commune_nais\"].str.replace(re1, \"\")\n"
     ]
    }
   ],
   "source": [
    "re1 = \"[0-9]{1,5}\"\n",
    "df_rep_pm[\"commune_nais\"]  = df_rep_pm[\"commune_nais\"].str.replace(re1, \"\")"
   ]
  },
  {
   "cell_type": "code",
   "execution_count": 34,
   "metadata": {},
   "outputs": [
    {
     "data": {
      "text/html": [
       "<div>\n",
       "<style scoped>\n",
       "    .dataframe tbody tr th:only-of-type {\n",
       "        vertical-align: middle;\n",
       "    }\n",
       "\n",
       "    .dataframe tbody tr th {\n",
       "        vertical-align: top;\n",
       "    }\n",
       "\n",
       "    .dataframe thead th {\n",
       "        text-align: right;\n",
       "    }\n",
       "</style>\n",
       "<table border=\"1\" class=\"dataframe\">\n",
       "  <thead>\n",
       "    <tr style=\"text-align: right;\">\n",
       "      <th></th>\n",
       "      <th>code_commune_nais</th>\n",
       "      <th>commune_nais</th>\n",
       "    </tr>\n",
       "  </thead>\n",
       "  <tbody>\n",
       "    <tr>\n",
       "      <th>0</th>\n",
       "      <td>79270</td>\n",
       "      <td>saint-maixent-l'ecole</td>\n",
       "    </tr>\n",
       "    <tr>\n",
       "      <th>1</th>\n",
       "      <td>02691</td>\n",
       "      <td>saint-quentin</td>\n",
       "    </tr>\n",
       "    <tr>\n",
       "      <th>2</th>\n",
       "      <td>NaN</td>\n",
       "      <td>allemagne</td>\n",
       "    </tr>\n",
       "    <tr>\n",
       "      <th>3</th>\n",
       "      <td>NaN</td>\n",
       "      <td>chêne bougeries</td>\n",
       "    </tr>\n",
       "    <tr>\n",
       "      <th>4</th>\n",
       "      <td>69381</td>\n",
       "      <td>lyon</td>\n",
       "    </tr>\n",
       "    <tr>\n",
       "      <th>5</th>\n",
       "      <td>38185</td>\n",
       "      <td>grenoble</td>\n",
       "    </tr>\n",
       "    <tr>\n",
       "      <th>6</th>\n",
       "      <td>69386</td>\n",
       "      <td>lyon eme</td>\n",
       "    </tr>\n",
       "    <tr>\n",
       "      <th>7</th>\n",
       "      <td>69386</td>\n",
       "      <td>lyon eme</td>\n",
       "    </tr>\n",
       "    <tr>\n",
       "      <th>8</th>\n",
       "      <td>35238</td>\n",
       "      <td>rennes</td>\n",
       "    </tr>\n",
       "    <tr>\n",
       "      <th>9</th>\n",
       "      <td>35335</td>\n",
       "      <td>thourie</td>\n",
       "    </tr>\n",
       "  </tbody>\n",
       "</table>\n",
       "</div>"
      ],
      "text/plain": [
       "  code_commune_nais              commune_nais\n",
       "0             79270   saint-maixent-l'ecole  \n",
       "1             02691           saint-quentin  \n",
       "2               NaN                allemagne \n",
       "3               NaN          chêne bougeries \n",
       "4             69381                    lyon  \n",
       "5             38185                 grenoble \n",
       "6             69386                 lyon eme \n",
       "7             69386                 lyon eme \n",
       "8             35238                   rennes \n",
       "9             35335                  thourie "
      ]
     },
     "execution_count": 34,
     "metadata": {},
     "output_type": "execute_result"
    }
   ],
   "source": [
    "df_rep_pm.loc[:,[\"code_commune_nais\", \"commune_nais\"]].head(10)"
   ]
  },
  {
   "cell_type": "code",
   "execution_count": 35,
   "metadata": {},
   "outputs": [
    {
     "name": "stderr",
     "output_type": "stream",
     "text": [
      "/tmp/ipykernel_3684/1312444802.py:2: FutureWarning: The default value of regex will change from True to False in a future version.\n",
      "  df_rep_pm[\"commune_nais\"]  = df_rep_pm[\"commune_nais\"].str.replace(re2, \"\")\n"
     ]
    }
   ],
   "source": [
    "re2 = \"\\seme\"\n",
    "df_rep_pm[\"commune_nais\"]  = df_rep_pm[\"commune_nais\"].str.replace(re2, \"\")"
   ]
  },
  {
   "cell_type": "code",
   "execution_count": 36,
   "metadata": {},
   "outputs": [
    {
     "data": {
      "text/html": [
       "<div>\n",
       "<style scoped>\n",
       "    .dataframe tbody tr th:only-of-type {\n",
       "        vertical-align: middle;\n",
       "    }\n",
       "\n",
       "    .dataframe tbody tr th {\n",
       "        vertical-align: top;\n",
       "    }\n",
       "\n",
       "    .dataframe thead th {\n",
       "        text-align: right;\n",
       "    }\n",
       "</style>\n",
       "<table border=\"1\" class=\"dataframe\">\n",
       "  <thead>\n",
       "    <tr style=\"text-align: right;\">\n",
       "      <th></th>\n",
       "      <th>code_commune_nais</th>\n",
       "      <th>commune_nais</th>\n",
       "    </tr>\n",
       "  </thead>\n",
       "  <tbody>\n",
       "    <tr>\n",
       "      <th>0</th>\n",
       "      <td>79270</td>\n",
       "      <td>saint-maixent-l'ecole</td>\n",
       "    </tr>\n",
       "    <tr>\n",
       "      <th>1</th>\n",
       "      <td>02691</td>\n",
       "      <td>saint-quentin</td>\n",
       "    </tr>\n",
       "    <tr>\n",
       "      <th>2</th>\n",
       "      <td>NaN</td>\n",
       "      <td>allemagne</td>\n",
       "    </tr>\n",
       "    <tr>\n",
       "      <th>3</th>\n",
       "      <td>NaN</td>\n",
       "      <td>chêne bougeries</td>\n",
       "    </tr>\n",
       "    <tr>\n",
       "      <th>4</th>\n",
       "      <td>69381</td>\n",
       "      <td>lyon</td>\n",
       "    </tr>\n",
       "    <tr>\n",
       "      <th>5</th>\n",
       "      <td>38185</td>\n",
       "      <td>grenoble</td>\n",
       "    </tr>\n",
       "    <tr>\n",
       "      <th>6</th>\n",
       "      <td>69386</td>\n",
       "      <td>lyon</td>\n",
       "    </tr>\n",
       "    <tr>\n",
       "      <th>7</th>\n",
       "      <td>69386</td>\n",
       "      <td>lyon</td>\n",
       "    </tr>\n",
       "    <tr>\n",
       "      <th>8</th>\n",
       "      <td>35238</td>\n",
       "      <td>rennes</td>\n",
       "    </tr>\n",
       "    <tr>\n",
       "      <th>9</th>\n",
       "      <td>35335</td>\n",
       "      <td>thourie</td>\n",
       "    </tr>\n",
       "  </tbody>\n",
       "</table>\n",
       "</div>"
      ],
      "text/plain": [
       "  code_commune_nais              commune_nais\n",
       "0             79270   saint-maixent-l'ecole  \n",
       "1             02691           saint-quentin  \n",
       "2               NaN                allemagne \n",
       "3               NaN          chêne bougeries \n",
       "4             69381                    lyon  \n",
       "5             38185                 grenoble \n",
       "6             69386                     lyon \n",
       "7             69386                     lyon \n",
       "8             35238                   rennes \n",
       "9             35335                  thourie "
      ]
     },
     "execution_count": 36,
     "metadata": {},
     "output_type": "execute_result"
    }
   ],
   "source": [
    "df_rep_pm.loc[:,[\"code_commune_nais\", \"commune_nais\"]].head(10)"
   ]
  },
  {
   "cell_type": "code",
   "execution_count": 38,
   "metadata": {},
   "outputs": [
    {
     "data": {
      "text/plain": [
       " paris                   183100\n",
       " paris ()                178503\n",
       " lyon ()                 122217\n",
       " paris                    88267\n",
       " marseille ()             78405\n",
       "                          ...  \n",
       " geneve (suisse               1\n",
       " ochey (mm)                   1\n",
       " frohmuhl (bas rhin)          1\n",
       " haussonville (mm)            1\n",
       " besancon - doubs             1\n",
       "Name: commune_nais, Length: 307313, dtype: int64"
      ]
     },
     "execution_count": 38,
     "metadata": {},
     "output_type": "execute_result"
    }
   ],
   "source": [
    "df_rep_pm[\"commune_nais\"].value_counts()"
   ]
  },
  {
   "cell_type": "code",
   "execution_count": 39,
   "metadata": {},
   "outputs": [
    {
     "name": "stderr",
     "output_type": "stream",
     "text": [
      "/tmp/ipykernel_3684/2145190911.py:2: FutureWarning: The default value of regex will change from True to False in a future version.\n",
      "  df_rep_pm[\"commune_nais\"]  = df_rep_pm[\"commune_nais\"].str.replace(re3, \"\")\n"
     ]
    }
   ],
   "source": [
    "re3 = \"\\(\\)\"\n",
    "df_rep_pm[\"commune_nais\"]  = df_rep_pm[\"commune_nais\"].str.replace(re3, \"\")"
   ]
  },
  {
   "cell_type": "code",
   "execution_count": 40,
   "metadata": {},
   "outputs": [
    {
     "data": {
      "text/plain": [
       " paris                           362005\n",
       " lyon                            135556\n",
       " marseille                       128079\n",
       " paris                            96312\n",
       " toulouse                         86182\n",
       "                                  ...  \n",
       " airaes felguerias                    1\n",
       " vieira-de-leira                      1\n",
       " fresnes sur apance                   1\n",
       " onondaga (etat de new york)          1\n",
       " besancon - doubs                     1\n",
       "Name: commune_nais, Length: 274752, dtype: int64"
      ]
     },
     "execution_count": 40,
     "metadata": {},
     "output_type": "execute_result"
    }
   ],
   "source": [
    "df_rep_pm[\"commune_nais\"].value_counts()"
   ]
  },
  {
   "cell_type": "code",
   "execution_count": 41,
   "metadata": {},
   "outputs": [],
   "source": [
    "df_rep_pm[\"commune_nais\"] = df_rep_pm[\"commune_nais\"].str.strip()"
   ]
  },
  {
   "cell_type": "code",
   "execution_count": 42,
   "metadata": {},
   "outputs": [
    {
     "data": {
      "text/plain": [
       "paris               468617\n",
       "lyon                157761\n",
       "marseille           140425\n",
       "toulouse             88219\n",
       "nantes               67349\n",
       "                     ...  \n",
       "yukarikale               1\n",
       "ortavoy                  1\n",
       "findiksuyu               1\n",
       "dezfool                  1\n",
       "besancon - doubs         1\n",
       "Name: commune_nais, Length: 238275, dtype: int64"
      ]
     },
     "execution_count": 42,
     "metadata": {},
     "output_type": "execute_result"
    }
   ],
   "source": [
    "df_rep_pm[\"commune_nais\"].value_counts()"
   ]
  },
  {
   "cell_type": "code",
   "execution_count": 43,
   "metadata": {},
   "outputs": [
    {
     "data": {
      "text/plain": [
       "(5501010, 32)"
      ]
     },
     "execution_count": 43,
     "metadata": {},
     "output_type": "execute_result"
    }
   ],
   "source": [
    "df_rep_pm.loc[df_rep_pm[\"code_commune_nais\"].isna()==False, :].shape # 5 501 010, on ne sait pas si c'est code commune ou code postal"
   ]
  },
  {
   "cell_type": "code",
   "execution_count": 46,
   "metadata": {},
   "outputs": [
    {
     "data": {
      "text/plain": [
       "0    19221022\n",
       "1    19311101\n",
       "2    19410508\n",
       "3    19320207\n",
       "4    19300218\n",
       "Name: datenaiss, dtype: int64"
      ]
     },
     "execution_count": 46,
     "metadata": {},
     "output_type": "execute_result"
    }
   ],
   "source": [
    "deces[\"datenaiss\"].head()"
   ]
  },
  {
   "cell_type": "code",
   "execution_count": 51,
   "metadata": {},
   "outputs": [],
   "source": [
    "deces[\"date_naissance\"] = deces[\"datenaiss\"].astype(str)"
   ]
  },
  {
   "cell_type": "code",
   "execution_count": 54,
   "metadata": {},
   "outputs": [
    {
     "data": {
      "text/plain": [
       "0    1922\n",
       "1    1931\n",
       "2    1941\n",
       "3    1932\n",
       "4    1930\n",
       "Name: date_naissance, dtype: object"
      ]
     },
     "execution_count": 54,
     "metadata": {},
     "output_type": "execute_result"
    }
   ],
   "source": [
    "deces[\"date_naissance\"].str.slice(0, 4).head()"
   ]
  },
  {
   "cell_type": "code",
   "execution_count": 55,
   "metadata": {},
   "outputs": [],
   "source": [
    "deces[\"date_naissance\"] = deces[\"date_naissance\"].str.slice(0, 4) + \"-\" + deces[\"date_naissance\"].str.slice(4,6) + \"-\" + deces[\"date_naissance\"].str.slice(6,8)"
   ]
  },
  {
   "cell_type": "code",
   "execution_count": 56,
   "metadata": {},
   "outputs": [
    {
     "data": {
      "text/plain": [
       "0    1922-10-22\n",
       "1    1931-11-01\n",
       "2    1941-05-08\n",
       "3    1932-02-07\n",
       "4    1930-02-18\n",
       "Name: date_naissance, dtype: object"
      ]
     },
     "execution_count": 56,
     "metadata": {},
     "output_type": "execute_result"
    }
   ],
   "source": [
    "deces[\"date_naissance\"].head()"
   ]
  },
  {
   "cell_type": "code",
   "execution_count": 57,
   "metadata": {},
   "outputs": [],
   "source": [
    "deces[\"nom_cor\"] = deces[\"nom\"].str.lower()"
   ]
  },
  {
   "cell_type": "code",
   "execution_count": 58,
   "metadata": {},
   "outputs": [
    {
     "data": {
      "text/plain": [
       "0       marin\n",
       "1      debret\n",
       "2     theliol\n",
       "3      gallet\n",
       "4    bouchard\n",
       "Name: nom_cor, dtype: object"
      ]
     },
     "execution_count": 58,
     "metadata": {},
     "output_type": "execute_result"
    }
   ],
   "source": [
    "deces[\"nom_cor\"].head()"
   ]
  },
  {
   "cell_type": "code",
   "execution_count": 59,
   "metadata": {},
   "outputs": [],
   "source": [
    "df_rep_pm[\"nom_patronymique_cor\"] = df_rep_pm[\"nom_patronymique_cor\"].str.lower()"
   ]
  },
  {
   "cell_type": "code",
   "execution_count": 60,
   "metadata": {},
   "outputs": [
    {
     "data": {
      "text/plain": [
       "(1350973, 32)"
      ]
     },
     "execution_count": 60,
     "metadata": {},
     "output_type": "execute_result"
    }
   ],
   "source": [
    "df_rep_pm.loc[df_rep_pm[\"nom_usage\"].isna() == False,:].shape # 1 350 973"
   ]
  },
  {
   "cell_type": "code",
   "execution_count": 61,
   "metadata": {},
   "outputs": [
    {
     "data": {
      "text/plain": [
       "(7, 32)"
      ]
     },
     "execution_count": 61,
     "metadata": {},
     "output_type": "execute_result"
    }
   ],
   "source": [
    "df_rep_pm.loc[(df_rep_pm[\"nom_patronymique_cor\"].isna())&(df_rep_pm[\"nom_usage\"].isna() == False),:].shape  # 7"
   ]
  },
  {
   "cell_type": "code",
   "execution_count": 62,
   "metadata": {},
   "outputs": [],
   "source": [
    "df_rep_pm[\"nom_usage_cor\"] = df_rep_pm[\"nom_usage\"].str.lower()"
   ]
  },
  {
   "cell_type": "code",
   "execution_count": 63,
   "metadata": {},
   "outputs": [
    {
     "data": {
      "text/plain": [
       "0            NaN\n",
       "1            NaN\n",
       "2          vatin\n",
       "3    vatin-chaix\n",
       "4            NaN\n",
       "Name: nom_usage_cor, dtype: object"
      ]
     },
     "execution_count": 63,
     "metadata": {},
     "output_type": "execute_result"
    }
   ],
   "source": [
    "df_rep_pm[\"nom_usage_cor\"].head()"
   ]
  },
  {
   "cell_type": "code",
   "execution_count": null,
   "metadata": {},
   "outputs": [],
   "source": [
    "# on va faire la jointure entre nom d'usage et nom dans le fichier décès, sauf si nom d'usage n'est pas rempli et dans ce cas on utilisera nom patronymique"
   ]
  },
  {
   "cell_type": "code",
   "execution_count": 72,
   "metadata": {},
   "outputs": [
    {
     "data": {
      "text/plain": [
       "0              marceline\n",
       "1      therese madeleine\n",
       "2    antoine roger marie\n",
       "3           robert henri\n",
       "4              georgette\n",
       "Name: prenom, dtype: object"
      ]
     },
     "execution_count": 72,
     "metadata": {},
     "output_type": "execute_result"
    }
   ],
   "source": [
    "# prénoms\n",
    "deces[\"prenom\"].head()"
   ]
  },
  {
   "cell_type": "code",
   "execution_count": 71,
   "metadata": {},
   "outputs": [],
   "source": [
    "deces[\"prenom\"] = deces[\"prenom\"].str.lower()\n",
    "deces[\"prenom\"] = deces[\"prenom\"].str.strip()"
   ]
  },
  {
   "cell_type": "code",
   "execution_count": 66,
   "metadata": {},
   "outputs": [
    {
     "data": {
      "text/plain": [
       "0                    Gerard\n",
       "1                   Jacques\n",
       "2                    Regina\n",
       "3    Bertrand Heinrich René\n",
       "4      Nicolas Arnold Denis\n",
       "Name: prenoms, dtype: object"
      ]
     },
     "execution_count": 66,
     "metadata": {},
     "output_type": "execute_result"
    }
   ],
   "source": [
    "df_rep_pm[\"prenoms\"].head()"
   ]
  },
  {
   "cell_type": "code",
   "execution_count": 67,
   "metadata": {},
   "outputs": [],
   "source": [
    "df_rep_pm[\"prenoms_cor\"] = df_rep_pm[\"prenoms\"].str.lower()"
   ]
  },
  {
   "cell_type": "code",
   "execution_count": 68,
   "metadata": {},
   "outputs": [],
   "source": [
    "df_rep_pm[\"prenoms_cor\"] = (df_rep_pm[\"prenoms_cor\"].str.replace(\"à\", \"a\")\n",
    "                                            .str.replace(\"è\", \"e\")\n",
    "                                            .str.replace(\"é\", \"e\")\n",
    "                                            .str.replace(\"ç\", \"c\")\n",
    "                                            .str.replace(\"ù\", \"u\")\n",
    "                                            .str.replace(\"ô\", \"o\"))"
   ]
  },
  {
   "cell_type": "code",
   "execution_count": 73,
   "metadata": {},
   "outputs": [],
   "source": [
    "df_rep_pm[\"prenoms_cor\"] = df_rep_pm[\"prenoms_cor\"].str.strip()"
   ]
  },
  {
   "cell_type": "code",
   "execution_count": 74,
   "metadata": {},
   "outputs": [
    {
     "data": {
      "text/plain": [
       "0                    gerard\n",
       "1                   jacques\n",
       "2                    regina\n",
       "3    bertrand heinrich rene\n",
       "4      nicolas arnold denis\n",
       "Name: prenoms_cor, dtype: object"
      ]
     },
     "execution_count": 74,
     "metadata": {},
     "output_type": "execute_result"
    }
   ],
   "source": [
    "df_rep_pm[\"prenoms_cor\"].head()"
   ]
  },
  {
   "cell_type": "code",
   "execution_count": 75,
   "metadata": {},
   "outputs": [
    {
     "data": {
      "text/plain": [
       "Index(['sexe', 'datenaiss', 'lieunaiss', 'commnaiss', 'paysnaiss', 'datedeces',\n",
       "       'lieudeces', 'nom', 'prenom', 'annee', 'date_naissance', 'nom_cor'],\n",
       "      dtype='object')"
      ]
     },
     "execution_count": 75,
     "metadata": {},
     "output_type": "execute_result"
    }
   ],
   "source": [
    "deces.columns"
   ]
  },
  {
   "cell_type": "code",
   "execution_count": 83,
   "metadata": {},
   "outputs": [],
   "source": [
    "test = deces.duplicated(subset=[\"prenom\", \"nom_cor\", \"date_naissance\", \"commnaiss\"])"
   ]
  },
  {
   "cell_type": "code",
   "execution_count": 84,
   "metadata": {},
   "outputs": [
    {
     "data": {
      "text/plain": [
       "0"
      ]
     },
     "execution_count": 84,
     "metadata": {},
     "output_type": "execute_result"
    }
   ],
   "source": [
    "test.sum() # 815"
   ]
  },
  {
   "cell_type": "code",
   "execution_count": 81,
   "metadata": {},
   "outputs": [],
   "source": [
    "deces = deces.drop_duplicates(subset=[\"prenom\", \"nom_cor\", \"date_naissance\", \"commnaiss\"])"
   ]
  },
  {
   "cell_type": "code",
   "execution_count": 82,
   "metadata": {},
   "outputs": [
    {
     "data": {
      "text/plain": [
       "(3812318, 12)"
      ]
     },
     "execution_count": 82,
     "metadata": {},
     "output_type": "execute_result"
    }
   ],
   "source": [
    "deces.shape # 3812318"
   ]
  },
  {
   "cell_type": "code",
   "execution_count": 86,
   "metadata": {},
   "outputs": [
    {
     "data": {
      "text/plain": [
       "Index(['code_greffe', 'siren', 'denomination', 'forme_juridique', 'qualite',\n",
       "       'nom_patronymique', 'nom_usage', 'prenoms', 'type', 'date_naissance',\n",
       "       'ville_naissance', 'adresse_ligne1', 'adresse_ligne2', 'adresse_ligne3',\n",
       "       'code_postal', 'ville', 'code_commune', 'pays', 'id_representant',\n",
       "       'nom_patronymique_cor', 'qualite_cor', 'denomination_cor', 'commune',\n",
       "       'code_departement', 'code_commune_insee', 'code_commune_cor',\n",
       "       'adresse_ligne1_cor', 'adresse_ligne2_cor', 'adresse_ligne3_cor',\n",
       "       'qualite_simplifie', 'commune_nais', 'code_commune_nais',\n",
       "       'nom_usage_cor', 'prenoms_cor'],\n",
       "      dtype='object')"
      ]
     },
     "execution_count": 86,
     "metadata": {},
     "output_type": "execute_result"
    }
   ],
   "source": [
    "df_rep_pm.columns"
   ]
  },
  {
   "cell_type": "code",
   "execution_count": 87,
   "metadata": {},
   "outputs": [],
   "source": [
    "deces = deces.rename({\"lieunaiss\" : \"code_commune_nais\", \"nom_cor\" : \"nom_usage_cor\", \"prenom\": \"prenoms_cor\"}, axis=1)"
   ]
  },
  {
   "cell_type": "code",
   "execution_count": 92,
   "metadata": {},
   "outputs": [],
   "source": [
    "df_rep_pm.loc[(df_rep_pm[\"nom_patronymique_cor\"].isna() == False) & (df_rep_pm[\"nom_usage_cor\"].isna()), 'nom_usage_cor'] = \\\n",
    "    df_rep_pm.loc[(df_rep_pm[\"nom_patronymique_cor\"].isna() == False) & (df_rep_pm[\"nom_usage_cor\"].isna()), 'nom_patronymique_cor'] "
   ]
  },
  {
   "cell_type": "code",
   "execution_count": 102,
   "metadata": {},
   "outputs": [
    {
     "data": {
      "text/plain": [
       "0         SAINTE-JULIE\n",
       "1      NOEUX-LES-MINES\n",
       "2           MONTBRISON\n",
       "3    AMBERIEU-EN-BUGEY\n",
       "4    AMBERIEU-EN-BUGEY\n",
       "Name: commnaiss, dtype: object"
      ]
     },
     "execution_count": 102,
     "metadata": {},
     "output_type": "execute_result"
    }
   ],
   "source": [
    "deces[\"commnaiss\"].head()"
   ]
  },
  {
   "cell_type": "code",
   "execution_count": 103,
   "metadata": {},
   "outputs": [],
   "source": [
    "deces[\"commune_nais\"] = deces[\"commnaiss\"].str.lower()"
   ]
  },
  {
   "cell_type": "code",
   "execution_count": 104,
   "metadata": {},
   "outputs": [
    {
     "data": {
      "text/plain": [
       "paris 14e  arrondissement    46888\n",
       "marseille                    44224\n",
       "departement d'oran           23622\n",
       "paris 15e  arrondissement    21915\n",
       "paris 10e  arrondissement    21203\n",
       "                             ...  \n",
       "magasfok                         1\n",
       "passos s juliao - braga          1\n",
       "coronado santo tirso             1\n",
       "campia turzii, cluj              1\n",
       "issaiden                         1\n",
       "Name: commune_nais, Length: 157119, dtype: int64"
      ]
     },
     "execution_count": 104,
     "metadata": {},
     "output_type": "execute_result"
    }
   ],
   "source": [
    "deces[\"commune_nais\"].value_counts()"
   ]
  },
  {
   "cell_type": "code",
   "execution_count": 105,
   "metadata": {},
   "outputs": [
    {
     "data": {
      "text/plain": [
       "3504"
      ]
     },
     "execution_count": 105,
     "metadata": {},
     "output_type": "execute_result"
    }
   ],
   "source": [
    "deces[\"commune_nais\"].isna().sum() # 3504"
   ]
  },
  {
   "cell_type": "code",
   "execution_count": 106,
   "metadata": {},
   "outputs": [
    {
     "name": "stderr",
     "output_type": "stream",
     "text": [
      "/tmp/ipykernel_3684/55226059.py:2: FutureWarning: The default value of regex will change from True to False in a future version.\n",
      "  deces[\"commune_nais\"] = deces[\"commune_nais\"].str.replace(re0, \"\")\n"
     ]
    }
   ],
   "source": [
    "re0 = \"([0-9]{1,2}\\s+arrondissement|[0-9]{1,2}e\\s+arrondissement|[0-9]{1,2}eme\\s+arrondissement)\"\n",
    "deces[\"commune_nais\"] = deces[\"commune_nais\"].str.replace(re0, \"\")"
   ]
  },
  {
   "cell_type": "code",
   "execution_count": 107,
   "metadata": {},
   "outputs": [
    {
     "data": {
      "text/plain": [
       "paris                 210786\n",
       "marseille              44224\n",
       "lyon                   42249\n",
       "departement d'oran     23622\n",
       "lille                  20898\n",
       "                       ...  \n",
       "east challow               1\n",
       "nova lima (mines)          1\n",
       "moerbeke-waas              1\n",
       "cagnon                     1\n",
       "issaiden                   1\n",
       "Name: commune_nais, Length: 157064, dtype: int64"
      ]
     },
     "execution_count": 107,
     "metadata": {},
     "output_type": "execute_result"
    }
   ],
   "source": [
    "deces[\"commune_nais\"].value_counts()"
   ]
  },
  {
   "cell_type": "code",
   "execution_count": 108,
   "metadata": {},
   "outputs": [
    {
     "data": {
      "text/plain": [
       "paris               468617\n",
       "lyon                157761\n",
       "marseille           140425\n",
       "toulouse             88219\n",
       "nantes               67349\n",
       "                     ...  \n",
       "yukarikale               1\n",
       "ortavoy                  1\n",
       "findiksuyu               1\n",
       "dezfool                  1\n",
       "besancon - doubs         1\n",
       "Name: commune_nais, Length: 238275, dtype: int64"
      ]
     },
     "execution_count": 108,
     "metadata": {},
     "output_type": "execute_result"
    }
   ],
   "source": [
    "df_rep_pm[\"commune_nais\"].value_counts()"
   ]
  },
  {
   "cell_type": "code",
   "execution_count": 93,
   "metadata": {},
   "outputs": [
    {
     "data": {
      "text/plain": [
       "0      vatin\n",
       "1      vatin\n",
       "2    jordens\n",
       "3      vatin\n",
       "4     benoit\n",
       "Name: nom_patronymique_cor, dtype: object"
      ]
     },
     "execution_count": 93,
     "metadata": {},
     "output_type": "execute_result"
    }
   ],
   "source": [
    "df_rep_pm[\"nom_patronymique_cor\"].head()"
   ]
  },
  {
   "cell_type": "code",
   "execution_count": 110,
   "metadata": {},
   "outputs": [
    {
     "data": {
      "text/plain": [
       "Index(['sexe', 'datenaiss', 'code_commune_nais', 'commnaiss', 'paysnaiss',\n",
       "       'datedeces', 'lieudeces', 'nom', 'prenoms_cor', 'annee',\n",
       "       'date_naissance', 'nom_usage_cor', 'commune_nais'],\n",
       "      dtype='object')"
      ]
     },
     "execution_count": 110,
     "metadata": {},
     "output_type": "execute_result"
    }
   ],
   "source": [
    "deces.columns"
   ]
  },
  {
   "cell_type": "code",
   "execution_count": 111,
   "metadata": {},
   "outputs": [],
   "source": [
    "test = deces.duplicated(subset=[\"prenoms_cor\", \"nom_usage_cor\", \"date_naissance\", \"commune_nais\"])"
   ]
  },
  {
   "cell_type": "code",
   "execution_count": 112,
   "metadata": {},
   "outputs": [
    {
     "data": {
      "text/plain": [
       "0"
      ]
     },
     "execution_count": 112,
     "metadata": {},
     "output_type": "execute_result"
    }
   ],
   "source": [
    "test.sum()"
   ]
  },
  {
   "cell_type": "code",
   "execution_count": 113,
   "metadata": {},
   "outputs": [],
   "source": [
    "test = pd.merge(df_rep_pm, deces, on=[\"date_naissance\", \"commune_nais\", \"nom_usage_cor\", \"prenoms_cor\"], how=\"left\")"
   ]
  },
  {
   "cell_type": "code",
   "execution_count": 114,
   "metadata": {},
   "outputs": [
    {
     "data": {
      "text/plain": [
       "(7384566, 43)"
      ]
     },
     "execution_count": 114,
     "metadata": {},
     "output_type": "execute_result"
    }
   ],
   "source": [
    "test.shape #7384566"
   ]
  },
  {
   "cell_type": "code",
   "execution_count": 96,
   "metadata": {},
   "outputs": [
    {
     "data": {
      "text/plain": [
       "(7384566, 34)"
      ]
     },
     "execution_count": 96,
     "metadata": {},
     "output_type": "execute_result"
    }
   ],
   "source": [
    "df_rep_pm.shape"
   ]
  },
  {
   "cell_type": "code",
   "execution_count": 115,
   "metadata": {},
   "outputs": [
    {
     "data": {
      "text/html": [
       "<div>\n",
       "<style scoped>\n",
       "    .dataframe tbody tr th:only-of-type {\n",
       "        vertical-align: middle;\n",
       "    }\n",
       "\n",
       "    .dataframe tbody tr th {\n",
       "        vertical-align: top;\n",
       "    }\n",
       "\n",
       "    .dataframe thead th {\n",
       "        text-align: right;\n",
       "    }\n",
       "</style>\n",
       "<table border=\"1\" class=\"dataframe\">\n",
       "  <thead>\n",
       "    <tr style=\"text-align: right;\">\n",
       "      <th></th>\n",
       "      <th>code_greffe</th>\n",
       "      <th>siren</th>\n",
       "      <th>denomination</th>\n",
       "      <th>forme_juridique</th>\n",
       "      <th>qualite</th>\n",
       "      <th>nom_patronymique</th>\n",
       "      <th>nom_usage</th>\n",
       "      <th>prenoms</th>\n",
       "      <th>type</th>\n",
       "      <th>date_naissance</th>\n",
       "      <th>...</th>\n",
       "      <th>prenoms_cor</th>\n",
       "      <th>sexe</th>\n",
       "      <th>datenaiss</th>\n",
       "      <th>code_commune_nais_y</th>\n",
       "      <th>commnaiss</th>\n",
       "      <th>paysnaiss</th>\n",
       "      <th>datedeces</th>\n",
       "      <th>lieudeces</th>\n",
       "      <th>nom</th>\n",
       "      <th>annee</th>\n",
       "    </tr>\n",
       "  </thead>\n",
       "  <tbody>\n",
       "    <tr>\n",
       "      <th>0</th>\n",
       "      <td>101</td>\n",
       "      <td>26380212</td>\n",
       "      <td>SOCIETE IMMOBILIERE FINANCIERE D ETUDES ET DE ...</td>\n",
       "      <td>Société par actions simplifiée</td>\n",
       "      <td>Président</td>\n",
       "      <td>VATIN</td>\n",
       "      <td>NaN</td>\n",
       "      <td>Gerard</td>\n",
       "      <td>P.Physique</td>\n",
       "      <td>1947-10-07</td>\n",
       "      <td>...</td>\n",
       "      <td>gerard</td>\n",
       "      <td>NaN</td>\n",
       "      <td>NaN</td>\n",
       "      <td>NaN</td>\n",
       "      <td>NaN</td>\n",
       "      <td>NaN</td>\n",
       "      <td>NaN</td>\n",
       "      <td>NaN</td>\n",
       "      <td>NaN</td>\n",
       "      <td>NaN</td>\n",
       "    </tr>\n",
       "    <tr>\n",
       "      <th>1</th>\n",
       "      <td>101</td>\n",
       "      <td>26380212</td>\n",
       "      <td>SOCIETE IMMOBILIERE FINANCIERE D ETUDES ET DE ...</td>\n",
       "      <td>Société par actions simplifiée</td>\n",
       "      <td>Directeur général</td>\n",
       "      <td>VATIN</td>\n",
       "      <td>NaN</td>\n",
       "      <td>Jacques</td>\n",
       "      <td>P.Physique</td>\n",
       "      <td>1930-04-03</td>\n",
       "      <td>...</td>\n",
       "      <td>jacques</td>\n",
       "      <td>NaN</td>\n",
       "      <td>NaN</td>\n",
       "      <td>NaN</td>\n",
       "      <td>NaN</td>\n",
       "      <td>NaN</td>\n",
       "      <td>NaN</td>\n",
       "      <td>NaN</td>\n",
       "      <td>NaN</td>\n",
       "      <td>NaN</td>\n",
       "    </tr>\n",
       "    <tr>\n",
       "      <th>2</th>\n",
       "      <td>101</td>\n",
       "      <td>26380212</td>\n",
       "      <td>SOCIETE IMMOBILIERE FINANCIERE D ETUDES ET DE ...</td>\n",
       "      <td>Société par actions simplifiée</td>\n",
       "      <td>Directeur général</td>\n",
       "      <td>JORDENS</td>\n",
       "      <td>VATIN</td>\n",
       "      <td>Regina</td>\n",
       "      <td>P.Physique</td>\n",
       "      <td>1948-08-07</td>\n",
       "      <td>...</td>\n",
       "      <td>regina</td>\n",
       "      <td>NaN</td>\n",
       "      <td>NaN</td>\n",
       "      <td>NaN</td>\n",
       "      <td>NaN</td>\n",
       "      <td>NaN</td>\n",
       "      <td>NaN</td>\n",
       "      <td>NaN</td>\n",
       "      <td>NaN</td>\n",
       "      <td>NaN</td>\n",
       "    </tr>\n",
       "    <tr>\n",
       "      <th>3</th>\n",
       "      <td>101</td>\n",
       "      <td>26380212</td>\n",
       "      <td>SOCIETE IMMOBILIERE FINANCIERE D ETUDES ET DE ...</td>\n",
       "      <td>Société par actions simplifiée</td>\n",
       "      <td>Directeur général</td>\n",
       "      <td>VATIN</td>\n",
       "      <td>VATIN-CHAIX</td>\n",
       "      <td>Bertrand Heinrich René</td>\n",
       "      <td>P.Physique</td>\n",
       "      <td>1977-06-09</td>\n",
       "      <td>...</td>\n",
       "      <td>bertrand heinrich rene</td>\n",
       "      <td>NaN</td>\n",
       "      <td>NaN</td>\n",
       "      <td>NaN</td>\n",
       "      <td>NaN</td>\n",
       "      <td>NaN</td>\n",
       "      <td>NaN</td>\n",
       "      <td>NaN</td>\n",
       "      <td>NaN</td>\n",
       "      <td>NaN</td>\n",
       "    </tr>\n",
       "    <tr>\n",
       "      <th>4</th>\n",
       "      <td>101</td>\n",
       "      <td>61500740</td>\n",
       "      <td>SOCIETE J.F.B.</td>\n",
       "      <td>Société par actions simplifiée</td>\n",
       "      <td>Président</td>\n",
       "      <td>BENOIT</td>\n",
       "      <td>NaN</td>\n",
       "      <td>Nicolas Arnold Denis</td>\n",
       "      <td>P.Physique</td>\n",
       "      <td>1974-05-15</td>\n",
       "      <td>...</td>\n",
       "      <td>nicolas arnold denis</td>\n",
       "      <td>NaN</td>\n",
       "      <td>NaN</td>\n",
       "      <td>NaN</td>\n",
       "      <td>NaN</td>\n",
       "      <td>NaN</td>\n",
       "      <td>NaN</td>\n",
       "      <td>NaN</td>\n",
       "      <td>NaN</td>\n",
       "      <td>NaN</td>\n",
       "    </tr>\n",
       "  </tbody>\n",
       "</table>\n",
       "<p>5 rows × 43 columns</p>\n",
       "</div>"
      ],
      "text/plain": [
       "   code_greffe     siren                                       denomination  \\\n",
       "0          101  26380212  SOCIETE IMMOBILIERE FINANCIERE D ETUDES ET DE ...   \n",
       "1          101  26380212  SOCIETE IMMOBILIERE FINANCIERE D ETUDES ET DE ...   \n",
       "2          101  26380212  SOCIETE IMMOBILIERE FINANCIERE D ETUDES ET DE ...   \n",
       "3          101  26380212  SOCIETE IMMOBILIERE FINANCIERE D ETUDES ET DE ...   \n",
       "4          101  61500740                                     SOCIETE J.F.B.   \n",
       "\n",
       "                  forme_juridique            qualite nom_patronymique  \\\n",
       "0  Société par actions simplifiée          Président            VATIN   \n",
       "1  Société par actions simplifiée  Directeur général            VATIN   \n",
       "2  Société par actions simplifiée  Directeur général          JORDENS   \n",
       "3  Société par actions simplifiée  Directeur général            VATIN   \n",
       "4  Société par actions simplifiée          Président           BENOIT   \n",
       "\n",
       "     nom_usage                 prenoms        type date_naissance  ...  \\\n",
       "0          NaN                  Gerard  P.Physique     1947-10-07  ...   \n",
       "1          NaN                 Jacques  P.Physique     1930-04-03  ...   \n",
       "2        VATIN                  Regina  P.Physique     1948-08-07  ...   \n",
       "3  VATIN-CHAIX  Bertrand Heinrich René  P.Physique     1977-06-09  ...   \n",
       "4          NaN    Nicolas Arnold Denis  P.Physique     1974-05-15  ...   \n",
       "\n",
       "              prenoms_cor sexe datenaiss code_commune_nais_y commnaiss  \\\n",
       "0                  gerard  NaN       NaN                 NaN       NaN   \n",
       "1                 jacques  NaN       NaN                 NaN       NaN   \n",
       "2                  regina  NaN       NaN                 NaN       NaN   \n",
       "3  bertrand heinrich rene  NaN       NaN                 NaN       NaN   \n",
       "4    nicolas arnold denis  NaN       NaN                 NaN       NaN   \n",
       "\n",
       "  paysnaiss datedeces lieudeces  nom annee  \n",
       "0       NaN       NaN       NaN  NaN   NaN  \n",
       "1       NaN       NaN       NaN  NaN   NaN  \n",
       "2       NaN       NaN       NaN  NaN   NaN  \n",
       "3       NaN       NaN       NaN  NaN   NaN  \n",
       "4       NaN       NaN       NaN  NaN   NaN  \n",
       "\n",
       "[5 rows x 43 columns]"
      ]
     },
     "execution_count": 115,
     "metadata": {},
     "output_type": "execute_result"
    }
   ],
   "source": [
    "test.head()"
   ]
  },
  {
   "cell_type": "code",
   "execution_count": 98,
   "metadata": {},
   "outputs": [
    {
     "data": {
      "text/plain": [
       "7384472"
      ]
     },
     "execution_count": 98,
     "metadata": {},
     "output_type": "execute_result"
    }
   ],
   "source": [
    "test[\"datedeces\"].isna().sum()  # 7384472"
   ]
  },
  {
   "cell_type": "code",
   "execution_count": 116,
   "metadata": {},
   "outputs": [
    {
     "ename": "Error",
     "evalue": "Canceled future for execute_request message before replies were done",
     "output_type": "error",
     "traceback": [
      "Error: Canceled future for execute_request message before replies were done",
      "at t.KernelShellFutureHandler.dispose (/home/coder/.local/share/code-server/extensions/ms-toolsai.jupyter-2022.3.1000901801/out/extension.js:2:1204175)",
      "at /home/coder/.local/share/code-server/extensions/ms-toolsai.jupyter-2022.3.1000901801/out/extension.js:2:1223227",
      "at Map.forEach (<anonymous>)",
      "at v._clearKernelState (/home/coder/.local/share/code-server/extensions/ms-toolsai.jupyter-2022.3.1000901801/out/extension.js:2:1223212)",
      "at v.dispose (/home/coder/.local/share/code-server/extensions/ms-toolsai.jupyter-2022.3.1000901801/out/extension.js:2:1216694)",
      "at /home/coder/.local/share/code-server/extensions/ms-toolsai.jupyter-2022.3.1000901801/out/extension.js:2:533674",
      "at t.swallowExceptions (/home/coder/.local/share/code-server/extensions/ms-toolsai.jupyter-2022.3.1000901801/out/extension.js:2:913059)",
      "at dispose (/home/coder/.local/share/code-server/extensions/ms-toolsai.jupyter-2022.3.1000901801/out/extension.js:2:533652)",
      "at t.RawSession.dispose (/home/coder/.local/share/code-server/extensions/ms-toolsai.jupyter-2022.3.1000901801/out/extension.js:2:537330)",
      "at runMicrotasks (<anonymous>)",
      "at processTicksAndRejections (node:internal/process/task_queues:96:5)"
     ]
    }
   ],
   "source": [
    "test.loc[test[\"datedeces\"].isna() == False,:].head()"
   ]
  },
  {
   "cell_type": "code",
   "execution_count": 100,
   "metadata": {},
   "outputs": [
    {
     "data": {
      "text/plain": [
       "(94, 42)"
      ]
     },
     "execution_count": 100,
     "metadata": {},
     "output_type": "execute_result"
    }
   ],
   "source": [
    "test.loc[test[\"datedeces\"].isna() == False,:].shape # 94"
   ]
  },
  {
   "cell_type": "code",
   "execution_count": null,
   "metadata": {},
   "outputs": [],
   "source": []
  },
  {
   "cell_type": "code",
   "execution_count": null,
   "metadata": {},
   "outputs": [],
   "source": []
  }
 ],
 "metadata": {
  "interpreter": {
   "hash": "ed5946f2a0d3f5e934efd92075c2a89b2cb5130d0efd6e4509a568bedf48ed26"
  },
  "kernelspec": {
   "display_name": "Python 3.10.4 ('basesspcloud')",
   "language": "python",
   "name": "python3"
  },
  "language_info": {
   "codemirror_mode": {
    "name": "ipython",
    "version": 3
   },
   "file_extension": ".py",
   "mimetype": "text/x-python",
   "name": "python",
   "nbconvert_exporter": "python",
   "pygments_lexer": "ipython3",
   "version": "3.10.4"
  },
  "orig_nbformat": 4
 },
 "nbformat": 4,
 "nbformat_minor": 2
}
