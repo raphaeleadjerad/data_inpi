{
 "cells": [
  {
   "cell_type": "markdown",
   "metadata": {},
   "source": [
    "1/ Importation des données TC et TITMC \n",
    "\n",
    "2/ Import et traitement du fichier des prénoms \n",
    "\n",
    "3/ Ajouter le genre des personnes \n",
    "\n",
    "4/ Codification des adresses \n",
    "\n",
    "5/ Ajout et traitement du code commune\n",
    "\n",
    "6/ Retraiter et simplifier les qualités "
   ]
  },
  {
   "cell_type": "code",
   "execution_count": 1,
   "metadata": {},
   "outputs": [],
   "source": [
    "# Lecture de la base inpi\n",
    "import os\n",
    "import s3fs\n",
    "import pandas as pd\n",
    "# Create filesystem object\n",
    "S3_ENDPOINT_URL = \"https://\" + os.environ[\"AWS_S3_ENDPOINT\"]\n",
    "fs = s3fs.S3FileSystem(client_kwargs={'endpoint_url': S3_ENDPOINT_URL})\n",
    "BUCKET = \"radjerad/inpi\"\n",
    "FILE_KEY_S3 = \"data_rep_pm_2017.csv\"\n",
    "FILE_PATH_S3 = BUCKET + \"/\" + FILE_KEY_S3\n",
    "\n",
    "with fs.open(FILE_PATH_S3, mode=\"rb\") as file_in:\n",
    "    df_rep_pm = pd.read_csv(file_in, sep=\";\", encoding=\"utf-8\")"
   ]
  },
  {
   "cell_type": "code",
   "execution_count": 2,
   "metadata": {},
   "outputs": [
    {
     "data": {
      "text/plain": [
       "(9751833, 73)"
      ]
     },
     "execution_count": 2,
     "metadata": {},
     "output_type": "execute_result"
    }
   ],
   "source": [
    "df_rep_pm.shape # 9 751 833"
   ]
  },
  {
   "cell_type": "code",
   "execution_count": 3,
   "metadata": {},
   "outputs": [],
   "source": [
    "df_rep_pm = df_rep_pm.rename({\"code greffe\": \"code_greffe\"}, axis=1)"
   ]
  },
  {
   "cell_type": "code",
   "execution_count": 4,
   "metadata": {},
   "outputs": [],
   "source": [
    "df_rep_pm = df_rep_pm.loc[:, [\"code_greffe\", \"siren\", \"denomination\", \"forme_juridique_x\", \"qualité\",\n",
    "\"nom_patronymique\", \"nom_usage\", \"prénoms\", \"type\", \"date_naissance\", \"ville_naissance\", \"adresse_ligne1\", \"adresse_ligne2\",\n",
    "\"adresse_ligne3\", \"code_postal\", \"ville\", \"code_commune\", \"pays\", \"id_représentant\"]]"
   ]
  },
  {
   "cell_type": "code",
   "execution_count": 5,
   "metadata": {},
   "outputs": [],
   "source": [
    "df_rep_pm = df_rep_pm.rename({\"forme_juridique_x\": \"forme_juridique\", \"prénoms\": \"prenoms\", \"qualité\": \"qualite\", \"id_représentant\": \"id_representant\"}, axis=1)"
   ]
  },
  {
   "cell_type": "code",
   "execution_count": 6,
   "metadata": {},
   "outputs": [
    {
     "data": {
      "text/html": [
       "<div>\n",
       "<style scoped>\n",
       "    .dataframe tbody tr th:only-of-type {\n",
       "        vertical-align: middle;\n",
       "    }\n",
       "\n",
       "    .dataframe tbody tr th {\n",
       "        vertical-align: top;\n",
       "    }\n",
       "\n",
       "    .dataframe thead th {\n",
       "        text-align: right;\n",
       "    }\n",
       "</style>\n",
       "<table border=\"1\" class=\"dataframe\">\n",
       "  <thead>\n",
       "    <tr style=\"text-align: right;\">\n",
       "      <th></th>\n",
       "      <th>code_greffe</th>\n",
       "      <th>siren</th>\n",
       "      <th>denomination</th>\n",
       "      <th>forme_juridique</th>\n",
       "      <th>qualite</th>\n",
       "      <th>nom_patronymique</th>\n",
       "      <th>nom_usage</th>\n",
       "      <th>prenoms</th>\n",
       "      <th>type</th>\n",
       "      <th>date_naissance</th>\n",
       "      <th>ville_naissance</th>\n",
       "      <th>adresse_ligne1</th>\n",
       "      <th>adresse_ligne2</th>\n",
       "      <th>adresse_ligne3</th>\n",
       "      <th>code_postal</th>\n",
       "      <th>ville</th>\n",
       "      <th>code_commune</th>\n",
       "      <th>pays</th>\n",
       "      <th>id_representant</th>\n",
       "    </tr>\n",
       "  </thead>\n",
       "  <tbody>\n",
       "    <tr>\n",
       "      <th>0</th>\n",
       "      <td>101</td>\n",
       "      <td>15850944</td>\n",
       "      <td>AGIR TECHNOLOGIES</td>\n",
       "      <td>Société par actions simplifiée à associé unique</td>\n",
       "      <td>NaN</td>\n",
       "      <td>NaN</td>\n",
       "      <td>NaN</td>\n",
       "      <td>NaN</td>\n",
       "      <td>NaN</td>\n",
       "      <td>NaN</td>\n",
       "      <td>NaN</td>\n",
       "      <td>NaN</td>\n",
       "      <td>NaN</td>\n",
       "      <td>NaN</td>\n",
       "      <td>NaN</td>\n",
       "      <td>NaN</td>\n",
       "      <td>NaN</td>\n",
       "      <td>NaN</td>\n",
       "      <td>NaN</td>\n",
       "    </tr>\n",
       "    <tr>\n",
       "      <th>1</th>\n",
       "      <td>101</td>\n",
       "      <td>15851793</td>\n",
       "      <td>DORAS</td>\n",
       "      <td>Société anonyme à directoire et conseil de sur...</td>\n",
       "      <td>NaN</td>\n",
       "      <td>NaN</td>\n",
       "      <td>NaN</td>\n",
       "      <td>NaN</td>\n",
       "      <td>NaN</td>\n",
       "      <td>NaN</td>\n",
       "      <td>NaN</td>\n",
       "      <td>NaN</td>\n",
       "      <td>NaN</td>\n",
       "      <td>NaN</td>\n",
       "      <td>NaN</td>\n",
       "      <td>NaN</td>\n",
       "      <td>NaN</td>\n",
       "      <td>NaN</td>\n",
       "      <td>NaN</td>\n",
       "    </tr>\n",
       "    <tr>\n",
       "      <th>2</th>\n",
       "      <td>101</td>\n",
       "      <td>26380212</td>\n",
       "      <td>SOCIETE IMMOBILIERE FINANCIERE D ETUDES ET DE ...</td>\n",
       "      <td>Société par actions simplifiée</td>\n",
       "      <td>Président</td>\n",
       "      <td>VATIN</td>\n",
       "      <td>NaN</td>\n",
       "      <td>Gerard</td>\n",
       "      <td>P.Physique</td>\n",
       "      <td>1947-10-07</td>\n",
       "      <td>79270 Saint-Maixent-L'École 79</td>\n",
       "      <td>NaN</td>\n",
       "      <td>1360 chemin Saint-Roch</td>\n",
       "      <td>NaN</td>\n",
       "      <td>84200.0</td>\n",
       "      <td>Carpentras</td>\n",
       "      <td>84031.0</td>\n",
       "      <td>FRANCE</td>\n",
       "      <td>1.0</td>\n",
       "    </tr>\n",
       "    <tr>\n",
       "      <th>3</th>\n",
       "      <td>101</td>\n",
       "      <td>26380212</td>\n",
       "      <td>SOCIETE IMMOBILIERE FINANCIERE D ETUDES ET DE ...</td>\n",
       "      <td>Société par actions simplifiée</td>\n",
       "      <td>Directeur général</td>\n",
       "      <td>VATIN</td>\n",
       "      <td>NaN</td>\n",
       "      <td>Jacques</td>\n",
       "      <td>P.Physique</td>\n",
       "      <td>1930-04-03</td>\n",
       "      <td>02691 Saint-Quentin 02</td>\n",
       "      <td>NaN</td>\n",
       "      <td>50 rue de la Tour</td>\n",
       "      <td>NaN</td>\n",
       "      <td>75016.0</td>\n",
       "      <td>Paris</td>\n",
       "      <td>NaN</td>\n",
       "      <td>FRANCE</td>\n",
       "      <td>3.0</td>\n",
       "    </tr>\n",
       "    <tr>\n",
       "      <th>4</th>\n",
       "      <td>101</td>\n",
       "      <td>26380212</td>\n",
       "      <td>SOCIETE IMMOBILIERE FINANCIERE D ETUDES ET DE ...</td>\n",
       "      <td>Société par actions simplifiée</td>\n",
       "      <td>Directeur général</td>\n",
       "      <td>JORDENS</td>\n",
       "      <td>VATIN</td>\n",
       "      <td>Regina</td>\n",
       "      <td>P.Physique</td>\n",
       "      <td>1948-08-07</td>\n",
       "      <td>Allemagne</td>\n",
       "      <td>NaN</td>\n",
       "      <td>1360 chemin Saint-Roch</td>\n",
       "      <td>NaN</td>\n",
       "      <td>84200.0</td>\n",
       "      <td>Carpentras</td>\n",
       "      <td>84031.0</td>\n",
       "      <td>FRANCE</td>\n",
       "      <td>4.0</td>\n",
       "    </tr>\n",
       "    <tr>\n",
       "      <th>5</th>\n",
       "      <td>101</td>\n",
       "      <td>26380212</td>\n",
       "      <td>SOCIETE IMMOBILIERE FINANCIERE D ETUDES ET DE ...</td>\n",
       "      <td>Société par actions simplifiée</td>\n",
       "      <td>Directeur général</td>\n",
       "      <td>VATIN</td>\n",
       "      <td>VATIN-CHAIX</td>\n",
       "      <td>Bertrand Heinrich René</td>\n",
       "      <td>P.Physique</td>\n",
       "      <td>1977-06-09</td>\n",
       "      <td>Chêne bougeries</td>\n",
       "      <td>NaN</td>\n",
       "      <td>63 rue Virgile</td>\n",
       "      <td>NaN</td>\n",
       "      <td>67200.0</td>\n",
       "      <td>Strasbourg</td>\n",
       "      <td>67482.0</td>\n",
       "      <td>FRANCE</td>\n",
       "      <td>11.0</td>\n",
       "    </tr>\n",
       "    <tr>\n",
       "      <th>6</th>\n",
       "      <td>101</td>\n",
       "      <td>54500335</td>\n",
       "      <td>SOCIETE NATIONALE DES ETABLISSEMENTS PIOT PNEU</td>\n",
       "      <td>Société anonyme à directoire et conseil de sur...</td>\n",
       "      <td>NaN</td>\n",
       "      <td>NaN</td>\n",
       "      <td>NaN</td>\n",
       "      <td>NaN</td>\n",
       "      <td>NaN</td>\n",
       "      <td>NaN</td>\n",
       "      <td>NaN</td>\n",
       "      <td>NaN</td>\n",
       "      <td>NaN</td>\n",
       "      <td>NaN</td>\n",
       "      <td>NaN</td>\n",
       "      <td>NaN</td>\n",
       "      <td>NaN</td>\n",
       "      <td>NaN</td>\n",
       "      <td>NaN</td>\n",
       "    </tr>\n",
       "    <tr>\n",
       "      <th>7</th>\n",
       "      <td>101</td>\n",
       "      <td>54800958</td>\n",
       "      <td>RICHARDSON</td>\n",
       "      <td>Société par actions simplifiée</td>\n",
       "      <td>NaN</td>\n",
       "      <td>NaN</td>\n",
       "      <td>NaN</td>\n",
       "      <td>NaN</td>\n",
       "      <td>NaN</td>\n",
       "      <td>NaN</td>\n",
       "      <td>NaN</td>\n",
       "      <td>NaN</td>\n",
       "      <td>NaN</td>\n",
       "      <td>NaN</td>\n",
       "      <td>NaN</td>\n",
       "      <td>NaN</td>\n",
       "      <td>NaN</td>\n",
       "      <td>NaN</td>\n",
       "      <td>NaN</td>\n",
       "    </tr>\n",
       "    <tr>\n",
       "      <th>8</th>\n",
       "      <td>101</td>\n",
       "      <td>56502248</td>\n",
       "      <td>SAMSE</td>\n",
       "      <td>Société anonyme à directoire et conseil de sur...</td>\n",
       "      <td>NaN</td>\n",
       "      <td>NaN</td>\n",
       "      <td>NaN</td>\n",
       "      <td>NaN</td>\n",
       "      <td>NaN</td>\n",
       "      <td>NaN</td>\n",
       "      <td>NaN</td>\n",
       "      <td>NaN</td>\n",
       "      <td>NaN</td>\n",
       "      <td>NaN</td>\n",
       "      <td>NaN</td>\n",
       "      <td>NaN</td>\n",
       "      <td>NaN</td>\n",
       "      <td>NaN</td>\n",
       "      <td>NaN</td>\n",
       "    </tr>\n",
       "    <tr>\n",
       "      <th>9</th>\n",
       "      <td>101</td>\n",
       "      <td>56503097</td>\n",
       "      <td>BMRA</td>\n",
       "      <td>Société par actions simplifiée</td>\n",
       "      <td>NaN</td>\n",
       "      <td>NaN</td>\n",
       "      <td>NaN</td>\n",
       "      <td>NaN</td>\n",
       "      <td>NaN</td>\n",
       "      <td>NaN</td>\n",
       "      <td>NaN</td>\n",
       "      <td>NaN</td>\n",
       "      <td>NaN</td>\n",
       "      <td>NaN</td>\n",
       "      <td>NaN</td>\n",
       "      <td>NaN</td>\n",
       "      <td>NaN</td>\n",
       "      <td>NaN</td>\n",
       "      <td>NaN</td>\n",
       "    </tr>\n",
       "  </tbody>\n",
       "</table>\n",
       "</div>"
      ],
      "text/plain": [
       "   code_greffe     siren                                       denomination  \\\n",
       "0          101  15850944                                  AGIR TECHNOLOGIES   \n",
       "1          101  15851793                                              DORAS   \n",
       "2          101  26380212  SOCIETE IMMOBILIERE FINANCIERE D ETUDES ET DE ...   \n",
       "3          101  26380212  SOCIETE IMMOBILIERE FINANCIERE D ETUDES ET DE ...   \n",
       "4          101  26380212  SOCIETE IMMOBILIERE FINANCIERE D ETUDES ET DE ...   \n",
       "5          101  26380212  SOCIETE IMMOBILIERE FINANCIERE D ETUDES ET DE ...   \n",
       "6          101  54500335     SOCIETE NATIONALE DES ETABLISSEMENTS PIOT PNEU   \n",
       "7          101  54800958                                         RICHARDSON   \n",
       "8          101  56502248                                              SAMSE   \n",
       "9          101  56503097                                               BMRA   \n",
       "\n",
       "                                     forme_juridique            qualite  \\\n",
       "0    Société par actions simplifiée à associé unique                NaN   \n",
       "1  Société anonyme à directoire et conseil de sur...                NaN   \n",
       "2                     Société par actions simplifiée          Président   \n",
       "3                     Société par actions simplifiée  Directeur général   \n",
       "4                     Société par actions simplifiée  Directeur général   \n",
       "5                     Société par actions simplifiée  Directeur général   \n",
       "6  Société anonyme à directoire et conseil de sur...                NaN   \n",
       "7                     Société par actions simplifiée                NaN   \n",
       "8  Société anonyme à directoire et conseil de sur...                NaN   \n",
       "9                     Société par actions simplifiée                NaN   \n",
       "\n",
       "  nom_patronymique    nom_usage                 prenoms        type  \\\n",
       "0              NaN          NaN                     NaN         NaN   \n",
       "1              NaN          NaN                     NaN         NaN   \n",
       "2            VATIN          NaN                  Gerard  P.Physique   \n",
       "3            VATIN          NaN                 Jacques  P.Physique   \n",
       "4          JORDENS        VATIN                  Regina  P.Physique   \n",
       "5            VATIN  VATIN-CHAIX  Bertrand Heinrich René  P.Physique   \n",
       "6              NaN          NaN                     NaN         NaN   \n",
       "7              NaN          NaN                     NaN         NaN   \n",
       "8              NaN          NaN                     NaN         NaN   \n",
       "9              NaN          NaN                     NaN         NaN   \n",
       "\n",
       "  date_naissance                  ville_naissance adresse_ligne1  \\\n",
       "0            NaN                              NaN            NaN   \n",
       "1            NaN                              NaN            NaN   \n",
       "2     1947-10-07  79270 Saint-Maixent-L'École 79             NaN   \n",
       "3     1930-04-03          02691 Saint-Quentin 02             NaN   \n",
       "4     1948-08-07                       Allemagne             NaN   \n",
       "5     1977-06-09                 Chêne bougeries             NaN   \n",
       "6            NaN                              NaN            NaN   \n",
       "7            NaN                              NaN            NaN   \n",
       "8            NaN                              NaN            NaN   \n",
       "9            NaN                              NaN            NaN   \n",
       "\n",
       "           adresse_ligne2 adresse_ligne3 code_postal       ville code_commune  \\\n",
       "0                     NaN            NaN         NaN         NaN          NaN   \n",
       "1                     NaN            NaN         NaN         NaN          NaN   \n",
       "2  1360 chemin Saint-Roch            NaN     84200.0  Carpentras      84031.0   \n",
       "3       50 rue de la Tour            NaN     75016.0       Paris          NaN   \n",
       "4  1360 chemin Saint-Roch            NaN     84200.0  Carpentras      84031.0   \n",
       "5          63 rue Virgile            NaN     67200.0  Strasbourg      67482.0   \n",
       "6                     NaN            NaN         NaN         NaN          NaN   \n",
       "7                     NaN            NaN         NaN         NaN          NaN   \n",
       "8                     NaN            NaN         NaN         NaN          NaN   \n",
       "9                     NaN            NaN         NaN         NaN          NaN   \n",
       "\n",
       "     pays  id_representant  \n",
       "0     NaN              NaN  \n",
       "1     NaN              NaN  \n",
       "2  FRANCE              1.0  \n",
       "3  FRANCE              3.0  \n",
       "4  FRANCE              4.0  \n",
       "5  FRANCE             11.0  \n",
       "6     NaN              NaN  \n",
       "7     NaN              NaN  \n",
       "8     NaN              NaN  \n",
       "9     NaN              NaN  "
      ]
     },
     "execution_count": 6,
     "metadata": {},
     "output_type": "execute_result"
    }
   ],
   "source": [
    "df_rep_pm.head(10)"
   ]
  },
  {
   "cell_type": "code",
   "execution_count": 7,
   "metadata": {},
   "outputs": [
    {
     "data": {
      "text/plain": [
       "246926"
      ]
     },
     "execution_count": 7,
     "metadata": {},
     "output_type": "execute_result"
    }
   ],
   "source": [
    "df_rep_pm[\"qualite\"].isna().sum() # 246 926"
   ]
  },
  {
   "cell_type": "code",
   "execution_count": 8,
   "metadata": {},
   "outputs": [],
   "source": [
    "# Traitement des cas où le nom et les prénoms sont manquants\n"
   ]
  },
  {
   "cell_type": "code",
   "execution_count": 6,
   "metadata": {},
   "outputs": [],
   "source": [
    "df_rep_pm.loc[df_rep_pm[\"prenoms\"] == \"-\", \"prenoms\"] = \"\""
   ]
  },
  {
   "cell_type": "code",
   "execution_count": 7,
   "metadata": {},
   "outputs": [
    {
     "data": {
      "text/plain": [
       "(4448, 19)"
      ]
     },
     "execution_count": 7,
     "metadata": {},
     "output_type": "execute_result"
    }
   ],
   "source": [
    "df_rep_pm.loc[df_rep_pm[\"prenoms\"] == \"\", :].shape # 4 448"
   ]
  },
  {
   "cell_type": "code",
   "execution_count": 11,
   "metadata": {},
   "outputs": [
    {
     "data": {
      "text/plain": [
       "(4448, 19)"
      ]
     },
     "execution_count": 11,
     "metadata": {},
     "output_type": "execute_result"
    }
   ],
   "source": [
    "df_rep_pm.loc[(df_rep_pm[\"prenoms\"] == \"\") & (df_rep_pm[\"type\"] == \"P.Physique\"), :].shape # 4 448"
   ]
  },
  {
   "cell_type": "code",
   "execution_count": 8,
   "metadata": {},
   "outputs": [
    {
     "name": "stderr",
     "output_type": "stream",
     "text": [
      "/tmp/ipykernel_1341/3266536503.py:2: UserWarning: This pattern is interpreted as a regular expression, and has match groups. To actually get the groups, use str.extract.\n",
      "  df_rep_pm[\"top_civilite\"] = df_rep_pm[\"nom_patronymique\"].str.contains(re1, regex=True)\n"
     ]
    }
   ],
   "source": [
    "re1 = \"(INDIVISION SUCCESSORALE DE M\\.\\s|\\sM\\.\\s|^M\\.\\s|MME\\.\\s|MR\\.\\s|MELLE\\.\\s|MONSIEUR\\.?\\s|MADAME\\.?\\s|MLLE\\.\\s|REPRESENTEE\\sPAR\\sMONSIEUR\\.?\\s|REPRESENTEE\\sPAR\\s)\"\n",
    "df_rep_pm[\"top_civilite\"] = df_rep_pm[\"nom_patronymique\"].str.contains(re1, regex=True)"
   ]
  },
  {
   "cell_type": "code",
   "execution_count": null,
   "metadata": {},
   "outputs": [],
   "source": [
    "df_rep_pm.loc[df_rep_pm[\"top_civilite\"] == True, \"nom_patronymique\"].head()"
   ]
  },
  {
   "cell_type": "code",
   "execution_count": null,
   "metadata": {},
   "outputs": [],
   "source": [
    "#df_rep_pm[\"contenu_civilite\"] = df_rep_pm[\"nom_patronymique\"].str.extract(re1)"
   ]
  },
  {
   "cell_type": "code",
   "execution_count": null,
   "metadata": {},
   "outputs": [],
   "source": [
    "#df_rep_pm.loc[df_rep_pm[\"top_civilite\"] == True, \"contenu_civilite\"].head()"
   ]
  },
  {
   "cell_type": "code",
   "execution_count": 9,
   "metadata": {},
   "outputs": [],
   "source": [
    "df_rep_pm[\"nom_patronymique2\"] = df_rep_pm[\"nom_patronymique\"]"
   ]
  },
  {
   "cell_type": "code",
   "execution_count": 10,
   "metadata": {},
   "outputs": [
    {
     "name": "stderr",
     "output_type": "stream",
     "text": [
      "/tmp/ipykernel_1341/259944700.py:1: FutureWarning: The default value of regex will change from True to False in a future version.\n",
      "  df_rep_pm[\"nom_patronymique2\"] = df_rep_pm[\"nom_patronymique2\"].str.replace(re1,\"\")\n"
     ]
    }
   ],
   "source": [
    "df_rep_pm[\"nom_patronymique2\"] = df_rep_pm[\"nom_patronymique2\"].str.replace(re1,\"\")"
   ]
  },
  {
   "cell_type": "code",
   "execution_count": 15,
   "metadata": {},
   "outputs": [
    {
     "name": "stdout",
     "output_type": "stream",
     "text": [
      "151606                               DE VILLARDI DE MONTLAUR\n",
      "158708                                 DE LAITRE JEAN PIERRE\n",
      "320046                            C.I.I.M. LAVIGUEUR BERNARD\n",
      "320809    SARL S.A.F. SA GERANTE LABARTHE NEE CALITRO SABINE\n",
      "322994             SARL EURO DELTA IMMOBILIER CULLET CORINNE\n",
      "322995             SARL EURO DELTA IMMOBILIER CULLET CORINNE\n",
      "323752                                     TALAL YOUSUFZAHID\n",
      "331301                                       MARCELLIER RENE\n",
      "331501                                                 PINCE\n",
      "360161                               DURANTI PIERRE FRANCOIS\n",
      "Name: nom_patronymique2, dtype: object\n"
     ]
    }
   ],
   "source": [
    "from pandas import option_context\n",
    "with option_context('display.max_colwidth', 400):\n",
    "    print(df_rep_pm.loc[df_rep_pm[\"top_civilite\"] == True, \"nom_patronymique2\"].head(10))"
   ]
  },
  {
   "cell_type": "code",
   "execution_count": 11,
   "metadata": {},
   "outputs": [
    {
     "name": "stderr",
     "output_type": "stream",
     "text": [
      "/tmp/ipykernel_1341/837695662.py:5: UserWarning: This pattern is interpreted as a regular expression, and has match groups. To actually get the groups, use str.extract.\n",
      "  df_rep_pm[\"top_particule\"] = df_rep_pm[\"nom_patronymique\"].str.contains(particule, regex=True)\n"
     ]
    }
   ],
   "source": [
    "# on repartit les noms et les prénoms dans les bonnes variables\n",
    "# on a modifié un peu le code de l'insee pour enlever les representee par, ici aussi car on va essayer de prendre en compte les particules\n",
    "particule = \"(DU\\s[A-Za-z]+|DE\\sLA\\s[A-Za-z]+|[A-Za-z]+\\sDU\\s[A-Za-z]+|[A-Za-z]+\\sDE\\sLA\\s[A-Za-z]+|DE\\s[A-Za-z]+|[A-Za-z]+\\sDE\\s[A-Za-z]+)\"\n",
    "#particule = \"(DU\\s|DE\\sLA\\s|\\sDU\\s|\\sDE\\sLA\\s|DE\\s|\\sDE\\s)\"\n",
    "df_rep_pm[\"top_particule\"] = df_rep_pm[\"nom_patronymique\"].str.contains(particule, regex=True)"
   ]
  },
  {
   "cell_type": "code",
   "execution_count": null,
   "metadata": {},
   "outputs": [],
   "source": [
    "df_rep_pm.loc[(df_rep_pm[\"prenoms\"] == \"\") | (df_rep_pm[\"prenoms\"].isna()),:].shape # 1093022"
   ]
  },
  {
   "cell_type": "code",
   "execution_count": null,
   "metadata": {},
   "outputs": [],
   "source": [
    "df_rep_pm.loc[(df_rep_pm[\"prenoms\"] == \"\"),:].shape # 4448, mais ce sont tous des cas différents, donc on n'a pas envie de séparer nom et prénoms comme le fait l'insee"
   ]
  },
  {
   "cell_type": "code",
   "execution_count": null,
   "metadata": {},
   "outputs": [],
   "source": [
    "df_rep_pm.loc[(df_rep_pm[\"top_particule\"] == True) & (df_rep_pm[\"prenoms\"] == \"\"), \"nom_patronymique2\"].head(10)"
   ]
  },
  {
   "cell_type": "code",
   "execution_count": null,
   "metadata": {},
   "outputs": [],
   "source": [
    "df_rep_pm.loc[df_rep_pm[\"nom_usage\"].isna(), :].head() # pas d'info parfois quand il y a l'info nom patronymique et prénoms "
   ]
  },
  {
   "cell_type": "code",
   "execution_count": 16,
   "metadata": {},
   "outputs": [
    {
     "data": {
      "text/plain": [
       "Gérant                                  2413218\n",
       "Associé                                 2174834\n",
       "Gérant                                  1112522\n",
       "Associé indéfiniment responsable        1089112\n",
       "gérant                                   633900\n",
       "                                         ...   \n",
       "Adhérent                                      1\n",
       "Directeur technique et administratif          1\n",
       "Comptable                                     1\n",
       "Contrôleur des comptes adjoint                1\n",
       "Mandataire général                            1\n",
       "Name: qualite, Length: 371, dtype: int64"
      ]
     },
     "execution_count": 16,
     "metadata": {},
     "output_type": "execute_result"
    }
   ],
   "source": [
    "# nettoyage de la variable qualite \n",
    "df_rep_pm[\"qualite\"].value_counts()"
   ]
  },
  {
   "cell_type": "code",
   "execution_count": 12,
   "metadata": {},
   "outputs": [],
   "source": [
    "df_rep_pm[\"qualite2\"] = df_rep_pm[\"qualite\"]"
   ]
  },
  {
   "cell_type": "code",
   "execution_count": 13,
   "metadata": {},
   "outputs": [],
   "source": [
    "df_rep_pm[\"qualite2\"] = df_rep_pm[\"qualite2\"].str.lower()\n",
    "df_rep_pm[\"qualite2\"] = df_rep_pm[\"qualite2\"].str.strip()"
   ]
  },
  {
   "cell_type": "code",
   "execution_count": 19,
   "metadata": {},
   "outputs": [
    {
     "data": {
      "text/plain": [
       "gérant                                                                                                              4159640\n",
       "associé                                                                                                             2174857\n",
       "associé indéfiniment responsable                                                                                    1089112\n",
       "président                                                                                                            578505\n",
       "commissaire aux comptes titulaire                                                                                    249159\n",
       "                                                                                                                     ...   \n",
       "adhérent                                                                                                                  1\n",
       "directeur technique et administratif                                                                                      1\n",
       "membre titulaire représentant du conseil d'etat, de la cour des comptes ou de l'inspection générale des finances          1\n",
       "contrôleur des comptes adjoint                                                                                            1\n",
       "mandataire général                                                                                                        1\n",
       "Name: qualite2, Length: 306, dtype: int64"
      ]
     },
     "execution_count": 19,
     "metadata": {},
     "output_type": "execute_result"
    }
   ],
   "source": [
    "df_rep_pm[\"qualite2\"].value_counts()"
   ]
  },
  {
   "cell_type": "code",
   "execution_count": 14,
   "metadata": {},
   "outputs": [],
   "source": [
    "# nettoyage de la dénomination\n",
    "df_rep_pm[\"denomination2\"] = df_rep_pm[\"denomination\"]"
   ]
  },
  {
   "cell_type": "code",
   "execution_count": 15,
   "metadata": {},
   "outputs": [],
   "source": [
    "df_rep_pm[\"denomination2\"] = df_rep_pm[\"denomination2\"].str.lower()"
   ]
  },
  {
   "cell_type": "code",
   "execution_count": 22,
   "metadata": {},
   "outputs": [
    {
     "data": {
      "text/plain": [
       "0                                    agir technologies\n",
       "1                                                doras\n",
       "2    societe immobiliere financiere d etudes et de ...\n",
       "3    societe immobiliere financiere d etudes et de ...\n",
       "4    societe immobiliere financiere d etudes et de ...\n",
       "5    societe immobiliere financiere d etudes et de ...\n",
       "6       societe nationale des etablissements piot pneu\n",
       "7                                           richardson\n",
       "8                                                samse\n",
       "9                                                 bmra\n",
       "Name: denomination2, dtype: object"
      ]
     },
     "execution_count": 22,
     "metadata": {},
     "output_type": "execute_result"
    }
   ],
   "source": [
    "df_rep_pm[\"denomination2\"].head(10)"
   ]
  },
  {
   "cell_type": "code",
   "execution_count": null,
   "metadata": {},
   "outputs": [],
   "source": [
    "# codification des adresses\n",
    "df_rep_pm.columns"
   ]
  },
  {
   "cell_type": "code",
   "execution_count": 23,
   "metadata": {},
   "outputs": [
    {
     "data": {
      "text/plain": [
       "0           NaN\n",
       "1           NaN\n",
       "2    Carpentras\n",
       "3         Paris\n",
       "4    Carpentras\n",
       "5    Strasbourg\n",
       "6           NaN\n",
       "7           NaN\n",
       "8           NaN\n",
       "9           NaN\n",
       "Name: ville, dtype: object"
      ]
     },
     "execution_count": 23,
     "metadata": {},
     "output_type": "execute_result"
    }
   ],
   "source": [
    "df_rep_pm[\"ville\"].head(10)"
   ]
  },
  {
   "cell_type": "code",
   "execution_count": 24,
   "metadata": {},
   "outputs": [
    {
     "data": {
      "text/plain": [
       "(0, 23)"
      ]
     },
     "execution_count": 24,
     "metadata": {},
     "output_type": "execute_result"
    }
   ],
   "source": [
    "df_rep_pm.loc[df_rep_pm[\"ville\"] == \"\", :].shape"
   ]
  },
  {
   "cell_type": "code",
   "execution_count": 25,
   "metadata": {},
   "outputs": [
    {
     "data": {
      "text/html": [
       "<div>\n",
       "<style scoped>\n",
       "    .dataframe tbody tr th:only-of-type {\n",
       "        vertical-align: middle;\n",
       "    }\n",
       "\n",
       "    .dataframe tbody tr th {\n",
       "        vertical-align: top;\n",
       "    }\n",
       "\n",
       "    .dataframe thead th {\n",
       "        text-align: right;\n",
       "    }\n",
       "</style>\n",
       "<table border=\"1\" class=\"dataframe\">\n",
       "  <thead>\n",
       "    <tr style=\"text-align: right;\">\n",
       "      <th></th>\n",
       "      <th>code_greffe</th>\n",
       "      <th>siren</th>\n",
       "      <th>denomination</th>\n",
       "      <th>forme_juridique</th>\n",
       "      <th>qualite</th>\n",
       "      <th>nom_patronymique</th>\n",
       "      <th>nom_usage</th>\n",
       "      <th>prenoms</th>\n",
       "      <th>type</th>\n",
       "      <th>date_naissance</th>\n",
       "      <th>...</th>\n",
       "      <th>adresse_ligne3</th>\n",
       "      <th>code_postal</th>\n",
       "      <th>ville</th>\n",
       "      <th>code_commune</th>\n",
       "      <th>pays</th>\n",
       "      <th>id_representant</th>\n",
       "      <th>top_civilite</th>\n",
       "      <th>nom_patronymique2</th>\n",
       "      <th>qualite2</th>\n",
       "      <th>denomination2</th>\n",
       "    </tr>\n",
       "  </thead>\n",
       "  <tbody>\n",
       "    <tr>\n",
       "      <th>27</th>\n",
       "      <td>101</td>\n",
       "      <td>73500050</td>\n",
       "      <td>SARL DUMAN</td>\n",
       "      <td>Société à responsabilité limitée</td>\n",
       "      <td>Gérant</td>\n",
       "      <td>BORODAGE</td>\n",
       "      <td>NaN</td>\n",
       "      <td>Vilem Pierre</td>\n",
       "      <td>P.Physique</td>\n",
       "      <td>1945-12-27</td>\n",
       "      <td>...</td>\n",
       "      <td>BELLEY</td>\n",
       "      <td>1300.0</td>\n",
       "      <td>NaN</td>\n",
       "      <td>NaN</td>\n",
       "      <td>FRANCE</td>\n",
       "      <td>1.0</td>\n",
       "      <td>False</td>\n",
       "      <td>BORODAGE</td>\n",
       "      <td>gérant</td>\n",
       "      <td>sarl duman</td>\n",
       "    </tr>\n",
       "    <tr>\n",
       "      <th>78</th>\n",
       "      <td>101</td>\n",
       "      <td>300434446</td>\n",
       "      <td>TRANCHAND</td>\n",
       "      <td>Société par actions simplifiée</td>\n",
       "      <td>Directeur général</td>\n",
       "      <td>TRANCHAND</td>\n",
       "      <td>NaN</td>\n",
       "      <td>Claude</td>\n",
       "      <td>P.Physique</td>\n",
       "      <td>1937-11-12</td>\n",
       "      <td>...</td>\n",
       "      <td>Belley</td>\n",
       "      <td>1300.0</td>\n",
       "      <td>NaN</td>\n",
       "      <td>NaN</td>\n",
       "      <td>FRANCE</td>\n",
       "      <td>1.0</td>\n",
       "      <td>False</td>\n",
       "      <td>TRANCHAND</td>\n",
       "      <td>directeur général</td>\n",
       "      <td>tranchand</td>\n",
       "    </tr>\n",
       "    <tr>\n",
       "      <th>239</th>\n",
       "      <td>101</td>\n",
       "      <td>301296075</td>\n",
       "      <td>SOCIETE JURASSIENNE DE CONSTRUCTION</td>\n",
       "      <td>Société à responsabilité limitée</td>\n",
       "      <td>Gérant</td>\n",
       "      <td>DAVID</td>\n",
       "      <td>SCHAPOSCHNIKOFF</td>\n",
       "      <td>Alice Henriette</td>\n",
       "      <td>P.Physique</td>\n",
       "      <td>1930-01-28</td>\n",
       "      <td>...</td>\n",
       "      <td>NEUILLY SUR SEINE</td>\n",
       "      <td>NaN</td>\n",
       "      <td>NaN</td>\n",
       "      <td>NaN</td>\n",
       "      <td>FRANCE</td>\n",
       "      <td>1.0</td>\n",
       "      <td>False</td>\n",
       "      <td>DAVID</td>\n",
       "      <td>gérant</td>\n",
       "      <td>societe jurassienne de construction</td>\n",
       "    </tr>\n",
       "    <tr>\n",
       "      <th>256</th>\n",
       "      <td>101</td>\n",
       "      <td>301524302</td>\n",
       "      <td>ENTREPRISE PETETIN</td>\n",
       "      <td>Société à responsabilité limitée</td>\n",
       "      <td>Gérant</td>\n",
       "      <td>PETETIN</td>\n",
       "      <td>NaN</td>\n",
       "      <td>Jean-Yves Raoul</td>\n",
       "      <td>P.Physique</td>\n",
       "      <td>1965-05-01</td>\n",
       "      <td>...</td>\n",
       "      <td>01000 Saint-Denis-Les-Bourg</td>\n",
       "      <td>NaN</td>\n",
       "      <td>NaN</td>\n",
       "      <td>NaN</td>\n",
       "      <td>FRANCE</td>\n",
       "      <td>1.0</td>\n",
       "      <td>False</td>\n",
       "      <td>PETETIN</td>\n",
       "      <td>gérant</td>\n",
       "      <td>entreprise petetin</td>\n",
       "    </tr>\n",
       "    <tr>\n",
       "      <th>278</th>\n",
       "      <td>101</td>\n",
       "      <td>301899522</td>\n",
       "      <td>ANDRE NEYRET IMMOBILIER</td>\n",
       "      <td>Société à responsabilité limitée</td>\n",
       "      <td>Gérant</td>\n",
       "      <td>NEYRET</td>\n",
       "      <td>NaN</td>\n",
       "      <td>André</td>\n",
       "      <td>P.Physique</td>\n",
       "      <td>1946-11-26</td>\n",
       "      <td>...</td>\n",
       "      <td>Chalamont</td>\n",
       "      <td>NaN</td>\n",
       "      <td>NaN</td>\n",
       "      <td>NaN</td>\n",
       "      <td>FRANCE</td>\n",
       "      <td>1.0</td>\n",
       "      <td>False</td>\n",
       "      <td>NEYRET</td>\n",
       "      <td>gérant</td>\n",
       "      <td>andre neyret immobilier</td>\n",
       "    </tr>\n",
       "    <tr>\n",
       "      <th>303</th>\n",
       "      <td>101</td>\n",
       "      <td>302329420</td>\n",
       "      <td>MACDERMID FRANCE</td>\n",
       "      <td>Société par actions simplifiée à associé unique</td>\n",
       "      <td>Président</td>\n",
       "      <td>TORNE SANCHO</td>\n",
       "      <td>NaN</td>\n",
       "      <td>Javier</td>\n",
       "      <td>P.Physique</td>\n",
       "      <td>1975-05-18</td>\n",
       "      <td>...</td>\n",
       "      <td>Barcelone</td>\n",
       "      <td>NaN</td>\n",
       "      <td>NaN</td>\n",
       "      <td>NaN</td>\n",
       "      <td>ESPAGNE</td>\n",
       "      <td>26.0</td>\n",
       "      <td>False</td>\n",
       "      <td>TORNE SANCHO</td>\n",
       "      <td>président</td>\n",
       "      <td>macdermid france</td>\n",
       "    </tr>\n",
       "    <tr>\n",
       "      <th>314</th>\n",
       "      <td>101</td>\n",
       "      <td>302458344</td>\n",
       "      <td>STYL MONDE SA</td>\n",
       "      <td>Société anonyme à directoire et conseil de sur...</td>\n",
       "      <td>Membre du directoire</td>\n",
       "      <td>MOREAU</td>\n",
       "      <td>NaN</td>\n",
       "      <td>Bernard Jean-Paul</td>\n",
       "      <td>P.Physique</td>\n",
       "      <td>1961-11-20</td>\n",
       "      <td>...</td>\n",
       "      <td>Chazey-sur-Ain 01</td>\n",
       "      <td>NaN</td>\n",
       "      <td>NaN</td>\n",
       "      <td>NaN</td>\n",
       "      <td>FRANCE</td>\n",
       "      <td>8.0</td>\n",
       "      <td>False</td>\n",
       "      <td>MOREAU</td>\n",
       "      <td>membre du directoire</td>\n",
       "      <td>styl monde sa</td>\n",
       "    </tr>\n",
       "    <tr>\n",
       "      <th>394</th>\n",
       "      <td>101</td>\n",
       "      <td>302725197</td>\n",
       "      <td>SCI DU BALZAC</td>\n",
       "      <td>Société civile immobilière</td>\n",
       "      <td>Associé indéfiniment responsable</td>\n",
       "      <td>TURRETTINI</td>\n",
       "      <td>NaN</td>\n",
       "      <td>Benedict Francois</td>\n",
       "      <td>P.Physique</td>\n",
       "      <td>1944-10-16</td>\n",
       "      <td>...</td>\n",
       "      <td>Vesenaz CH 1222</td>\n",
       "      <td>NaN</td>\n",
       "      <td>NaN</td>\n",
       "      <td>NaN</td>\n",
       "      <td>SUISSE</td>\n",
       "      <td>1.0</td>\n",
       "      <td>False</td>\n",
       "      <td>TURRETTINI</td>\n",
       "      <td>associé indéfiniment responsable</td>\n",
       "      <td>sci du balzac</td>\n",
       "    </tr>\n",
       "    <tr>\n",
       "      <th>395</th>\n",
       "      <td>101</td>\n",
       "      <td>302725197</td>\n",
       "      <td>SCI DU BALZAC</td>\n",
       "      <td>Société civile immobilière</td>\n",
       "      <td>Gérant</td>\n",
       "      <td>TURRETTINI</td>\n",
       "      <td>NaN</td>\n",
       "      <td>Benedict Francois</td>\n",
       "      <td>P.Physique</td>\n",
       "      <td>1944-10-16</td>\n",
       "      <td>...</td>\n",
       "      <td>Vesenaz CH 1222</td>\n",
       "      <td>NaN</td>\n",
       "      <td>NaN</td>\n",
       "      <td>NaN</td>\n",
       "      <td>SUISSE</td>\n",
       "      <td>1.0</td>\n",
       "      <td>False</td>\n",
       "      <td>TURRETTINI</td>\n",
       "      <td>gérant</td>\n",
       "      <td>sci du balzac</td>\n",
       "    </tr>\n",
       "    <tr>\n",
       "      <th>400</th>\n",
       "      <td>101</td>\n",
       "      <td>303242408</td>\n",
       "      <td>CEDEC SA</td>\n",
       "      <td>Société de droit étranger</td>\n",
       "      <td>Président du conseil d'administration</td>\n",
       "      <td>NICLAUS</td>\n",
       "      <td>NaN</td>\n",
       "      <td>Jean Émile</td>\n",
       "      <td>P.Physique</td>\n",
       "      <td>1930-01-26</td>\n",
       "      <td>...</td>\n",
       "      <td>98000 Monaco</td>\n",
       "      <td>NaN</td>\n",
       "      <td>NaN</td>\n",
       "      <td>NaN</td>\n",
       "      <td>MONACO</td>\n",
       "      <td>2.0</td>\n",
       "      <td>False</td>\n",
       "      <td>NICLAUS</td>\n",
       "      <td>président du conseil d'administration</td>\n",
       "      <td>cedec sa</td>\n",
       "    </tr>\n",
       "  </tbody>\n",
       "</table>\n",
       "<p>10 rows × 23 columns</p>\n",
       "</div>"
      ],
      "text/plain": [
       "     code_greffe      siren                         denomination  \\\n",
       "27           101   73500050                           SARL DUMAN   \n",
       "78           101  300434446                            TRANCHAND   \n",
       "239          101  301296075  SOCIETE JURASSIENNE DE CONSTRUCTION   \n",
       "256          101  301524302                   ENTREPRISE PETETIN   \n",
       "278          101  301899522              ANDRE NEYRET IMMOBILIER   \n",
       "303          101  302329420                     MACDERMID FRANCE   \n",
       "314          101  302458344                        STYL MONDE SA   \n",
       "394          101  302725197                        SCI DU BALZAC   \n",
       "395          101  302725197                        SCI DU BALZAC   \n",
       "400          101  303242408                             CEDEC SA   \n",
       "\n",
       "                                       forme_juridique  \\\n",
       "27                    Société à responsabilité limitée   \n",
       "78                      Société par actions simplifiée   \n",
       "239                   Société à responsabilité limitée   \n",
       "256                   Société à responsabilité limitée   \n",
       "278                   Société à responsabilité limitée   \n",
       "303    Société par actions simplifiée à associé unique   \n",
       "314  Société anonyme à directoire et conseil de sur...   \n",
       "394                         Société civile immobilière   \n",
       "395                         Société civile immobilière   \n",
       "400                          Société de droit étranger   \n",
       "\n",
       "                                   qualite nom_patronymique        nom_usage  \\\n",
       "27                                  Gérant         BORODAGE              NaN   \n",
       "78                       Directeur général        TRANCHAND              NaN   \n",
       "239                                 Gérant            DAVID  SCHAPOSCHNIKOFF   \n",
       "256                                 Gérant          PETETIN              NaN   \n",
       "278                                 Gérant           NEYRET              NaN   \n",
       "303                              Président     TORNE SANCHO              NaN   \n",
       "314                   Membre du directoire           MOREAU              NaN   \n",
       "394       Associé indéfiniment responsable       TURRETTINI              NaN   \n",
       "395                                 Gérant       TURRETTINI              NaN   \n",
       "400  Président du conseil d'administration          NICLAUS              NaN   \n",
       "\n",
       "               prenoms        type date_naissance  ...  \\\n",
       "27        Vilem Pierre  P.Physique     1945-12-27  ...   \n",
       "78              Claude  P.Physique     1937-11-12  ...   \n",
       "239    Alice Henriette  P.Physique     1930-01-28  ...   \n",
       "256    Jean-Yves Raoul  P.Physique     1965-05-01  ...   \n",
       "278              André  P.Physique     1946-11-26  ...   \n",
       "303             Javier  P.Physique     1975-05-18  ...   \n",
       "314  Bernard Jean-Paul  P.Physique     1961-11-20  ...   \n",
       "394  Benedict Francois  P.Physique     1944-10-16  ...   \n",
       "395  Benedict Francois  P.Physique     1944-10-16  ...   \n",
       "400         Jean Émile  P.Physique     1930-01-26  ...   \n",
       "\n",
       "                  adresse_ligne3 code_postal ville code_commune     pays  \\\n",
       "27                        BELLEY      1300.0   NaN          NaN   FRANCE   \n",
       "78                        Belley      1300.0   NaN          NaN   FRANCE   \n",
       "239            NEUILLY SUR SEINE         NaN   NaN          NaN   FRANCE   \n",
       "256  01000 Saint-Denis-Les-Bourg         NaN   NaN          NaN   FRANCE   \n",
       "278                    Chalamont         NaN   NaN          NaN   FRANCE   \n",
       "303                    Barcelone         NaN   NaN          NaN  ESPAGNE   \n",
       "314            Chazey-sur-Ain 01         NaN   NaN          NaN   FRANCE   \n",
       "394              Vesenaz CH 1222         NaN   NaN          NaN   SUISSE   \n",
       "395              Vesenaz CH 1222         NaN   NaN          NaN   SUISSE   \n",
       "400                 98000 Monaco         NaN   NaN          NaN   MONACO   \n",
       "\n",
       "    id_representant top_civilite nom_patronymique2  \\\n",
       "27              1.0        False          BORODAGE   \n",
       "78              1.0        False         TRANCHAND   \n",
       "239             1.0        False             DAVID   \n",
       "256             1.0        False           PETETIN   \n",
       "278             1.0        False            NEYRET   \n",
       "303            26.0        False      TORNE SANCHO   \n",
       "314             8.0        False            MOREAU   \n",
       "394             1.0        False        TURRETTINI   \n",
       "395             1.0        False        TURRETTINI   \n",
       "400             2.0        False           NICLAUS   \n",
       "\n",
       "                                  qualite2  \\\n",
       "27                                  gérant   \n",
       "78                       directeur général   \n",
       "239                                 gérant   \n",
       "256                                 gérant   \n",
       "278                                 gérant   \n",
       "303                              président   \n",
       "314                   membre du directoire   \n",
       "394       associé indéfiniment responsable   \n",
       "395                                 gérant   \n",
       "400  président du conseil d'administration   \n",
       "\n",
       "                           denomination2  \n",
       "27                            sarl duman  \n",
       "78                             tranchand  \n",
       "239  societe jurassienne de construction  \n",
       "256                   entreprise petetin  \n",
       "278              andre neyret immobilier  \n",
       "303                     macdermid france  \n",
       "314                        styl monde sa  \n",
       "394                        sci du balzac  \n",
       "395                        sci du balzac  \n",
       "400                             cedec sa  \n",
       "\n",
       "[10 rows x 23 columns]"
      ]
     },
     "execution_count": 25,
     "metadata": {},
     "output_type": "execute_result"
    }
   ],
   "source": [
    "df_rep_pm.loc[(df_rep_pm[\"ville\"].isna()) & (df_rep_pm[\"adresse_ligne3\"].isna() == False), :].head(10) #90740"
   ]
  },
  {
   "cell_type": "code",
   "execution_count": 16,
   "metadata": {},
   "outputs": [],
   "source": [
    "df_rep_pm.loc[(df_rep_pm[\"ville\"].isna()) & (df_rep_pm[\"adresse_ligne3\"].isna() == False), \"ville\"] = \\\n",
    "    df_rep_pm.loc[(df_rep_pm[\"ville\"].isna()) & (df_rep_pm[\"adresse_ligne3\"].isna() == False), \"adresse_ligne3\"]"
   ]
  },
  {
   "cell_type": "code",
   "execution_count": 56,
   "metadata": {},
   "outputs": [
    {
     "data": {
      "text/plain": [
       "Index(['code_greffe', 'siren', 'denomination', 'forme_juridique', 'qualite',\n",
       "       'nom_patronymique', 'nom_usage', 'prenoms', 'type', 'date_naissance',\n",
       "       'ville_naissance', 'adresse_ligne1', 'adresse_ligne2', 'adresse_ligne3',\n",
       "       'code_postal', 'ville', 'code_commune', 'pays', 'id_representant',\n",
       "       'top_civilite', 'nom_patronymique2', 'top_particule', 'qualite2',\n",
       "       'denomination2', 'ville2', 'code_postal2', 'code_departement'],\n",
       "      dtype='object')"
      ]
     },
     "execution_count": 56,
     "metadata": {},
     "output_type": "execute_result"
    }
   ],
   "source": [
    "df_rep_pm.columns"
   ]
  },
  {
   "cell_type": "code",
   "execution_count": 57,
   "metadata": {},
   "outputs": [],
   "source": [
    "df_rep_pm[\"commune\"] = df_rep_pm[\"ville\"]"
   ]
  },
  {
   "cell_type": "code",
   "execution_count": 58,
   "metadata": {},
   "outputs": [],
   "source": [
    "df_rep_pm[\"commune\"] = df_rep_pm[\"commune\"].str.lower()"
   ]
  },
  {
   "cell_type": "code",
   "execution_count": null,
   "metadata": {},
   "outputs": [],
   "source": [
    "df_rep_pm[\"commune\"].head(10)"
   ]
  },
  {
   "cell_type": "code",
   "execution_count": 59,
   "metadata": {},
   "outputs": [],
   "source": [
    "df_rep_pm[\"commune\"] = (df_rep_pm[\"commune\"].str.replace(\"à\", \"a\")\n",
    "                                            .str.replace(\"è\", \"e\")\n",
    "                                            .str.replace(\"é\", \"e\")\n",
    "                                            .str.replace(\"ç\", \"c\")\n",
    "                                            .str.replace(\"ù\", \"u\")\n",
    "                                            .str.replace(\"ô\", \"o\"))"
   ]
  },
  {
   "cell_type": "code",
   "execution_count": 60,
   "metadata": {},
   "outputs": [],
   "source": [
    "df_rep_pm[\"commune\"] = (df_rep_pm[\"commune\"].str.replace(\"SAINT\", \"ST\"))"
   ]
  },
  {
   "cell_type": "code",
   "execution_count": 61,
   "metadata": {},
   "outputs": [],
   "source": [
    "df_rep_pm[\"commune\"] = df_rep_pm[\"commune\"].str.replace(\" \", \"\")"
   ]
  },
  {
   "cell_type": "code",
   "execution_count": 62,
   "metadata": {},
   "outputs": [
    {
     "data": {
      "text/plain": [
       "paris                720512\n",
       "marseille            134835\n",
       "lyon                 104458\n",
       "toulouse              75744\n",
       "nice                  73523\n",
       "                      ...  \n",
       "aubort                    1\n",
       "pontchara                 1\n",
       "danpierresurblevy         1\n",
       "1246corsiersuisse         1\n",
       "56283beulich              1\n",
       "Name: commune, Length: 133145, dtype: int64"
      ]
     },
     "execution_count": 62,
     "metadata": {},
     "output_type": "execute_result"
    }
   ],
   "source": [
    "df_rep_pm[\"commune\"].value_counts()"
   ]
  },
  {
   "cell_type": "code",
   "execution_count": 38,
   "metadata": {},
   "outputs": [],
   "source": [
    "# Create filesystem object\n",
    "S3_ENDPOINT_URL = \"https://\" + os.environ[\"AWS_S3_ENDPOINT\"]\n",
    "fs = s3fs.S3FileSystem(client_kwargs={'endpoint_url': S3_ENDPOINT_URL})\n",
    "BUCKET = \"radjerad/diffusion/code_postal\"\n",
    "FILE_KEY_S3 = \"laposte_hexasmal.csv\"\n",
    "FILE_PATH_S3 = BUCKET + \"/\" + FILE_KEY_S3\n",
    "\n",
    "with fs.open(FILE_PATH_S3, mode=\"rb\") as file_in:\n",
    "    code_postal = pd.read_csv(file_in, sep=\";\")"
   ]
  },
  {
   "cell_type": "code",
   "execution_count": 21,
   "metadata": {},
   "outputs": [
    {
     "data": {
      "text/html": [
       "<div>\n",
       "<style scoped>\n",
       "    .dataframe tbody tr th:only-of-type {\n",
       "        vertical-align: middle;\n",
       "    }\n",
       "\n",
       "    .dataframe tbody tr th {\n",
       "        vertical-align: top;\n",
       "    }\n",
       "\n",
       "    .dataframe thead th {\n",
       "        text-align: right;\n",
       "    }\n",
       "</style>\n",
       "<table border=\"1\" class=\"dataframe\">\n",
       "  <thead>\n",
       "    <tr style=\"text-align: right;\">\n",
       "      <th></th>\n",
       "      <th>Code_commune_INSEE</th>\n",
       "      <th>Nom_commune</th>\n",
       "      <th>Code_postal</th>\n",
       "      <th>Ligne_5</th>\n",
       "      <th>Libellé_d_acheminement</th>\n",
       "      <th>coordonnees_gps</th>\n",
       "    </tr>\n",
       "  </thead>\n",
       "  <tbody>\n",
       "    <tr>\n",
       "      <th>0</th>\n",
       "      <td>25620</td>\n",
       "      <td>VILLE DU PONT</td>\n",
       "      <td>25650</td>\n",
       "      <td>NaN</td>\n",
       "      <td>VILLE DU PONT</td>\n",
       "      <td>46.999873398,6.498147193</td>\n",
       "    </tr>\n",
       "    <tr>\n",
       "      <th>1</th>\n",
       "      <td>25624</td>\n",
       "      <td>VILLERS GRELOT</td>\n",
       "      <td>25640</td>\n",
       "      <td>NaN</td>\n",
       "      <td>VILLERS GRELOT</td>\n",
       "      <td>47.361512085,6.235167025</td>\n",
       "    </tr>\n",
       "    <tr>\n",
       "      <th>2</th>\n",
       "      <td>26001</td>\n",
       "      <td>SOLAURE EN DIOIS</td>\n",
       "      <td>26150</td>\n",
       "      <td>AIX EN DIOIS</td>\n",
       "      <td>SOLAURE EN DIOIS</td>\n",
       "      <td>44.70587354,5.387770455</td>\n",
       "    </tr>\n",
       "    <tr>\n",
       "      <th>3</th>\n",
       "      <td>26003</td>\n",
       "      <td>ALEYRAC</td>\n",
       "      <td>26770</td>\n",
       "      <td>NaN</td>\n",
       "      <td>ALEYRAC</td>\n",
       "      <td>44.499150841,4.946083614</td>\n",
       "    </tr>\n",
       "    <tr>\n",
       "      <th>4</th>\n",
       "      <td>26009</td>\n",
       "      <td>ANDANCETTE</td>\n",
       "      <td>26140</td>\n",
       "      <td>NaN</td>\n",
       "      <td>ANDANCETTE</td>\n",
       "      <td>45.246625023,4.812717032</td>\n",
       "    </tr>\n",
       "  </tbody>\n",
       "</table>\n",
       "</div>"
      ],
      "text/plain": [
       "  Code_commune_INSEE       Nom_commune  Code_postal       Ligne_5  \\\n",
       "0              25620     VILLE DU PONT        25650           NaN   \n",
       "1              25624    VILLERS GRELOT        25640           NaN   \n",
       "2              26001  SOLAURE EN DIOIS        26150  AIX EN DIOIS   \n",
       "3              26003           ALEYRAC        26770           NaN   \n",
       "4              26009        ANDANCETTE        26140           NaN   \n",
       "\n",
       "  Libellé_d_acheminement           coordonnees_gps  \n",
       "0          VILLE DU PONT  46.999873398,6.498147193  \n",
       "1         VILLERS GRELOT  47.361512085,6.235167025  \n",
       "2       SOLAURE EN DIOIS   44.70587354,5.387770455  \n",
       "3                ALEYRAC  44.499150841,4.946083614  \n",
       "4             ANDANCETTE  45.246625023,4.812717032  "
      ]
     },
     "execution_count": 21,
     "metadata": {},
     "output_type": "execute_result"
    }
   ],
   "source": [
    "code_postal.head()"
   ]
  },
  {
   "cell_type": "code",
   "execution_count": 34,
   "metadata": {},
   "outputs": [
    {
     "data": {
      "text/plain": [
       "(39193, 6)"
      ]
     },
     "execution_count": 34,
     "metadata": {},
     "output_type": "execute_result"
    }
   ],
   "source": [
    "code_postal.shape # 39 193"
   ]
  },
  {
   "cell_type": "code",
   "execution_count": 35,
   "metadata": {},
   "outputs": [
    {
     "data": {
      "text/plain": [
       "(528795, 24)"
      ]
     },
     "execution_count": 35,
     "metadata": {},
     "output_type": "execute_result"
    }
   ],
   "source": [
    "df_rep_pm.loc[df_rep_pm[\"code_postal\"].isna(), :].shape # 528 795"
   ]
  },
  {
   "cell_type": "code",
   "execution_count": 36,
   "metadata": {},
   "outputs": [
    {
     "data": {
      "text/plain": [
       "(1441393, 24)"
      ]
     },
     "execution_count": 36,
     "metadata": {},
     "output_type": "execute_result"
    }
   ],
   "source": [
    "df_rep_pm.loc[df_rep_pm[\"code_commune\"].isna(), :].shape # 1 441 393"
   ]
  },
  {
   "cell_type": "code",
   "execution_count": 29,
   "metadata": {},
   "outputs": [],
   "source": [
    "# donc plus de code commune manquants que de code postaux\n",
    "# on va merger code postal et code_insee\n",
    "# code_postal = code_postal.loc[:, [\"Code_commune_INSEE\", \"Code_postal\"]]"
   ]
  },
  {
   "cell_type": "code",
   "execution_count": 39,
   "metadata": {},
   "outputs": [],
   "source": [
    "code_postal.columns = [c.lower() for c in code_postal.columns]"
   ]
  },
  {
   "cell_type": "code",
   "execution_count": 40,
   "metadata": {},
   "outputs": [],
   "source": [
    "#df_rep_pm['code_postal2'] = pd.to_numeric(df_rep_pm['code_postal'], errors='coerce')"
   ]
  },
  {
   "cell_type": "code",
   "execution_count": 54,
   "metadata": {},
   "outputs": [
    {
     "data": {
      "text/plain": [
       "(540862, 25)"
      ]
     },
     "execution_count": 54,
     "metadata": {},
     "output_type": "execute_result"
    }
   ],
   "source": [
    "# df_rep_pm.loc[df_rep_pm[\"code_postal2\"].isna(),:].shape # 540862 , on a remplacé des valeurs bizarres en valeurs manquantes"
   ]
  },
  {
   "cell_type": "code",
   "execution_count": 42,
   "metadata": {},
   "outputs": [
    {
     "data": {
      "text/html": [
       "<div>\n",
       "<style scoped>\n",
       "    .dataframe tbody tr th:only-of-type {\n",
       "        vertical-align: middle;\n",
       "    }\n",
       "\n",
       "    .dataframe tbody tr th {\n",
       "        vertical-align: top;\n",
       "    }\n",
       "\n",
       "    .dataframe thead th {\n",
       "        text-align: right;\n",
       "    }\n",
       "</style>\n",
       "<table border=\"1\" class=\"dataframe\">\n",
       "  <thead>\n",
       "    <tr style=\"text-align: right;\">\n",
       "      <th></th>\n",
       "      <th>code_commune_insee</th>\n",
       "      <th>nom_commune</th>\n",
       "      <th>code_postal</th>\n",
       "      <th>ligne_5</th>\n",
       "      <th>libellé_d_acheminement</th>\n",
       "      <th>coordonnees_gps</th>\n",
       "      <th>code_postal2</th>\n",
       "    </tr>\n",
       "  </thead>\n",
       "  <tbody>\n",
       "    <tr>\n",
       "      <th>0</th>\n",
       "      <td>25620</td>\n",
       "      <td>VILLE DU PONT</td>\n",
       "      <td>25650</td>\n",
       "      <td>NaN</td>\n",
       "      <td>VILLE DU PONT</td>\n",
       "      <td>46.999873398,6.498147193</td>\n",
       "      <td>25650.0</td>\n",
       "    </tr>\n",
       "    <tr>\n",
       "      <th>1</th>\n",
       "      <td>25624</td>\n",
       "      <td>VILLERS GRELOT</td>\n",
       "      <td>25640</td>\n",
       "      <td>NaN</td>\n",
       "      <td>VILLERS GRELOT</td>\n",
       "      <td>47.361512085,6.235167025</td>\n",
       "      <td>25640.0</td>\n",
       "    </tr>\n",
       "    <tr>\n",
       "      <th>2</th>\n",
       "      <td>26001</td>\n",
       "      <td>SOLAURE EN DIOIS</td>\n",
       "      <td>26150</td>\n",
       "      <td>AIX EN DIOIS</td>\n",
       "      <td>SOLAURE EN DIOIS</td>\n",
       "      <td>44.70587354,5.387770455</td>\n",
       "      <td>26150.0</td>\n",
       "    </tr>\n",
       "    <tr>\n",
       "      <th>3</th>\n",
       "      <td>26003</td>\n",
       "      <td>ALEYRAC</td>\n",
       "      <td>26770</td>\n",
       "      <td>NaN</td>\n",
       "      <td>ALEYRAC</td>\n",
       "      <td>44.499150841,4.946083614</td>\n",
       "      <td>26770.0</td>\n",
       "    </tr>\n",
       "    <tr>\n",
       "      <th>4</th>\n",
       "      <td>26009</td>\n",
       "      <td>ANDANCETTE</td>\n",
       "      <td>26140</td>\n",
       "      <td>NaN</td>\n",
       "      <td>ANDANCETTE</td>\n",
       "      <td>45.246625023,4.812717032</td>\n",
       "      <td>26140.0</td>\n",
       "    </tr>\n",
       "  </tbody>\n",
       "</table>\n",
       "</div>"
      ],
      "text/plain": [
       "  code_commune_insee       nom_commune  code_postal       ligne_5  \\\n",
       "0              25620     VILLE DU PONT        25650           NaN   \n",
       "1              25624    VILLERS GRELOT        25640           NaN   \n",
       "2              26001  SOLAURE EN DIOIS        26150  AIX EN DIOIS   \n",
       "3              26003           ALEYRAC        26770           NaN   \n",
       "4              26009        ANDANCETTE        26140           NaN   \n",
       "\n",
       "  libellé_d_acheminement           coordonnees_gps  code_postal2  \n",
       "0          VILLE DU PONT  46.999873398,6.498147193       25650.0  \n",
       "1         VILLERS GRELOT  47.361512085,6.235167025       25640.0  \n",
       "2       SOLAURE EN DIOIS   44.70587354,5.387770455       26150.0  \n",
       "3                ALEYRAC  44.499150841,4.946083614       26770.0  \n",
       "4             ANDANCETTE  45.246625023,4.812717032       26140.0  "
      ]
     },
     "execution_count": 42,
     "metadata": {},
     "output_type": "execute_result"
    }
   ],
   "source": [
    "code_postal.head()"
   ]
  },
  {
   "cell_type": "code",
   "execution_count": 46,
   "metadata": {},
   "outputs": [],
   "source": [
    "code_postal[\"code_departement\"] = code_postal[\"code_commune_insee\"].str.slice(start=0,stop=2) # a corriger pour les drom"
   ]
  },
  {
   "cell_type": "code",
   "execution_count": 48,
   "metadata": {},
   "outputs": [
    {
     "data": {
      "text/html": [
       "<div>\n",
       "<style scoped>\n",
       "    .dataframe tbody tr th:only-of-type {\n",
       "        vertical-align: middle;\n",
       "    }\n",
       "\n",
       "    .dataframe tbody tr th {\n",
       "        vertical-align: top;\n",
       "    }\n",
       "\n",
       "    .dataframe thead th {\n",
       "        text-align: right;\n",
       "    }\n",
       "</style>\n",
       "<table border=\"1\" class=\"dataframe\">\n",
       "  <thead>\n",
       "    <tr style=\"text-align: right;\">\n",
       "      <th></th>\n",
       "      <th>code_departement</th>\n",
       "      <th>code_commune_insee</th>\n",
       "    </tr>\n",
       "  </thead>\n",
       "  <tbody>\n",
       "    <tr>\n",
       "      <th>0</th>\n",
       "      <td>25</td>\n",
       "      <td>25620</td>\n",
       "    </tr>\n",
       "    <tr>\n",
       "      <th>1</th>\n",
       "      <td>25</td>\n",
       "      <td>25624</td>\n",
       "    </tr>\n",
       "    <tr>\n",
       "      <th>2</th>\n",
       "      <td>26</td>\n",
       "      <td>26001</td>\n",
       "    </tr>\n",
       "    <tr>\n",
       "      <th>3</th>\n",
       "      <td>26</td>\n",
       "      <td>26003</td>\n",
       "    </tr>\n",
       "    <tr>\n",
       "      <th>4</th>\n",
       "      <td>26</td>\n",
       "      <td>26009</td>\n",
       "    </tr>\n",
       "  </tbody>\n",
       "</table>\n",
       "</div>"
      ],
      "text/plain": [
       "  code_departement code_commune_insee\n",
       "0               25              25620\n",
       "1               25              25624\n",
       "2               26              26001\n",
       "3               26              26003\n",
       "4               26              26009"
      ]
     },
     "execution_count": 48,
     "metadata": {},
     "output_type": "execute_result"
    }
   ],
   "source": [
    "code_postal[[\"code_departement\", \"code_commune_insee\"]].head()"
   ]
  },
  {
   "cell_type": "code",
   "execution_count": 52,
   "metadata": {},
   "outputs": [],
   "source": [
    "df_rep_pm[\"code_departement\"] = df_rep_pm[\"code_postal\"].astype(str).str.slice(start=0, stop=2)"
   ]
  },
  {
   "cell_type": "code",
   "execution_count": 53,
   "metadata": {},
   "outputs": [
    {
     "data": {
      "text/html": [
       "<div>\n",
       "<style scoped>\n",
       "    .dataframe tbody tr th:only-of-type {\n",
       "        vertical-align: middle;\n",
       "    }\n",
       "\n",
       "    .dataframe tbody tr th {\n",
       "        vertical-align: top;\n",
       "    }\n",
       "\n",
       "    .dataframe thead th {\n",
       "        text-align: right;\n",
       "    }\n",
       "</style>\n",
       "<table border=\"1\" class=\"dataframe\">\n",
       "  <thead>\n",
       "    <tr style=\"text-align: right;\">\n",
       "      <th></th>\n",
       "      <th>code_departement</th>\n",
       "      <th>code_postal</th>\n",
       "    </tr>\n",
       "  </thead>\n",
       "  <tbody>\n",
       "    <tr>\n",
       "      <th>0</th>\n",
       "      <td>na</td>\n",
       "      <td>NaN</td>\n",
       "    </tr>\n",
       "    <tr>\n",
       "      <th>1</th>\n",
       "      <td>na</td>\n",
       "      <td>NaN</td>\n",
       "    </tr>\n",
       "    <tr>\n",
       "      <th>2</th>\n",
       "      <td>84</td>\n",
       "      <td>84200.0</td>\n",
       "    </tr>\n",
       "    <tr>\n",
       "      <th>3</th>\n",
       "      <td>75</td>\n",
       "      <td>75016.0</td>\n",
       "    </tr>\n",
       "    <tr>\n",
       "      <th>4</th>\n",
       "      <td>84</td>\n",
       "      <td>84200.0</td>\n",
       "    </tr>\n",
       "  </tbody>\n",
       "</table>\n",
       "</div>"
      ],
      "text/plain": [
       "  code_departement code_postal\n",
       "0               na         NaN\n",
       "1               na         NaN\n",
       "2               84     84200.0\n",
       "3               75     75016.0\n",
       "4               84     84200.0"
      ]
     },
     "execution_count": 53,
     "metadata": {},
     "output_type": "execute_result"
    }
   ],
   "source": [
    "df_rep_pm[[\"code_departement\", \"code_postal\"]].head()"
   ]
  },
  {
   "cell_type": "code",
   "execution_count": 63,
   "metadata": {},
   "outputs": [],
   "source": [
    "code_postal[\"commune\"] = code_postal[\"nom_commune\"].str.lower()"
   ]
  },
  {
   "cell_type": "code",
   "execution_count": 64,
   "metadata": {},
   "outputs": [],
   "source": [
    "code_postal[\"commune\"] = (code_postal[\"commune\"].str.replace(\"à\", \"a\")\n",
    "                                            .str.replace(\"è\", \"e\")\n",
    "                                            .str.replace(\"é\", \"e\")\n",
    "                                            .str.replace(\"ç\", \"c\")\n",
    "                                            .str.replace(\"ù\", \"u\")\n",
    "                                            .str.replace(\"ô\", \"o\"))"
   ]
  },
  {
   "cell_type": "code",
   "execution_count": 66,
   "metadata": {},
   "outputs": [],
   "source": [
    "code_postal[\"commune\"] = (code_postal[\"commune\"].str.replace(\"SAINT\", \"ST\"))"
   ]
  },
  {
   "cell_type": "code",
   "execution_count": 67,
   "metadata": {},
   "outputs": [],
   "source": [
    "code_postal[\"commune\"] = code_postal[\"commune\"].str.replace(\" \", \"\")"
   ]
  },
  {
   "cell_type": "code",
   "execution_count": 68,
   "metadata": {},
   "outputs": [
    {
     "data": {
      "text/plain": [
       "livarotpaysdauge     22\n",
       "stpierreenauge       22\n",
       "souleuvreenbocage    21\n",
       "mooreamaiao          20\n",
       "stpaul               19\n",
       "                     ..\n",
       "kirviller             1\n",
       "manom                 1\n",
       "fontenaylepesnel      1\n",
       "kirschlessierck       1\n",
       "monaco                1\n",
       "Name: commune, Length: 32710, dtype: int64"
      ]
     },
     "execution_count": 68,
     "metadata": {},
     "output_type": "execute_result"
    }
   ],
   "source": [
    "code_postal[\"commune\"].value_counts()"
   ]
  },
  {
   "cell_type": "code",
   "execution_count": 69,
   "metadata": {},
   "outputs": [
    {
     "data": {
      "text/plain": [
       "4113"
      ]
     },
     "execution_count": 69,
     "metadata": {},
     "output_type": "execute_result"
    }
   ],
   "source": [
    "code_postal.duplicated(subset=[\"commune\", \"code_departement\"]).sum() # 4113"
   ]
  },
  {
   "cell_type": "code",
   "execution_count": 72,
   "metadata": {},
   "outputs": [
    {
     "data": {
      "text/plain": [
       "(35080, 9)"
      ]
     },
     "execution_count": 72,
     "metadata": {},
     "output_type": "execute_result"
    }
   ],
   "source": [
    "code_postal.shape # 39193 -> 35080"
   ]
  },
  {
   "cell_type": "code",
   "execution_count": 71,
   "metadata": {},
   "outputs": [],
   "source": [
    "code_postal = code_postal.drop_duplicates(subset = [\"commune\", \"code_departement\"])"
   ]
  },
  {
   "cell_type": "code",
   "execution_count": 73,
   "metadata": {},
   "outputs": [
    {
     "data": {
      "text/html": [
       "<div>\n",
       "<style scoped>\n",
       "    .dataframe tbody tr th:only-of-type {\n",
       "        vertical-align: middle;\n",
       "    }\n",
       "\n",
       "    .dataframe tbody tr th {\n",
       "        vertical-align: top;\n",
       "    }\n",
       "\n",
       "    .dataframe thead th {\n",
       "        text-align: right;\n",
       "    }\n",
       "</style>\n",
       "<table border=\"1\" class=\"dataframe\">\n",
       "  <thead>\n",
       "    <tr style=\"text-align: right;\">\n",
       "      <th></th>\n",
       "      <th>code_commune_insee</th>\n",
       "      <th>nom_commune</th>\n",
       "      <th>code_postal</th>\n",
       "      <th>ligne_5</th>\n",
       "      <th>libellé_d_acheminement</th>\n",
       "      <th>coordonnees_gps</th>\n",
       "      <th>code_postal2</th>\n",
       "      <th>code_departement</th>\n",
       "      <th>commune</th>\n",
       "    </tr>\n",
       "  </thead>\n",
       "  <tbody>\n",
       "    <tr>\n",
       "      <th>0</th>\n",
       "      <td>25620</td>\n",
       "      <td>VILLE DU PONT</td>\n",
       "      <td>25650</td>\n",
       "      <td>NaN</td>\n",
       "      <td>VILLE DU PONT</td>\n",
       "      <td>46.999873398,6.498147193</td>\n",
       "      <td>25650.0</td>\n",
       "      <td>25</td>\n",
       "      <td>villedupont</td>\n",
       "    </tr>\n",
       "    <tr>\n",
       "      <th>1</th>\n",
       "      <td>25624</td>\n",
       "      <td>VILLERS GRELOT</td>\n",
       "      <td>25640</td>\n",
       "      <td>NaN</td>\n",
       "      <td>VILLERS GRELOT</td>\n",
       "      <td>47.361512085,6.235167025</td>\n",
       "      <td>25640.0</td>\n",
       "      <td>25</td>\n",
       "      <td>villersgrelot</td>\n",
       "    </tr>\n",
       "    <tr>\n",
       "      <th>2</th>\n",
       "      <td>26001</td>\n",
       "      <td>SOLAURE EN DIOIS</td>\n",
       "      <td>26150</td>\n",
       "      <td>AIX EN DIOIS</td>\n",
       "      <td>SOLAURE EN DIOIS</td>\n",
       "      <td>44.70587354,5.387770455</td>\n",
       "      <td>26150.0</td>\n",
       "      <td>26</td>\n",
       "      <td>solaureendiois</td>\n",
       "    </tr>\n",
       "    <tr>\n",
       "      <th>3</th>\n",
       "      <td>26003</td>\n",
       "      <td>ALEYRAC</td>\n",
       "      <td>26770</td>\n",
       "      <td>NaN</td>\n",
       "      <td>ALEYRAC</td>\n",
       "      <td>44.499150841,4.946083614</td>\n",
       "      <td>26770.0</td>\n",
       "      <td>26</td>\n",
       "      <td>aleyrac</td>\n",
       "    </tr>\n",
       "    <tr>\n",
       "      <th>4</th>\n",
       "      <td>26009</td>\n",
       "      <td>ANDANCETTE</td>\n",
       "      <td>26140</td>\n",
       "      <td>NaN</td>\n",
       "      <td>ANDANCETTE</td>\n",
       "      <td>45.246625023,4.812717032</td>\n",
       "      <td>26140.0</td>\n",
       "      <td>26</td>\n",
       "      <td>andancette</td>\n",
       "    </tr>\n",
       "    <tr>\n",
       "      <th>5</th>\n",
       "      <td>26011</td>\n",
       "      <td>AOUSTE SUR SYE</td>\n",
       "      <td>26400</td>\n",
       "      <td>NaN</td>\n",
       "      <td>AOUSTE SUR SYE</td>\n",
       "      <td>44.706856708,5.057320177</td>\n",
       "      <td>26400.0</td>\n",
       "      <td>26</td>\n",
       "      <td>aoustesursye</td>\n",
       "    </tr>\n",
       "    <tr>\n",
       "      <th>6</th>\n",
       "      <td>26013</td>\n",
       "      <td>ARPAVON</td>\n",
       "      <td>26110</td>\n",
       "      <td>NaN</td>\n",
       "      <td>ARPAVON</td>\n",
       "      <td>44.371127022,5.273184253</td>\n",
       "      <td>26110.0</td>\n",
       "      <td>26</td>\n",
       "      <td>arpavon</td>\n",
       "    </tr>\n",
       "    <tr>\n",
       "      <th>7</th>\n",
       "      <td>26021</td>\n",
       "      <td>AUTICHAMP</td>\n",
       "      <td>26400</td>\n",
       "      <td>NaN</td>\n",
       "      <td>AUTICHAMP</td>\n",
       "      <td>44.683240066,4.972677118</td>\n",
       "      <td>26400.0</td>\n",
       "      <td>26</td>\n",
       "      <td>autichamp</td>\n",
       "    </tr>\n",
       "    <tr>\n",
       "      <th>8</th>\n",
       "      <td>26024</td>\n",
       "      <td>BARCELONNE</td>\n",
       "      <td>26120</td>\n",
       "      <td>NaN</td>\n",
       "      <td>BARCELONNE</td>\n",
       "      <td>44.867074421,5.054652574</td>\n",
       "      <td>26120.0</td>\n",
       "      <td>26</td>\n",
       "      <td>barcelonne</td>\n",
       "    </tr>\n",
       "    <tr>\n",
       "      <th>9</th>\n",
       "      <td>26026</td>\n",
       "      <td>BARRET DE LIOURE</td>\n",
       "      <td>26570</td>\n",
       "      <td>NaN</td>\n",
       "      <td>BARRET DE LIOURE</td>\n",
       "      <td>44.175483103,5.516253783</td>\n",
       "      <td>26570.0</td>\n",
       "      <td>26</td>\n",
       "      <td>barretdelioure</td>\n",
       "    </tr>\n",
       "    <tr>\n",
       "      <th>10</th>\n",
       "      <td>26027</td>\n",
       "      <td>BARSAC</td>\n",
       "      <td>26150</td>\n",
       "      <td>NaN</td>\n",
       "      <td>BARSAC</td>\n",
       "      <td>44.726373096,5.304155411</td>\n",
       "      <td>26150.0</td>\n",
       "      <td>26</td>\n",
       "      <td>barsac</td>\n",
       "    </tr>\n",
       "    <tr>\n",
       "      <th>11</th>\n",
       "      <td>26028</td>\n",
       "      <td>BATHERNAY</td>\n",
       "      <td>26260</td>\n",
       "      <td>NaN</td>\n",
       "      <td>BATHERNAY</td>\n",
       "      <td>45.183429046,4.998168321</td>\n",
       "      <td>26260.0</td>\n",
       "      <td>26</td>\n",
       "      <td>bathernay</td>\n",
       "    </tr>\n",
       "    <tr>\n",
       "      <th>12</th>\n",
       "      <td>26033</td>\n",
       "      <td>LA BAUME DE TRANSIT</td>\n",
       "      <td>26790</td>\n",
       "      <td>NaN</td>\n",
       "      <td>LA BAUME DE TRANSIT</td>\n",
       "      <td>44.327387474,4.869450955</td>\n",
       "      <td>26790.0</td>\n",
       "      <td>26</td>\n",
       "      <td>labaumedetransit</td>\n",
       "    </tr>\n",
       "    <tr>\n",
       "      <th>13</th>\n",
       "      <td>26038</td>\n",
       "      <td>BEAUMONT MONTEUX</td>\n",
       "      <td>26600</td>\n",
       "      <td>NaN</td>\n",
       "      <td>BEAUMONT MONTEUX</td>\n",
       "      <td>45.033176004,4.921702639</td>\n",
       "      <td>26600.0</td>\n",
       "      <td>26</td>\n",
       "      <td>beaumontmonteux</td>\n",
       "    </tr>\n",
       "    <tr>\n",
       "      <th>14</th>\n",
       "      <td>26040</td>\n",
       "      <td>BEAURIERES</td>\n",
       "      <td>26310</td>\n",
       "      <td>NaN</td>\n",
       "      <td>BEAURIERES</td>\n",
       "      <td>44.560126656,5.553853155</td>\n",
       "      <td>26310.0</td>\n",
       "      <td>26</td>\n",
       "      <td>beaurieres</td>\n",
       "    </tr>\n",
       "    <tr>\n",
       "      <th>15</th>\n",
       "      <td>26051</td>\n",
       "      <td>BEZAUDUN SUR BINE</td>\n",
       "      <td>26460</td>\n",
       "      <td>NaN</td>\n",
       "      <td>BEZAUDUN SUR BINE</td>\n",
       "      <td>44.611710841,5.175449337</td>\n",
       "      <td>26460.0</td>\n",
       "      <td>26</td>\n",
       "      <td>bezaudunsurbine</td>\n",
       "    </tr>\n",
       "    <tr>\n",
       "      <th>16</th>\n",
       "      <td>26056</td>\n",
       "      <td>BOURDEAUX</td>\n",
       "      <td>26460</td>\n",
       "      <td>NaN</td>\n",
       "      <td>BOURDEAUX</td>\n",
       "      <td>44.57876787,5.151124196</td>\n",
       "      <td>26460.0</td>\n",
       "      <td>26</td>\n",
       "      <td>bourdeaux</td>\n",
       "    </tr>\n",
       "    <tr>\n",
       "      <th>17</th>\n",
       "      <td>26060</td>\n",
       "      <td>BOUVIERES</td>\n",
       "      <td>26460</td>\n",
       "      <td>NaN</td>\n",
       "      <td>BOUVIERES</td>\n",
       "      <td>44.52091004,5.221164785</td>\n",
       "      <td>26460.0</td>\n",
       "      <td>26</td>\n",
       "      <td>bouvieres</td>\n",
       "    </tr>\n",
       "    <tr>\n",
       "      <th>18</th>\n",
       "      <td>26064</td>\n",
       "      <td>CHABEUIL</td>\n",
       "      <td>26120</td>\n",
       "      <td>PARLANGES</td>\n",
       "      <td>CHABEUIL</td>\n",
       "      <td>44.908639476,5.007084576</td>\n",
       "      <td>26120.0</td>\n",
       "      <td>26</td>\n",
       "      <td>chabeuil</td>\n",
       "    </tr>\n",
       "    <tr>\n",
       "      <th>19</th>\n",
       "      <td>26067</td>\n",
       "      <td>CHALANCON</td>\n",
       "      <td>26470</td>\n",
       "      <td>NaN</td>\n",
       "      <td>CHALANCON</td>\n",
       "      <td>44.5274038,5.339272438</td>\n",
       "      <td>26470.0</td>\n",
       "      <td>26</td>\n",
       "      <td>chalancon</td>\n",
       "    </tr>\n",
       "  </tbody>\n",
       "</table>\n",
       "</div>"
      ],
      "text/plain": [
       "   code_commune_insee          nom_commune  code_postal       ligne_5  \\\n",
       "0               25620        VILLE DU PONT        25650           NaN   \n",
       "1               25624       VILLERS GRELOT        25640           NaN   \n",
       "2               26001     SOLAURE EN DIOIS        26150  AIX EN DIOIS   \n",
       "3               26003              ALEYRAC        26770           NaN   \n",
       "4               26009           ANDANCETTE        26140           NaN   \n",
       "5               26011       AOUSTE SUR SYE        26400           NaN   \n",
       "6               26013              ARPAVON        26110           NaN   \n",
       "7               26021            AUTICHAMP        26400           NaN   \n",
       "8               26024           BARCELONNE        26120           NaN   \n",
       "9               26026     BARRET DE LIOURE        26570           NaN   \n",
       "10              26027               BARSAC        26150           NaN   \n",
       "11              26028            BATHERNAY        26260           NaN   \n",
       "12              26033  LA BAUME DE TRANSIT        26790           NaN   \n",
       "13              26038     BEAUMONT MONTEUX        26600           NaN   \n",
       "14              26040           BEAURIERES        26310           NaN   \n",
       "15              26051    BEZAUDUN SUR BINE        26460           NaN   \n",
       "16              26056            BOURDEAUX        26460           NaN   \n",
       "17              26060            BOUVIERES        26460           NaN   \n",
       "18              26064             CHABEUIL        26120     PARLANGES   \n",
       "19              26067            CHALANCON        26470           NaN   \n",
       "\n",
       "   libellé_d_acheminement           coordonnees_gps  code_postal2  \\\n",
       "0           VILLE DU PONT  46.999873398,6.498147193       25650.0   \n",
       "1          VILLERS GRELOT  47.361512085,6.235167025       25640.0   \n",
       "2        SOLAURE EN DIOIS   44.70587354,5.387770455       26150.0   \n",
       "3                 ALEYRAC  44.499150841,4.946083614       26770.0   \n",
       "4              ANDANCETTE  45.246625023,4.812717032       26140.0   \n",
       "5          AOUSTE SUR SYE  44.706856708,5.057320177       26400.0   \n",
       "6                 ARPAVON  44.371127022,5.273184253       26110.0   \n",
       "7               AUTICHAMP  44.683240066,4.972677118       26400.0   \n",
       "8              BARCELONNE  44.867074421,5.054652574       26120.0   \n",
       "9        BARRET DE LIOURE  44.175483103,5.516253783       26570.0   \n",
       "10                 BARSAC  44.726373096,5.304155411       26150.0   \n",
       "11              BATHERNAY  45.183429046,4.998168321       26260.0   \n",
       "12    LA BAUME DE TRANSIT  44.327387474,4.869450955       26790.0   \n",
       "13       BEAUMONT MONTEUX  45.033176004,4.921702639       26600.0   \n",
       "14             BEAURIERES  44.560126656,5.553853155       26310.0   \n",
       "15      BEZAUDUN SUR BINE  44.611710841,5.175449337       26460.0   \n",
       "16              BOURDEAUX   44.57876787,5.151124196       26460.0   \n",
       "17              BOUVIERES   44.52091004,5.221164785       26460.0   \n",
       "18               CHABEUIL  44.908639476,5.007084576       26120.0   \n",
       "19              CHALANCON    44.5274038,5.339272438       26470.0   \n",
       "\n",
       "   code_departement           commune  \n",
       "0                25       villedupont  \n",
       "1                25     villersgrelot  \n",
       "2                26    solaureendiois  \n",
       "3                26           aleyrac  \n",
       "4                26        andancette  \n",
       "5                26      aoustesursye  \n",
       "6                26           arpavon  \n",
       "7                26         autichamp  \n",
       "8                26        barcelonne  \n",
       "9                26    barretdelioure  \n",
       "10               26            barsac  \n",
       "11               26         bathernay  \n",
       "12               26  labaumedetransit  \n",
       "13               26   beaumontmonteux  \n",
       "14               26        beaurieres  \n",
       "15               26   bezaudunsurbine  \n",
       "16               26         bourdeaux  \n",
       "17               26         bouvieres  \n",
       "18               26          chabeuil  \n",
       "19               26         chalancon  "
      ]
     },
     "execution_count": 73,
     "metadata": {},
     "output_type": "execute_result"
    }
   ],
   "source": [
    "code_postal.head(20)"
   ]
  },
  {
   "cell_type": "code",
   "execution_count": 74,
   "metadata": {},
   "outputs": [],
   "source": [
    "code_postal = code_postal.loc[:, [\"code_commune_insee\", \"code_departement\", \"commune\"]]"
   ]
  },
  {
   "cell_type": "code",
   "execution_count": 75,
   "metadata": {},
   "outputs": [
    {
     "data": {
      "text/plain": [
       "(9751833, 28)"
      ]
     },
     "execution_count": 75,
     "metadata": {},
     "output_type": "execute_result"
    }
   ],
   "source": [
    "df_rep_pm.shape # 9 751 833"
   ]
  },
  {
   "cell_type": "code",
   "execution_count": 76,
   "metadata": {},
   "outputs": [],
   "source": [
    "df_rep_pm2 = pd.merge(df_rep_pm, code_postal, on=[\"code_departement\", \"commune\"], how=\"left\")"
   ]
  },
  {
   "cell_type": "code",
   "execution_count": 80,
   "metadata": {},
   "outputs": [
    {
     "data": {
      "text/plain": [
       "(9751833, 29)"
      ]
     },
     "execution_count": 80,
     "metadata": {},
     "output_type": "execute_result"
    }
   ],
   "source": [
    "df_rep_pm2.shape # 9751833"
   ]
  },
  {
   "cell_type": "code",
   "execution_count": 81,
   "metadata": {},
   "outputs": [],
   "source": [
    "df_rep_pm2.loc[df_rep_pm2[\"code_commune_insee\"].isna(), :].sum()"
   ]
  },
  {
   "cell_type": "code",
   "execution_count": null,
   "metadata": {},
   "outputs": [],
   "source": []
  }
 ],
 "metadata": {
  "interpreter": {
   "hash": "ed5946f2a0d3f5e934efd92075c2a89b2cb5130d0efd6e4509a568bedf48ed26"
  },
  "kernelspec": {
   "display_name": "Python 3.10.4 ('basesspcloud')",
   "language": "python",
   "name": "python3"
  },
  "language_info": {
   "codemirror_mode": {
    "name": "ipython",
    "version": 3
   },
   "file_extension": ".py",
   "mimetype": "text/x-python",
   "name": "python",
   "nbconvert_exporter": "python",
   "pygments_lexer": "ipython3",
   "version": "3.10.4"
  },
  "orig_nbformat": 4
 },
 "nbformat": 4,
 "nbformat_minor": 2
}
