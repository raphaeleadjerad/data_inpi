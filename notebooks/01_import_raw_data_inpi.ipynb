{
 "cells": [
  {
   "cell_type": "code",
   "execution_count": 1,
   "metadata": {},
   "outputs": [],
   "source": [
    "import os\n",
    "os.chdir(\"../src/\")"
   ]
  },
  {
   "cell_type": "code",
   "execution_count": 2,
   "metadata": {},
   "outputs": [],
   "source": [
    "import import_inpi as inpi\n",
    "import transform_rcs as trcs\n",
    "import pandas as pd"
   ]
  },
  {
   "cell_type": "code",
   "execution_count": null,
   "metadata": {},
   "outputs": [],
   "source": [
    "inpi.import_inpi()"
   ]
  },
  {
   "cell_type": "code",
   "execution_count": 3,
   "metadata": {},
   "outputs": [
    {
     "name": "stdout",
     "output_type": "stream",
     "text": [
      "Taille des tables\n",
      "7\n",
      "8\n",
      "taille des tables\n",
      "(1142, 49)\n",
      "(670, 29)\n"
     ]
    }
   ],
   "source": [
    "df_rep_2018, df_pm_2018  = trcs.transform_rcs(\"2018\")"
   ]
  },
  {
   "cell_type": "code",
   "execution_count": 4,
   "metadata": {},
   "outputs": [
    {
     "name": "stderr",
     "output_type": "stream",
     "text": [
      "/home/coder/work/data_inpi/src/transform_rcs.py:22: DtypeWarning: Columns (32) have mixed types. Specify dtype option on import or set low_memory=False.\n",
      "  datainpi = pd.read_csv(zip_file.open(myfile), sep=\";\")\n",
      "/home/coder/work/data_inpi/src/transform_rcs.py:22: DtypeWarning: Columns (26) have mixed types. Specify dtype option on import or set low_memory=False.\n",
      "  datainpi = pd.read_csv(zip_file.open(myfile), sep=\";\")\n",
      "/home/coder/work/data_inpi/src/transform_rcs.py:22: DtypeWarning: Columns (39,40,42) have mixed types. Specify dtype option on import or set low_memory=False.\n",
      "  datainpi = pd.read_csv(zip_file.open(myfile), sep=\";\")\n",
      "/home/coder/work/data_inpi/src/transform_rcs.py:22: DtypeWarning: Columns (7,14,15,17,24,25,27,28,29,30,31,39,40,42) have mixed types. Specify dtype option on import or set low_memory=False.\n",
      "  datainpi = pd.read_csv(zip_file.open(myfile), sep=\";\")\n",
      "/home/coder/work/data_inpi/src/transform_rcs.py:22: DtypeWarning: Columns (17,32,35,39,40,42) have mixed types. Specify dtype option on import or set low_memory=False.\n",
      "  datainpi = pd.read_csv(zip_file.open(myfile), sep=\";\")\n",
      "/home/coder/work/data_inpi/src/transform_rcs.py:22: DtypeWarning: Columns (7,14,25,33) have mixed types. Specify dtype option on import or set low_memory=False.\n",
      "  datainpi = pd.read_csv(zip_file.open(myfile), sep=\";\")\n"
     ]
    },
    {
     "name": "stdout",
     "output_type": "stream",
     "text": [
      "Taille des tables\n",
      "668\n",
      "668\n",
      "taille des tables\n",
      "(729802, 48)\n",
      "(289656, 29)\n"
     ]
    }
   ],
   "source": [
    "df_rep_2019, df_pm_2019 = trcs.transform_rcs(\"2019\")"
   ]
  },
  {
   "cell_type": "code",
   "execution_count": 5,
   "metadata": {},
   "outputs": [
    {
     "name": "stderr",
     "output_type": "stream",
     "text": [
      "/home/coder/work/data_inpi/src/transform_rcs.py:22: DtypeWarning: Columns (25,26,33,39,40,42) have mixed types. Specify dtype option on import or set low_memory=False.\n",
      "  datainpi = pd.read_csv(zip_file.open(myfile), sep=\";\")\n",
      "/home/coder/work/data_inpi/src/transform_rcs.py:22: DtypeWarning: Columns (7,17,32,34) have mixed types. Specify dtype option on import or set low_memory=False.\n",
      "  datainpi = pd.read_csv(zip_file.open(myfile), sep=\";\")\n",
      "/home/coder/work/data_inpi/src/transform_rcs.py:22: DtypeWarning: Columns (15,32,35,37) have mixed types. Specify dtype option on import or set low_memory=False.\n",
      "  datainpi = pd.read_csv(zip_file.open(myfile), sep=\";\")\n",
      "/home/coder/work/data_inpi/src/transform_rcs.py:22: DtypeWarning: Columns (7,34) have mixed types. Specify dtype option on import or set low_memory=False.\n",
      "  datainpi = pd.read_csv(zip_file.open(myfile), sep=\";\")\n",
      "/home/coder/work/data_inpi/src/transform_rcs.py:22: DtypeWarning: Columns (15,32,35,37) have mixed types. Specify dtype option on import or set low_memory=False.\n",
      "  datainpi = pd.read_csv(zip_file.open(myfile), sep=\";\")\n",
      "/home/coder/work/data_inpi/src/transform_rcs.py:22: DtypeWarning: Columns (7,17,25,39,40,42) have mixed types. Specify dtype option on import or set low_memory=False.\n",
      "  datainpi = pd.read_csv(zip_file.open(myfile), sep=\";\")\n",
      "/home/coder/work/data_inpi/src/transform_rcs.py:22: DtypeWarning: Columns (7) have mixed types. Specify dtype option on import or set low_memory=False.\n",
      "  datainpi = pd.read_csv(zip_file.open(myfile), sep=\";\")\n",
      "/home/coder/work/data_inpi/src/transform_rcs.py:22: DtypeWarning: Columns (7,17,25,26,34) have mixed types. Specify dtype option on import or set low_memory=False.\n",
      "  datainpi = pd.read_csv(zip_file.open(myfile), sep=\";\")\n",
      "/home/coder/work/data_inpi/src/transform_rcs.py:22: DtypeWarning: Columns (15,17,32,37,39,40,42) have mixed types. Specify dtype option on import or set low_memory=False.\n",
      "  datainpi = pd.read_csv(zip_file.open(myfile), sep=\";\")\n"
     ]
    },
    {
     "name": "stdout",
     "output_type": "stream",
     "text": [
      "Taille des tables\n",
      "544\n",
      "544\n",
      "taille des tables\n",
      "(907035, 49)\n",
      "(414967, 29)\n"
     ]
    }
   ],
   "source": [
    "df_rep_2020, df_pm_2020  = trcs.transform_rcs(\"2020\")"
   ]
  },
  {
   "cell_type": "code",
   "execution_count": 7,
   "metadata": {},
   "outputs": [
    {
     "name": "stdout",
     "output_type": "stream",
     "text": [
      "http://data.cquest.org/inpi_rncs/imr/stock/2017/05/\n",
      "['http://data.cquest.org/inpi_rncs/imr/stock/2017/05/']\n",
      "http://data.cquest.org/inpi_rncs/imr/stock/2017/05/04/\n",
      "['http://data.cquest.org/inpi_rncs/imr/stock/2017/05/', 'http://data.cquest.org/inpi_rncs/imr/stock/2017/05/04/']\n"
     ]
    }
   ],
   "source": [
    "from urllib.request import urlopen\n",
    "import re\n",
    "from bs4 import BeautifulSoup\n",
    "import requests\n",
    "from zipfile import ZipFile\n",
    "\n",
    "def isDirectory(url):\n",
    "    if(url.endswith('/') and \"..\" not in url):\n",
    "        return True\n",
    "    else:\n",
    "        return False\n",
    "list_urls = []\n",
    "def findLinks(url):\n",
    "    page = requests.get(url).content\n",
    "    bsObj = BeautifulSoup(page, 'html.parser')\n",
    "    maybe_directories = bsObj.findAll('a', href=True)\n",
    "    list_df = []\n",
    "    \n",
    "    for link in maybe_directories:\n",
    "        if(isDirectory(link['href'])):\n",
    "            newUrl = url + link['href']   \n",
    "            print(newUrl)   \n",
    "            list_urls.append(newUrl)  \n",
    "            print(list_urls) \n",
    "            findLinks(newUrl) # recursion\n",
    "        else:\n",
    "            if(link['href'].endswith('.zip')):\n",
    "                target_path = link['href']\n",
    "                response = requests.get(list_urls[-1] + link['href'], stream=True)\n",
    "                if response.status_code == 200:\n",
    "                    with open(target_path, 'wb') as f:\n",
    "                        f.write(response.raw.read())\n",
    "                \n",
    "                # zip_file = ZipFile(list_urls[-1] + link['href'])         \n",
    "                # temp_df = [open_complex_file(zip_file, text_file.filename)\n",
    "                # for text_file in zip_file.infolist()\n",
    "                # if text_file.filename.endswith('.csv')]\n",
    "                # list_df.append(temp_df)\n",
    "\n",
    "startUrl = \"http://data.cquest.org/inpi_rncs/imr/stock/2017/\"\n",
    "findLinks(startUrl)"
   ]
  },
  {
   "cell_type": "code",
   "execution_count": null,
   "metadata": {},
   "outputs": [],
   "source": [
    "import os\n",
    "path2data=os.getcwd()"
   ]
  },
  {
   "cell_type": "code",
   "execution_count": null,
   "metadata": {},
   "outputs": [],
   "source": [
    "path2data"
   ]
  },
  {
   "cell_type": "code",
   "execution_count": null,
   "metadata": {},
   "outputs": [],
   "source": [
    "import functions as fc\n",
    "list_df_rep = fc.import_all_rep(path2data + \"/\", \"*.zip\")"
   ]
  },
  {
   "cell_type": "code",
   "execution_count": null,
   "metadata": {},
   "outputs": [],
   "source": [
    "len(list_df_rep)"
   ]
  },
  {
   "cell_type": "code",
   "execution_count": null,
   "metadata": {},
   "outputs": [],
   "source": [
    "sys.getsizeof(list_df_rep)"
   ]
  },
  {
   "cell_type": "code",
   "execution_count": null,
   "metadata": {},
   "outputs": [],
   "source": [
    "df_final = pd.concat(list_df_rep)"
   ]
  },
  {
   "cell_type": "code",
   "execution_count": null,
   "metadata": {},
   "outputs": [],
   "source": [
    "df_final.shape # 9 504 907, 48 variables"
   ]
  },
  {
   "cell_type": "code",
   "execution_count": null,
   "metadata": {},
   "outputs": [],
   "source": [
    "import s3fs\n",
    "S3_ENDPOINT_URL = \"https://\" + os.environ[\"AWS_S3_ENDPOINT\"]\n",
    "    \n",
    "fs = s3fs.S3FileSystem(client_kwargs={'endpoint_url': S3_ENDPOINT_URL})\n",
    "BUCKET_OUT = \"radjerad\"\n",
    "FILE_KEY_OUT_S3 = \"inpi/\" + \"data_rep_2017.csv\" \n",
    "FILE_PATH_OUT_S3 = BUCKET_OUT + \"/\" + FILE_KEY_OUT_S3\n",
    "\n",
    "with fs.open(FILE_PATH_OUT_S3, 'w') as file_out:\n",
    "    df_final.to_csv(file_out, index=False, sep=\";\", encoding=\"utf-8\")"
   ]
  },
  {
   "cell_type": "code",
   "execution_count": null,
   "metadata": {},
   "outputs": [],
   "source": [
    "list_df_pm = fc.import_all_pm(path2data + \"/\", \"*.zip\")"
   ]
  },
  {
   "cell_type": "code",
   "execution_count": null,
   "metadata": {},
   "outputs": [],
   "source": [
    "len(list_df_pm)"
   ]
  },
  {
   "cell_type": "code",
   "execution_count": null,
   "metadata": {},
   "outputs": [],
   "source": [
    "df_final_pm = pd.concat(list_df_pm)"
   ]
  },
  {
   "cell_type": "code",
   "execution_count": null,
   "metadata": {},
   "outputs": [],
   "source": [
    "df_final_pm.shape # 4 296 552"
   ]
  },
  {
   "cell_type": "code",
   "execution_count": null,
   "metadata": {},
   "outputs": [],
   "source": [
    "import s3fs\n",
    "S3_ENDPOINT_URL = \"https://\" + os.environ[\"AWS_S3_ENDPOINT\"]\n",
    "    \n",
    "fs = s3fs.S3FileSystem(client_kwargs={'endpoint_url': S3_ENDPOINT_URL})\n",
    "BUCKET_OUT = \"radjerad\"\n",
    "FILE_KEY_OUT_S3 = \"inpi/\" + \"data_pm_2017.csv\" \n",
    "FILE_PATH_OUT_S3 = BUCKET_OUT + \"/\" + FILE_KEY_OUT_S3\n",
    "\n",
    "with fs.open(FILE_PATH_OUT_S3, 'w') as file_out:\n",
    "    df_final_pm.to_csv(file_out, index=False, sep=\";\", encoding=\"utf-8\")"
   ]
  },
  {
   "cell_type": "code",
   "execution_count": null,
   "metadata": {},
   "outputs": [],
   "source": [
    "def export_2_minio(year, path2output, df_final):\n",
    "    S3_ENDPOINT_URL = \"https://\" + os.environ[\"AWS_S3_ENDPOINT\"]\n",
    "    fs = s3fs.S3FileSystem(client_kwargs={'endpoint_url': S3_ENDPOINT_URL})\n",
    "    BUCKET_OUT = \"radjerad\"\n",
    "    FILE_KEY_OUT_S3 = \"inpi/\" + year + \"/\" + path2output \n",
    "    FILE_PATH_OUT_S3 = BUCKET_OUT + \"/\" + FILE_KEY_OUT_S3\n",
    "\n",
    "    with fs.open(FILE_PATH_OUT_S3, 'w') as file_out:\n",
    "        df_final.to_csv(file_out)\n",
    "    return None\n"
   ]
  },
  {
   "cell_type": "code",
   "execution_count": null,
   "metadata": {},
   "outputs": [],
   "source": [
    "import pandas as pd\n",
    "li = []\n",
    "import s3fs\n",
    "for i in range(len(list_df)):\n",
    "    print(i)\n",
    "    temp = pd.concat(list_df[i])\n",
    "    print(temp.shape)\n",
    "    temp = temp.reset_index()\n",
    "    path2output = temp.loc[0,\"source\"][0:16]\n",
    "    print(path2output)\n",
    "    #temp.to_csv(path2output, sep=\";\")\n",
    "    export_2_minio(\"2017\", path2output + \".csv\", temp)\n",
    "    # temp.to_csv(path2output + \".csv\", sep=\";\")\n",
    "    # li.append(temp)\n"
   ]
  },
  {
   "cell_type": "code",
   "execution_count": null,
   "metadata": {},
   "outputs": [],
   "source": []
  }
 ],
 "metadata": {
  "interpreter": {
   "hash": "ed5946f2a0d3f5e934efd92075c2a89b2cb5130d0efd6e4509a568bedf48ed26"
  },
  "kernelspec": {
   "display_name": "Python 3.10.4 ('basesspcloud')",
   "language": "python",
   "name": "python3"
  },
  "language_info": {
   "codemirror_mode": {
    "name": "ipython",
    "version": 3
   },
   "file_extension": ".py",
   "mimetype": "text/x-python",
   "name": "python",
   "nbconvert_exporter": "python",
   "pygments_lexer": "ipython3",
   "version": "3.10.4"
  },
  "orig_nbformat": 4
 },
 "nbformat": 4,
 "nbformat_minor": 2
}
