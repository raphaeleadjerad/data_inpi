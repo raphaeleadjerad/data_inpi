{
 "cells": [
  {
   "cell_type": "code",
   "execution_count": 5,
   "metadata": {},
   "outputs": [],
   "source": [
    "import functions as fc\n",
    "import pandas as pd\n"
   ]
  },
  {
   "cell_type": "code",
   "execution_count": null,
   "metadata": {},
   "outputs": [],
   "source": [
    "fc.download_tgz_raw()"
   ]
  },
  {
   "cell_type": "code",
   "execution_count": null,
   "metadata": {},
   "outputs": [],
   "source": [
    "fc.import_tgz(\"2018\", \"./data2018\")"
   ]
  },
  {
   "cell_type": "code",
   "execution_count": null,
   "metadata": {},
   "outputs": [],
   "source": [
    "fc.import_tgz(\"2019\", \"./data2019\")"
   ]
  },
  {
   "cell_type": "code",
   "execution_count": null,
   "metadata": {},
   "outputs": [],
   "source": [
    "fc.import_tgz(\"2020\", \"./data2020\")"
   ]
  },
  {
   "cell_type": "code",
   "execution_count": null,
   "metadata": {},
   "outputs": [],
   "source": [
    "def transform_rcs(year):\n",
    "    list_df = fc.import_all_files(\"data\" + year + \"/\", \"*.zip\"\n",
    "    print(len(list_df))\n",
    "    li = []\n",
    "    for i in range(len(list_df)):\n",
    "        temp = pd.concat(list_df[i])\n",
    "        li.append(temp)\n",
    "    df_final = pd.concat(li)\n",
    "    print(df_final.shape)"
   ]
  },
  {
   "cell_type": "code",
   "execution_count": 2,
   "metadata": {},
   "outputs": [
    {
     "name": "stderr",
     "output_type": "stream",
     "text": [
      "/home/coder/work/data_inpi/code/functions.py:41: DtypeWarning: Columns (32) have mixed types. Specify dtype option on import or set low_memory=False.\n",
      "  df = pd.read_csv(zip_file.open(fi), sep=\";\")\n",
      "/home/coder/work/data_inpi/code/functions.py:41: DtypeWarning: Columns (17,32,35,39,40,42) have mixed types. Specify dtype option on import or set low_memory=False.\n",
      "  df = pd.read_csv(zip_file.open(fi), sep=\";\")\n",
      "/home/coder/work/data_inpi/code/functions.py:41: DtypeWarning: Columns (7,14,25,33) have mixed types. Specify dtype option on import or set low_memory=False.\n",
      "  df = pd.read_csv(zip_file.open(fi), sep=\";\")\n",
      "/home/coder/work/data_inpi/code/functions.py:41: DtypeWarning: Columns (7,14,15,17,24,25,27,28,29,30,31,39,40,42) have mixed types. Specify dtype option on import or set low_memory=False.\n",
      "  df = pd.read_csv(zip_file.open(fi), sep=\";\")\n",
      "/home/coder/work/data_inpi/code/functions.py:41: DtypeWarning: Columns (39,40,42) have mixed types. Specify dtype option on import or set low_memory=False.\n",
      "  df = pd.read_csv(zip_file.open(fi), sep=\";\")\n",
      "/home/coder/work/data_inpi/code/functions.py:41: DtypeWarning: Columns (26) have mixed types. Specify dtype option on import or set low_memory=False.\n",
      "  df = pd.read_csv(zip_file.open(fi), sep=\";\")\n",
      "/home/coder/work/data_inpi/code/functions.py:41: DtypeWarning: Columns (10,18) have mixed types. Specify dtype option on import or set low_memory=False.\n",
      "  df = pd.read_csv(zip_file.open(fi), sep=\";\")\n"
     ]
    }
   ],
   "source": [
    "list_df = fc.import_all_files(\"data2019/\", \"*.zip\")"
   ]
  },
  {
   "cell_type": "code",
   "execution_count": 3,
   "metadata": {},
   "outputs": [
    {
     "data": {
      "text/plain": [
       "668"
      ]
     },
     "execution_count": 3,
     "metadata": {},
     "output_type": "execute_result"
    }
   ],
   "source": [
    "len(list_df)"
   ]
  },
  {
   "cell_type": "code",
   "execution_count": 6,
   "metadata": {},
   "outputs": [],
   "source": [
    "li = []\n",
    "for i in range(len(list_df)):\n",
    "    temp = pd.concat(list_df[i])\n",
    "    li.append(temp)"
   ]
  },
  {
   "cell_type": "code",
   "execution_count": 7,
   "metadata": {},
   "outputs": [],
   "source": [
    "df_final = pd.concat(li)"
   ]
  },
  {
   "cell_type": "code",
   "execution_count": 8,
   "metadata": {},
   "outputs": [
    {
     "data": {
      "text/plain": [
       "(5888180, 118)"
      ]
     },
     "execution_count": 8,
     "metadata": {},
     "output_type": "execute_result"
    }
   ],
   "source": [
    "df_final.shape"
   ]
  },
  {
   "cell_type": "code",
   "execution_count": 9,
   "metadata": {},
   "outputs": [
    {
     "data": {
      "text/html": [
       "<div>\n",
       "<style scoped>\n",
       "    .dataframe tbody tr th:only-of-type {\n",
       "        vertical-align: middle;\n",
       "    }\n",
       "\n",
       "    .dataframe tbody tr th {\n",
       "        vertical-align: top;\n",
       "    }\n",
       "\n",
       "    .dataframe thead th {\n",
       "        text-align: right;\n",
       "    }\n",
       "</style>\n",
       "<table border=\"1\" class=\"dataframe\">\n",
       "  <thead>\n",
       "    <tr style=\"text-align: right;\">\n",
       "      <th></th>\n",
       "      <th>Code Greffe</th>\n",
       "      <th>Nom_Greffe</th>\n",
       "      <th>Numero_Gestion</th>\n",
       "      <th>Siren</th>\n",
       "      <th>Type_Inscription</th>\n",
       "      <th>Date_Immatriculation</th>\n",
       "      <th>Date_1re_Immatriculation</th>\n",
       "      <th>Date_Radiation</th>\n",
       "      <th>Date_Transfert</th>\n",
       "      <th>Sans_Activité</th>\n",
       "      <th>...</th>\n",
       "      <th>Enseigne</th>\n",
       "      <th>Activité_Ambulante</th>\n",
       "      <th>Activité_Saisonnière</th>\n",
       "      <th>Activité_Non_Sédentaire</th>\n",
       "      <th>Date_Début_Activité</th>\n",
       "      <th>Activité</th>\n",
       "      <th>Origine_Fonds</th>\n",
       "      <th>Origine_Fonds_Info</th>\n",
       "      <th>Type_Exploitation</th>\n",
       "      <th>ID_Etablissement</th>\n",
       "    </tr>\n",
       "  </thead>\n",
       "  <tbody>\n",
       "    <tr>\n",
       "      <th>0</th>\n",
       "      <td>101</td>\n",
       "      <td>Bourg-en-Bresse</td>\n",
       "      <td>2019B00890</td>\n",
       "      <td>305148884</td>\n",
       "      <td>S</td>\n",
       "      <td>2019-05-24</td>\n",
       "      <td>2019-05-24</td>\n",
       "      <td>NaN</td>\n",
       "      <td>NaN</td>\n",
       "      <td>NaN</td>\n",
       "      <td>...</td>\n",
       "      <td>NaN</td>\n",
       "      <td>NaN</td>\n",
       "      <td>NaN</td>\n",
       "      <td>NaN</td>\n",
       "      <td>NaN</td>\n",
       "      <td>NaN</td>\n",
       "      <td>NaN</td>\n",
       "      <td>NaN</td>\n",
       "      <td>NaN</td>\n",
       "      <td>NaN</td>\n",
       "    </tr>\n",
       "    <tr>\n",
       "      <th>1</th>\n",
       "      <td>101</td>\n",
       "      <td>Bourg-en-Bresse</td>\n",
       "      <td>1976B40029</td>\n",
       "      <td>308529668</td>\n",
       "      <td>P</td>\n",
       "      <td>1976-11-26</td>\n",
       "      <td>NaN</td>\n",
       "      <td>NaN</td>\n",
       "      <td>NaN</td>\n",
       "      <td>NaN</td>\n",
       "      <td>...</td>\n",
       "      <td>NaN</td>\n",
       "      <td>NaN</td>\n",
       "      <td>NaN</td>\n",
       "      <td>NaN</td>\n",
       "      <td>NaN</td>\n",
       "      <td>NaN</td>\n",
       "      <td>NaN</td>\n",
       "      <td>NaN</td>\n",
       "      <td>NaN</td>\n",
       "      <td>NaN</td>\n",
       "    </tr>\n",
       "    <tr>\n",
       "      <th>2</th>\n",
       "      <td>101</td>\n",
       "      <td>Bourg-en-Bresse</td>\n",
       "      <td>2002D00732</td>\n",
       "      <td>309729879</td>\n",
       "      <td>P</td>\n",
       "      <td>2002-10-30</td>\n",
       "      <td>NaN</td>\n",
       "      <td>NaN</td>\n",
       "      <td>NaN</td>\n",
       "      <td>NaN</td>\n",
       "      <td>...</td>\n",
       "      <td>NaN</td>\n",
       "      <td>NaN</td>\n",
       "      <td>NaN</td>\n",
       "      <td>NaN</td>\n",
       "      <td>NaN</td>\n",
       "      <td>NaN</td>\n",
       "      <td>NaN</td>\n",
       "      <td>NaN</td>\n",
       "      <td>NaN</td>\n",
       "      <td>NaN</td>\n",
       "    </tr>\n",
       "    <tr>\n",
       "      <th>3</th>\n",
       "      <td>101</td>\n",
       "      <td>Bourg-en-Bresse</td>\n",
       "      <td>2011B01046</td>\n",
       "      <td>317272243</td>\n",
       "      <td>P</td>\n",
       "      <td>2011-09-06</td>\n",
       "      <td>NaN</td>\n",
       "      <td>NaN</td>\n",
       "      <td>NaN</td>\n",
       "      <td>NaN</td>\n",
       "      <td>...</td>\n",
       "      <td>NaN</td>\n",
       "      <td>NaN</td>\n",
       "      <td>NaN</td>\n",
       "      <td>NaN</td>\n",
       "      <td>NaN</td>\n",
       "      <td>NaN</td>\n",
       "      <td>NaN</td>\n",
       "      <td>NaN</td>\n",
       "      <td>NaN</td>\n",
       "      <td>NaN</td>\n",
       "    </tr>\n",
       "    <tr>\n",
       "      <th>4</th>\n",
       "      <td>101</td>\n",
       "      <td>Bourg-en-Bresse</td>\n",
       "      <td>1997B00138</td>\n",
       "      <td>319026720</td>\n",
       "      <td>P</td>\n",
       "      <td>1997-03-03</td>\n",
       "      <td>NaN</td>\n",
       "      <td>NaN</td>\n",
       "      <td>NaN</td>\n",
       "      <td>NaN</td>\n",
       "      <td>...</td>\n",
       "      <td>NaN</td>\n",
       "      <td>NaN</td>\n",
       "      <td>NaN</td>\n",
       "      <td>NaN</td>\n",
       "      <td>NaN</td>\n",
       "      <td>NaN</td>\n",
       "      <td>NaN</td>\n",
       "      <td>NaN</td>\n",
       "      <td>NaN</td>\n",
       "      <td>NaN</td>\n",
       "    </tr>\n",
       "  </tbody>\n",
       "</table>\n",
       "<p>5 rows × 118 columns</p>\n",
       "</div>"
      ],
      "text/plain": [
       "  Code Greffe       Nom_Greffe Numero_Gestion      Siren Type_Inscription  \\\n",
       "0         101  Bourg-en-Bresse     2019B00890  305148884                S   \n",
       "1         101  Bourg-en-Bresse     1976B40029  308529668                P   \n",
       "2         101  Bourg-en-Bresse     2002D00732  309729879                P   \n",
       "3         101  Bourg-en-Bresse     2011B01046  317272243                P   \n",
       "4         101  Bourg-en-Bresse     1997B00138  319026720                P   \n",
       "\n",
       "  Date_Immatriculation Date_1re_Immatriculation Date_Radiation Date_Transfert  \\\n",
       "0           2019-05-24               2019-05-24            NaN            NaN   \n",
       "1           1976-11-26                      NaN            NaN            NaN   \n",
       "2           2002-10-30                      NaN            NaN            NaN   \n",
       "3           2011-09-06                      NaN            NaN            NaN   \n",
       "4           1997-03-03                      NaN            NaN            NaN   \n",
       "\n",
       "  Sans_Activité  ... Enseigne Activité_Ambulante Activité_Saisonnière  \\\n",
       "0           NaN  ...      NaN                NaN                  NaN   \n",
       "1           NaN  ...      NaN                NaN                  NaN   \n",
       "2           NaN  ...      NaN                NaN                  NaN   \n",
       "3           NaN  ...      NaN                NaN                  NaN   \n",
       "4           NaN  ...      NaN                NaN                  NaN   \n",
       "\n",
       "  Activité_Non_Sédentaire Date_Début_Activité Activité Origine_Fonds  \\\n",
       "0                     NaN                 NaN      NaN           NaN   \n",
       "1                     NaN                 NaN      NaN           NaN   \n",
       "2                     NaN                 NaN      NaN           NaN   \n",
       "3                     NaN                 NaN      NaN           NaN   \n",
       "4                     NaN                 NaN      NaN           NaN   \n",
       "\n",
       "  Origine_Fonds_Info Type_Exploitation  ID_Etablissement  \n",
       "0                NaN               NaN               NaN  \n",
       "1                NaN               NaN               NaN  \n",
       "2                NaN               NaN               NaN  \n",
       "3                NaN               NaN               NaN  \n",
       "4                NaN               NaN               NaN  \n",
       "\n",
       "[5 rows x 118 columns]"
      ]
     },
     "execution_count": 9,
     "metadata": {},
     "output_type": "execute_result"
    }
   ],
   "source": [
    "df_final.head()"
   ]
  },
  {
   "cell_type": "code",
   "execution_count": null,
   "metadata": {},
   "outputs": [],
   "source": [
    "import s3fs\n",
    "# Create filesystem object\n",
    "S3_ENDPOINT_URL = \"https://\" + os.environ[\"AWS_S3_ENDPOINT\"]\n",
    "fs = s3fs.S3FileSystem(client_kwargs={'endpoint_url': S3_ENDPOINT_URL})\n",
    "BUCKET_OUT = \"radjerad\"\n",
    "FILE_KEY_OUT_S3 = \"inpi/inpi_2018.csv\"\n",
    "FILE_PATH_OUT_S3 = BUCKET_OUT + \"/\" + FILE_KEY_OUT_S3\n",
    "\n",
    "with fs.open(FILE_PATH_OUT_S3, 'w') as file_out:\n",
    "    dfs.to_csv(file_out)"
   ]
  },
  {
   "cell_type": "code",
   "execution_count": null,
   "metadata": {},
   "outputs": [],
   "source": [
    "fc.export_2_minio(\"2019\", df_final)"
   ]
  },
  {
   "cell_type": "code",
   "execution_count": 10,
   "metadata": {},
   "outputs": [],
   "source": [
    "\n",
    "# Create filesystem object\n",
    "S3_ENDPOINT_URL = \"https://\" + os.environ[\"AWS_S3_ENDPOINT\"]\n",
    "fs = s3fs.S3FileSystem(client_kwargs={'endpoint_url': S3_ENDPOINT_URL})\n",
    "BUCKET_OUT = \"radjerad\"\n",
    "FILE_KEY_OUT_S3 = \"inpi/inpi_2019.csv\"\n",
    "FILE_PATH_OUT_S3 = BUCKET_OUT + \"/\" + FILE_KEY_OUT_S3\n",
    "\n",
    "with fs.open(FILE_PATH_OUT_S3, 'w') as file_out:\n",
    "    df_final.to_csv(file_out)"
   ]
  },
  {
   "cell_type": "code",
   "execution_count": null,
   "metadata": {},
   "outputs": [],
   "source": [
    "import s3fs\n",
    "# Create filesystem object\n",
    "S3_ENDPOINT_URL = \"https://\" + os.environ[\"AWS_S3_ENDPOINT\"]\n",
    "fs = s3fs.S3FileSystem(client_kwargs={'endpoint_url': S3_ENDPOINT_URL})\n",
    "BUCKET_OUT = \"radjerad\"\n",
    "FILE_KEY_OUT_S3 = \"inpi/inpi_2020.csv\"\n",
    "FILE_PATH_OUT_S3 = BUCKET_OUT + \"/\" + FILE_KEY_OUT_S3\n",
    "\n",
    "with fs.open(FILE_PATH_OUT_S3, 'w') as file_out:\n",
    "    df_final.to_csv(file_out)"
   ]
  },
  {
   "cell_type": "code",
   "execution_count": null,
   "metadata": {},
   "outputs": [],
   "source": []
  }
 ],
 "metadata": {
  "interpreter": {
   "hash": "ed5946f2a0d3f5e934efd92075c2a89b2cb5130d0efd6e4509a568bedf48ed26"
  },
  "kernelspec": {
   "display_name": "Python 3.10.4 ('basesspcloud')",
   "language": "python",
   "name": "python3"
  },
  "language_info": {
   "codemirror_mode": {
    "name": "ipython",
    "version": 3
   },
   "file_extension": ".py",
   "mimetype": "text/x-python",
   "name": "python",
   "nbconvert_exporter": "python",
   "pygments_lexer": "ipython3",
   "version": "3.10.4"
  },
  "orig_nbformat": 4
 },
 "nbformat": 4,
 "nbformat_minor": 2
}
